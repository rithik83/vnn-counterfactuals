{
 "cells": [
  {
   "cell_type": "markdown",
   "metadata": {},
   "source": [
    "### Imports"
   ]
  },
  {
   "cell_type": "code",
   "execution_count": null,
   "metadata": {},
   "outputs": [
    {
     "name": "stderr",
     "output_type": "stream",
     "text": [
      "\u001b[32m\u001b[1m   Resolving\u001b[22m\u001b[39m package versions...\n",
      "\u001b[32m\u001b[1m    Updating\u001b[22m\u001b[39m `~/.julia/environments/v1.11/Project.toml`\n",
      "  \u001b[90m[a93c6f00] \u001b[39m\u001b[92m+ DataFrames v1.7.0\u001b[39m\n",
      "\u001b[32m\u001b[1m  No Changes\u001b[22m\u001b[39m to `~/.julia/environments/v1.11/Manifest.toml`\n"
     ]
    },
    {
     "data": {
      "text/plain": [
       "adversarial_train (generic function with 1 method)"
      ]
     },
     "metadata": {},
     "output_type": "display_data"
    }
   ],
   "source": [
    "using Random\n",
    "using Flux, Statistics, ProgressMeter, Plots, TaijaData, Distances, MLDatasets, CSV, DataFrames\n",
    "using Flux: onehotbatch, onecold, crossentropy, logitcrossentropy, mse, throttle, update!, push!\n",
    "\n",
    "include(\"attacks.jl\")\n",
    "include(\"train.jl\")"
   ]
  },
  {
   "cell_type": "markdown",
   "metadata": {},
   "source": [
    "### Setting up MNIST data"
   ]
  },
  {
   "cell_type": "code",
   "execution_count": null,
   "metadata": {},
   "outputs": [
    {
     "data": {
      "text/plain": [
       "784×60000 Matrix{Float64}:\n",
       " 0.0  0.0  0.0  0.0  0.0  0.0  0.0  0.0  …  0.0  0.0  0.0  0.0  0.0  0.0  0.0\n",
       " 0.0  0.0  0.0  0.0  0.0  0.0  0.0  0.0     0.0  0.0  0.0  0.0  0.0  0.0  0.0\n",
       " 0.0  0.0  0.0  0.0  0.0  0.0  0.0  0.0     0.0  0.0  0.0  0.0  0.0  0.0  0.0\n",
       " 0.0  0.0  0.0  0.0  0.0  0.0  0.0  0.0     0.0  0.0  0.0  0.0  0.0  0.0  0.0\n",
       " 0.0  0.0  0.0  0.0  0.0  0.0  0.0  0.0     0.0  0.0  0.0  0.0  0.0  0.0  0.0\n",
       " 0.0  0.0  0.0  0.0  0.0  0.0  0.0  0.0  …  0.0  0.0  0.0  0.0  0.0  0.0  0.0\n",
       " 0.0  0.0  0.0  0.0  0.0  0.0  0.0  0.0     0.0  0.0  0.0  0.0  0.0  0.0  0.0\n",
       " 0.0  0.0  0.0  0.0  0.0  0.0  0.0  0.0     0.0  0.0  0.0  0.0  0.0  0.0  0.0\n",
       " 0.0  0.0  0.0  0.0  0.0  0.0  0.0  0.0     0.0  0.0  0.0  0.0  0.0  0.0  0.0\n",
       " 0.0  0.0  0.0  0.0  0.0  0.0  0.0  0.0     0.0  0.0  0.0  0.0  0.0  0.0  0.0\n",
       " ⋮                        ⋮              ⋱            ⋮                   \n",
       " 0.0  0.0  0.0  0.0  0.0  0.0  0.0  0.0  …  0.0  0.0  0.0  0.0  0.0  0.0  0.0\n",
       " 0.0  0.0  0.0  0.0  0.0  0.0  0.0  0.0     0.0  0.0  0.0  0.0  0.0  0.0  0.0\n",
       " 0.0  0.0  0.0  0.0  0.0  0.0  0.0  0.0     0.0  0.0  0.0  0.0  0.0  0.0  0.0\n",
       " 0.0  0.0  0.0  0.0  0.0  0.0  0.0  0.0     0.0  0.0  0.0  0.0  0.0  0.0  0.0\n",
       " 0.0  0.0  0.0  0.0  0.0  0.0  0.0  0.0     0.0  0.0  0.0  0.0  0.0  0.0  0.0\n",
       " 0.0  0.0  0.0  0.0  0.0  0.0  0.0  0.0  …  0.0  0.0  0.0  0.0  0.0  0.0  0.0\n",
       " 0.0  0.0  0.0  0.0  0.0  0.0  0.0  0.0     0.0  0.0  0.0  0.0  0.0  0.0  0.0\n",
       " 0.0  0.0  0.0  0.0  0.0  0.0  0.0  0.0     0.0  0.0  0.0  0.0  0.0  0.0  0.0\n",
       " 0.0  0.0  0.0  0.0  0.0  0.0  0.0  0.0     0.0  0.0  0.0  0.0  0.0  0.0  0.0"
      ]
     },
     "metadata": {},
     "output_type": "display_data"
    }
   ],
   "source": [
    "train_df = CSV.read(\"../data/mnist_train.csv\", DataFrame; header=false)\n",
    "train_data = Matrix(train_df)\n",
    "\n",
    "test_df = CSV.read(\"../data/mnist_test.csv\", DataFrame; header=false)\n",
    "test_data = Matrix(test_df)\n",
    "\n",
    "x_train = train_data[:, 2:785]' ./ 255\n",
    "y_train = train_data[:, 1]\n",
    "\n",
    "x_test = test_data[:, 2:785]' ./ 255\n",
    "y_test = test_data[:, 1]\n",
    "\n",
    "x_train"
   ]
  },
  {
   "cell_type": "markdown",
   "metadata": {},
   "source": [
    "### Defining model architecture (MLP)"
   ]
  },
  {
   "cell_type": "code",
   "execution_count": 21,
   "metadata": {},
   "outputs": [
    {
     "data": {
      "text/plain": [
       "Chain(\n",
       "  Dense(784 => 128, relu),              \u001b[90m# 100_480 parameters\u001b[39m\n",
       "  Dense(128 => 10),                     \u001b[90m# 1_290 parameters\u001b[39m\n",
       ") \u001b[90m                  # Total: 4 arrays, \u001b[39m101_770 parameters, 397.742 KiB."
      ]
     },
     "metadata": {},
     "output_type": "display_data"
    }
   ],
   "source": [
    "model = Chain(\n",
    "    Dense(784, 128, relu; init=Flux.glorot_normal),\n",
    "    Dense(128,  10; init=Flux.glorot_normal)\n",
    ")\n",
    "\n",
    "adv_pgd_strong = deepcopy(model)\n",
    "adv_pgd_medium = deepcopy(model)\n",
    "adv_pgd_weak = deepcopy(model)\n",
    "\n",
    "spare = deepcopy(model)"
   ]
  },
  {
   "cell_type": "markdown",
   "metadata": {},
   "source": [
    "### Training and attack hyperparameters"
   ]
  },
  {
   "cell_type": "code",
   "execution_count": 24,
   "metadata": {},
   "outputs": [
    {
     "data": {
      "text/plain": [
       "Adam(0.001, (0.9, 0.999), 1.0e-8, IdDict{Any, Any}())"
      ]
     },
     "metadata": {},
     "output_type": "display_data"
    }
   ],
   "source": [
    "loss(x, y) = logitcrossentropy(x, y) # Not defining softmax in the model to help with CE\n",
    "batch_size = 32\n",
    "epochs = 20\n",
    "clamp_range = (0, 1)\n",
    "opt = Flux.Adam()"
   ]
  },
  {
   "cell_type": "markdown",
   "metadata": {},
   "source": [
    "### Model Training"
   ]
  },
  {
   "cell_type": "markdown",
   "metadata": {},
   "source": [
    "#### Classical training: No adversarial robustness in training loop"
   ]
  },
  {
   "cell_type": "code",
   "execution_count": 26,
   "metadata": {},
   "outputs": [
    {
     "name": "stdout",
     "output_type": "stream",
     "text": [
      "Epoch: 1\n"
     ]
    },
    {
     "name": "stderr",
     "output_type": "stream",
     "text": [
      "┌ Warning: Layer with Float32 parameters got Float64 input.\n",
      "│   The input will be converted, but any earlier layers may be very slow.\n",
      "│   layer = Dense(784 => 128, relu)\n",
      "│   summary(x) = 784×32 Matrix{Float64}\n",
      "└ @ Flux /root/.julia/packages/Flux/97jpP/src/layers/stateless.jl:59\n"
     ]
    },
    {
     "name": "stdout",
     "output_type": "stream",
     "text": [
      "Average loss: 0.26102784001529217\n",
      "Epoch: 2\n",
      "Average loss: 0.11678759016046922\n"
     ]
    },
    {
     "name": "stderr",
     "output_type": "stream",
     "text": [
      "\u001b[32mProgress:  10%|████▏                                    |  ETA: 0:02:51\u001b[39m\u001b[K"
     ]
    },
    {
     "name": "stdout",
     "output_type": "stream",
     "text": [
      "Epoch: 3\n",
      "Average loss: 0.07954412010206531\n"
     ]
    },
    {
     "name": "stderr",
     "output_type": "stream",
     "text": [
      "\u001b[32mProgress:  15%|██████▏                                  |  ETA: 0:02:12\u001b[39m\u001b[K"
     ]
    },
    {
     "name": "stdout",
     "output_type": "stream",
     "text": [
      "Epoch: 4\n",
      "Average loss: 0.05975129395748178\n"
     ]
    },
    {
     "name": "stderr",
     "output_type": "stream",
     "text": [
      "\u001b[32mProgress:  20%|████████▎                                |  ETA: 0:01:48\u001b[39m\u001b[K"
     ]
    },
    {
     "name": "stdout",
     "output_type": "stream",
     "text": [
      "Epoch: 5\n",
      "Average loss: 0.046564727185014636\n"
     ]
    },
    {
     "name": "stderr",
     "output_type": "stream",
     "text": [
      "\u001b[32mProgress:  25%|██████████▎                              |  ETA: 0:01:31\u001b[39m\u001b[K"
     ]
    },
    {
     "name": "stdout",
     "output_type": "stream",
     "text": [
      "Epoch: 6\n",
      "Average loss: 0.035245799549017104\n"
     ]
    },
    {
     "name": "stderr",
     "output_type": "stream",
     "text": [
      "\u001b[32mProgress:  30%|████████████▎                            |  ETA: 0:01:19\u001b[39m\u001b[K"
     ]
    },
    {
     "name": "stdout",
     "output_type": "stream",
     "text": [
      "Epoch: 7\n",
      "Average loss: 0.028744991099694743\n"
     ]
    },
    {
     "name": "stderr",
     "output_type": "stream",
     "text": [
      "\u001b[32mProgress:  35%|██████████████▍                          |  ETA: 0:01:09\u001b[39m\u001b[K"
     ]
    },
    {
     "name": "stdout",
     "output_type": "stream",
     "text": [
      "Epoch: 8\n",
      "Average loss: 0.02367387277750143\n"
     ]
    },
    {
     "name": "stderr",
     "output_type": "stream",
     "text": [
      "\u001b[32mProgress:  40%|████████████████▍                        |  ETA: 0:01:01\u001b[39m\u001b[K"
     ]
    },
    {
     "name": "stdout",
     "output_type": "stream",
     "text": [
      "Epoch: 9\n",
      "Average loss: 0.019624248573704\n"
     ]
    },
    {
     "name": "stderr",
     "output_type": "stream",
     "text": [
      "\u001b[32mProgress:  45%|██████████████████▌                      |  ETA: 0:00:54\u001b[39m\u001b[K"
     ]
    },
    {
     "name": "stdout",
     "output_type": "stream",
     "text": [
      "Epoch: 10\n",
      "Average loss: 0.015912138190677313\n"
     ]
    },
    {
     "name": "stderr",
     "output_type": "stream",
     "text": [
      "\u001b[32mProgress:  50%|████████████████████▌                    |  ETA: 0:00:48\u001b[39m\u001b[K"
     ]
    },
    {
     "name": "stdout",
     "output_type": "stream",
     "text": [
      "Epoch: 11\n",
      "Average loss: 0.013372676805521769\n"
     ]
    },
    {
     "name": "stderr",
     "output_type": "stream",
     "text": [
      "\u001b[32mProgress:  55%|██████████████████████▌                  |  ETA: 0:00:42\u001b[39m\u001b[K"
     ]
    },
    {
     "name": "stdout",
     "output_type": "stream",
     "text": [
      "Epoch: 12\n",
      "Average loss: 0.011994637238713525\n"
     ]
    },
    {
     "name": "stderr",
     "output_type": "stream",
     "text": [
      "\u001b[32mProgress:  60%|████████████████████████▋                |  ETA: 0:00:37\u001b[39m\u001b[K"
     ]
    },
    {
     "name": "stdout",
     "output_type": "stream",
     "text": [
      "Epoch: 13\n",
      "Average loss: 0.01094605422011373\n"
     ]
    },
    {
     "name": "stderr",
     "output_type": "stream",
     "text": [
      "\u001b[32mProgress:  65%|██████████████████████████▋              |  ETA: 0:00:31\u001b[39m\u001b[K"
     ]
    },
    {
     "name": "stdout",
     "output_type": "stream",
     "text": [
      "Epoch: 14\n",
      "Average loss: 0.008083798682364916\n"
     ]
    },
    {
     "name": "stderr",
     "output_type": "stream",
     "text": [
      "\u001b[32mProgress:  70%|████████████████████████████▊            |  ETA: 0:00:27\u001b[39m\u001b[K"
     ]
    },
    {
     "name": "stdout",
     "output_type": "stream",
     "text": [
      "Epoch: 15\n",
      "Average loss: 0.008139687181971385\n"
     ]
    },
    {
     "name": "stderr",
     "output_type": "stream",
     "text": [
      "\u001b[32mProgress:  75%|██████████████████████████████▊          |  ETA: 0:00:23\u001b[39m\u001b[K"
     ]
    },
    {
     "name": "stdout",
     "output_type": "stream",
     "text": [
      "Epoch: 16\n",
      "Average loss: 0.007925119089922616\n"
     ]
    },
    {
     "name": "stderr",
     "output_type": "stream",
     "text": [
      "\u001b[32mProgress:  80%|████████████████████████████████▊        |  ETA: 0:00:18\u001b[39m\u001b[K"
     ]
    },
    {
     "name": "stdout",
     "output_type": "stream",
     "text": [
      "Epoch: 17\n",
      "Average loss: 0.006893724629442053\n"
     ]
    },
    {
     "name": "stderr",
     "output_type": "stream",
     "text": [
      "\u001b[32mProgress:  85%|██████████████████████████████████▉      |  ETA: 0:00:13\u001b[39m\u001b[K"
     ]
    },
    {
     "name": "stdout",
     "output_type": "stream",
     "text": [
      "Epoch: 18\n",
      "Average loss: 0.0052621438711599085\n"
     ]
    },
    {
     "name": "stderr",
     "output_type": "stream",
     "text": [
      "\u001b[32mProgress:  90%|████████████████████████████████████▉    |  ETA: 0:00:09\u001b[39m\u001b[K"
     ]
    },
    {
     "name": "stdout",
     "output_type": "stream",
     "text": [
      "Epoch: 19\n",
      "Average loss: 0.006989961071774997\n"
     ]
    },
    {
     "name": "stderr",
     "output_type": "stream",
     "text": [
      "\u001b[32mProgress:  95%|███████████████████████████████████████  |  ETA: 0:00:04\u001b[39m\u001b[K"
     ]
    },
    {
     "name": "stdout",
     "output_type": "stream",
     "text": [
      "Epoch: 20\n",
      "Average loss: 0.00468719041000392\n"
     ]
    },
    {
     "name": "stderr",
     "output_type": "stream",
     "text": [
      "\u001b[32mProgress: 100%|█████████████████████████████████████████| Time: 0:01:27\u001b[39m\u001b[K\n"
     ]
    },
    {
     "data": {
      "text/plain": [
       "20-element Vector{Any}:\n",
       " 0.26102784001529217\n",
       " 0.11678759016046922\n",
       " 0.07954412010206531\n",
       " 0.05975129395748178\n",
       " 0.046564727185014636\n",
       " 0.035245799549017104\n",
       " 0.028744991099694743\n",
       " 0.02367387277750143\n",
       " 0.019624248573704\n",
       " 0.015912138190677313\n",
       " 0.013372676805521769\n",
       " 0.011994637238713525\n",
       " 0.01094605422011373\n",
       " 0.008083798682364916\n",
       " 0.008139687181971385\n",
       " 0.007925119089922616\n",
       " 0.006893724629442053\n",
       " 0.0052621438711599085\n",
       " 0.006989961071774997\n",
       " 0.00468719041000392"
      ]
     },
     "metadata": {},
     "output_type": "display_data"
    }
   ],
   "source": [
    "include(\"train.jl\")\n",
    "\n",
    "vanilla_losses = vanilla_train(model, loss, opt, x_train, y_train, epochs, batch_size, 0, 9)"
   ]
  },
  {
   "cell_type": "markdown",
   "metadata": {},
   "source": [
    "#### Weak adversarial training: PGD with step size 0.01, 7 iterations and eps 0.05"
   ]
  },
  {
   "cell_type": "code",
   "execution_count": 28,
   "metadata": {},
   "outputs": [
    {
     "name": "stdout",
     "output_type": "stream",
     "text": [
      "Epoch: 1\n",
      "Average loss: 0.6438688881615797\n",
      "Epoch: 2\n",
      "Average loss: 0.30413974053462345\n"
     ]
    },
    {
     "name": "stderr",
     "output_type": "stream",
     "text": [
      "\u001b[32mProgress:  10%|████▏                                    |  ETA: 0:03:12\u001b[39m\u001b[K"
     ]
    },
    {
     "name": "stdout",
     "output_type": "stream",
     "text": [
      "Epoch: 3\n",
      "Average loss: 0.22296262778937817\n"
     ]
    },
    {
     "name": "stderr",
     "output_type": "stream",
     "text": [
      "\u001b[32mProgress:  15%|██████▏                                  |  ETA: 0:02:51\u001b[39m\u001b[K"
     ]
    },
    {
     "name": "stdout",
     "output_type": "stream",
     "text": [
      "Epoch: 4\n",
      "Average loss: 0.17840217874546846\n"
     ]
    },
    {
     "name": "stderr",
     "output_type": "stream",
     "text": [
      "\u001b[32mProgress:  20%|████████▎                                |  ETA: 0:02:35\u001b[39m\u001b[K"
     ]
    },
    {
     "name": "stdout",
     "output_type": "stream",
     "text": [
      "Epoch: 5\n",
      "Average loss: 0.14703907472739616\n"
     ]
    },
    {
     "name": "stderr",
     "output_type": "stream",
     "text": [
      "\u001b[32mProgress:  25%|██████████▎                              |  ETA: 0:02:23\u001b[39m\u001b[K"
     ]
    },
    {
     "name": "stdout",
     "output_type": "stream",
     "text": [
      "Epoch: 6\n",
      "Average loss: 0.1263425684945037\n"
     ]
    },
    {
     "name": "stderr",
     "output_type": "stream",
     "text": [
      "\u001b[32mProgress:  30%|████████████▎                            |  ETA: 0:02:14\u001b[39m\u001b[K"
     ]
    },
    {
     "name": "stdout",
     "output_type": "stream",
     "text": [
      "Epoch: 7\n",
      "Average loss: 0.11003219519394139\n"
     ]
    },
    {
     "name": "stderr",
     "output_type": "stream",
     "text": [
      "\u001b[32mProgress:  35%|██████████████▍                          |  ETA: 0:02:03\u001b[39m\u001b[K"
     ]
    },
    {
     "name": "stdout",
     "output_type": "stream",
     "text": [
      "Epoch: 8\n",
      "Average loss: 0.09394153114054352\n"
     ]
    },
    {
     "name": "stderr",
     "output_type": "stream",
     "text": [
      "\u001b[32mProgress:  40%|████████████████▍                        |  ETA: 0:01:53\u001b[39m\u001b[K"
     ]
    },
    {
     "name": "stdout",
     "output_type": "stream",
     "text": [
      "Epoch: 9\n",
      "Average loss: 0.08327058504537369\n"
     ]
    },
    {
     "name": "stderr",
     "output_type": "stream",
     "text": [
      "\u001b[32mProgress:  45%|██████████████████▌                      |  ETA: 0:01:42\u001b[39m\u001b[K"
     ]
    },
    {
     "name": "stdout",
     "output_type": "stream",
     "text": [
      "Epoch: 10\n",
      "Average loss: 0.07472140175864721\n"
     ]
    },
    {
     "name": "stderr",
     "output_type": "stream",
     "text": [
      "\u001b[32mProgress:  50%|████████████████████▌                    |  ETA: 0:01:32\u001b[39m\u001b[K"
     ]
    },
    {
     "name": "stdout",
     "output_type": "stream",
     "text": [
      "Epoch: 11\n",
      "Average loss: 0.06631582780236689\n"
     ]
    },
    {
     "name": "stderr",
     "output_type": "stream",
     "text": [
      "\u001b[32mProgress:  55%|██████████████████████▌                  |  ETA: 0:01:23\u001b[39m\u001b[K"
     ]
    },
    {
     "name": "stdout",
     "output_type": "stream",
     "text": [
      "Epoch: 12\n",
      "Average loss: 0.0620172512986542\n"
     ]
    },
    {
     "name": "stderr",
     "output_type": "stream",
     "text": [
      "\u001b[32mProgress:  60%|████████████████████████▋                |  ETA: 0:01:13\u001b[39m\u001b[K"
     ]
    },
    {
     "name": "stdout",
     "output_type": "stream",
     "text": [
      "Epoch: 13\n",
      "Average loss: 0.051394192260984954\n"
     ]
    },
    {
     "name": "stderr",
     "output_type": "stream",
     "text": [
      "\u001b[32mProgress:  65%|██████████████████████████▋              |  ETA: 0:01:03\u001b[39m\u001b[K"
     ]
    },
    {
     "name": "stdout",
     "output_type": "stream",
     "text": [
      "Epoch: 14\n",
      "Average loss: 0.04955535272916313\n"
     ]
    },
    {
     "name": "stderr",
     "output_type": "stream",
     "text": [
      "\u001b[32mProgress:  70%|████████████████████████████▊            |  ETA: 0:00:54\u001b[39m\u001b[K"
     ]
    },
    {
     "name": "stdout",
     "output_type": "stream",
     "text": [
      "Epoch: 15\n",
      "Average loss: 0.04533582456213577\n"
     ]
    },
    {
     "name": "stderr",
     "output_type": "stream",
     "text": [
      "\u001b[32mProgress:  75%|██████████████████████████████▊          |  ETA: 0:00:45\u001b[39m\u001b[K"
     ]
    },
    {
     "name": "stdout",
     "output_type": "stream",
     "text": [
      "Epoch: 16\n",
      "Average loss: 0.040875585250424534\n"
     ]
    },
    {
     "name": "stderr",
     "output_type": "stream",
     "text": [
      "\u001b[32mProgress:  80%|████████████████████████████████▊        |  ETA: 0:00:35\u001b[39m\u001b[K"
     ]
    },
    {
     "name": "stdout",
     "output_type": "stream",
     "text": [
      "Epoch: 17\n",
      "Average loss: 0.038703728776529896\n"
     ]
    },
    {
     "name": "stderr",
     "output_type": "stream",
     "text": [
      "\u001b[32mProgress:  85%|██████████████████████████████████▉      |  ETA: 0:00:26\u001b[39m\u001b[K"
     ]
    },
    {
     "name": "stdout",
     "output_type": "stream",
     "text": [
      "Epoch: 18\n",
      "Average loss: 0.03469541547795913\n"
     ]
    },
    {
     "name": "stderr",
     "output_type": "stream",
     "text": [
      "\u001b[32mProgress:  90%|████████████████████████████████████▉    |  ETA: 0:00:17\u001b[39m\u001b[K"
     ]
    },
    {
     "name": "stdout",
     "output_type": "stream",
     "text": [
      "Epoch: 19\n",
      "Average loss: 0.032787198475814266\n"
     ]
    },
    {
     "name": "stderr",
     "output_type": "stream",
     "text": [
      "\u001b[32mProgress:  95%|███████████████████████████████████████  |  ETA: 0:00:08\u001b[39m\u001b[K"
     ]
    },
    {
     "name": "stdout",
     "output_type": "stream",
     "text": [
      "Epoch: 20\n",
      "Average loss: 0.02993002186972832\n"
     ]
    },
    {
     "name": "stderr",
     "output_type": "stream",
     "text": [
      "\u001b[32mProgress: 100%|█████████████████████████████████████████| Time: 0:02:44\u001b[39m\u001b[K\n"
     ]
    },
    {
     "data": {
      "text/plain": [
       "20-element Vector{Any}:\n",
       " 0.6438688881615797\n",
       " 0.30413974053462345\n",
       " 0.22296262778937817\n",
       " 0.17840217874546846\n",
       " 0.14703907472739616\n",
       " 0.1263425684945037\n",
       " 0.11003219519394139\n",
       " 0.09394153114054352\n",
       " 0.08327058504537369\n",
       " 0.07472140175864721\n",
       " 0.06631582780236689\n",
       " 0.0620172512986542\n",
       " 0.051394192260984954\n",
       " 0.04955535272916313\n",
       " 0.04533582456213577\n",
       " 0.040875585250424534\n",
       " 0.038703728776529896\n",
       " 0.03469541547795913\n",
       " 0.032787198475814266\n",
       " 0.02993002186972832"
      ]
     },
     "metadata": {},
     "output_type": "display_data"
    }
   ],
   "source": [
    "adversarial_losses_weak = adversarial_train(adv_pgd_weak, loss, opt, x_train, y_train, epochs, batch_size, PGD, 0, 9, 0.05; attack_method=:PGD, iterations=7, step_size=0.01, clamp_range=clamp_range)"
   ]
  },
  {
   "cell_type": "markdown",
   "metadata": {},
   "source": [
    "#### Medium Adversarial Training: PGD with step size 0.01, 13 iterations and eps 0.1"
   ]
  },
  {
   "cell_type": "code",
   "execution_count": 29,
   "metadata": {},
   "outputs": [
    {
     "name": "stdout",
     "output_type": "stream",
     "text": [
      "Epoch: 1\n",
      "Average loss: 1.0008164931297303\n",
      "Epoch: 2\n",
      "Average loss: 0.5653837557792664\n"
     ]
    },
    {
     "name": "stderr",
     "output_type": "stream",
     "text": [
      "\u001b[32mProgress:  10%|████▏                                    |  ETA: 0:03:28\u001b[39m\u001b[K"
     ]
    },
    {
     "name": "stdout",
     "output_type": "stream",
     "text": [
      "Epoch: 3\n",
      "Average loss: 0.4680757397373517\n"
     ]
    },
    {
     "name": "stderr",
     "output_type": "stream",
     "text": [
      "\u001b[32mProgress:  15%|██████▏                                  |  ETA: 0:03:24\u001b[39m\u001b[K"
     ]
    },
    {
     "name": "stdout",
     "output_type": "stream",
     "text": [
      "Epoch: 4\n",
      "Average loss: 0.41865252505143485\n"
     ]
    },
    {
     "name": "stderr",
     "output_type": "stream",
     "text": [
      "\u001b[32mProgress:  20%|████████▎                                |  ETA: 0:03:17\u001b[39m\u001b[K"
     ]
    },
    {
     "name": "stdout",
     "output_type": "stream",
     "text": [
      "Epoch: 5\n",
      "Average loss: 0.3871162989517053\n"
     ]
    },
    {
     "name": "stderr",
     "output_type": "stream",
     "text": [
      "\u001b[32mProgress:  25%|██████████▎                              |  ETA: 0:03:10\u001b[39m\u001b[K"
     ]
    },
    {
     "name": "stdout",
     "output_type": "stream",
     "text": [
      "Epoch: 6\n",
      "Average loss: 0.36236929145852725\n"
     ]
    },
    {
     "name": "stderr",
     "output_type": "stream",
     "text": [
      "\u001b[32mProgress:  30%|████████████▎                            |  ETA: 0:03:02\u001b[39m\u001b[K"
     ]
    },
    {
     "name": "stdout",
     "output_type": "stream",
     "text": [
      "Epoch: 7\n",
      "Average loss: 0.3416511021782955\n"
     ]
    },
    {
     "name": "stderr",
     "output_type": "stream",
     "text": [
      "\u001b[32mProgress:  35%|██████████████▍                          |  ETA: 0:02:56\u001b[39m\u001b[K"
     ]
    },
    {
     "name": "stdout",
     "output_type": "stream",
     "text": [
      "Epoch: 8\n",
      "Average loss: 0.32424842346707977\n"
     ]
    },
    {
     "name": "stderr",
     "output_type": "stream",
     "text": [
      "\u001b[32mProgress:  40%|████████████████▍                        |  ETA: 0:02:47\u001b[39m\u001b[K"
     ]
    },
    {
     "name": "stdout",
     "output_type": "stream",
     "text": [
      "Epoch: 9\n",
      "Average loss: 0.31468819087147715\n"
     ]
    },
    {
     "name": "stderr",
     "output_type": "stream",
     "text": [
      "\u001b[32mProgress:  45%|██████████████████▌                      |  ETA: 0:02:39\u001b[39m\u001b[K"
     ]
    },
    {
     "name": "stdout",
     "output_type": "stream",
     "text": [
      "Epoch: 10\n",
      "Average loss: 0.30299900081058345\n"
     ]
    },
    {
     "name": "stderr",
     "output_type": "stream",
     "text": [
      "\u001b[32mProgress:  50%|████████████████████▌                    |  ETA: 0:02:26\u001b[39m\u001b[K"
     ]
    },
    {
     "name": "stdout",
     "output_type": "stream",
     "text": [
      "Epoch: 11\n",
      "Average loss: 0.2938104329943657\n"
     ]
    },
    {
     "name": "stderr",
     "output_type": "stream",
     "text": [
      "\u001b[32mProgress:  55%|██████████████████████▌                  |  ETA: 0:02:12\u001b[39m\u001b[K"
     ]
    },
    {
     "name": "stdout",
     "output_type": "stream",
     "text": [
      "Epoch: 12\n",
      "Average loss: 0.2854473121702671\n"
     ]
    },
    {
     "name": "stderr",
     "output_type": "stream",
     "text": [
      "\u001b[32mProgress:  60%|████████████████████████▋                |  ETA: 0:01:58\u001b[39m\u001b[K"
     ]
    },
    {
     "name": "stdout",
     "output_type": "stream",
     "text": [
      "Epoch: 13\n",
      "Average loss: 0.27898213224659363\n"
     ]
    },
    {
     "name": "stderr",
     "output_type": "stream",
     "text": [
      "\u001b[32mProgress:  65%|██████████████████████████▋              |  ETA: 0:01:43\u001b[39m\u001b[K"
     ]
    },
    {
     "name": "stdout",
     "output_type": "stream",
     "text": [
      "Epoch: 14\n",
      "Average loss: 0.2720734828735391\n"
     ]
    },
    {
     "name": "stderr",
     "output_type": "stream",
     "text": [
      "\u001b[32mProgress:  70%|████████████████████████████▊            |  ETA: 0:01:29\u001b[39m\u001b[K"
     ]
    },
    {
     "name": "stdout",
     "output_type": "stream",
     "text": [
      "Epoch: 15\n",
      "Average loss: 0.2673913002431393\n"
     ]
    },
    {
     "name": "stderr",
     "output_type": "stream",
     "text": [
      "\u001b[32mProgress:  75%|██████████████████████████████▊          |  ETA: 0:01:14\u001b[39m\u001b[K"
     ]
    },
    {
     "name": "stdout",
     "output_type": "stream",
     "text": [
      "Epoch: 16\n",
      "Average loss: 0.26287253640890124\n"
     ]
    },
    {
     "name": "stderr",
     "output_type": "stream",
     "text": [
      "\u001b[32mProgress:  80%|████████████████████████████████▊        |  ETA: 0:01:00\u001b[39m\u001b[K"
     ]
    },
    {
     "name": "stdout",
     "output_type": "stream",
     "text": [
      "Epoch: 17\n",
      "Average loss: 0.25750101493597033\n"
     ]
    },
    {
     "name": "stderr",
     "output_type": "stream",
     "text": [
      "\u001b[32mProgress:  85%|██████████████████████████████████▉      |  ETA: 0:00:45\u001b[39m\u001b[K"
     ]
    },
    {
     "name": "stdout",
     "output_type": "stream",
     "text": [
      "Epoch: 18\n",
      "Average loss: 0.2536151811818282\n"
     ]
    },
    {
     "name": "stderr",
     "output_type": "stream",
     "text": [
      "\u001b[32mProgress:  90%|████████████████████████████████████▉    |  ETA: 0:00:30\u001b[39m\u001b[K"
     ]
    },
    {
     "name": "stdout",
     "output_type": "stream",
     "text": [
      "Epoch: 19\n",
      "Average loss: 0.2531742242778341\n"
     ]
    },
    {
     "name": "stderr",
     "output_type": "stream",
     "text": [
      "\u001b[32mProgress:  95%|███████████████████████████████████████  |  ETA: 0:00:15\u001b[39m\u001b[K"
     ]
    },
    {
     "name": "stdout",
     "output_type": "stream",
     "text": [
      "Epoch: 20\n",
      "Average loss: 0.24875998517970244\n"
     ]
    },
    {
     "name": "stderr",
     "output_type": "stream",
     "text": [
      "\u001b[32mProgress: 100%|█████████████████████████████████████████| Time: 0:05:02\u001b[39m\u001b[K\n"
     ]
    },
    {
     "data": {
      "text/plain": [
       "20-element Vector{Any}:\n",
       " 1.0008164931297303\n",
       " 0.5653837557792664\n",
       " 0.4680757397373517\n",
       " 0.41865252505143485\n",
       " 0.3871162989517053\n",
       " 0.36236929145852725\n",
       " 0.3416511021782955\n",
       " 0.32424842346707977\n",
       " 0.31468819087147715\n",
       " 0.30299900081058345\n",
       " 0.2938104329943657\n",
       " 0.2854473121702671\n",
       " 0.27898213224659363\n",
       " 0.2720734828735391\n",
       " 0.2673913002431393\n",
       " 0.26287253640890124\n",
       " 0.25750101493597033\n",
       " 0.2536151811818282\n",
       " 0.2531742242778341\n",
       " 0.24875998517970244"
      ]
     },
     "metadata": {},
     "output_type": "display_data"
    }
   ],
   "source": [
    "adversarial_losses_medium = adversarial_train(adv_pgd_medium, loss, opt, x_train, y_train, epochs, batch_size, PGD, 0, 9, 0.1; attack_method=:PGD, iterations=13, step_size=0.01, clamp_range=clamp_range)"
   ]
  },
  {
   "cell_type": "markdown",
   "metadata": {},
   "source": [
    "#### Strong Adversarial Training: PGD with step size 0.01, 40 iterations and eps 0.3"
   ]
  },
  {
   "cell_type": "code",
   "execution_count": 30,
   "metadata": {},
   "outputs": [
    {
     "name": "stdout",
     "output_type": "stream",
     "text": [
      "Epoch: 1\n",
      "Average loss: 2.8022659251530966\n",
      "Epoch: 2\n",
      "Average loss: 2.3212887631734214\n"
     ]
    },
    {
     "name": "stderr",
     "output_type": "stream",
     "text": [
      "\u001b[32mProgress:  10%|████▏                                    |  ETA: 0:14:29\u001b[39m\u001b[K"
     ]
    },
    {
     "name": "stdout",
     "output_type": "stream",
     "text": [
      "Epoch: 3\n",
      "Average loss: 2.2008011558532714\n"
     ]
    },
    {
     "name": "stderr",
     "output_type": "stream",
     "text": [
      "\u001b[32mProgress:  15%|██████▏                                  |  ETA: 0:13:59\u001b[39m\u001b[K"
     ]
    },
    {
     "name": "stdout",
     "output_type": "stream",
     "text": [
      "Epoch: 4\n",
      "Average loss: 2.127428648249308\n"
     ]
    },
    {
     "name": "stderr",
     "output_type": "stream",
     "text": [
      "\u001b[32mProgress:  20%|████████▎                                |  ETA: 0:12:42\u001b[39m\u001b[K"
     ]
    },
    {
     "name": "stdout",
     "output_type": "stream",
     "text": [
      "Epoch: 5\n",
      "Average loss: 2.0670884188334147\n"
     ]
    },
    {
     "name": "stderr",
     "output_type": "stream",
     "text": [
      "\u001b[32mProgress:  25%|██████████▎                              |  ETA: 0:11:41\u001b[39m\u001b[K"
     ]
    },
    {
     "name": "stdout",
     "output_type": "stream",
     "text": [
      "Epoch: 6\n",
      "Average loss: 2.0232179655075075\n"
     ]
    },
    {
     "name": "stderr",
     "output_type": "stream",
     "text": [
      "\u001b[32mProgress:  30%|████████████▎                            |  ETA: 0:11:14\u001b[39m\u001b[K"
     ]
    },
    {
     "name": "stdout",
     "output_type": "stream",
     "text": [
      "Epoch: 7\n",
      "Average loss: 1.9992621312459309\n"
     ]
    },
    {
     "name": "stderr",
     "output_type": "stream",
     "text": [
      "\u001b[32mProgress:  35%|██████████████▍                          |  ETA: 0:10:23\u001b[39m\u001b[K"
     ]
    },
    {
     "name": "stdout",
     "output_type": "stream",
     "text": [
      "Epoch: 8\n",
      "Average loss: 1.9710062896728515\n"
     ]
    },
    {
     "name": "stderr",
     "output_type": "stream",
     "text": [
      "\u001b[32mProgress:  40%|████████████████▍                        |  ETA: 0:09:31\u001b[39m\u001b[K"
     ]
    },
    {
     "name": "stdout",
     "output_type": "stream",
     "text": [
      "Epoch: 9\n",
      "Average loss: 1.9471116401036581\n"
     ]
    },
    {
     "name": "stderr",
     "output_type": "stream",
     "text": [
      "\u001b[32mProgress:  45%|██████████████████▌                      |  ETA: 0:08:49\u001b[39m\u001b[K"
     ]
    },
    {
     "name": "stdout",
     "output_type": "stream",
     "text": [
      "Epoch: 10\n",
      "Average loss: 1.9253686906814576\n"
     ]
    },
    {
     "name": "stderr",
     "output_type": "stream",
     "text": [
      "\u001b[32mProgress:  50%|████████████████████▌                    |  ETA: 0:07:57\u001b[39m\u001b[K"
     ]
    },
    {
     "name": "stdout",
     "output_type": "stream",
     "text": [
      "Epoch: 11\n",
      "Average loss: 1.9129828539530436\n"
     ]
    },
    {
     "name": "stderr",
     "output_type": "stream",
     "text": [
      "\u001b[32mProgress:  55%|██████████████████████▌                  |  ETA: 0:07:10\u001b[39m\u001b[K"
     ]
    },
    {
     "name": "stdout",
     "output_type": "stream",
     "text": [
      "Epoch: 12\n",
      "Average loss: 1.9036810992558797\n"
     ]
    },
    {
     "name": "stderr",
     "output_type": "stream",
     "text": [
      "\u001b[32mProgress:  60%|████████████████████████▋                |  ETA: 0:06:22\u001b[39m\u001b[K"
     ]
    },
    {
     "name": "stdout",
     "output_type": "stream",
     "text": [
      "Epoch: 13\n",
      "Average loss: 1.8937930795669555\n"
     ]
    },
    {
     "name": "stderr",
     "output_type": "stream",
     "text": [
      "\u001b[32mProgress:  65%|██████████████████████████▋              |  ETA: 0:05:36\u001b[39m\u001b[K"
     ]
    },
    {
     "name": "stdout",
     "output_type": "stream",
     "text": [
      "Epoch: 14\n",
      "Average loss: 1.8811665307362875\n"
     ]
    },
    {
     "name": "stderr",
     "output_type": "stream",
     "text": [
      "\u001b[32mProgress:  70%|████████████████████████████▊            |  ETA: 0:04:47\u001b[39m\u001b[K"
     ]
    },
    {
     "name": "stdout",
     "output_type": "stream",
     "text": [
      "Epoch: 15\n",
      "Average loss: 1.8748154895146687\n"
     ]
    },
    {
     "name": "stderr",
     "output_type": "stream",
     "text": [
      "\u001b[32mProgress:  75%|██████████████████████████████▊          |  ETA: 0:03:58\u001b[39m\u001b[K"
     ]
    },
    {
     "name": "stdout",
     "output_type": "stream",
     "text": [
      "Epoch: 16\n",
      "Average loss: 1.8669566420237222\n"
     ]
    },
    {
     "name": "stderr",
     "output_type": "stream",
     "text": [
      "\u001b[32mProgress:  80%|████████████████████████████████▊        |  ETA: 0:03:10\u001b[39m\u001b[K"
     ]
    },
    {
     "name": "stdout",
     "output_type": "stream",
     "text": [
      "Epoch: 17\n",
      "Average loss: 1.8584758113861084\n"
     ]
    },
    {
     "name": "stderr",
     "output_type": "stream",
     "text": [
      "\u001b[32mProgress:  85%|██████████████████████████████████▉      |  ETA: 0:02:22\u001b[39m\u001b[K"
     ]
    },
    {
     "name": "stdout",
     "output_type": "stream",
     "text": [
      "Epoch: 18\n",
      "Average loss: 1.849341175142924\n"
     ]
    },
    {
     "name": "stderr",
     "output_type": "stream",
     "text": [
      "\u001b[32mProgress:  90%|████████████████████████████████████▉    |  ETA: 0:01:34\u001b[39m\u001b[K"
     ]
    },
    {
     "name": "stdout",
     "output_type": "stream",
     "text": [
      "Epoch: 19\n",
      "Average loss: 1.8468084585825602\n"
     ]
    },
    {
     "name": "stderr",
     "output_type": "stream",
     "text": [
      "\u001b[32mProgress:  95%|███████████████████████████████████████  |  ETA: 0:00:47\u001b[39m\u001b[K"
     ]
    },
    {
     "name": "stdout",
     "output_type": "stream",
     "text": [
      "Epoch: 20\n",
      "Average loss: 1.8454012526830037\n"
     ]
    },
    {
     "name": "stderr",
     "output_type": "stream",
     "text": [
      "\u001b[32mProgress: 100%|█████████████████████████████████████████| Time: 0:15:41\u001b[39m\u001b[K\n"
     ]
    },
    {
     "data": {
      "text/plain": [
       "20-element Vector{Any}:\n",
       " 2.8022659251530966\n",
       " 2.3212887631734214\n",
       " 2.2008011558532714\n",
       " 2.127428648249308\n",
       " 2.0670884188334147\n",
       " 2.0232179655075075\n",
       " 1.9992621312459309\n",
       " 1.9710062896728515\n",
       " 1.9471116401036581\n",
       " 1.9253686906814576\n",
       " 1.9129828539530436\n",
       " 1.9036810992558797\n",
       " 1.8937930795669555\n",
       " 1.8811665307362875\n",
       " 1.8748154895146687\n",
       " 1.8669566420237222\n",
       " 1.8584758113861084\n",
       " 1.849341175142924\n",
       " 1.8468084585825602\n",
       " 1.8454012526830037"
      ]
     },
     "metadata": {},
     "output_type": "display_data"
    }
   ],
   "source": [
    "adversarial_losses_strong = adversarial_train(adv_pgd_strong, loss, opt, x_train, y_train, epochs, batch_size, PGD, 0, 9, 0.3; attack_method=:PGD, iterations=40, step_size=0.01, clamp_range=clamp_range)"
   ]
  },
  {
   "cell_type": "markdown",
   "metadata": {},
   "source": [
    "### Exploratory plotting"
   ]
  },
  {
   "cell_type": "markdown",
   "metadata": {},
   "source": [
    "#### Random clean and FGSM-attacked image: Classically trained model"
   ]
  },
  {
   "cell_type": "code",
   "execution_count": 32,
   "metadata": {},
   "outputs": [
    {
     "name": "stdout",
     "output_type": "stream",
     "text": [
      "Digit predicted by the model for the clean image: 9\n",
      "Digit predicted by the model for the \n",
      "    adversarial image: 7\n",
      "True label: 9\n"
     ]
    },
    {
     "data": {
      "image/png": "[encoded data removed]",
      "image/svg+xml": [
       "<?xml version=\"1.0\" encoding=\"utf-8\"?>\n",
       "<svg xmlns=\"http://www.w3.org/2000/svg\" xmlns:xlink=\"http://www.w3.org/1999/xlink\" width=\"600\" height=\"400\" viewBox=\"0 0 2400 1600\">\n",
       "<defs>\n",
       "  <clipPath id=\"clip570\">\n",
       "    <rect x=\"0\" y=\"0\" width=\"2400\" height=\"1600\"/>\n",
       "  </clipPath>\n",
       "</defs>\n",
       "<path clip-path=\"url(#clip570)\" d=\"M0 1600 L2400 1600 L2400 0 L0 0  Z\" fill=\"#ffffff\" fill-rule=\"evenodd\" fill-opacity=\"1\"/>\n",
       "<defs>\n",
       "  <clipPath id=\"clip571\">\n",
       "    <rect x=\"480\" y=\"0\" width=\"1681\" height=\"1600\"/>\n",
       "  </clipPath>\n",
       "</defs>\n",
       "<path clip-path=\"url(#clip570)\" d=\"M140.696 1486.45 L1152.76 1486.45 L1152.76 123.472 L140.696 123.472  Z\" fill=\"#ffffff\" fill-rule=\"evenodd\" fill-opacity=\"1\"/>\n",
       "<defs>\n",
       "  <clipPath id=\"clip572\">\n",
       "    <rect x=\"140\" y=\"123\" width=\"1013\" height=\"1364\"/>\n",
       "  </clipPath>\n",
       "</defs>\n",
       "<polyline clip-path=\"url(#clip572)\" style=\"stroke:#000000; stroke-linecap:round; stroke-linejoin:round; stroke-width:2; stroke-opacity:0.1; fill:none\" points=\"303.348,1486.45 303.348,123.472 \"/>\n",
       "<polyline clip-path=\"url(#clip572)\" style=\"stroke:#000000; stroke-linecap:round; stroke-linejoin:round; stroke-width:2; stroke-opacity:0.1; fill:none\" points=\"484.073,1486.45 484.073,123.472 \"/>\n",
       "<polyline clip-path=\"url(#clip572)\" style=\"stroke:#000000; stroke-linecap:round; stroke-linejoin:round; stroke-width:2; stroke-opacity:0.1; fill:none\" points=\"664.798,1486.45 664.798,123.472 \"/>\n",
       "<polyline clip-path=\"url(#clip572)\" style=\"stroke:#000000; stroke-linecap:round; stroke-linejoin:round; stroke-width:2; stroke-opacity:0.1; fill:none\" points=\"845.523,1486.45 845.523,123.472 \"/>\n",
       "<polyline clip-path=\"url(#clip572)\" style=\"stroke:#000000; stroke-linecap:round; stroke-linejoin:round; stroke-width:2; stroke-opacity:0.1; fill:none\" points=\"1026.25,1486.45 1026.25,123.472 \"/>\n",
       "<polyline clip-path=\"url(#clip572)\" style=\"stroke:#000000; stroke-linecap:round; stroke-linejoin:round; stroke-width:2; stroke-opacity:0.1; fill:none\" points=\"140.696,1267.4 1152.76,1267.4 \"/>\n",
       "<polyline clip-path=\"url(#clip572)\" style=\"stroke:#000000; stroke-linecap:round; stroke-linejoin:round; stroke-width:2; stroke-opacity:0.1; fill:none\" points=\"140.696,1024.01 1152.76,1024.01 \"/>\n",
       "<polyline clip-path=\"url(#clip572)\" style=\"stroke:#000000; stroke-linecap:round; stroke-linejoin:round; stroke-width:2; stroke-opacity:0.1; fill:none\" points=\"140.696,780.621 1152.76,780.621 \"/>\n",
       "<polyline clip-path=\"url(#clip572)\" style=\"stroke:#000000; stroke-linecap:round; stroke-linejoin:round; stroke-width:2; stroke-opacity:0.1; fill:none\" points=\"140.696,537.233 1152.76,537.233 \"/>\n",
       "<polyline clip-path=\"url(#clip572)\" style=\"stroke:#000000; stroke-linecap:round; stroke-linejoin:round; stroke-width:2; stroke-opacity:0.1; fill:none\" points=\"140.696,293.844 1152.76,293.844 \"/>\n",
       "<path clip-path=\"url(#clip570)\" d=\"M96.8762 20.1573 L85.7768 50.2555 L108.016 50.2555 L96.8762 20.1573 M92.2582 12.096 L101.535 12.096 L124.584 72.576 L116.078 72.576 L110.568 57.061 L83.3057 57.061 L77.7965 72.576 L69.1681 72.576 L92.2582 12.096 Z\" fill=\"#000000\" fill-rule=\"nonzero\" fill-opacity=\"1\" /><path clip-path=\"url(#clip570)\" d=\"M161.488 34.0924 L161.488 9.54393 L168.942 9.54393 L168.942 72.576 L161.488 72.576 L161.488 65.7705 Q159.139 69.8214 155.533 71.8063 Q151.969 73.7508 146.945 73.7508 Q138.722 73.7508 133.537 67.1883 Q128.392 60.6258 128.392 49.9314 Q128.392 39.2371 133.537 32.6746 Q138.722 26.1121 146.945 26.1121 Q151.969 26.1121 155.533 28.0971 Q159.139 30.0415 161.488 34.0924 M136.089 49.9314 Q136.089 58.1548 139.451 62.8538 Q142.854 67.5124 148.768 67.5124 Q154.683 67.5124 158.085 62.8538 Q161.488 58.1548 161.488 49.9314 Q161.488 41.7081 158.085 37.0496 Q154.683 32.3505 148.768 32.3505 Q142.854 32.3505 139.451 37.0496 Q136.089 41.7081 136.089 49.9314 Z\" fill=\"#000000\" fill-rule=\"nonzero\" fill-opacity=\"1\" /><path clip-path=\"url(#clip570)\" d=\"M178.948 27.2059 L186.847 27.2059 L201.025 65.2844 L215.203 27.2059 L223.102 27.2059 L206.089 72.576 L195.961 72.576 L178.948 27.2059 Z\" fill=\"#000000\" fill-rule=\"nonzero\" fill-opacity=\"1\" /><path clip-path=\"url(#clip570)\" d=\"M272.199 48.0275 L272.199 51.6733 L237.929 51.6733 Q238.415 59.3701 242.547 63.421 Q246.719 67.4314 254.132 67.4314 Q258.426 67.4314 262.437 66.3781 Q266.488 65.3249 270.457 63.2184 L270.457 70.267 Q266.447 71.9684 262.234 72.8596 Q258.021 73.7508 253.687 73.7508 Q242.83 73.7508 236.47 67.4314 Q230.151 61.1119 230.151 50.3365 Q230.151 39.1965 236.146 32.6746 Q242.182 26.1121 252.39 26.1121 Q261.545 26.1121 266.852 32.0264 Q272.199 37.9003 272.199 48.0275 M264.746 45.84 Q264.665 39.7232 261.302 36.0774 Q257.981 32.4315 252.471 32.4315 Q246.233 32.4315 242.466 35.9558 Q238.739 39.4801 238.172 45.8805 L264.746 45.84 Z\" fill=\"#000000\" fill-rule=\"nonzero\" fill-opacity=\"1\" /><path clip-path=\"url(#clip570)\" d=\"M310.723 34.1734 Q309.468 33.4443 307.969 33.1202 Q306.511 32.7556 304.728 32.7556 Q298.409 32.7556 295.006 36.8875 Q291.644 40.9789 291.644 48.6757 L291.644 72.576 L284.15 72.576 L284.15 27.2059 L291.644 27.2059 L291.644 34.2544 Q293.993 30.1225 297.761 28.1376 Q301.528 26.1121 306.916 26.1121 Q307.685 26.1121 308.617 26.2337 Q309.549 26.3147 310.683 26.5172 L310.723 34.1734 Z\" fill=\"#000000\" fill-rule=\"nonzero\" fill-opacity=\"1\" /><path clip-path=\"url(#clip570)\" d=\"M347.465 28.5427 L347.465 35.5912 Q344.305 33.9709 340.903 33.1607 Q337.5 32.3505 333.854 32.3505 Q328.304 32.3505 325.509 34.0519 Q322.755 35.7533 322.755 39.156 Q322.755 41.7486 324.74 43.2475 Q326.725 44.7058 332.72 46.0426 L335.272 46.6097 Q343.212 48.3111 346.533 51.4303 Q349.896 54.509 349.896 60.0587 Q349.896 66.3781 344.873 70.0644 Q339.89 73.7508 331.14 73.7508 Q327.494 73.7508 323.524 73.0216 Q319.595 72.3329 315.22 70.9151 L315.22 63.2184 Q319.352 65.3654 323.362 66.4591 Q327.373 67.5124 331.302 67.5124 Q336.568 67.5124 339.404 65.73 Q342.24 63.9071 342.24 60.6258 Q342.24 57.5877 340.174 55.9673 Q338.148 54.3469 331.221 52.8481 L328.628 52.2405 Q321.701 50.7821 318.623 47.7845 Q315.544 44.7463 315.544 39.4801 Q315.544 33.0797 320.081 29.5959 Q324.618 26.1121 332.963 26.1121 Q337.095 26.1121 340.741 26.7198 Q344.386 27.3274 347.465 28.5427 Z\" fill=\"#000000\" fill-rule=\"nonzero\" fill-opacity=\"1\" /><path clip-path=\"url(#clip570)\" d=\"M382.384 49.7694 Q373.35 49.7694 369.867 51.8354 Q366.383 53.9013 366.383 58.8839 Q366.383 62.8538 368.975 65.2034 Q371.609 67.5124 376.105 67.5124 Q382.303 67.5124 386.03 63.1374 Q389.797 58.7219 389.797 51.4303 L389.797 49.7694 L382.384 49.7694 M397.251 46.6907 L397.251 72.576 L389.797 72.576 L389.797 65.6895 Q387.245 69.8214 383.437 71.8063 Q379.629 73.7508 374.12 73.7508 Q367.153 73.7508 363.021 69.8619 Q358.929 65.9325 358.929 59.3701 Q358.929 51.7138 364.033 47.825 Q369.178 43.9361 379.346 43.9361 L389.797 43.9361 L389.797 43.2069 Q389.797 38.0623 386.394 35.2672 Q383.032 32.4315 376.915 32.4315 Q373.026 32.4315 369.34 33.3632 Q365.654 34.295 362.251 36.1584 L362.251 29.2718 Q366.342 27.692 370.191 26.9223 Q374.039 26.1121 377.685 26.1121 Q387.529 26.1121 392.39 31.2163 Q397.251 36.3204 397.251 46.6907 Z\" fill=\"#000000\" fill-rule=\"nonzero\" fill-opacity=\"1\" /><path clip-path=\"url(#clip570)\" d=\"M438.894 34.1734 Q437.638 33.4443 436.139 33.1202 Q434.681 32.7556 432.899 32.7556 Q426.579 32.7556 423.177 36.8875 Q419.814 40.9789 419.814 48.6757 L419.814 72.576 L412.32 72.576 L412.32 27.2059 L419.814 27.2059 L419.814 34.2544 Q422.164 30.1225 425.931 28.1376 Q429.699 26.1121 435.086 26.1121 Q435.856 26.1121 436.788 26.2337 Q437.719 26.3147 438.854 26.5172 L438.894 34.1734 Z\" fill=\"#000000\" fill-rule=\"nonzero\" fill-opacity=\"1\" /><path clip-path=\"url(#clip570)\" d=\"M446.712 27.2059 L454.166 27.2059 L454.166 72.576 L446.712 72.576 L446.712 27.2059 M446.712 9.54393 L454.166 9.54393 L454.166 18.9825 L446.712 18.9825 L446.712 9.54393 Z\" fill=\"#000000\" fill-rule=\"nonzero\" fill-opacity=\"1\" /><path clip-path=\"url(#clip570)\" d=\"M490.381 49.7694 Q481.348 49.7694 477.864 51.8354 Q474.38 53.9013 474.38 58.8839 Q474.38 62.8538 476.973 65.2034 Q479.606 67.5124 484.102 67.5124 Q490.3 67.5124 494.027 63.1374 Q497.794 58.7219 497.794 51.4303 L497.794 49.7694 L490.381 49.7694 M505.248 46.6907 L505.248 72.576 L497.794 72.576 L497.794 65.6895 Q495.242 69.8214 491.434 71.8063 Q487.626 73.7508 482.117 73.7508 Q475.15 73.7508 471.018 69.8619 Q466.926 65.9325 466.926 59.3701 Q466.926 51.7138 472.03 47.825 Q477.175 43.9361 487.343 43.9361 L497.794 43.9361 L497.794 43.2069 Q497.794 38.0623 494.391 35.2672 Q491.029 32.4315 484.912 32.4315 Q481.023 32.4315 477.337 33.3632 Q473.651 34.295 470.248 36.1584 L470.248 29.2718 Q474.339 27.692 478.188 26.9223 Q482.036 26.1121 485.682 26.1121 Q495.526 26.1121 500.387 31.2163 Q505.248 36.3204 505.248 46.6907 Z\" fill=\"#000000\" fill-rule=\"nonzero\" fill-opacity=\"1\" /><path clip-path=\"url(#clip570)\" d=\"M520.601 9.54393 L528.054 9.54393 L528.054 72.576 L520.601 72.576 L520.601 9.54393 Z\" fill=\"#000000\" fill-rule=\"nonzero\" fill-opacity=\"1\" /><path clip-path=\"url(#clip570)\" d=\"M608.83 48.0275 L608.83 51.6733 L574.559 51.6733 Q575.045 59.3701 579.177 63.421 Q583.349 67.4314 590.762 67.4314 Q595.056 67.4314 599.067 66.3781 Q603.118 65.3249 607.088 63.2184 L607.088 70.267 Q603.077 71.9684 598.864 72.8596 Q594.651 73.7508 590.317 73.7508 Q579.46 73.7508 573.101 67.4314 Q566.781 61.1119 566.781 50.3365 Q566.781 39.1965 572.776 32.6746 Q578.812 26.1121 589.021 26.1121 Q598.176 26.1121 603.482 32.0264 Q608.83 37.9003 608.83 48.0275 M601.376 45.84 Q601.295 39.7232 597.933 36.0774 Q594.611 32.4315 589.102 32.4315 Q582.863 32.4315 579.096 35.9558 Q575.369 39.4801 574.802 45.8805 L601.376 45.84 Z\" fill=\"#000000\" fill-rule=\"nonzero\" fill-opacity=\"1\" /><path clip-path=\"url(#clip570)\" d=\"M657.319 27.2059 L640.913 49.2833 L658.17 72.576 L649.379 72.576 L636.173 54.752 L622.967 72.576 L614.177 72.576 L631.798 48.8377 L615.676 27.2059 L624.466 27.2059 L636.497 43.369 L648.528 27.2059 L657.319 27.2059 Z\" fill=\"#000000\" fill-rule=\"nonzero\" fill-opacity=\"1\" /><path clip-path=\"url(#clip570)\" d=\"M689.321 49.7694 Q680.287 49.7694 676.804 51.8354 Q673.32 53.9013 673.32 58.8839 Q673.32 62.8538 675.912 65.2034 Q678.546 67.5124 683.042 67.5124 Q689.24 67.5124 692.967 63.1374 Q696.734 58.7219 696.734 51.4303 L696.734 49.7694 L689.321 49.7694 M704.188 46.6907 L704.188 72.576 L696.734 72.576 L696.734 65.6895 Q694.182 69.8214 690.374 71.8063 Q686.566 73.7508 681.057 73.7508 Q674.09 73.7508 669.958 69.8619 Q665.866 65.9325 665.866 59.3701 Q665.866 51.7138 670.97 47.825 Q676.115 43.9361 686.283 43.9361 L696.734 43.9361 L696.734 43.2069 Q696.734 38.0623 693.331 35.2672 Q689.969 32.4315 683.852 32.4315 Q679.963 32.4315 676.277 33.3632 Q672.591 34.295 669.188 36.1584 L669.188 29.2718 Q673.279 27.692 677.128 26.9223 Q680.976 26.1121 684.622 26.1121 Q694.466 26.1121 699.327 31.2163 Q704.188 36.3204 704.188 46.6907 Z\" fill=\"#000000\" fill-rule=\"nonzero\" fill-opacity=\"1\" /><path clip-path=\"url(#clip570)\" d=\"M754.865 35.9153 Q757.66 30.8922 761.549 28.5022 Q765.437 26.1121 770.704 26.1121 Q777.793 26.1121 781.641 31.0947 Q785.489 36.0368 785.489 45.1919 L785.489 72.576 L777.995 72.576 L777.995 45.4349 Q777.995 38.913 775.686 35.7533 Q773.377 32.5936 768.638 32.5936 Q762.845 32.5936 759.483 36.4419 Q756.12 40.2903 756.12 46.9338 L756.12 72.576 L748.626 72.576 L748.626 45.4349 Q748.626 38.8725 746.317 35.7533 Q744.008 32.5936 739.188 32.5936 Q733.476 32.5936 730.114 36.4824 Q726.751 40.3308 726.751 46.9338 L726.751 72.576 L719.257 72.576 L719.257 27.2059 L726.751 27.2059 L726.751 34.2544 Q729.303 30.082 732.868 28.0971 Q736.433 26.1121 741.335 26.1121 Q746.277 26.1121 749.72 28.6237 Q753.204 31.1352 754.865 35.9153 Z\" fill=\"#000000\" fill-rule=\"nonzero\" fill-opacity=\"1\" /><path clip-path=\"url(#clip570)\" d=\"M807.567 65.7705 L807.567 89.8329 L800.073 89.8329 L800.073 27.2059 L807.567 27.2059 L807.567 34.0924 Q809.916 30.0415 813.481 28.0971 Q817.087 26.1121 822.069 26.1121 Q830.333 26.1121 835.478 32.6746 Q840.663 39.2371 840.663 49.9314 Q840.663 60.6258 835.478 67.1883 Q830.333 73.7508 822.069 73.7508 Q817.087 73.7508 813.481 71.8063 Q809.916 69.8214 807.567 65.7705 M832.926 49.9314 Q832.926 41.7081 829.523 37.0496 Q826.161 32.3505 820.246 32.3505 Q814.332 32.3505 810.929 37.0496 Q807.567 41.7081 807.567 49.9314 Q807.567 58.1548 810.929 62.8538 Q814.332 67.5124 820.246 67.5124 Q826.161 67.5124 829.523 62.8538 Q832.926 58.1548 832.926 49.9314 Z\" fill=\"#000000\" fill-rule=\"nonzero\" fill-opacity=\"1\" /><path clip-path=\"url(#clip570)\" d=\"M853.018 9.54393 L860.472 9.54393 L860.472 72.576 L853.018 72.576 L853.018 9.54393 Z\" fill=\"#000000\" fill-rule=\"nonzero\" fill-opacity=\"1\" /><path clip-path=\"url(#clip570)\" d=\"M914.875 48.0275 L914.875 51.6733 L880.605 51.6733 Q881.091 59.3701 885.223 63.421 Q889.395 67.4314 896.808 67.4314 Q901.102 67.4314 905.113 66.3781 Q909.164 65.3249 913.133 63.2184 L913.133 70.267 Q909.123 71.9684 904.91 72.8596 Q900.697 73.7508 896.363 73.7508 Q885.506 73.7508 879.146 67.4314 Q872.827 61.1119 872.827 50.3365 Q872.827 39.1965 878.822 32.6746 Q884.858 26.1121 895.066 26.1121 Q904.221 26.1121 909.528 32.0264 Q914.875 37.9003 914.875 48.0275 M907.422 45.84 Q907.341 39.7232 903.978 36.0774 Q900.657 32.4315 895.147 32.4315 Q888.909 32.4315 885.142 35.9558 Q881.415 39.4801 880.848 45.8805 L907.422 45.84 Z\" fill=\"#000000\" fill-rule=\"nonzero\" fill-opacity=\"1\" /><path clip-path=\"url(#clip570)\" d=\"M929.013 62.2867 L937.56 62.2867 L937.56 72.576 L929.013 72.576 L929.013 62.2867 M929.013 29.6769 L937.56 29.6769 L937.56 39.9662 L929.013 39.9662 L929.013 29.6769 Z\" fill=\"#000000\" fill-rule=\"nonzero\" fill-opacity=\"1\" /><path clip-path=\"url(#clip570)\" d=\"M982.728 71.3202 L982.728 63.8666 Q985.807 65.3249 988.966 66.0946 Q992.126 66.8642 995.164 66.8642 Q1003.27 66.8642 1007.52 61.436 Q1011.81 55.9673 1012.42 44.8678 Q1010.07 48.3516 1006.47 50.215 Q1002.86 52.0784 998.486 52.0784 Q989.412 52.0784 984.105 46.6097 Q978.839 41.1005 978.839 31.5808 Q978.839 22.2638 984.348 16.633 Q989.858 11.0023 999.013 11.0023 Q1009.5 11.0023 1015.01 19.0636 Q1020.56 27.0843 1020.56 42.3968 Q1020.56 56.6965 1013.76 65.2439 Q1006.99 73.7508 995.529 73.7508 Q992.45 73.7508 989.29 73.1431 Q986.131 72.5355 982.728 71.3202 M999.013 45.678 Q1004.52 45.678 1007.72 41.9107 Q1010.96 38.1433 1010.96 31.5808 Q1010.96 25.0589 1007.72 21.2916 Q1004.52 17.4837 999.013 17.4837 Q993.503 17.4837 990.263 21.2916 Q987.062 25.0589 987.062 31.5808 Q987.062 38.1433 990.263 41.9107 Q993.503 45.678 999.013 45.678 Z\" fill=\"#000000\" fill-rule=\"nonzero\" fill-opacity=\"1\" /><path clip-path=\"url(#clip570)\" d=\"M1056.82 46.5287 L1078.65 46.5287 L1078.65 53.1722 L1056.82 53.1722 L1056.82 46.5287 Z\" fill=\"#000000\" fill-rule=\"nonzero\" fill-opacity=\"1\" /><path clip-path=\"url(#clip570)\" d=\"M1091.49 31.7429 L1091.49 24.3702 L1143.43 43.2069 L1143.43 49.9314 L1091.49 68.7682 L1091.49 61.3955 L1133.22 46.6097 L1091.49 31.7429 Z\" fill=\"#000000\" fill-rule=\"nonzero\" fill-opacity=\"1\" /><path clip-path=\"url(#clip570)\" d=\"M1185.39 12.096 L1224.28 12.096 L1224.28 15.5798 L1202.33 72.576 L1193.78 72.576 L1214.44 18.9825 L1185.39 18.9825 L1185.39 12.096 Z\" fill=\"#000000\" fill-rule=\"nonzero\" fill-opacity=\"1\" /><g clip-path=\"url(#clip572)\">\n",
       "<image width=\"1012\" height=\"1363\" xlink:href=\"data:image/png;base64,\n",
       "iVBORw0KGgoAAAANSUhEUgAAA/QAAAVTCAYAAABj7GMOAAAgAElEQVR4nOzZP49u4wKH4TPHFJop\n",
       "UFJqNEtUwiQSiYROouALiEq1K82uVCIRlCg1CC09CYlCZkWhFPEvphQSRObUjzlndiZ7H89zj+v6\n",
       "BL+s9az3XXfWwdHR0dm/FrNt2+wJg33fZ08YrHZ9VrPa/eLGVjvTq52h1a4PF1vt/KxotTO92j1b\n",
       "7fqsZrX7xY2tdqadoYutdr+42L9nDwAAAAAuT9ADAABAkKAHAACAIEEPAAAAQYIeAAAAggQ9AAAA\n",
       "BAl6AAAACBL0AAAAECToAQAAIEjQAwAAQJCgBwAAgCBBDwAAAEGCHgAAAIIEPQAAAAQJegAAAAgS\n",
       "9AAAABAk6AEAACBI0AMAAECQoAcAAIAgQQ8AAABBgh4AAACCBD0AAAAECXoAAAAIEvQAAAAQJOgB\n",
       "AAAgSNADAABAkKAHAACAIEEPAAAAQYIeAAAAggQ9AAAABAl6AAAACBL0AAAAECToAQAAIEjQAwAA\n",
       "QJCgBwAAgCBBDwAAAEGCHgAAAIIEPQAAAAQJegAAAAgS9AAAABAk6AEAACBI0AMAAECQoAcAAIAg\n",
       "QQ8AAABBgh4AAACCBD0AAAAECXoAAAAIEvQAAAAQdHB0dHQ2e8Rfbds2e8LS9n2fPWHgfl1stfu1\n",
       "ImfoYqudIfeLm+VMc5Wsdp7p8RvEzfCFHgAAAIIEPQAAAAQJegAAAAgS9AAAABAk6AEAACBI0AMA\n",
       "AECQoAcAAIAgQQ8AAABBgh4AAACCBD0AAAAECXoAAAAIEvQAAAAQJOgBAAAgSNADAABAkKAHAACA\n",
       "IEEPAAAAQYIeAAAAggQ9AAAABAl6AAAACBL0AAAAECToAQAAIEjQAwAAQJCgBwAAgCBBDwAAAEGC\n",
       "HgAAAIIEPQAAAAQJegAAAAgS9AAAABAk6AEAACBI0AMAAECQoAcAAIAgQQ8AAABBgh4AAACCBD0A\n",
       "AAAECXoAAAAIEvQAAAAQJOgBAAAgSNADAABAkKAHAACAIEEPAAAAQYIeAAAAggQ9AAAABAl6AAAA\n",
       "CBL0AAAAECToAQAAIEjQAwAAQJCgBwAAgCBBDwAAAEEHR0dHZ7NH/NW2bbMnELbv++wJxPkNalnt\n",
       "mV/t/Kx2fQBYm/+xFl/oAQAAIEjQAwAAQJCgBwAAgCBBDwAAAEGCHgAAAIIEPQAAAAQJegAAAAgS\n",
       "9AAAABAk6AEAACBI0AMAAECQoAcAAIAgQQ8AAABBgh4AAACCBD0AAAAECXoAAAAIEvQAAAAQJOgB\n",
       "AAAgSNADAABAkKAHAACAIEEPAAAAQYIeAAAAggQ9AAAABAl6AAAACBL0AAAAECToAQAAIEjQAwAA\n",
       "QJCgBwAAgCBBDwAAAEGCHgAAAIIEPQAAAAQJegAAAAgS9AAAABAk6AEAACBI0AMAAECQoAcAAIAg\n",
       "QQ8AAABBgh4AAACCBD0AAAAECXoAAAAIEvQAAAAQJOgBAAAgSNADAABAkKAHAACAIEEPAAAAQYIe\n",
       "AAAAggQ9AAAABAl6AAAACBL0AAAAEHRwfHx8NnsEl7Pv++wJAHBlbNs2ewLcMt4Tb2y1Z361e7ba\n",
       "9VnNavfLF3oAAAAIEvQAAAAQJOgBAAAgSNADAABAkKAHAACAIEEPAAAAQYIeAAAAggQ9AAAABAl6\n",
       "AAAACBL0AAAAECToAQAAIEjQAwAAQJCgBwAAgCBBDwAAAEGCHgAAAIIEPQAAAAQJegAAAAgS9AAA\n",
       "ABAk6AEAACBI0AMAAECQoAcAAIAgQQ8AAABBgh4AAACCBD0AAAAECXoAAAAIEvQAAAAQJOgBAAAg\n",
       "SNADAABAkKAHAACAIEEPAAAAQYIeAAAAggQ9AAAABAl6AAAACBL0AAAAECToAQAAIEjQAwAAQJCg\n",
       "BwAAgCBBDwAAAEGCHgAAAIIEPQAAAAQJegAAAAgS9AAAABAk6AEAACBI0AMAAECQoAcAAIAgQQ8A\n",
       "AABBgh4AAACCDo6Pj89mj/irfd9nTxhs2zZ7wmC167Oa1e7XalY8P6vdsxWvEf+b8wP/X6s9Y3Cz\n",
       "/E5zlfhCDwAAAEGCHgAAAIIEPQAAAAQJegAAAAgS9AAAABAk6AEAACBI0AMAAECQoAcAAIAgQQ8A\n",
       "AABBgh4AAACCBD0AAAAECXoAAAAIEvQAAAAQJOgBAAAgSNADAABAkKAHAACAIEEPAAAAQYIeAAAA\n",
       "ggQ9AAAABAl6AAAACBL0AAAAECToAQAAIEjQAwAAQJCgBwAAgCBBDwAAAEGCHgAAAIIEPQAAAAQJ\n",
       "egAAAAgS9AAAABAk6AEAACBI0AMAAECQoAcAAIAgQQ8AAABBgh4AAACCBD0AAAAECXoAAAAIEvQA\n",
       "AAAQJOgBAAAgSNADAABAkKAHAACAIEEPAAAAQYIeAAAAggQ9AAAABAl6AAAACBL0AAAAECToAQAA\n",
       "IEjQAwAAQJCgBwAAgKCDo6Ojs9kj4Fbatm32hMG+77MnDFa7PtzYameIi3nGuFmrPfPO9MXcL27W\n",
       "ameIFl/oAQAAIEjQAwAAQJCgBwAAgCBBDwAAAEGCHgAAAIIEPQAAAAQJegAAAAgS9AAAABAk6AEA\n",
       "ACBI0AMAAECQoAcAAIAgQQ8AAABBgh4AAACCBD0AAAAECXoAAAAIEvQAAAAQJOgBAAAgSNADAABA\n",
       "kKAHAACAIEEPAAAAQYIeAAAAggQ9AAAABAl6AAAACBL0AAAAECToAQAAIEjQAwAAQJCgBwAAgCBB\n",
       "DwAAAEGCHgAAAIIEPQAAAAQJegAAAAgS9AAAABAk6AEAACBI0AMAAECQoAcAAIAgQQ8AAABBgh4A\n",
       "AACCBD0AAAAECXoAAAAIEvQAAAAQJOgBAAAgSNADAABAkKAHAACAIEEPAAAAQYIeAAAAggQ9AAAA\n",
       "BAl6AAAACBL0AAAAEHRwfHx8NnsEAFwV+77PngC31LZtsyfALeV3mqvEF3oAAAAIEvQAAAAQJOgB\n",
       "AAAgSNADAABAkKAHAACAIEEPAAAAQYIeAAAAggQ9AAAABAl6AAAACBL0AAAAECToAQAAIEjQAwAA\n",
       "QJCgBwAAgCBBDwAAAEGCHgAAAIIEPQAAAAQJegAAAAgS9AAAABAk6AEAACBI0AMAAECQoAcAAIAg\n",
       "QQ8AAABBgh4AAACCBD0AAAAECXoAAAAIEvQAAAAQJOgBAAAgSNADAABAkKAHAACAIEEPAAAAQYIe\n",
       "AAAAggQ9AAAABAl6AAAACBL0AAAAECToAQAAIEjQAwAAQJCgBwAAgCBBDwAAAEGCHgAAAIIEPQAA\n",
       "AAQJegAAAAgS9AAAABAk6AEAACBI0AMAAECQoAcAAIAgQQ8AAABBgh4AAACCDmcPAKDlwQcfnD1h\n",
       "8Nxzz82eMDg9PZ09YXBwcDB7wjlvvfXW7AmDr7/+evaEwR9//DF7AmH7vs+esLxt22ZPWJoz1OIL\n",
       "PQAAAAQJegAAAAgS9AAAABAk6AEAACBI0AMAAECQoAcAAIAgQQ8AAABBgh4AAACCBD0AAAAECXoA\n",
       "AAAIEvQAAAAQJOgBAAAgSNADAABAkKAHAACAIEEPAAAAQYIeAAAAggQ9AAAABAl6AAAACBL0AAAA\n",
       "ECToAQAAIEjQAwAAQJCgBwAAgCBBDwAAAEGCHgAAAIIEPQAAAAQJegAAAAgS9AAAABAk6AEAACBI\n",
       "0AMAAECQoAcAAIAgQQ8AAABBgh4AAACCBD0AAAAECXoAAAAIEvQAAAAQJOgBAAAgSNADAABAkKAH\n",
       "AACAIEEPAAAAQYIeAAAAggQ9AAAABAl6AAAACBL0AAAAECToAQAAIEjQAwAAQJCgBwAAgCBBDwAA\n",
       "AEGCHgAAAIIOZw8A4GIPP/zw7AmD69evz54wODk5mT1haWdnZ7MnnPP666/PnjD49ttvZ08YPP/8\n",
       "87MnDD7//PPZEwbbts2eALAMX+gBAAAgSNADAABAkKAHAACAIEEPAAAAQYIeAAAAggQ9AAAABAl6\n",
       "AAAACBL0AAAAECToAQAAIEjQAwAAQJCgBwAAgCBBDwAAAEGCHgAAAIIEPQAAAAQJegAAAAgS9AAA\n",
       "ABAk6AEAACBI0AMAAECQoAcAAIAgQQ8AAABBgh4AAACCBD0AAAAECXoAAAAIEvQAAAAQJOgBAAAg\n",
       "SNADAABAkKAHAACAIEEPAAAAQYIeAAAAggQ9AAAABAl6AAAACBL0AAAAECToAQAAIEjQAwAAQJCg\n",
       "BwAAgCBBDwAAAEGCHgAAAIIEPQAAAAQJegAAAAgS9AAAABAk6AEAACBI0AMAAECQoAcAAIAgQQ8A\n",
       "AABBgh4AAACCBD0AAAAECXoAAAAIEvQAAAAQdDh7QMG+77MnLG3bttkT4Ja6/fbbZ08YXL9+ffaE\n",
       "wcnJyewJg/vvv3/2hMFqex599NHZE8559dVXZ08Y3HPPPbMnDB555JHZEwa//fbb7AlcgvcybtZq\n",
       "Z2i1Flvt+vhCDwAAAEGCHgAAAIIEPQAAAAQJegAAAAgS9AAAABAk6AEAACBI0AMAAECQoAcAAIAg\n",
       "QQ8AAABBgh4AAACCBD0AAAAECXoAAAAIEvQAAAAQJOgBAAAgSNADAABAkKAHAACAIEEPAAAAQYIe\n",
       "AAAAggQ9AAAABAl6AAAACBL0AAAAECToAQAAIEjQAwAAQJCgBwAAgCBBDwAAAEGCHgAAAIIEPQAA\n",
       "AAQJegAAAAgS9AAAABAk6AEAACBI0AMAAECQoAcAAIAgQQ8AAABBgh4AAACCBD0AAAAECXoAAAAI\n",
       "EvQAAAAQJOgBAAAgSNADAABAkKAHAACAIEEPAAAAQYIeAAAAggQ9AAAABAl6AAAACBL0AAAAECTo\n",
       "AQAAIEjQAwAAQNDh7AEF27bNnjDY9332BMKcnxt76aWXZk9Y2h133DF7wuDuu++ePWFp77333uwJ\n",
       "5/zwww+zJwzeeeed2RMG165dmz1hcNttt82eMPjoo49mTyDOuxBXiS/0AAAAECToAQAAIEjQAwAA\n",
       "QJCgBwAAgCBBDwAAAEGCHgAAAIIEPQAAAAQJegAAAAgS9AAAABAk6AEAACBI0AMAAECQoAcAAIAg\n",
       "QQ8AAABBgh4AAACCBD0AAAAECXoAAAAIEvQAAAAQJOgBAAAgSNADAABAkKAHAACAIEEPAAAAQYIe\n",
       "AAAAggQ9AAAABAl6AAAACBL0AAAAECToAQAAIEjQAwAAQJCgBwAAgCBBDwAAAEGCHgAAAIIEPQAA\n",
       "AAQJegAAAAgS9AAAABAk6AEAACBI0AMAAECQoAcAAIAgQQ8AAABBgh4AAACCBD0AAAAECXoAAAAI\n",
       "EvQAAAAQJOgBAAAgSNADAABAkKAHAACAIEEPAAAAQYIeAAAAggQ9AAAABAl6AAAACDo4Pj4+mz0C\n",
       "+Pvs+z57wjnbts2eMPjwww9nT1jas88+O3vCwP3qWe2Zv++++2ZPGLzyyiuzJwx+//332RMGTz75\n",
       "5OwJcEut+G7G/7baf5gv9AAAABAk6AEAACBI0AMAAECQoAcAAIAgQQ8AAABBgh4AAACCBD0AAAAE\n",
       "CXoAAAAIEvQAAAAQJOgBAAAgSNADAABAkKAHAACAIEEPAAAAQYIeAAAAggQ9AAAABAl6AAAACBL0\n",
       "AAAAECToAQAAIEjQAwAAQJCgBwAAgCBBDwAAAEGCHgAAAIIEPQAAAAQJegAAAAgS9AAAABAk6AEA\n",
       "ACBI0AMAAECQoAcAAIAgQQ8AAABBgh4AAACCBD0AAAAECXoAAAAIEvQAAAAQJOgBAAAgSNADAABA\n",
       "kKAHAACAIEEPAAAAQYIeAAAAggQ9AAAABAl6AAAACBL0AAAAECToAQAAIEjQAwAAQJCgBwAAgCBB\n",
       "DwAAAEGCHgAAAIIEPQAAAAQJegAAAAg6nD2Avn3fZ08YbNs2e8LA9eGq+e6772ZPGKx2pld75le0\n",
       "2jV67bXXZk8YnJyczJ4w+Oqrr2ZPGKx2frgxv9MXW+360OILPQAAAAQJegAAAAgS9AAAABAk6AEA\n",
       "ACBI0AMAAECQoAcAAIAgQQ8AAABBgh4AAACCBD0AAAAECXoAAAAIEvQAAAAQJOgBAAAgSNADAABA\n",
       "kKAHAACAIEEPAAAAQYIeAAAAggQ9AAAABAl6AAAACBL0AAAAECToAQAAIEjQAwAAQJCgBwAAgCBB\n",
       "DwAAAEGCHgAAAIIEPQAAAAQJegAAAAgS9AAAABAk6AEAACBI0AMAAECQoAcAAIAgQQ8AAABBgh4A\n",
       "AACCBD0AAAAECXoAAAAIEvQAAAAQJOgBAAAgSNADAABAkKAHAACAIEEPAAAAQYIeAAAAggQ9AAAA\n",
       "BAl6AAAACBL0AAAAECToAQAAIEjQAwAAQJCgBwAAgCBBDwAAAEGH+77P3nDOtm2zJ3AJ7tfFXJ+e\n",
       "d999d/aEwb333jt7wmDF/w1aHnjggdkTBj///PPsCYPDw8PZEwYPPfTQ7AlL8z/f455xM1Z7D/KF\n",
       "HgAAAIIEPQAAAAQJegAAAAgS9AAAABAk6AEAACBI0AMAAECQoAcAAIAgQQ8AAABBgh4AAACCBD0A\n",
       "AAAECXoAAAAIEvQAAAAQJOgBAAAgSNADAABAkKAHAACAIEEPAAAAQYIeAAAAggQ9AAAABAl6AAAA\n",
       "CBL0AAAAECToAQAAIEjQAwAAQJCgBwAAgCBBDwAAAEGCHgAAAIIEPQAAAAQJegAAAAgS9AAAABAk\n",
       "6AEAACBI0AMAAECQoAcAAIAgQQ8AAABBgh4AAACCBD0AAAAECXoAAAAIEvQAAAAQJOgBAAAgSNAD\n",
       "AABAkKAHAACAIEEPAAAAQYIeAAAAggQ9AAAABAl6AAAACBL0AAAAECToAQAAIEjQAwAAQJCgBwAA\n",
       "gCBBDwAAAEGH27bN3gD8jfZ9nz3hnNV+h55++unZE5b22GOPzZ4wOD09nT1h8NNPP82eMHj55Zdn\n",
       "TzjnzjvvnD2BS/jyyy9nTxis9p8BV81q74qe+Yv5Qg8AAABBgh4AAACCBD0AAAAECXoAAAAIEvQA\n",
       "AAAQJOgBAAAgSNADAABAkKAHAACAIEEPAAAAQYIeAAAAggQ9AAAABAl6AAAACBL0AAAAECToAQAA\n",
       "IEjQAwAAQJCgBwAAgCBBDwAAAEGCHgAAAIIEPQAAAAQJegAAAAgS9AAAABAk6AEAACBI0AMAAECQ\n",
       "oAcAAIAgQQ8AAABBgh4AAACCBD0AAAAECXoAAAAIEvQAAAAQJOgBAAAgSNADAABAkKAHAACAIEEP\n",
       "AAAAQYIeAAAAggQ9AAAABAl6AAAACBL0AAAAECToAQAAIEjQAwAAQJCgBwAAgCBBDwAAAEGCHgAA\n",
       "AIIEPQAAAAQJegAAAAgS9AAAABAk6AEAACBI0AMAAECQoAcAAICgw9kD/pt932dPGGzbNnvC0tyv\n",
       "lhWvz2pn6IMPPpg9YfDUU0/NnjC4du3a7AnEffrpp7MnDD755JPZEwZvv/327AmDzz77bPYE4B9s\n",
       "tffE1d6lfaEHAACAIEEPAAAAQYIeAAAAggQ9AAAABAl6AAAACBL0AAAAECToAQAAIEjQAwAAQJCg\n",
       "BwAAgCBBDwAAAEGCHgAAAIIEPQAAAAQJegAAAAgS9AAAABAk6AEAACBI0AMAAECQoAcAAIAgQQ8A\n",
       "AABBgh4AAACCBD0AAAAECXoAAAAIEvQAAAAQJOgBAAAgSNADAABAkKAHAACAIEEPAAAAQYIeAAAA\n",
       "ggQ9AAAABAl6AAAACBL0AAAAECToAQAAIEjQAwAAQJCgBwAAgCBBDwAAAEGCHgAAAIIEPQAAAAQJ\n",
       "egAAAAgS9AAAABAk6AEAACBI0AMAAECQoAcAAIAgQQ8AAABBgh4AAACCBD0AAAAECXoAAAAIEvQA\n",
       "AAAQJOgBAAAg6HD2gP9m27bZEwb7vs+eMFjt+sDNWu1Mv/nmm7MnDF544YXZEwZPPPHE7AmDu+66\n",
       "a/aEpf3444+zJ5zzzTffzJ4wePHFF2dPWNoXX3wxewLAMlZrQ1/oAQAAIEjQAwAAQJCgBwAAgCBB\n",
       "DwAAAEGCHgAAAIIEPQAAAAQJegAAAAgS9AAAABAk6AEAACBI0AMAAECQoAcAAIAgQQ8AAABBgh4A\n",
       "AACCBD0AAAAECXoAAAAIEvQAAAAQJOgBAAAgSNADAABAkKAHAACAIEEPAAAAQYIeAAAAggQ9AAAA\n",
       "BAl6AAAACBL0AAAAECToAQAAIEjQAwAAQJCgBwAAgCBBDwAAAEGCHgAAAIIEPQAAAAQJegAAAAgS\n",
       "9AAAABAk6AEAACBI0AMAAECQoAcAAIAgQQ8AAABBgh4AAACCBD0AAAAECXoAAAAIEvQAAAAQJOgB\n",
       "AAAgSNADAABAkKAHAACAIEEPAAAAQYIeAAAAggQ9AAAABAl6AAAACBL0AAAAEHS47/vsDcvbtm32\n",
       "hMFq92y16wNXzS+//DJ7wuD999+fPYG41f43Dg4OZk9Y2q+//jp7AvA3Wu03erX2WY0v9AAAABAk\n",
       "6AEAACBI0AMAAECQoAcAAIAgQQ8AAABBgh4AAACCBD0AAAAECXoAAAAIEvQAAAAQJOgBAAAgSNAD\n",
       "AABAkKAHAACAIEEPAAAAQYIeAAAAggQ9AAAABAl6AAAACBL0AAAAECToAQAAIEjQAwAAQJCgBwAA\n",
       "gCBBDwAAAEGCHgAAAIIEPQAAAAQJegAAAAgS9AAAABAk6AEAACBI0AMAAECQoAcAAIAgQQ8AAABB\n",
       "gh4AAACCBD0AAAAECXoAAAAIEvQAAAAQJOgBAAAgSNADAABAkKAHAACAIEEPAAAAQYIeAAAAggQ9\n",
       "AAAABAl6AAAACBL0AAAAECToAQAAIEjQAwAAQJCgBwAAgCBBDwAAAEGCHgAAAIIEPQAAAAQJegAA\n",
       "AAg63LZt9gbi9n2fPYFLWPGZd4bgn2W1Z/7s7Gz2hMGff/45e8Lg9PR09gS4pVb7DVrx3YwOX+gB\n",
       "AAAgSNADAABAkKAHAACAIEEPAAAAQYIeAAAAggQ9AAAABAl6AAAACBL0AAAAECToAQAAIEjQAwAA\n",
       "QJCgBwAAgCBBDwAAAEGCHgAAAIIEPQAAAAQJegAAAAgS9AAAABAk6AEAACBI0AMAAECQoAcAAIAg\n",
       "QQ8AAABBgh4AAACCBD0AAAAECXoAAAAIEvQAAAAQJOgBAAAgSNADAABAkKAHAACAIEEPAAAAQYIe\n",
       "AAAAggQ9AAAABAl6AAAACBL0AAAAECToAQAAIEjQAwAAQJCgBwAAgCBBDwAAAEGCHgAAAIIEPQAA\n",
       "AAQJegAAAAgS9AAAABAk6AEAACBI0AMAAECQoAcAAIAgQQ8AAABBgh4AAACCBD0AAAAECXoAAAAI\n",
       "Ojg+Pj6bPYLL2fd99gQuYdu22ROI88zD/9czzzwze8Lg+++/nz1h8PHHH8+esLTV/uf9Z8A/iy/0\n",
       "AAAAECToAQAAIEjQAwAAQJCgBwAAgCBBDwAAAEGCHgAAAIIEPQAAAAQJegAAAAgS9AAAABAk6AEA\n",
       "ACBI0AMAAECQoAcAAIAgQQ8AAABBgh4AAACCBD0AAAAECXoAAAAIEvQAAAAQJOgBAAAgSNADAABA\n",
       "kKAHAACAIEEPAAAAQYIeAAAAggQ9AAAABAl6AAAACBL0AAAAECToAQAAIEjQAwAAQJCgBwAAgCBB\n",
       "DwAAAEGCHgAAAIIEPQAAAAQJegAAAAgS9AAAABAk6AEAACBI0AMAAECQoAcAAIAgQQ8AAABBgh4A\n",
       "AACCBD0AAAAECXoAAAAIEvQAAAAQJOgBAAAgSNADAABAkKAHAACAIEEPAAAAQYIeAAAAggQ9AAAA\n",
       "BAl6AAAACDqcPQBgNfu+z57AJWzbNnvC0pznG3v88cdnTxi88cYbsydwCZ4xYCZf6AEAACBI0AMA\n",
       "AECQoAcAAIAgQQ8AAABBgh4AAACCBD0AAAAECXoAAAAIEvQA/Kc9O0iJJAnAMNoNtZME8SBxAfFI\n",
       "ntC14DpWbt15i57lkNMz1UiPHfHJeyf4yczIqo8EACBI0AMAAECQoAcAAIAgQQ8AAABBgh4AAACC\n",
       "BD0AAAAECXoAAAAIEvQAAAAQJOgBAAAgSNADAABAkKAHAACAIEEPAAAAQYIeAAAAggQ9AAAABAl6\n",
       "AAAACBL0AAAAECToAQAAIEjQAwAAQJCgBwAAgCBBDwAAAEGCHgAAAIIEPQAAAAQJegAAAAgS9AAA\n",
       "ABAk6AEAACBI0AMAAECQoAcAAIAgQQ8AAABBgh4AAACCBD0AAAAECXoAAAAIEvQAAAAQJOgBAAAg\n",
       "SNADAABAkKAHAACAIEEPAAAAQYIeAAAAggQ9AAAABAl6AAAACBL0AAAAECToAQAAIOgy51y9Ab40\n",
       "Z4zfNcZYPQG+tJubm9UTAPgP/gdd5ws9AAAABAl6AAAACBL0AAAAECToAQAAIEjQAwAAQJCgBwAA\n",
       "gCBBDwAAAEGCHgAAAIIEPQAAAAQJegAAAAgS9AAAABAk6AEAACBI0AMAAECQoAcAAIAgQQ8AAABB\n",
       "gh4AAACCBD0AAAAECXoAAAAIEvQAAAAQJOgBAAAgSNADAABAkKAHAACAIEEPAAAAQYIeAAAAggQ9\n",
       "AAAABAl6AAAACBL0AAAAECToAQAAIEjQAwAAQJCgBwAAgCBBDwAAAEGCHgAAAIIEPQAAAAQJegAA\n",
       "AAgS9AAAABAk6AEAACBI0AMAAECQoAcAAIAgQQ8AAABBgh4AAACCBD0AAAAECXoAAAAIEvQAAAAQ\n",
       "JOgBAAAgSNADAABAkKAHAACAIEEPAAAAQZfVA+D/NsZYPQH4g+acqyfwQXd3d6snnBzHsXrCycvL\n",
       "y+oJW9vtd9476NfcM/g8vtADAABAkKAHAACAIEEPAAAAQYIeAAAAggQ9AAAABAl6AAAACBL0AAAA\n",
       "ECToAQAAIEjQAwAAQJCgBwAAgCBBDwAAAEGCHgAAAIIEPQAAAAQJegAAAAgS9AAAABAk6AEAACBI\n",
       "0AMAAECQoAcAAIAgQQ8AAABBgh4AAACCBD0AAAAECXoAAAAIEvQAAAAQJOgBAAAgSNADAABAkKAH\n",
       "AACAIEEPAAAAQYIeAAAAggQ9AAAABAl6AAAACBL0AAAAECToAQAAIEjQAwAAQJCgBwAAgCBBDwAA\n",
       "AEGCHgAAAIIEPQAAAAQJegAAAAgS9AAAAI6rfAEAAAb3SURBVBAk6AEAACBI0AMAAECQoAcAAIAg\n",
       "QQ8AAABBgh4AAACCBD0AAAAECXoAAAAIEvQAAAAQJOgBAAAg6LJ6wL8ZY6yecDLnXD0BvrTdzthu\n",
       "7yCu2+1+7fY87+jh4WH1BMKcset2eyd+++ae1ez4DO1kt+fZF3oAAAAIEvQAAAAQJOgBAAAgSNAD\n",
       "AABAkKAHAACAIEEPAAAAQYIeAAAAggQ9AAAABAl6AAAACBL0AAAAECToAQAAIEjQAwAAQJCgBwAA\n",
       "gCBBDwAAAEGCHgAAAIIEPQAAAAQJegAAAAgS9AAAABAk6AEAACBI0AMAAECQoAcAAIAgQQ8AAABB\n",
       "gh4AAACCBD0AAAAECXoAAAAIEvQAAAAQJOgBAAAgSNADAABAkKAHAACAIEEPAAAAQYIeAAAAggQ9\n",
       "AAAABAl6AAAACBL0AAAAECToAQAAIEjQAwAAQJCgBwAAgCBBDwAAAEGCHgAAAIIEPQAAAAQJegAA\n",
       "AAgS9AAAABAk6AEAACBI0AMAAECQoAcAAIAgQQ8AAABBgh4AAACCBD0AAAAEXcYYqzf8ZM65esLJ\n",
       "btdot+tDi+fn11wjfsduvxk7ur29XT3h5P39ffWEk/v7+9UTTp6fn1dPOHHGrvMbBp9rt3eQL/QA\n",
       "AAAQJOgBAAAgSNADAABAkKAHAACAIEEPAAAAQYIeAAAAggQ9AAAABAl6AAAACBL0AAAAECToAQAA\n",
       "IEjQAwAAQJCgBwAAgCBBDwAAAEGCHgAAAIIEPQAAAAQJegAAAAgS9AAAABAk6AEAACBI0AMAAECQ\n",
       "oAcAAIAgQQ8AAABBgh4AAACCBD0AAAAECXoAAAAIEvQAAAAQJOgBAAAgSNADAABAkKAHAACAIEEP\n",
       "AAAAQYIeAAAAggQ9AAAABAl6AAAACBL0AAAAECToAQAAIEjQAwAAQJCgBwAAgCBBDwAAAEGCHgAA\n",
       "AIIEPQAAAAQJegAAAAgS9AAAABAk6AEAACBI0AMAAECQoAcAAIAgQQ8AAABBgh4AAACCBD0AAAAE\n",
       "fT+O48fqEf80xlg94WTOuXrCyW7XZze73S8Azp6enlZPOHl9fV094eTx8XH1BOAP2u2/vf/SLb7Q\n",
       "AwAAQJCgBwAAgCBBDwAAAEGCHgAAAIIEPQAAAAQJegAAAAgS9AAAABAk6AEAACBI0AMAAECQoAcA\n",
       "AIAgQQ8AAABBgh4AAACCBD0AAAAECXoAAAAIEvQAAAAQJOgBAAAgSNADAABAkKAHAACAIEEPAAAA\n",
       "QYIeAAAAggQ9AAAABAl6AAAACBL0AAAAECToAQAAIEjQAwAAQJCgBwAAgCBBDwAAAEGCHgAAAIIE\n",
       "PQAAAAQJegAAAAgS9AAAABAk6AEAACBI0AMAAECQoAcAAIAgQQ8AAABBgh4AAACCBD0AAAAECXoA\n",
       "AAAIEvQAAAAQJOgBAAAgSNADAABAkKAHAACAIEEPAAAAQYIeAAAAggQ9AAAABAl6AAAACBL0AAAA\n",
       "ECToAQAAIOgyxli94SdzztUTTna7RrtdHwD+5jej5+3tbfUEPsAZ63HPrtttj/vV4gs9AAAABAl6\n",
       "AAAACBL0AAAAECToAQAAIEjQAwAAQJCgBwAAgCBBDwAAAEGCHgAAAIIEPQAAAAQJegAAAAgS9AAA\n",
       "ABAk6AEAACBI0AMAAECQoAcAAIAgQQ8AAABBgh4AAACCBD0AAAAECXoAAAAIEvQAAAAQJOgBAAAg\n",
       "SNADAABAkKAHAACAIEEPAAAAQYIeAAAAggQ9AAAABAl6AAAACBL0AAAAECToAQAAIEjQAwAAQJCg\n",
       "BwAAgCBBDwAAAEGCHgAAAIIEPQAAAAQJegAAAAgS9AAAABAk6AEAACBI0AMAAECQoAcAAIAgQQ8A\n",
       "AABBgh4AAACCBD0AAAAECXoAAAAIEvQAAAAQJOgBAAAgSNADAABAkKAHAACAIEEPAAAAQYIeAAAA\n",
       "gr4fx/Fj9QjaxhirJ2xtzrl6Ah/kmb7OMw2fa7d3kDN/3W73ix5nrGW3M+8LPQAAAAQJegAAAAgS\n",
       "9AAAABAk6AEAACBI0AMAAECQoAcAAIAgQQ8AAABBgh4AAACCBD0AAAAECXoAAAAIEvQAAAAQJOgB\n",
       "AAAgSNADAABAkKAHAACAIEEPAAAAQYIeAAAAggQ9AAAABAl6AAAACBL0AAAAECToAQAAIEjQAwAA\n",
       "QJCgBwAAgCBBDwAAAEGCHgAAAIIEPQAAAAQJegAAAAgS9AAAABAk6AEAACBI0AMAAECQoAcAAIAg\n",
       "QQ8AAABBgh4AAACCBD0AAAAECXoAAAAIEvQAAAAQJOgBAAAgSNADAABAkKAHAACAIEEPAAAAQYIe\n",
       "AAAAggQ9AAAABAl6AAAACBL0AAAAECToAQAAIEjQAwAAQJCgBwAAgCBBDwAAAEF/ATMu7LALIEww\n",
       "AAAAAElFTkSuQmCC\n",
       "\" transform=\"translate(141, 123)\"/>\n",
       "</g>\n",
       "<path clip-path=\"url(#clip570)\" d=\"M1340.7 1486.45 L2352.76 1486.45 L2352.76 123.472 L1340.7 123.472  Z\" fill=\"#ffffff\" fill-rule=\"evenodd\" fill-opacity=\"1\"/>\n",
       "<defs>\n",
       "  <clipPath id=\"clip573\">\n",
       "    <rect x=\"1340\" y=\"123\" width=\"1013\" height=\"1364\"/>\n",
       "  </clipPath>\n",
       "</defs>\n",
       "<polyline clip-path=\"url(#clip573)\" style=\"stroke:#000000; stroke-linecap:round; stroke-linejoin:round; stroke-width:2; stroke-opacity:0.1; fill:none\" points=\"1503.35,1486.45 1503.35,123.472 \"/>\n",
       "<polyline clip-path=\"url(#clip573)\" style=\"stroke:#000000; stroke-linecap:round; stroke-linejoin:round; stroke-width:2; stroke-opacity:0.1; fill:none\" points=\"1684.07,1486.45 1684.07,123.472 \"/>\n",
       "<polyline clip-path=\"url(#clip573)\" style=\"stroke:#000000; stroke-linecap:round; stroke-linejoin:round; stroke-width:2; stroke-opacity:0.1; fill:none\" points=\"1864.8,1486.45 1864.8,123.472 \"/>\n",
       "<polyline clip-path=\"url(#clip573)\" style=\"stroke:#000000; stroke-linecap:round; stroke-linejoin:round; stroke-width:2; stroke-opacity:0.1; fill:none\" points=\"2045.52,1486.45 2045.52,123.472 \"/>\n",
       "<polyline clip-path=\"url(#clip573)\" style=\"stroke:#000000; stroke-linecap:round; stroke-linejoin:round; stroke-width:2; stroke-opacity:0.1; fill:none\" points=\"2226.25,1486.45 2226.25,123.472 \"/>\n",
       "<polyline clip-path=\"url(#clip573)\" style=\"stroke:#000000; stroke-linecap:round; stroke-linejoin:round; stroke-width:2; stroke-opacity:0.1; fill:none\" points=\"1340.7,1267.4 2352.76,1267.4 \"/>\n",
       "<polyline clip-path=\"url(#clip573)\" style=\"stroke:#000000; stroke-linecap:round; stroke-linejoin:round; stroke-width:2; stroke-opacity:0.1; fill:none\" points=\"1340.7,1024.01 2352.76,1024.01 \"/>\n",
       "<polyline clip-path=\"url(#clip573)\" style=\"stroke:#000000; stroke-linecap:round; stroke-linejoin:round; stroke-width:2; stroke-opacity:0.1; fill:none\" points=\"1340.7,780.621 2352.76,780.621 \"/>\n",
       "<polyline clip-path=\"url(#clip573)\" style=\"stroke:#000000; stroke-linecap:round; stroke-linejoin:round; stroke-width:2; stroke-opacity:0.1; fill:none\" points=\"1340.7,537.233 2352.76,537.233 \"/>\n",
       "<polyline clip-path=\"url(#clip573)\" style=\"stroke:#000000; stroke-linecap:round; stroke-linejoin:round; stroke-width:2; stroke-opacity:0.1; fill:none\" points=\"1340.7,293.844 2352.76,293.844 \"/>\n",
       "<path clip-path=\"url(#clip570)\" d=\"M1435.26 16.7545 L1435.26 25.383 Q1431.12 21.5346 1426.42 19.6307 Q1421.77 17.7268 1416.5 17.7268 Q1406.13 17.7268 1400.62 24.0867 Q1395.11 30.4061 1395.11 42.3968 Q1395.11 54.3469 1400.62 60.7069 Q1406.13 67.0263 1416.5 67.0263 Q1421.77 67.0263 1426.42 65.1223 Q1431.12 63.2184 1435.26 59.3701 L1435.26 67.9175 Q1430.96 70.8341 1426.14 72.2924 Q1421.36 73.7508 1416.01 73.7508 Q1402.28 73.7508 1394.38 65.3654 Q1386.48 56.9395 1386.48 42.3968 Q1386.48 27.8135 1394.38 19.4281 Q1402.28 11.0023 1416.01 11.0023 Q1421.44 11.0023 1426.22 12.4606 Q1431.04 13.8784 1435.26 16.7545 Z\" fill=\"#000000\" fill-rule=\"nonzero\" fill-opacity=\"1\" /><path clip-path=\"url(#clip570)\" d=\"M1447.57 9.54393 L1455.02 9.54393 L1455.02 72.576 L1447.57 72.576 L1447.57 9.54393 Z\" fill=\"#000000\" fill-rule=\"nonzero\" fill-opacity=\"1\" /><path clip-path=\"url(#clip570)\" d=\"M1509.43 48.0275 L1509.43 51.6733 L1475.16 51.6733 Q1475.64 59.3701 1479.77 63.421 Q1483.95 67.4314 1491.36 67.4314 Q1495.65 67.4314 1499.66 66.3781 Q1503.72 65.3249 1507.69 63.2184 L1507.69 70.267 Q1503.67 71.9684 1499.46 72.8596 Q1495.25 73.7508 1490.91 73.7508 Q1480.06 73.7508 1473.7 67.4314 Q1467.38 61.1119 1467.38 50.3365 Q1467.38 39.1965 1473.37 32.6746 Q1479.41 26.1121 1489.62 26.1121 Q1498.77 26.1121 1504.08 32.0264 Q1509.43 37.9003 1509.43 48.0275 M1501.97 45.84 Q1501.89 39.7232 1498.53 36.0774 Q1495.21 32.4315 1489.7 32.4315 Q1483.46 32.4315 1479.69 35.9558 Q1475.97 39.4801 1475.4 45.8805 L1501.97 45.84 Z\" fill=\"#000000\" fill-rule=\"nonzero\" fill-opacity=\"1\" /><path clip-path=\"url(#clip570)\" d=\"M1542.28 49.7694 Q1533.25 49.7694 1529.76 51.8354 Q1526.28 53.9013 1526.28 58.8839 Q1526.28 62.8538 1528.87 65.2034 Q1531.5 67.5124 1536 67.5124 Q1542.2 67.5124 1545.93 63.1374 Q1549.69 58.7219 1549.69 51.4303 L1549.69 49.7694 L1542.28 49.7694 M1557.15 46.6907 L1557.15 72.576 L1549.69 72.576 L1549.69 65.6895 Q1547.14 69.8214 1543.33 71.8063 Q1539.53 73.7508 1534.02 73.7508 Q1527.05 73.7508 1522.92 69.8619 Q1518.83 65.9325 1518.83 59.3701 Q1518.83 51.7138 1523.93 47.825 Q1529.07 43.9361 1539.24 43.9361 L1549.69 43.9361 L1549.69 43.2069 Q1549.69 38.0623 1546.29 35.2672 Q1542.93 32.4315 1536.81 32.4315 Q1532.92 32.4315 1529.24 33.3632 Q1525.55 34.295 1522.15 36.1584 L1522.15 29.2718 Q1526.24 27.692 1530.09 26.9223 Q1533.94 26.1121 1537.58 26.1121 Q1547.42 26.1121 1552.29 31.2163 Q1557.15 36.3204 1557.15 46.6907 Z\" fill=\"#000000\" fill-rule=\"nonzero\" fill-opacity=\"1\" /><path clip-path=\"url(#clip570)\" d=\"M1610.21 45.1919 L1610.21 72.576 L1602.76 72.576 L1602.76 45.4349 Q1602.76 38.994 1600.25 35.7938 Q1597.74 32.5936 1592.71 32.5936 Q1586.68 32.5936 1583.19 36.4419 Q1579.71 40.2903 1579.71 46.9338 L1579.71 72.576 L1572.22 72.576 L1572.22 27.2059 L1579.71 27.2059 L1579.71 34.2544 Q1582.38 30.163 1585.99 28.1376 Q1589.64 26.1121 1594.37 26.1121 Q1602.19 26.1121 1606.2 30.9732 Q1610.21 35.7938 1610.21 45.1919 Z\" fill=\"#000000\" fill-rule=\"nonzero\" fill-opacity=\"1\" /><path clip-path=\"url(#clip570)\" d=\"M1690.26 48.0275 L1690.26 51.6733 L1655.99 51.6733 Q1656.48 59.3701 1660.61 63.421 Q1664.78 67.4314 1672.19 67.4314 Q1676.49 67.4314 1680.5 66.3781 Q1684.55 65.3249 1688.52 63.2184 L1688.52 70.267 Q1684.51 71.9684 1680.29 72.8596 Q1676.08 73.7508 1671.75 73.7508 Q1660.89 73.7508 1654.53 67.4314 Q1648.21 61.1119 1648.21 50.3365 Q1648.21 39.1965 1654.21 32.6746 Q1660.24 26.1121 1670.45 26.1121 Q1679.61 26.1121 1684.91 32.0264 Q1690.26 37.9003 1690.26 48.0275 M1682.81 45.84 Q1682.72 39.7232 1679.36 36.0774 Q1676.04 32.4315 1670.53 32.4315 Q1664.29 32.4315 1660.53 35.9558 Q1656.8 39.4801 1656.23 45.8805 L1682.81 45.84 Z\" fill=\"#000000\" fill-rule=\"nonzero\" fill-opacity=\"1\" /><path clip-path=\"url(#clip570)\" d=\"M1738.75 27.2059 L1722.34 49.2833 L1739.6 72.576 L1730.81 72.576 L1717.6 54.752 L1704.4 72.576 L1695.61 72.576 L1713.23 48.8377 L1697.11 27.2059 L1705.9 27.2059 L1717.93 43.369 L1729.96 27.2059 L1738.75 27.2059 Z\" fill=\"#000000\" fill-rule=\"nonzero\" fill-opacity=\"1\" /><path clip-path=\"url(#clip570)\" d=\"M1770.75 49.7694 Q1761.72 49.7694 1758.23 51.8354 Q1754.75 53.9013 1754.75 58.8839 Q1754.75 62.8538 1757.34 65.2034 Q1759.98 67.5124 1764.47 67.5124 Q1770.67 67.5124 1774.4 63.1374 Q1778.16 58.7219 1778.16 51.4303 L1778.16 49.7694 L1770.75 49.7694 M1785.62 46.6907 L1785.62 72.576 L1778.16 72.576 L1778.16 65.6895 Q1775.61 69.8214 1771.8 71.8063 Q1768 73.7508 1762.49 73.7508 Q1755.52 73.7508 1751.39 69.8619 Q1747.3 65.9325 1747.3 59.3701 Q1747.3 51.7138 1752.4 47.825 Q1757.55 43.9361 1767.71 43.9361 L1778.16 43.9361 L1778.16 43.2069 Q1778.16 38.0623 1774.76 35.2672 Q1771.4 32.4315 1765.28 32.4315 Q1761.39 32.4315 1757.71 33.3632 Q1754.02 34.295 1750.62 36.1584 L1750.62 29.2718 Q1754.71 27.692 1758.56 26.9223 Q1762.41 26.1121 1766.05 26.1121 Q1775.9 26.1121 1780.76 31.2163 Q1785.62 36.3204 1785.62 46.6907 Z\" fill=\"#000000\" fill-rule=\"nonzero\" fill-opacity=\"1\" /><path clip-path=\"url(#clip570)\" d=\"M1836.29 35.9153 Q1839.09 30.8922 1842.98 28.5022 Q1846.87 26.1121 1852.13 26.1121 Q1859.22 26.1121 1863.07 31.0947 Q1866.92 36.0368 1866.92 45.1919 L1866.92 72.576 L1859.43 72.576 L1859.43 45.4349 Q1859.43 38.913 1857.12 35.7533 Q1854.81 32.5936 1850.07 32.5936 Q1844.27 32.5936 1840.91 36.4419 Q1837.55 40.2903 1837.55 46.9338 L1837.55 72.576 L1830.06 72.576 L1830.06 45.4349 Q1830.06 38.8725 1827.75 35.7533 Q1825.44 32.5936 1820.62 32.5936 Q1814.91 32.5936 1811.54 36.4824 Q1808.18 40.3308 1808.18 46.9338 L1808.18 72.576 L1800.69 72.576 L1800.69 27.2059 L1808.18 27.2059 L1808.18 34.2544 Q1810.73 30.082 1814.3 28.0971 Q1817.86 26.1121 1822.76 26.1121 Q1827.71 26.1121 1831.15 28.6237 Q1834.63 31.1352 1836.29 35.9153 Z\" fill=\"#000000\" fill-rule=\"nonzero\" fill-opacity=\"1\" /><path clip-path=\"url(#clip570)\" d=\"M1889 65.7705 L1889 89.8329 L1881.5 89.8329 L1881.5 27.2059 L1889 27.2059 L1889 34.0924 Q1891.35 30.0415 1894.91 28.0971 Q1898.52 26.1121 1903.5 26.1121 Q1911.76 26.1121 1916.91 32.6746 Q1922.09 39.2371 1922.09 49.9314 Q1922.09 60.6258 1916.91 67.1883 Q1911.76 73.7508 1903.5 73.7508 Q1898.52 73.7508 1894.91 71.8063 Q1891.35 69.8214 1889 65.7705 M1914.36 49.9314 Q1914.36 41.7081 1910.95 37.0496 Q1907.59 32.3505 1901.68 32.3505 Q1895.76 32.3505 1892.36 37.0496 Q1889 41.7081 1889 49.9314 Q1889 58.1548 1892.36 62.8538 Q1895.76 67.5124 1901.68 67.5124 Q1907.59 67.5124 1910.95 62.8538 Q1914.36 58.1548 1914.36 49.9314 Z\" fill=\"#000000\" fill-rule=\"nonzero\" fill-opacity=\"1\" /><path clip-path=\"url(#clip570)\" d=\"M1934.45 9.54393 L1941.9 9.54393 L1941.9 72.576 L1934.45 72.576 L1934.45 9.54393 Z\" fill=\"#000000\" fill-rule=\"nonzero\" fill-opacity=\"1\" /><path clip-path=\"url(#clip570)\" d=\"M1996.31 48.0275 L1996.31 51.6733 L1962.03 51.6733 Q1962.52 59.3701 1966.65 63.421 Q1970.83 67.4314 1978.24 67.4314 Q1982.53 67.4314 1986.54 66.3781 Q1990.59 65.3249 1994.56 63.2184 L1994.56 70.267 Q1990.55 71.9684 1986.34 72.8596 Q1982.13 73.7508 1977.79 73.7508 Q1966.94 73.7508 1960.58 67.4314 Q1954.26 61.1119 1954.26 50.3365 Q1954.26 39.1965 1960.25 32.6746 Q1966.29 26.1121 1976.5 26.1121 Q1985.65 26.1121 1990.96 32.0264 Q1996.31 37.9003 1996.31 48.0275 M1988.85 45.84 Q1988.77 39.7232 1985.41 36.0774 Q1982.09 32.4315 1976.58 32.4315 Q1970.34 32.4315 1966.57 35.9558 Q1962.84 39.4801 1962.28 45.8805 L1988.85 45.84 Z\" fill=\"#000000\" fill-rule=\"nonzero\" fill-opacity=\"1\" /><path clip-path=\"url(#clip570)\" d=\"M2010.44 62.2867 L2018.99 62.2867 L2018.99 72.576 L2010.44 72.576 L2010.44 62.2867 M2010.44 29.6769 L2018.99 29.6769 L2018.99 39.9662 L2010.44 39.9662 L2010.44 29.6769 Z\" fill=\"#000000\" fill-rule=\"nonzero\" fill-opacity=\"1\" /><path clip-path=\"url(#clip570)\" d=\"M2064.16 71.3202 L2064.16 63.8666 Q2067.24 65.3249 2070.4 66.0946 Q2073.56 66.8642 2076.59 66.8642 Q2084.7 66.8642 2088.95 61.436 Q2093.24 55.9673 2093.85 44.8678 Q2091.5 48.3516 2087.9 50.215 Q2084.29 52.0784 2079.92 52.0784 Q2070.84 52.0784 2065.54 46.6097 Q2060.27 41.1005 2060.27 31.5808 Q2060.27 22.2638 2065.78 16.633 Q2071.29 11.0023 2080.44 11.0023 Q2090.93 11.0023 2096.44 19.0636 Q2101.99 27.0843 2101.99 42.3968 Q2101.99 56.6965 2095.19 65.2439 Q2088.42 73.7508 2076.96 73.7508 Q2073.88 73.7508 2070.72 73.1431 Q2067.56 72.5355 2064.16 71.3202 M2080.44 45.678 Q2085.95 45.678 2089.15 41.9107 Q2092.39 38.1433 2092.39 31.5808 Q2092.39 25.0589 2089.15 21.2916 Q2085.95 17.4837 2080.44 17.4837 Q2074.93 17.4837 2071.69 21.2916 Q2068.49 25.0589 2068.49 31.5808 Q2068.49 38.1433 2071.69 41.9107 Q2074.93 45.678 2080.44 45.678 Z\" fill=\"#000000\" fill-rule=\"nonzero\" fill-opacity=\"1\" /><path clip-path=\"url(#clip570)\" d=\"M2138.25 46.5287 L2160.08 46.5287 L2160.08 53.1722 L2138.25 53.1722 L2138.25 46.5287 Z\" fill=\"#000000\" fill-rule=\"nonzero\" fill-opacity=\"1\" /><path clip-path=\"url(#clip570)\" d=\"M2172.92 31.7429 L2172.92 24.3702 L2224.86 43.2069 L2224.86 49.9314 L2172.92 68.7682 L2172.92 61.3955 L2214.65 46.6097 L2172.92 31.7429 Z\" fill=\"#000000\" fill-rule=\"nonzero\" fill-opacity=\"1\" /><path clip-path=\"url(#clip570)\" d=\"M2269.13 71.3202 L2269.13 63.8666 Q2272.21 65.3249 2275.37 66.0946 Q2278.53 66.8642 2281.57 66.8642 Q2289.67 66.8642 2293.93 61.436 Q2298.22 55.9673 2298.83 44.8678 Q2296.48 48.3516 2292.87 50.215 Q2289.27 52.0784 2284.89 52.0784 Q2275.82 52.0784 2270.51 46.6097 Q2265.24 41.1005 2265.24 31.5808 Q2265.24 22.2638 2270.75 16.633 Q2276.26 11.0023 2285.42 11.0023 Q2295.91 11.0023 2301.42 19.0636 Q2306.97 27.0843 2306.97 42.3968 Q2306.97 56.6965 2300.16 65.2439 Q2293.4 73.7508 2281.93 73.7508 Q2278.86 73.7508 2275.7 73.1431 Q2272.54 72.5355 2269.13 71.3202 M2285.42 45.678 Q2290.93 45.678 2294.13 41.9107 Q2297.37 38.1433 2297.37 31.5808 Q2297.37 25.0589 2294.13 21.2916 Q2290.93 17.4837 2285.42 17.4837 Q2279.91 17.4837 2276.67 21.2916 Q2273.47 25.0589 2273.47 31.5808 Q2273.47 38.1433 2276.67 41.9107 Q2279.91 45.678 2285.42 45.678 Z\" fill=\"#000000\" fill-rule=\"nonzero\" fill-opacity=\"1\" /><g clip-path=\"url(#clip573)\">\n",
       "<image width=\"1012\" height=\"1363\" xlink:href=\"data:image/png;base64,\n",
       "iVBORw0KGgoAAAANSUhEUgAAA/QAAAVTCAYAAABj7GMOAAAgAElEQVR4nOzZv4od1BqH4bMPUwTM\n",
       "DokRhLS5CCF1IFhNayEWKay0mCJlqvyD9GnUNpArMAPBSkQrLWRKCQQGjIONhWAs5pSHxTABOQe+\n",
       "/cLzXMEPVrNevs12uz39FwAAAJDy7+kBAAAAwD8n6AEAACBI0AMAAECQoAcAAIAgQQ8AAABBgh4A\n",
       "AACCBD0AAAAECXoAAAAIEvQAAAAQJOgBAAAgSNADAABAkKAHAACAIEEPAAAAQYIeAAAAggQ9AAAA\n",
       "BAl6AAAACBL0AAAAECToAQAAIEjQAwAAQJCgBwAAgCBBDwAAAEGCHgAAAIIEPQAAAAQJegAAAAgS\n",
       "9AAAABAk6AEAACBI0AMAAECQoAcAAIAgQQ8AAABBgh4AAACCBD0AAAAECXoAAAAIEvQAAAAQJOgB\n",
       "AAAgSNADAABAkKAHAACAIEEPAAAAQYIeAAAAggQ9AAAABAl6AAAACBL0AAAAECToAQAAIEjQAwAA\n",
       "QJCgBwAAgCBBDwAAAEGCHgAAAIIEPQAAAAQJegAAAAgS9AAAABAk6AEAACBI0AMAAECQoAcAAIAg\n",
       "QQ8AAABBgh4AAACCBD0AAAAECXoAAAAIEvQAAAAQJOgBAAAgSNADAABAkKAHAACAIEEPAAAAQYIe\n",
       "AAAAggQ9AAAABAl6AAAACBL0AAAAECToAQAAIEjQAwAAQJCgBwAAgCBBDwAAAEGCHgAAAIIEPQAA\n",
       "AAQJegAAAAgS9AAAABAk6AEAACBI0AMAAECQoAcAAIAgQQ8AAABBgh4AAACCBD0AAAAECXoAAAAI\n",
       "EvQAAAAQJOgBAAAgSNADAABAkKAHAACAIEEPAAAAQYIeAAAAggQ9AAAABAl6AAAACBL0AAAAECTo\n",
       "AQAAIEjQAwAAQJCgBwAAgCBBDwAAAEGCHgAAAIIEPQAAAAQJegAAAAgS9AAAABAk6AEAACBI0AMA\n",
       "AECQoAcAAIAgQQ8AAABBgh4AAACCBD0AAAAECXoAAAAIEvQAAAAQJOgBAAAgSNADAABAkKAHAACA\n",
       "IEEPAAAAQYIeAAAAggQ9AAAABAl6AAAACBL0AAAAECToAQAAIEjQAwAAQJCgBwAAgCBBDwAAAEGC\n",
       "HgAAAIIEPQAAAAQJegAAAAgS9AAAABAk6AEAACBI0AMAAECQoAcAAIAgQQ8AAABBgh4AAACCBD0A\n",
       "AAAECXoAAAAIEvQAAAAQJOgBAAAgSNADAABAkKAHAACAIEEPAAAAQYIeAAAAggQ9AAAABAl6AAAA\n",
       "CBL0AAAAECToAQAAIEjQAwAAQJCgBwAAgCBBDwAAAEGCHgAAAIIEPQAAAAQJegAAAAgS9AAAABAk\n",
       "6AEAACBI0AMAAECQoAcAAIAgQQ8AAABBgh4AAACCBD0AAAAECXoAAAAIEvQAAAAQJOgBAAAgSNAD\n",
       "AABAkKAHAACAIEEPAAAAQYIeAAAAggQ9AAAABAl6AAAACBL0AAAAECToAQAAIEjQAwAAQJCgBwAA\n",
       "gCBBDwAAAEGCHgAAAIIEPQAAAAQJegAAAAgS9AAAABAk6AEAACBI0AMAAECQoAcAAIAgQQ8AAABB\n",
       "gh4AAACCBD0AAAAECXoAAAAIEvQAAAAQJOgBAAAgSNADAABAkKAHAACAIEEPAAAAQYIeAAAAggQ9\n",
       "AAAABAl6AAAACBL0AAAAECToAQAAIEjQAwAAQJCgBwAAgCBBDwAAAEGCHgAAAIIEPQAAAAQJegAA\n",
       "AAgS9AAAABAk6AEAACBI0AMAAECQoAcAAIAgQQ8AAABBgh4AAACCBD0AAAAECXoAAAAIEvQAAAAQ\n",
       "JOgBAAAgSNADAABAkKAHAACAIEEPAAAAQYIeAAAAggQ9AAAABAl6AAAACBL0AAAAECToAQAAIEjQ\n",
       "AwAAQJCgBwAAgCBBDwAAAEGCHgAAAIIEPQAAAAQJegAAAAgS9AAAABAk6AEAACBI0AMAAECQoAcA\n",
       "AIAgQQ8AAABBgh4AAACCBD0AAAAECXoAAAAIEvQAAAAQJOgBAAAgSNADAABAkKAHAACAIEEPAAAA\n",
       "QYIeAAAAggQ9AAAABAl6AAAACBL0AAAAECToAQAAIEjQAwAAQJCgBwAAgCBBDwAAAEGCHgAAAIIE\n",
       "PQAAAAQJegAAAAgS9AAAABAk6AEAACBI0AMAAECQoAcAAIAgQQ8AAABBgh4AAACCBD0AAAAECXoA\n",
       "AAAIEvQAAAAQJOgBAAAgSNADAABAkKAHAACAIEEPAAAAQYIeAAAAggQ9AAAABAl6AAAACBL0AAAA\n",
       "ECToAQAAIEjQAwAAQJCgBwAAgCBBDwAAAEGCHgAAAIIEPQAAAAQJegAAAAgS9AAAABAk6AEAACBI\n",
       "0AMAAECQoAcAAIAgQQ8AAABBgh4AAACCBD0AAAAECXoAAAAIEvQAAAAQJOgBAAAgSNADAABAkKAH\n",
       "AACAIEEPAAAAQYIeAAAAggQ9AAAABAl6AAAACBL0AAAAECToAQAAIEjQAwAAQJCgBwAAgCBBDwAA\n",
       "AEGCHgAAAIIEPQAAAAQJegAAAAgS9AAAABAk6AEAACBI0AMAAECQoAcAAIAgQQ8AAABBgh4AAACC\n",
       "BD0AAAAECXoAAAAIEvQAAAAQJOgBAAAgSNADAABAkKAHAACAIEEPAAAAQYIeAAAAggQ9AAAABAl6\n",
       "AAAACBL0AAAAECToAQAAIEjQAwAAQJCgBwAAgCBBDwAAAEGCHgAAAIIEPQAAAAQJegAAAAgS9AAA\n",
       "ABAk6AEAACBI0AMAAECQoAcAAIAgQQ8AAABBgh4AAACCBD0AAAAECXoAAAAIEvQAAAAQJOgBAAAg\n",
       "SNADAABAkKAHAACAIEEPAAAAQYIeAAAAggQ9AAAABAl6AAAACBL0AAAAECToAQAAIEjQAwAAQJCg\n",
       "BwAAgCBBDwAAAEGCHgAAAIIEPQAAAAQJegAAAAgS9AAAABAk6AEAACBI0AMAAECQoAcAAICgvekB\n",
       "ALR88MEH0xMWn3766fSExa1bt6YnLDabzfSEM7766qvpCYv79+9PT1j8/fff0xMAiHChBwAAgCBB\n",
       "DwAAAEGCHgAAAIIEPQAAAAQJegAAAAgS9AAAABAk6AEAACBI0AMAAECQoAcAAIAgQQ8AAABBgh4A\n",
       "AACCBD0AAAAECXoAAAAIEvQAAAAQJOgBAAAgSNADAABAkKAHAACAIEEPAAAAQYIeAAAAggQ9AAAA\n",
       "BAl6AAAACBL0AAAAECToAQAAIEjQAwAAQJCgBwAAgCBBDwAAAEGCHgAAAIIEPQAAAAQJegAAAAgS\n",
       "9AAAABAk6AEAACBI0AMAAECQoAcAAIAgQQ8AAABBgh4AAACCBD0AAAAECXoAAAAIEvQAAAAQJOgB\n",
       "AAAgSNADAABAkKAHAACAIEEPAAAAQYIeAAAAggQ9AAAABAl6AAAACBL0AAAAECToAQAAIEjQAwAA\n",
       "QNBmu92eTo8A4Hw3btyYnrB48uTJ9ITFe++9Nz1hp202m+kJZ5ye7tbX4/DwcHrC4rPPPpuesPjr\n",
       "r7+mJwBwDhd6AAAACBL0AAAAECToAQAAIEjQAwAAQJCgBwAAgCBBDwAAAEGCHgAAAIIEPQAAAAQJ\n",
       "egAAAAgS9AAAABAk6AEAACBI0AMAAECQoAcAAIAgQQ8AAABBgh4AAACCBD0AAAAECXoAAAAIEvQA\n",
       "AAAQJOgBAAAgSNADAABAkKAHAACAIEEPAAAAQYIeAAAAggQ9AAAABAl6AAAACBL0AAAAECToAQAA\n",
       "IEjQAwAAQJCgBwAAgCBBDwAAAEGCHgAAAIIEPQAAAAQJegAAAAgS9AAAABAk6AEAACBI0AMAAECQ\n",
       "oAcAAIAgQQ8AAABBgh4AAACCBD0AAAAECXoAAAAIEvQAAAAQJOgBAAAgSNADAABAkKAHAACAIEEP\n",
       "AAAAQYIeAAAAggQ9AAAABG222+3p9AiAXXLhwoXpCYvDw8PpCYvr169PT1gcHR1NT1g8fvx4esLi\n",
       "+Ph4esIZT58+nZ6weP/996cnLG7fvj09YfHixYvpCQCcw4UeAAAAggQ9AAAABAl6AAAACBL0AAAA\n",
       "ECToAQAAIEjQAwAAQJCgBwAAgCBBDwAAAEGCHgAAAIIEPQAAAAQJegAAAAgS9AAAABAk6AEAACBI\n",
       "0AMAAECQoAcAAIAgQQ8AAABBgh4AAACCBD0AAAAECXoAAAAIEvQAAAAQJOgBAAAgSNADAABAkKAH\n",
       "AACAIEEPAAAAQYIeAAAAggQ9AAAABAl6AAAACBL0AAAAECToAQAAIEjQAwAAQJCgBwAAgCBBDwAA\n",
       "AEGCHgAAAIIEPQAAAAQJegAAAAgS9AAAABAk6AEAACBI0AMAAECQoAcAAIAgQQ8AAABBgh4AAACC\n",
       "BD0AAAAECXoAAAAIEvQAAAAQJOgBAAAgSNADAABAkKAHAACAoM12uz2dHgGwSz7++OPpCYtHjx5N\n",
       "T1h8/fXX0xMWn3/++fSExZs3b6Yn7LxLly5NT1gcHh5OT1hcuXJlesLi4OBgesJi194LYJILPQAA\n",
       "AAQJegAAAAgS9AAAABAk6AEAACBI0AMAAECQoAcAAIAgQQ8AAABBgh4AAACCBD0AAAAECXoAAAAI\n",
       "EvQAAAAQJOgBAAAgSNADAABAkKAHAACAIEEPAAAAQYIeAAAAggQ9AAAABAl6AAAACBL0AAAAECTo\n",
       "AQAAIEjQAwAAQJCgBwAAgCBBDwAAAEGCHgAAAIIEPQAAAAQJegAAAAgS9AAAABAk6AEAACBI0AMA\n",
       "AECQoAcAAIAgQQ8AAABBgh4AAACCBD0AAAAECXoAAAAIEvQAAAAQJOgBAAAgSNADAABAkKAHAACA\n",
       "IEEPAAAAQYIeAAAAggQ9AAAABAl6AAAACBL0AAAAECToAQAAIEjQAwAAQJCgBwAAgCBBDwAAAEGC\n",
       "HgAAAII22+32dHoEwC755ptvpicsrl27Nj1hcfPmzekJi+Pj4+kJxD148GB6wuKTTz6ZnrD48ccf\n",
       "pycs9vf3pycA7AwXegAAAAgS9AAAABAk6AEAACBI0AMAAECQoAcAAIAgQQ8AAABBgh4AAACCBD0A\n",
       "AAAECXoAAAAIEvQAAAAQJOgBAAAgSNADAABAkKAHAACAIEEPAAAAQYIeAAAAggQ9AAAABAl6AAAA\n",
       "CBL0AAAAECToAQAAIEjQAwAAQJCgBwAAgCBBDwAAAEGCHgAAAIIEPQAAAAQJegAAAAgS9AAAABAk\n",
       "6AEAACBI0AMAAECQoAcAAIAgQQ8AAABBgh4AAACCBD0AAAAECXoAAAAIEvQAAAAQJOgBAAAgSNAD\n",
       "AABAkKAHAACAIEEPAAAAQYIeAAAAggQ9AAAABAl6AAAACBL0AAAAECToAQAAIEjQAwAAQJCgBwAA\n",
       "gCBBDwAAAEGCHgAAAIIEPQAAAATtTQ8A4O1ev349PWFxfHw8PQH+ry5evDg9Yae988470xMAOIcL\n",
       "PQAAAAQJegAAAAgS9AAAABAk6AEAACBI0AMAAECQoAcAAIAgQQ8AAABBgh4AAACCBD0AAAAECXoA\n",
       "AAAIEvQAAAAQJOgBAAAgSNADAABAkKAHAACAIEEPAAAAQYIeAAAAggQ9AAAABAl6AAAACBL0AAAA\n",
       "ECToAQAAIEjQAwAAQJCgBwAAgCBBDwAAAEGCHgAAAIIEPQAAAAQJegAAAAgS9AAAABAk6AEAACBI\n",
       "0AMAAECQoAcAAIAgQQ8AAABBgh4AAACCBD0AAAAECXoAAAAIEvQAAAAQJOgBAAAgSNADAABAkKAH\n",
       "AACAIEEPAAAAQYIeAAAAggQ9AAAABAl6AAAACBL0AAAAECToAQAAIEjQAwAAQJCgBwAAgCBBDwAA\n",
       "AEF70wMAeLvvvvtuegJhly9fnp5wxv7+/vSExa7t2TW//PLL9AQAzuFCDwAAAEGCHgAAAIIEPQAA\n",
       "AAQJegAAAAgS9AAAABAk6AEAACBI0AMAAECQoAcAAIAgQQ8AAABBgh4AAACCBD0AAAAECXoAAAAI\n",
       "EvQAAAAQJOgBAAAgSNADAABAkKAHAACAIEEPAAAAQYIeAAAAggQ9AAAABAl6AAAACBL0AAAAECTo\n",
       "AQAAIEjQAwAAQJCgBwAAgCBBDwAAAEGCHgAAAIIEPQAAAAQJegAAAAgS9AAAABAk6AEAACBI0AMA\n",
       "AECQoAcAAIAgQQ8AAABBgh4AAACCBD0AAAAECXoAAAAIEvQAAAAQJOgBAAAgSNADAABAkKAHAACA\n",
       "IEEPAAAAQYIeAAAAggQ9AAAABAl6AAAACBL0AAAAECToAQAAIEjQAwAAQJCgBwAAgKC96QEAvN1H\n",
       "H300PWHx+++/T09Y/Pbbb9MTFicnJ9MTFo8fP56ecMa77747PYF/4OjoaHoCAOdwoQcAAIAgQQ8A\n",
       "AABBgh4AAACCBD0AAAAECXoAAAAIEvQAAAAQJOgBAAAgSNADAABAkKAHAACAIEEPAAAAQYIeAAAA\n",
       "ggQ9AAAABAl6AAAACBL0AAAAECToAQAAIEjQAwAAQJCgBwAAgCBBDwAAAEGCHgAAAIIEPQAAAAQJ\n",
       "egAAAAgS9AAAABAk6AEAACBI0AMAAECQoAcAAIAgQQ8AAABBgh4AAACCBD0AAAAECXoAAAAIEvQA\n",
       "AAAQJOgBAAAgSNADAABAkKAHAACAIEEPAAAAQYIeAAAAggQ9AAAABAl6AAAACBL0AAAAECToAQAA\n",
       "IEjQAwAAQJCgBwAAgCBBDwAAAEGCHgAAAIIEPQAAAAQJegAAAAgS9AAAABAk6AEAACBI0AMAAEDQ\n",
       "3vQAgF3z7Nmz6QmLu3fvTk9YHBwcTE/gH9hsNtMTzvj++++nJyy+/fbb6QmLO3fuTE9YvHr1anoC\n",
       "AOdwoQcAAIAgQQ8AAABBgh4AAACCBD0AAAAECXoAAAAIEvQAAAAQJOgBAAAgSNADAABAkKAHAACA\n",
       "IEEPAAAAQYIeAAAAggQ9AAAABAl6AAAACBL0AAAAECToAQAAIEjQAwAAQJCgBwAAgCBBDwAAAEGC\n",
       "HgAAAIIEPQAAAAQJegAAAAgS9AAAABAk6AEAACBI0AMAAECQoAcAAIAgQQ8AAABBgh4AAACCBD0A\n",
       "AAAECXoAAAAIEvQAAAAQJOgBAAAgSNADAABAkKAHAACAIEEPAAAAQYIeAAAAggQ9AAAABAl6AAAA\n",
       "CBL0AAAAECToAQAAIEjQAwAAQJCgBwAAgCBBDwAAAEGCHgAAAIIEPQAAAAQJegAAAAgS9AAAABAk\n",
       "6AEAACBob3oAwK758ssvpycsfv755+kJiw8//HB6wuLq1avTE3bar7/+Oj3hjIcPH05PWNy7d296\n",
       "wk776aefpicAcA4XegAAAAgS9AAAABAk6AEAACBI0AMAAECQoAcAAIAgQQ8AAABBgh4AAACCBD0A\n",
       "AAAECXoAAAAIEvQAAAAQJOgBAAAgSNADAABAkKAHAACAIEEPAAAAQYIeAAAAggQ9AAAABAl6AAAA\n",
       "CBL0AAAAECToAQAAIEjQAwAAQJCgBwAAgCBBDwAAAEGCHgAAAIIEPQAAAAQJegAAAAgS9AAAABAk\n",
       "6AEAACBI0AMAAECQoAcAAIAgQQ8AAABBgh4AAACCBD0AAAAECXoAAAAIEvQAAAAQJOgBAAAgSNAD\n",
       "AABAkKAHAACAIEEPAAAAQYIeAAAAggQ9AAAABAl6AAAACBL0AAAAECToAQAAIEjQAwAAQJCgBwAA\n",
       "gCBBDwAAAEGCHgAAAIIEPQAAAATtTQ8A4O1++OGH6QmLXdsD/6vNZjM9YfHHH39MT1j8+eef0xMA\n",
       "OIcLPQAAAAQJegAAAAgS9AAAABAk6AEAACBI0AMAAECQoAcAAIAgQQ8AAABBgh4AAACCBD0AAAAE\n",
       "CXoAAAAIEvQAAAAQJOgBAAAgSNADAABAkKAHAACAIEEPAAAAQYIeAAAAggQ9AAAABAl6AAAACBL0\n",
       "AAAAECToAQAAIEjQAwAAQJCgBwAAgCBBDwAAAEGCHgAAAIIEPQAAAAQJegAAAAgS9AAAABAk6AEA\n",
       "ACBI0AMAAECQoAcAAIAgQQ8AAABBgh4AAACCBD0AAAAECXoAAAAIEvQAAAAQJOgBAAAgSNADAABA\n",
       "kKAHAACAIEEPAAAAQYIeAAAAggQ9AAAABAl6AAAACBL0AAAAECToAQAAIEjQAwAAQJCgBwAAgCBB\n",
       "DwAAAEGCHgAAAIL2pgcAAEw6PT2dnrB4+fLl9ITFycnJ9AQAzuFCDwAAAEGCHgAAAIIEPQAAAAQJ\n",
       "egAAAAgS9AAAABAk6AEAACBI0AMAAECQoAcAAIAgQQ8AAABBgh4AAACCBD0AAAAECXoAAAAIEvQA\n",
       "AAAQJOgBAAAgSNADAABAkKAHAACAIEEPAAAAQYIeAAAAggQ9AAAABAl6AAAACBL0AAAAECToAQAA\n",
       "IEjQAwAAQJCgBwAAgCBBDwAAAEGCHgAAAIIEPQAAAAQJegAAAAgS9AAAABAk6AEAACBI0AMAAECQ\n",
       "oAcAAIAgQQ8AAABBgh4AAACCBD0AAAAECXoAAAAIEvQAAAAQJOgBAAAgSNADAABAkKAHAACAIEEP\n",
       "AAAAQYIeAAAAggQ9AAAABAl6AAAACBL0AAAAECToAQAAIEjQAwAAQNDe9AAAAP7r+fPn0xMAiHCh\n",
       "BwAAgCBBDwAAAEGCHgAAAIIEPQAAAAQJegAAAAgS9AAAABAk6AEAACBI0AMAAECQoAcAAIAgQQ8A\n",
       "AABBgh4AAACCBD0AAAAECXoAAAAIEvQAAAAQJOgBAAAgSNADAABAkKAHAACAIEEPAAAAQYIeAAAA\n",
       "ggQ9AAAABAl6AAAACBL0AAAAECToAQAAIEjQAwAAQJCgBwAAgCBBDwAAAEGCHgAAAIIEPQAAAAQJ\n",
       "egAAAAgS9AAAABAk6AEAACBI0AMAAECQoAcAAIAgQQ8AAABBgh4AAACCBD0AAAAECXoAAAAIEvQA\n",
       "AAAQJOgBAAAgSNADAABAkKAHAACAIEEPAAAAQYIeAAAAggQ9AAAABAl6AAAACBL0AAAAECToAQAA\n",
       "IEjQAwAAQNDe9AAAgEm3bt2anrD44osvpicAEOFCDwAAAEGCHgAAAIIEPQAAAAQJegAAAAgS9AAA\n",
       "ABAk6AEAACBI0AMAAECQoAcAAIAgQQ8AAABBgh4AAACCBD0AAAAECXoAAAAIEvQAAAAQJOgBAAAg\n",
       "SNADAABAkKAHAACAIEEPAAAAQYIeAAAAggQ9AAAABAl6AAAACBL0AAAAECToAQAAIEjQAwAAQJCg\n",
       "h/+0Z8coCgRQEAVZmEwFL2Po2T2LoamgkejGk+1G38dUnaDTRwMAAAQJegAAAAgS9AAAABAk6AEA\n",
       "ACBI0AMAAECQoAcAAIAgQQ8AAABBgh4AAACCBD0AAAAECXoAAAAIEvQAAAAQJOgBAAAgSNADAABA\n",
       "kKAHAACAIEEPAAAAQYIeAAAAggQ9AAAABAl6AAAACBL0AAAAECToAQAAIEjQAwAAQJCgBwAAgCBB\n",
       "DwAAAEGCHgAAAIIEPQAAAAQt0wMAgG3Z7XbTE1a+bQ8A/JWHHgAAAIIEPQAAAAQJegAAAAgS9AAA\n",
       "ABAk6AEAACBI0AMAAECQoAcAAIAgQQ8AAABBgh4AAACCBD0AAAAECXoAAAAIEvQAAAAQJOgBAAAg\n",
       "SNADAABAkKAHAACAIEEPAAAAQYIeAAAAggQ9AAAABAl6AAAACBL0AAAAECToAQAAIEjQAwAAQJCg\n",
       "BwAAgCBBDwAAAEGCHgAAAIIEPQAAAAQJegAAAAgS9AAAABAk6AEAACBI0AMAAECQoAcAAIAgQQ8A\n",
       "AABBgh4AAACCBD0AAAAECXoAAAAIEvQAAAAQJOgBAAAgSNADAABAkKAHAACAIEEPAAAAQYIeAAAA\n",
       "ggQ9AAAABAl6AAAACBL0AAAAECToAQAAIEjQAwAAQJCgBwAAgKBlegAAsC2n02l6wsp+v5+esHK5\n",
       "XKYnABDhoQcAAIAgQQ8AAABBgh4AAACCBD0AAAAECXoAAAAIEvQAAAAQJOgBAAAgSNADAABAkKAH\n",
       "AACAIEEPAAAAQYIeAAAAggQ9AAAABAl6AAAACBL0AAAAECToAQAAIEjQAwAAQJCgBwAAgCBBDwAA\n",
       "AEGCHgAAAIIEPQAAAAQJegAAAAgS9AAAABAk6AEAACBI0AMAAECQoAcAAIAgQQ8AAABBgh4AAACC\n",
       "BD0AAAAECXoAAAAIEvQAAAAQJOgBAAAgSNADAABAkKAHAACAIEEPAAAAQYIeAAAAggQ9AAAABAl6\n",
       "AAAACBL0AAAAECToAQAAIEjQAwAAQJCgBwAAgCBBDwAAAEGCHgAAAIIEPQAAAAQJegAAAAgS9AAA\n",
       "ABAk6AEAACBI0AMAAEDQMj0AANiW8/k8PeGr3e/36QkARHjoAQAAIEjQAwAAQJCgBwAAgCBBDwAA\n",
       "AEGCHgAAAIIEPQAAAAQJegAAAAgS9AAAABAk6AEAACBI0AMAAECQoAcAAIAgQQ8AAABBgh4AAACC\n",
       "BD0AAAAECXoAAAAIEvQAAAAQJOgBAAAgSNADAABAkKAHAACAIEEPAAAAQYIeAAAAggQ9AAAABAl6\n",
       "AAAACBL0AAAAECToAQAAIEjQAwAAQJCgBwAAgCBBDwAAAEGCHgAAAIIEPQAAAAQJegAAAAgS9AAA\n",
       "ABAk6AEAACBI0AMAAECQoAcAAIAgQQ8AAABBgh4AAACCBD0AAAAECXoAAAAIEvQAAAAQJOgBAAAg\n",
       "SNADAABAkKAHAACAIEEPAAAAQYIeAAAAggQ9AAAABAl6AAAACBL0AAAAELRMDwAAtuV4PE5PWLnd\n",
       "btMTVp7P5/QEACI89AAAABAk6AEAACBI0AMAAECQoAcAAIAgQQ8AAABBgh4AAACCBD0AAAAECXoA\n",
       "AAAIEvQAAAAQJOgBAAAgSNADAABAkKAHAACAIEEPAAAAQYIeAAAAggQ9AAAABAl6AAAACBL0AAAA\n",
       "ECToAQAAIEjQAwAAQJCgBwAAgCBBDwAAAEGCHgAAAIIEPQAAAAQJegAAAAgS9AAAABAk6AEAACBI\n",
       "0AMAAECQoAcAAIAgQQ8AAABBgh4AAACCBD0AAAAECXoAAAAIEvQAAAAQJOgBAAAgSNADAABAkKAH\n",
       "AACAIEEPAAAAQYIeAAAAggQ9AAAABAl6AGdsl5sAAAPSSURBVAAACBL0AAAAECToAQAAIEjQAwAA\n",
       "QJCgBwAAgCBBDwAAAEGCHgAAAIIEPQAAAAQt0wMAACY9Ho/pCSuv12t6AgARHnoAAAAIEvQAAAAQ\n",
       "JOgBAAAgSNADAABAkKAHAACAIEEPAAAAQYIeAAAAggQ9AAAABAl6AAAACBL0AAAAECToAQAAIEjQ\n",
       "AwAAQJCgBwAAgCBBDwAAAEGCHgAAAIIEPQAAAAQJegAAAAgS9AAAABAk6AEAACBI0AMAAECQoAcA\n",
       "AIAgQQ8AAABBgh4AAACCBD0AAAAECXoAAAAIEvQAAAAQJOgBAAAgSNADAABAkKAHAACAIEEPAAAA\n",
       "QYIeAAAAggQ9AAAABAl6AAAACBL0AAAAECToAQAAIEjQAwAAQJCgBwAAgCBBDwAAAEGCHgAAAIIE\n",
       "PQAAAAQJegAAAAgS9AAAABAk6AEAACBI0AMAAECQoAcAAIAgQQ8AAABBgh4AAACCBD0AAAAELdMD\n",
       "AAAmXa/X6Qkr7/d7egIAER56AAAACBL0AAAAECToAQAAIEjQAwAAQJCgBwAAgCBBDwAAAEGCHgAA\n",
       "AIIEPQAAAAQJegAAAAgS9AAAABAk6AEAACBI0AMAAECQoAcAAIAgQQ8AAABBgh4AAACCBD0AAAAE\n",
       "CXoAAAAIEvQAAAAQJOgBAAAgSNADAABAkKAHAACAIEEPAAAAQYIeAAAAggQ9AAAABAl6AAAACBL0\n",
       "AAAAECToAQAAIEjQAwAAQJCgBwAAgCBBDwAAAEGCHgAAAIIEPQAAAAQJegAAAAgS9AAAABAk6AEA\n",
       "ACBI0AMAAECQoAcAAIAgQQ8AAABBgh4AAACCBD0AAAAECXoAAAAIEvQAAAAQJOgBAAAgSNADAABA\n",
       "kKAHAACAIEEPAAAAQYIeAAAAggQ9AAAABP0cDofP9AgAAADgfzz0AAAAECToAQAAIEjQAwAAQJCg\n",
       "BwAAgCBBDwAAAEGCHgAAAIIEPQAAAAQJegAAAAgS9AAAABAk6AEAACBI0AMAAECQoAcAAIAgQQ8A\n",
       "AABBgh4AAACCBD0AAAAECXoAAAAIEvQAAAAQJOgBAAAgSNADAABAkKAHAACAIEEPAAAAQYIeAAAA\n",
       "ggQ9AAAABAl6AAAACBL0AAAAECToAQAAIEjQAwAAQJCgBwAAgCBBDwAAAEGCHgAAAIIEPQAAAAQJ\n",
       "egAAAAgS9AAAABAk6AEAACBI0AMAAECQoAcAAIAgQQ8AAABBgh4AAACCBD0AAAAECXoAAAAIEvQA\n",
       "AAAQJOgBAAAgSNADAABAkKAHAACAIEEPAAAAQYIeAAAAggQ9AAAABP0CU221hctyyQ8AAAAASUVO\n",
       "RK5CYII=\n",
       "\" transform=\"translate(1341, 123)\"/>\n",
       "</g>\n",
       "</svg>\n"
      ],
      "text/html": [
       "<?xml version=\"1.0\" encoding=\"utf-8\"?>\n",
       "<svg xmlns=\"http://www.w3.org/2000/svg\" xmlns:xlink=\"http://www.w3.org/1999/xlink\" width=\"600\" height=\"400\" viewBox=\"0 0 2400 1600\">\n",
       "<defs>\n",
       "  <clipPath id=\"clip620\">\n",
       "    <rect x=\"0\" y=\"0\" width=\"2400\" height=\"1600\"/>\n",
       "  </clipPath>\n",
       "</defs>\n",
       "<path clip-path=\"url(#clip620)\" d=\"M0 1600 L2400 1600 L2400 0 L0 0  Z\" fill=\"#ffffff\" fill-rule=\"evenodd\" fill-opacity=\"1\"/>\n",
       "<defs>\n",
       "  <clipPath id=\"clip621\">\n",
       "    <rect x=\"480\" y=\"0\" width=\"1681\" height=\"1600\"/>\n",
       "  </clipPath>\n",
       "</defs>\n",
       "<path clip-path=\"url(#clip620)\" d=\"M140.696 1486.45 L1152.76 1486.45 L1152.76 123.472 L140.696 123.472  Z\" fill=\"#ffffff\" fill-rule=\"evenodd\" fill-opacity=\"1\"/>\n",
       "<defs>\n",
       "  <clipPath id=\"clip622\">\n",
       "    <rect x=\"140\" y=\"123\" width=\"1013\" height=\"1364\"/>\n",
       "  </clipPath>\n",
       "</defs>\n",
       "<polyline clip-path=\"url(#clip622)\" style=\"stroke:#000000; stroke-linecap:round; stroke-linejoin:round; stroke-width:2; stroke-opacity:0.1; fill:none\" points=\"303.348,1486.45 303.348,123.472 \"/>\n",
       "<polyline clip-path=\"url(#clip622)\" style=\"stroke:#000000; stroke-linecap:round; stroke-linejoin:round; stroke-width:2; stroke-opacity:0.1; fill:none\" points=\"484.073,1486.45 484.073,123.472 \"/>\n",
       "<polyline clip-path=\"url(#clip622)\" style=\"stroke:#000000; stroke-linecap:round; stroke-linejoin:round; stroke-width:2; stroke-opacity:0.1; fill:none\" points=\"664.798,1486.45 664.798,123.472 \"/>\n",
       "<polyline clip-path=\"url(#clip622)\" style=\"stroke:#000000; stroke-linecap:round; stroke-linejoin:round; stroke-width:2; stroke-opacity:0.1; fill:none\" points=\"845.523,1486.45 845.523,123.472 \"/>\n",
       "<polyline clip-path=\"url(#clip622)\" style=\"stroke:#000000; stroke-linecap:round; stroke-linejoin:round; stroke-width:2; stroke-opacity:0.1; fill:none\" points=\"1026.25,1486.45 1026.25,123.472 \"/>\n",
       "<polyline clip-path=\"url(#clip622)\" style=\"stroke:#000000; stroke-linecap:round; stroke-linejoin:round; stroke-width:2; stroke-opacity:0.1; fill:none\" points=\"140.696,1267.4 1152.76,1267.4 \"/>\n",
       "<polyline clip-path=\"url(#clip622)\" style=\"stroke:#000000; stroke-linecap:round; stroke-linejoin:round; stroke-width:2; stroke-opacity:0.1; fill:none\" points=\"140.696,1024.01 1152.76,1024.01 \"/>\n",
       "<polyline clip-path=\"url(#clip622)\" style=\"stroke:#000000; stroke-linecap:round; stroke-linejoin:round; stroke-width:2; stroke-opacity:0.1; fill:none\" points=\"140.696,780.621 1152.76,780.621 \"/>\n",
       "<polyline clip-path=\"url(#clip622)\" style=\"stroke:#000000; stroke-linecap:round; stroke-linejoin:round; stroke-width:2; stroke-opacity:0.1; fill:none\" points=\"140.696,537.233 1152.76,537.233 \"/>\n",
       "<polyline clip-path=\"url(#clip622)\" style=\"stroke:#000000; stroke-linecap:round; stroke-linejoin:round; stroke-width:2; stroke-opacity:0.1; fill:none\" points=\"140.696,293.844 1152.76,293.844 \"/>\n",
       "<path clip-path=\"url(#clip620)\" d=\"M96.8762 20.1573 L85.7768 50.2555 L108.016 50.2555 L96.8762 20.1573 M92.2582 12.096 L101.535 12.096 L124.584 72.576 L116.078 72.576 L110.568 57.061 L83.3057 57.061 L77.7965 72.576 L69.1681 72.576 L92.2582 12.096 Z\" fill=\"#000000\" fill-rule=\"nonzero\" fill-opacity=\"1\" /><path clip-path=\"url(#clip620)\" d=\"M161.488 34.0924 L161.488 9.54393 L168.942 9.54393 L168.942 72.576 L161.488 72.576 L161.488 65.7705 Q159.139 69.8214 155.533 71.8063 Q151.969 73.7508 146.945 73.7508 Q138.722 73.7508 133.537 67.1883 Q128.392 60.6258 128.392 49.9314 Q128.392 39.2371 133.537 32.6746 Q138.722 26.1121 146.945 26.1121 Q151.969 26.1121 155.533 28.0971 Q159.139 30.0415 161.488 34.0924 M136.089 49.9314 Q136.089 58.1548 139.451 62.8538 Q142.854 67.5124 148.768 67.5124 Q154.683 67.5124 158.085 62.8538 Q161.488 58.1548 161.488 49.9314 Q161.488 41.7081 158.085 37.0496 Q154.683 32.3505 148.768 32.3505 Q142.854 32.3505 139.451 37.0496 Q136.089 41.7081 136.089 49.9314 Z\" fill=\"#000000\" fill-rule=\"nonzero\" fill-opacity=\"1\" /><path clip-path=\"url(#clip620)\" d=\"M178.948 27.2059 L186.847 27.2059 L201.025 65.2844 L215.203 27.2059 L223.102 27.2059 L206.089 72.576 L195.961 72.576 L178.948 27.2059 Z\" fill=\"#000000\" fill-rule=\"nonzero\" fill-opacity=\"1\" /><path clip-path=\"url(#clip620)\" d=\"M272.199 48.0275 L272.199 51.6733 L237.929 51.6733 Q238.415 59.3701 242.547 63.421 Q246.719 67.4314 254.132 67.4314 Q258.426 67.4314 262.437 66.3781 Q266.488 65.3249 270.457 63.2184 L270.457 70.267 Q266.447 71.9684 262.234 72.8596 Q258.021 73.7508 253.687 73.7508 Q242.83 73.7508 236.47 67.4314 Q230.151 61.1119 230.151 50.3365 Q230.151 39.1965 236.146 32.6746 Q242.182 26.1121 252.39 26.1121 Q261.545 26.1121 266.852 32.0264 Q272.199 37.9003 272.199 48.0275 M264.746 45.84 Q264.665 39.7232 261.302 36.0774 Q257.981 32.4315 252.471 32.4315 Q246.233 32.4315 242.466 35.9558 Q238.739 39.4801 238.172 45.8805 L264.746 45.84 Z\" fill=\"#000000\" fill-rule=\"nonzero\" fill-opacity=\"1\" /><path clip-path=\"url(#clip620)\" d=\"M310.723 34.1734 Q309.468 33.4443 307.969 33.1202 Q306.511 32.7556 304.728 32.7556 Q298.409 32.7556 295.006 36.8875 Q291.644 40.9789 291.644 48.6757 L291.644 72.576 L284.15 72.576 L284.15 27.2059 L291.644 27.2059 L291.644 34.2544 Q293.993 30.1225 297.761 28.1376 Q301.528 26.1121 306.916 26.1121 Q307.685 26.1121 308.617 26.2337 Q309.549 26.3147 310.683 26.5172 L310.723 34.1734 Z\" fill=\"#000000\" fill-rule=\"nonzero\" fill-opacity=\"1\" /><path clip-path=\"url(#clip620)\" d=\"M347.465 28.5427 L347.465 35.5912 Q344.305 33.9709 340.903 33.1607 Q337.5 32.3505 333.854 32.3505 Q328.304 32.3505 325.509 34.0519 Q322.755 35.7533 322.755 39.156 Q322.755 41.7486 324.74 43.2475 Q326.725 44.7058 332.72 46.0426 L335.272 46.6097 Q343.212 48.3111 346.533 51.4303 Q349.896 54.509 349.896 60.0587 Q349.896 66.3781 344.873 70.0644 Q339.89 73.7508 331.14 73.7508 Q327.494 73.7508 323.524 73.0216 Q319.595 72.3329 315.22 70.9151 L315.22 63.2184 Q319.352 65.3654 323.362 66.4591 Q327.373 67.5124 331.302 67.5124 Q336.568 67.5124 339.404 65.73 Q342.24 63.9071 342.24 60.6258 Q342.24 57.5877 340.174 55.9673 Q338.148 54.3469 331.221 52.8481 L328.628 52.2405 Q321.701 50.7821 318.623 47.7845 Q315.544 44.7463 315.544 39.4801 Q315.544 33.0797 320.081 29.5959 Q324.618 26.1121 332.963 26.1121 Q337.095 26.1121 340.741 26.7198 Q344.386 27.3274 347.465 28.5427 Z\" fill=\"#000000\" fill-rule=\"nonzero\" fill-opacity=\"1\" /><path clip-path=\"url(#clip620)\" d=\"M382.384 49.7694 Q373.35 49.7694 369.867 51.8354 Q366.383 53.9013 366.383 58.8839 Q366.383 62.8538 368.975 65.2034 Q371.609 67.5124 376.105 67.5124 Q382.303 67.5124 386.03 63.1374 Q389.797 58.7219 389.797 51.4303 L389.797 49.7694 L382.384 49.7694 M397.251 46.6907 L397.251 72.576 L389.797 72.576 L389.797 65.6895 Q387.245 69.8214 383.437 71.8063 Q379.629 73.7508 374.12 73.7508 Q367.153 73.7508 363.021 69.8619 Q358.929 65.9325 358.929 59.3701 Q358.929 51.7138 364.033 47.825 Q369.178 43.9361 379.346 43.9361 L389.797 43.9361 L389.797 43.2069 Q389.797 38.0623 386.394 35.2672 Q383.032 32.4315 376.915 32.4315 Q373.026 32.4315 369.34 33.3632 Q365.654 34.295 362.251 36.1584 L362.251 29.2718 Q366.342 27.692 370.191 26.9223 Q374.039 26.1121 377.685 26.1121 Q387.529 26.1121 392.39 31.2163 Q397.251 36.3204 397.251 46.6907 Z\" fill=\"#000000\" fill-rule=\"nonzero\" fill-opacity=\"1\" /><path clip-path=\"url(#clip620)\" d=\"M438.894 34.1734 Q437.638 33.4443 436.139 33.1202 Q434.681 32.7556 432.899 32.7556 Q426.579 32.7556 423.177 36.8875 Q419.814 40.9789 419.814 48.6757 L419.814 72.576 L412.32 72.576 L412.32 27.2059 L419.814 27.2059 L419.814 34.2544 Q422.164 30.1225 425.931 28.1376 Q429.699 26.1121 435.086 26.1121 Q435.856 26.1121 436.788 26.2337 Q437.719 26.3147 438.854 26.5172 L438.894 34.1734 Z\" fill=\"#000000\" fill-rule=\"nonzero\" fill-opacity=\"1\" /><path clip-path=\"url(#clip620)\" d=\"M446.712 27.2059 L454.166 27.2059 L454.166 72.576 L446.712 72.576 L446.712 27.2059 M446.712 9.54393 L454.166 9.54393 L454.166 18.9825 L446.712 18.9825 L446.712 9.54393 Z\" fill=\"#000000\" fill-rule=\"nonzero\" fill-opacity=\"1\" /><path clip-path=\"url(#clip620)\" d=\"M490.381 49.7694 Q481.348 49.7694 477.864 51.8354 Q474.38 53.9013 474.38 58.8839 Q474.38 62.8538 476.973 65.2034 Q479.606 67.5124 484.102 67.5124 Q490.3 67.5124 494.027 63.1374 Q497.794 58.7219 497.794 51.4303 L497.794 49.7694 L490.381 49.7694 M505.248 46.6907 L505.248 72.576 L497.794 72.576 L497.794 65.6895 Q495.242 69.8214 491.434 71.8063 Q487.626 73.7508 482.117 73.7508 Q475.15 73.7508 471.018 69.8619 Q466.926 65.9325 466.926 59.3701 Q466.926 51.7138 472.03 47.825 Q477.175 43.9361 487.343 43.9361 L497.794 43.9361 L497.794 43.2069 Q497.794 38.0623 494.391 35.2672 Q491.029 32.4315 484.912 32.4315 Q481.023 32.4315 477.337 33.3632 Q473.651 34.295 470.248 36.1584 L470.248 29.2718 Q474.339 27.692 478.188 26.9223 Q482.036 26.1121 485.682 26.1121 Q495.526 26.1121 500.387 31.2163 Q505.248 36.3204 505.248 46.6907 Z\" fill=\"#000000\" fill-rule=\"nonzero\" fill-opacity=\"1\" /><path clip-path=\"url(#clip620)\" d=\"M520.601 9.54393 L528.054 9.54393 L528.054 72.576 L520.601 72.576 L520.601 9.54393 Z\" fill=\"#000000\" fill-rule=\"nonzero\" fill-opacity=\"1\" /><path clip-path=\"url(#clip620)\" d=\"M608.83 48.0275 L608.83 51.6733 L574.559 51.6733 Q575.045 59.3701 579.177 63.421 Q583.349 67.4314 590.762 67.4314 Q595.056 67.4314 599.067 66.3781 Q603.118 65.3249 607.088 63.2184 L607.088 70.267 Q603.077 71.9684 598.864 72.8596 Q594.651 73.7508 590.317 73.7508 Q579.46 73.7508 573.101 67.4314 Q566.781 61.1119 566.781 50.3365 Q566.781 39.1965 572.776 32.6746 Q578.812 26.1121 589.021 26.1121 Q598.176 26.1121 603.482 32.0264 Q608.83 37.9003 608.83 48.0275 M601.376 45.84 Q601.295 39.7232 597.933 36.0774 Q594.611 32.4315 589.102 32.4315 Q582.863 32.4315 579.096 35.9558 Q575.369 39.4801 574.802 45.8805 L601.376 45.84 Z\" fill=\"#000000\" fill-rule=\"nonzero\" fill-opacity=\"1\" /><path clip-path=\"url(#clip620)\" d=\"M657.319 27.2059 L640.913 49.2833 L658.17 72.576 L649.379 72.576 L636.173 54.752 L622.967 72.576 L614.177 72.576 L631.798 48.8377 L615.676 27.2059 L624.466 27.2059 L636.497 43.369 L648.528 27.2059 L657.319 27.2059 Z\" fill=\"#000000\" fill-rule=\"nonzero\" fill-opacity=\"1\" /><path clip-path=\"url(#clip620)\" d=\"M689.321 49.7694 Q680.287 49.7694 676.804 51.8354 Q673.32 53.9013 673.32 58.8839 Q673.32 62.8538 675.912 65.2034 Q678.546 67.5124 683.042 67.5124 Q689.24 67.5124 692.967 63.1374 Q696.734 58.7219 696.734 51.4303 L696.734 49.7694 L689.321 49.7694 M704.188 46.6907 L704.188 72.576 L696.734 72.576 L696.734 65.6895 Q694.182 69.8214 690.374 71.8063 Q686.566 73.7508 681.057 73.7508 Q674.09 73.7508 669.958 69.8619 Q665.866 65.9325 665.866 59.3701 Q665.866 51.7138 670.97 47.825 Q676.115 43.9361 686.283 43.9361 L696.734 43.9361 L696.734 43.2069 Q696.734 38.0623 693.331 35.2672 Q689.969 32.4315 683.852 32.4315 Q679.963 32.4315 676.277 33.3632 Q672.591 34.295 669.188 36.1584 L669.188 29.2718 Q673.279 27.692 677.128 26.9223 Q680.976 26.1121 684.622 26.1121 Q694.466 26.1121 699.327 31.2163 Q704.188 36.3204 704.188 46.6907 Z\" fill=\"#000000\" fill-rule=\"nonzero\" fill-opacity=\"1\" /><path clip-path=\"url(#clip620)\" d=\"M754.865 35.9153 Q757.66 30.8922 761.549 28.5022 Q765.437 26.1121 770.704 26.1121 Q777.793 26.1121 781.641 31.0947 Q785.489 36.0368 785.489 45.1919 L785.489 72.576 L777.995 72.576 L777.995 45.4349 Q777.995 38.913 775.686 35.7533 Q773.377 32.5936 768.638 32.5936 Q762.845 32.5936 759.483 36.4419 Q756.12 40.2903 756.12 46.9338 L756.12 72.576 L748.626 72.576 L748.626 45.4349 Q748.626 38.8725 746.317 35.7533 Q744.008 32.5936 739.188 32.5936 Q733.476 32.5936 730.114 36.4824 Q726.751 40.3308 726.751 46.9338 L726.751 72.576 L719.257 72.576 L719.257 27.2059 L726.751 27.2059 L726.751 34.2544 Q729.303 30.082 732.868 28.0971 Q736.433 26.1121 741.335 26.1121 Q746.277 26.1121 749.72 28.6237 Q753.204 31.1352 754.865 35.9153 Z\" fill=\"#000000\" fill-rule=\"nonzero\" fill-opacity=\"1\" /><path clip-path=\"url(#clip620)\" d=\"M807.567 65.7705 L807.567 89.8329 L800.073 89.8329 L800.073 27.2059 L807.567 27.2059 L807.567 34.0924 Q809.916 30.0415 813.481 28.0971 Q817.087 26.1121 822.069 26.1121 Q830.333 26.1121 835.478 32.6746 Q840.663 39.2371 840.663 49.9314 Q840.663 60.6258 835.478 67.1883 Q830.333 73.7508 822.069 73.7508 Q817.087 73.7508 813.481 71.8063 Q809.916 69.8214 807.567 65.7705 M832.926 49.9314 Q832.926 41.7081 829.523 37.0496 Q826.161 32.3505 820.246 32.3505 Q814.332 32.3505 810.929 37.0496 Q807.567 41.7081 807.567 49.9314 Q807.567 58.1548 810.929 62.8538 Q814.332 67.5124 820.246 67.5124 Q826.161 67.5124 829.523 62.8538 Q832.926 58.1548 832.926 49.9314 Z\" fill=\"#000000\" fill-rule=\"nonzero\" fill-opacity=\"1\" /><path clip-path=\"url(#clip620)\" d=\"M853.018 9.54393 L860.472 9.54393 L860.472 72.576 L853.018 72.576 L853.018 9.54393 Z\" fill=\"#000000\" fill-rule=\"nonzero\" fill-opacity=\"1\" /><path clip-path=\"url(#clip620)\" d=\"M914.875 48.0275 L914.875 51.6733 L880.605 51.6733 Q881.091 59.3701 885.223 63.421 Q889.395 67.4314 896.808 67.4314 Q901.102 67.4314 905.113 66.3781 Q909.164 65.3249 913.133 63.2184 L913.133 70.267 Q909.123 71.9684 904.91 72.8596 Q900.697 73.7508 896.363 73.7508 Q885.506 73.7508 879.146 67.4314 Q872.827 61.1119 872.827 50.3365 Q872.827 39.1965 878.822 32.6746 Q884.858 26.1121 895.066 26.1121 Q904.221 26.1121 909.528 32.0264 Q914.875 37.9003 914.875 48.0275 M907.422 45.84 Q907.341 39.7232 903.978 36.0774 Q900.657 32.4315 895.147 32.4315 Q888.909 32.4315 885.142 35.9558 Q881.415 39.4801 880.848 45.8805 L907.422 45.84 Z\" fill=\"#000000\" fill-rule=\"nonzero\" fill-opacity=\"1\" /><path clip-path=\"url(#clip620)\" d=\"M929.013 62.2867 L937.56 62.2867 L937.56 72.576 L929.013 72.576 L929.013 62.2867 M929.013 29.6769 L937.56 29.6769 L937.56 39.9662 L929.013 39.9662 L929.013 29.6769 Z\" fill=\"#000000\" fill-rule=\"nonzero\" fill-opacity=\"1\" /><path clip-path=\"url(#clip620)\" d=\"M982.728 71.3202 L982.728 63.8666 Q985.807 65.3249 988.966 66.0946 Q992.126 66.8642 995.164 66.8642 Q1003.27 66.8642 1007.52 61.436 Q1011.81 55.9673 1012.42 44.8678 Q1010.07 48.3516 1006.47 50.215 Q1002.86 52.0784 998.486 52.0784 Q989.412 52.0784 984.105 46.6097 Q978.839 41.1005 978.839 31.5808 Q978.839 22.2638 984.348 16.633 Q989.858 11.0023 999.013 11.0023 Q1009.5 11.0023 1015.01 19.0636 Q1020.56 27.0843 1020.56 42.3968 Q1020.56 56.6965 1013.76 65.2439 Q1006.99 73.7508 995.529 73.7508 Q992.45 73.7508 989.29 73.1431 Q986.131 72.5355 982.728 71.3202 M999.013 45.678 Q1004.52 45.678 1007.72 41.9107 Q1010.96 38.1433 1010.96 31.5808 Q1010.96 25.0589 1007.72 21.2916 Q1004.52 17.4837 999.013 17.4837 Q993.503 17.4837 990.263 21.2916 Q987.062 25.0589 987.062 31.5808 Q987.062 38.1433 990.263 41.9107 Q993.503 45.678 999.013 45.678 Z\" fill=\"#000000\" fill-rule=\"nonzero\" fill-opacity=\"1\" /><path clip-path=\"url(#clip620)\" d=\"M1056.82 46.5287 L1078.65 46.5287 L1078.65 53.1722 L1056.82 53.1722 L1056.82 46.5287 Z\" fill=\"#000000\" fill-rule=\"nonzero\" fill-opacity=\"1\" /><path clip-path=\"url(#clip620)\" d=\"M1091.49 31.7429 L1091.49 24.3702 L1143.43 43.2069 L1143.43 49.9314 L1091.49 68.7682 L1091.49 61.3955 L1133.22 46.6097 L1091.49 31.7429 Z\" fill=\"#000000\" fill-rule=\"nonzero\" fill-opacity=\"1\" /><path clip-path=\"url(#clip620)\" d=\"M1185.39 12.096 L1224.28 12.096 L1224.28 15.5798 L1202.33 72.576 L1193.78 72.576 L1214.44 18.9825 L1185.39 18.9825 L1185.39 12.096 Z\" fill=\"#000000\" fill-rule=\"nonzero\" fill-opacity=\"1\" /><g clip-path=\"url(#clip622)\">\n",
       "<image width=\"1012\" height=\"1363\" xlink:href=\"data:image/png;base64,\n",
       "iVBORw0KGgoAAAANSUhEUgAAA/QAAAVTCAYAAABj7GMOAAAgAElEQVR4nOzZP49u4wKH4TPHFJop\n",
       "UFJqNEtUwiQSiYROouALiEq1K82uVCIRlCg1CC09CYlCZkWhFPEvphQSRObUjzlndiZ7H89zj+v6\n",
       "BL+s9az3XXfWwdHR0dm/FrNt2+wJg33fZ08YrHZ9VrPa/eLGVjvTq52h1a4PF1vt/KxotTO92j1b\n",
       "7fqsZrX7xY2tdqadoYutdr+42L9nDwAAAAAuT9ADAABAkKAHAACAIEEPAAAAQYIeAAAAggQ9AAAA\n",
       "BAl6AAAACBL0AAAAECToAQAAIEjQAwAAQJCgBwAAgCBBDwAAAEGCHgAAAIIEPQAAAAQJegAAAAgS\n",
       "9AAAABAk6AEAACBI0AMAAECQoAcAAIAgQQ8AAABBgh4AAACCBD0AAAAECXoAAAAIEvQAAAAQJOgB\n",
       "AAAgSNADAABAkKAHAACAIEEPAAAAQYIeAAAAggQ9AAAABAl6AAAACBL0AAAAECToAQAAIEjQAwAA\n",
       "QJCgBwAAgCBBDwAAAEGCHgAAAIIEPQAAAAQJegAAAAgS9AAAABAk6AEAACBI0AMAAECQoAcAAIAg\n",
       "QQ8AAABBgh4AAACCBD0AAAAECXoAAAAIEvQAAAAQdHB0dHQ2e8Rfbds2e8LS9n2fPWHgfl1stfu1\n",
       "ImfoYqudIfeLm+VMc5Wsdp7p8RvEzfCFHgAAAIIEPQAAAAQJegAAAAgS9AAAABAk6AEAACBI0AMA\n",
       "AECQoAcAAIAgQQ8AAABBgh4AAACCBD0AAAAECXoAAAAIEvQAAAAQJOgBAAAgSNADAABAkKAHAACA\n",
       "IEEPAAAAQYIeAAAAggQ9AAAABAl6AAAACBL0AAAAECToAQAAIEjQAwAAQJCgBwAAgCBBDwAAAEGC\n",
       "HgAAAIIEPQAAAAQJegAAAAgS9AAAABAk6AEAACBI0AMAAECQoAcAAIAgQQ8AAABBgh4AAACCBD0A\n",
       "AAAECXoAAAAIEvQAAAAQJOgBAAAgSNADAABAkKAHAACAIEEPAAAAQYIeAAAAggQ9AAAABAl6AAAA\n",
       "CBL0AAAAECToAQAAIEjQAwAAQJCgBwAAgCBBDwAAAEEHR0dHZ7NH/NW2bbMnELbv++wJxPkNalnt\n",
       "mV/t/Kx2fQBYm/+xFl/oAQAAIEjQAwAAQJCgBwAAgCBBDwAAAEGCHgAAAIIEPQAAAAQJegAAAAgS\n",
       "9AAAABAk6AEAACBI0AMAAECQoAcAAIAgQQ8AAABBgh4AAACCBD0AAAAECXoAAAAIEvQAAAAQJOgB\n",
       "AAAgSNADAABAkKAHAACAIEEPAAAAQYIeAAAAggQ9AAAABAl6AAAACBL0AAAAECToAQAAIEjQAwAA\n",
       "QJCgBwAAgCBBDwAAAEGCHgAAAIIEPQAAAAQJegAAAAgS9AAAABAk6AEAACBI0AMAAECQoAcAAIAg\n",
       "QQ8AAABBgh4AAACCBD0AAAAECXoAAAAIEvQAAAAQJOgBAAAgSNADAABAkKAHAACAIEEPAAAAQYIe\n",
       "AAAAggQ9AAAABAl6AAAACBL0AAAAEHRwfHx8NnsEl7Pv++wJAHBlbNs2ewLcMt4Tb2y1Z361e7ba\n",
       "9VnNavfLF3oAAAAIEvQAAAAQJOgBAAAgSNADAABAkKAHAACAIEEPAAAAQYIeAAAAggQ9AAAABAl6\n",
       "AAAACBL0AAAAECToAQAAIEjQAwAAQJCgBwAAgCBBDwAAAEGCHgAAAIIEPQAAAAQJegAAAAgS9AAA\n",
       "ABAk6AEAACBI0AMAAECQoAcAAIAgQQ8AAABBgh4AAACCBD0AAAAECXoAAAAIEvQAAAAQJOgBAAAg\n",
       "SNADAABAkKAHAACAIEEPAAAAQYIeAAAAggQ9AAAABAl6AAAACBL0AAAAECToAQAAIEjQAwAAQJCg\n",
       "BwAAgCBBDwAAAEGCHgAAAIIEPQAAAAQJegAAAAgS9AAAABAk6AEAACBI0AMAAECQoAcAAIAgQQ8A\n",
       "AABBgh4AAACCDo6Pj89mj/irfd9nTxhs2zZ7wmC167Oa1e7XalY8P6vdsxWvEf+b8wP/X6s9Y3Cz\n",
       "/E5zlfhCDwAAAEGCHgAAAIIEPQAAAAQJegAAAAgS9AAAABAk6AEAACBI0AMAAECQoAcAAIAgQQ8A\n",
       "AABBgh4AAACCBD0AAAAECXoAAAAIEvQAAAAQJOgBAAAgSNADAABAkKAHAACAIEEPAAAAQYIeAAAA\n",
       "ggQ9AAAABAl6AAAACBL0AAAAECToAQAAIEjQAwAAQJCgBwAAgCBBDwAAAEGCHgAAAIIEPQAAAAQJ\n",
       "egAAAAgS9AAAABAk6AEAACBI0AMAAECQoAcAAIAgQQ8AAABBgh4AAACCBD0AAAAECXoAAAAIEvQA\n",
       "AAAQJOgBAAAgSNADAABAkKAHAACAIEEPAAAAQYIeAAAAggQ9AAAABAl6AAAACBL0AAAAECToAQAA\n",
       "IEjQAwAAQJCgBwAAgKCDo6Ojs9kj4Fbatm32hMG+77MnDFa7PtzYameIi3nGuFmrPfPO9MXcL27W\n",
       "ameIFl/oAQAAIEjQAwAAQJCgBwAAgCBBDwAAAEGCHgAAAIIEPQAAAAQJegAAAAgS9AAAABAk6AEA\n",
       "ACBI0AMAAECQoAcAAIAgQQ8AAABBgh4AAACCBD0AAAAECXoAAAAIEvQAAAAQJOgBAAAgSNADAABA\n",
       "kKAHAACAIEEPAAAAQYIeAAAAggQ9AAAABAl6AAAACBL0AAAAECToAQAAIEjQAwAAQJCgBwAAgCBB\n",
       "DwAAAEGCHgAAAIIEPQAAAAQJegAAAAgS9AAAABAk6AEAACBI0AMAAECQoAcAAIAgQQ8AAABBgh4A\n",
       "AACCBD0AAAAECXoAAAAIEvQAAAAQJOgBAAAgSNADAABAkKAHAACAIEEPAAAAQYIeAAAAggQ9AAAA\n",
       "BAl6AAAACBL0AAAAEHRwfHx8NnsEAFwV+77PngC31LZtsyfALeV3mqvEF3oAAAAIEvQAAAAQJOgB\n",
       "AAAgSNADAABAkKAHAACAIEEPAAAAQYIeAAAAggQ9AAAABAl6AAAACBL0AAAAECToAQAAIEjQAwAA\n",
       "QJCgBwAAgCBBDwAAAEGCHgAAAIIEPQAAAAQJegAAAAgS9AAAABAk6AEAACBI0AMAAECQoAcAAIAg\n",
       "QQ8AAABBgh4AAACCBD0AAAAECXoAAAAIEvQAAAAQJOgBAAAgSNADAABAkKAHAACAIEEPAAAAQYIe\n",
       "AAAAggQ9AAAABAl6AAAACBL0AAAAECToAQAAIEjQAwAAQJCgBwAAgCBBDwAAAEGCHgAAAIIEPQAA\n",
       "AAQJegAAAAgS9AAAABAk6AEAACBI0AMAAECQoAcAAIAgQQ8AAABBgh4AAACCDmcPAKDlwQcfnD1h\n",
       "8Nxzz82eMDg9PZ09YXBwcDB7wjlvvfXW7AmDr7/+evaEwR9//DF7AmH7vs+esLxt22ZPWJoz1OIL\n",
       "PQAAAAQJegAAAAgS9AAAABAk6AEAACBI0AMAAECQoAcAAIAgQQ8AAABBgh4AAACCBD0AAAAECXoA\n",
       "AAAIEvQAAAAQJOgBAAAgSNADAABAkKAHAACAIEEPAAAAQYIeAAAAggQ9AAAABAl6AAAACBL0AAAA\n",
       "ECToAQAAIEjQAwAAQJCgBwAAgCBBDwAAAEGCHgAAAIIEPQAAAAQJegAAAAgS9AAAABAk6AEAACBI\n",
       "0AMAAECQoAcAAIAgQQ8AAABBgh4AAACCBD0AAAAECXoAAAAIEvQAAAAQJOgBAAAgSNADAABAkKAH\n",
       "AACAIEEPAAAAQYIeAAAAggQ9AAAABAl6AAAACBL0AAAAECToAQAAIEjQAwAAQJCgBwAAgCBBDwAA\n",
       "AEGCHgAAAIIOZw8A4GIPP/zw7AmD69evz54wODk5mT1haWdnZ7MnnPP666/PnjD49ttvZ08YPP/8\n",
       "87MnDD7//PPZEwbbts2eALAMX+gBAAAgSNADAABAkKAHAACAIEEPAAAAQYIeAAAAggQ9AAAABAl6\n",
       "AAAACBL0AAAAECToAQAAIEjQAwAAQJCgBwAAgCBBDwAAAEGCHgAAAIIEPQAAAAQJegAAAAgS9AAA\n",
       "ABAk6AEAACBI0AMAAECQoAcAAIAgQQ8AAABBgh4AAACCBD0AAAAECXoAAAAIEvQAAAAQJOgBAAAg\n",
       "SNADAABAkKAHAACAIEEPAAAAQYIeAAAAggQ9AAAABAl6AAAACBL0AAAAECToAQAAIEjQAwAAQJCg\n",
       "BwAAgCBBDwAAAEGCHgAAAIIEPQAAAAQJegAAAAgS9AAAABAk6AEAACBI0AMAAECQoAcAAIAgQQ8A\n",
       "AABBgh4AAACCBD0AAAAECXoAAAAIEvQAAAAQdDh7QMG+77MnLG3bttkT4Ja6/fbbZ08YXL9+ffaE\n",
       "wcnJyewJg/vvv3/2hMFqex599NHZE8559dVXZ08Y3HPPPbMnDB555JHZEwa//fbb7AlcgvcybtZq\n",
       "Z2i1Flvt+vhCDwAAAEGCHgAAAIIEPQAAAAQJegAAAAgS9AAAABAk6AEAACBI0AMAAECQoAcAAIAg\n",
       "QQ8AAABBgh4AAACCBD0AAAAECXoAAAAIEvQAAAAQJOgBAAAgSNADAABAkKAHAACAIEEPAAAAQYIe\n",
       "AAAAggQ9AAAABAl6AAAACBL0AAAAECToAQAAIEjQAwAAQJCgBwAAgCBBDwAAAEGCHgAAAIIEPQAA\n",
       "AAQJegAAAAgS9AAAABAk6AEAACBI0AMAAECQoAcAAIAgQQ8AAABBgh4AAACCBD0AAAAECXoAAAAI\n",
       "EvQAAAAQJOgBAAAgSNADAABAkKAHAACAIEEPAAAAQYIeAAAAggQ9AAAABAl6AAAACBL0AAAAECTo\n",
       "AQAAIEjQAwAAQNDh7AEF27bNnjDY9332BMKcnxt76aWXZk9Y2h133DF7wuDuu++ePWFp77333uwJ\n",
       "5/zwww+zJwzeeeed2RMG165dmz1hcNttt82eMPjoo49mTyDOuxBXiS/0AAAAECToAQAAIEjQAwAA\n",
       "QJCgBwAAgCBBDwAAAEGCHgAAAIIEPQAAAAQJegAAAAgS9AAAABAk6AEAACBI0AMAAECQoAcAAIAg\n",
       "QQ8AAABBgh4AAACCBD0AAAAECXoAAAAIEvQAAAAQJOgBAAAgSNADAABAkKAHAACAIEEPAAAAQYIe\n",
       "AAAAggQ9AAAABAl6AAAACBL0AAAAECToAQAAIEjQAwAAQJCgBwAAgCBBDwAAAEGCHgAAAIIEPQAA\n",
       "AAQJegAAAAgS9AAAABAk6AEAACBI0AMAAECQoAcAAIAgQQ8AAABBgh4AAACCBD0AAAAECXoAAAAI\n",
       "EvQAAAAQJOgBAAAgSNADAABAkKAHAACAIEEPAAAAQYIeAAAAggQ9AAAABAl6AAAACDo4Pj4+mz0C\n",
       "+Pvs+z57wjnbts2eMPjwww9nT1jas88+O3vCwP3qWe2Zv++++2ZPGLzyyiuzJwx+//332RMGTz75\n",
       "5OwJcEut+G7G/7baf5gv9AAAABAk6AEAACBI0AMAAECQoAcAAIAgQQ8AAABBgh4AAACCBD0AAAAE\n",
       "CXoAAAAIEvQAAAAQJOgBAAAgSNADAABAkKAHAACAIEEPAAAAQYIeAAAAggQ9AAAABAl6AAAACBL0\n",
       "AAAAECToAQAAIEjQAwAAQJCgBwAAgCBBDwAAAEGCHgAAAIIEPQAAAAQJegAAAAgS9AAAABAk6AEA\n",
       "ACBI0AMAAECQoAcAAIAgQQ8AAABBgh4AAACCBD0AAAAECXoAAAAIEvQAAAAQJOgBAAAgSNADAABA\n",
       "kKAHAACAIEEPAAAAQYIeAAAAggQ9AAAABAl6AAAACBL0AAAAECToAQAAIEjQAwAAQJCgBwAAgCBB\n",
       "DwAAAEGCHgAAAIIEPQAAAAQJegAAAAg6nD2Avn3fZ08YbNs2e8LA9eGq+e6772ZPGKx2pld75le0\n",
       "2jV67bXXZk8YnJyczJ4w+Oqrr2ZPGKx2frgxv9MXW+360OILPQAAAAQJegAAAAgS9AAAABAk6AEA\n",
       "ACBI0AMAAECQoAcAAIAgQQ8AAABBgh4AAACCBD0AAAAECXoAAAAIEvQAAAAQJOgBAAAgSNADAABA\n",
       "kKAHAACAIEEPAAAAQYIeAAAAggQ9AAAABAl6AAAACBL0AAAAECToAQAAIEjQAwAAQJCgBwAAgCBB\n",
       "DwAAAEGCHgAAAIIEPQAAAAQJegAAAAgS9AAAABAk6AEAACBI0AMAAECQoAcAAIAgQQ8AAABBgh4A\n",
       "AACCBD0AAAAECXoAAAAIEvQAAAAQJOgBAAAgSNADAABAkKAHAACAIEEPAAAAQYIeAAAAggQ9AAAA\n",
       "BAl6AAAACBL0AAAAECToAQAAIEjQAwAAQJCgBwAAgCBBDwAAAEGH+77P3nDOtm2zJ3AJ7tfFXJ+e\n",
       "d999d/aEwb333jt7wmDF/w1aHnjggdkTBj///PPsCYPDw8PZEwYPPfTQ7AlL8z/f455xM1Z7D/KF\n",
       "HgAAAIIEPQAAAAQJegAAAAgS9AAAABAk6AEAACBI0AMAAECQoAcAAIAgQQ8AAABBgh4AAACCBD0A\n",
       "AAAECXoAAAAIEvQAAAAQJOgBAAAgSNADAABAkKAHAACAIEEPAAAAQYIeAAAAggQ9AAAABAl6AAAA\n",
       "CBL0AAAAECToAQAAIEjQAwAAQJCgBwAAgCBBDwAAAEGCHgAAAIIEPQAAAAQJegAAAAgS9AAAABAk\n",
       "6AEAACBI0AMAAECQoAcAAIAgQQ8AAABBgh4AAACCBD0AAAAECXoAAAAIEvQAAAAQJOgBAAAgSNAD\n",
       "AABAkKAHAACAIEEPAAAAQYIeAAAAggQ9AAAABAl6AAAACBL0AAAAECToAQAAIEjQAwAAQJCgBwAA\n",
       "gCBBDwAAAEGH27bN3gD8jfZ9nz3hnNV+h55++unZE5b22GOPzZ4wOD09nT1h8NNPP82eMHj55Zdn\n",
       "TzjnzjvvnD2BS/jyyy9nTxis9p8BV81q74qe+Yv5Qg8AAABBgh4AAACCBD0AAAAECXoAAAAIEvQA\n",
       "AAAQJOgBAAAgSNADAABAkKAHAACAIEEPAAAAQYIeAAAAggQ9AAAABAl6AAAACBL0AAAAECToAQAA\n",
       "IEjQAwAAQJCgBwAAgCBBDwAAAEGCHgAAAIIEPQAAAAQJegAAAAgS9AAAABAk6AEAACBI0AMAAECQ\n",
       "oAcAAIAgQQ8AAABBgh4AAACCBD0AAAAECXoAAAAIEvQAAAAQJOgBAAAgSNADAABAkKAHAACAIEEP\n",
       "AAAAQYIeAAAAggQ9AAAABAl6AAAACBL0AAAAECToAQAAIEjQAwAAQJCgBwAAgCBBDwAAAEGCHgAA\n",
       "AIIEPQAAAAQJegAAAAgS9AAAABAk6AEAACBI0AMAAECQoAcAAICgw9kD/pt932dPGGzbNnvC0tyv\n",
       "lhWvz2pn6IMPPpg9YfDUU0/NnjC4du3a7AnEffrpp7MnDD755JPZEwZvv/327AmDzz77bPYE4B9s\n",
       "tffE1d6lfaEHAACAIEEPAAAAQYIeAAAAggQ9AAAABAl6AAAACBL0AAAAECToAQAAIEjQAwAAQJCg\n",
       "BwAAgCBBDwAAAEGCHgAAAIIEPQAAAAQJegAAAAgS9AAAABAk6AEAACBI0AMAAECQoAcAAIAgQQ8A\n",
       "AABBgh4AAACCBD0AAAAECXoAAAAIEvQAAAAQJOgBAAAgSNADAABAkKAHAACAIEEPAAAAQYIeAAAA\n",
       "ggQ9AAAABAl6AAAACBL0AAAAECToAQAAIEjQAwAAQJCgBwAAgCBBDwAAAEGCHgAAAIIEPQAAAAQJ\n",
       "egAAAAgS9AAAABAk6AEAACBI0AMAAECQoAcAAIAgQQ8AAABBgh4AAACCBD0AAAAECXoAAAAIEvQA\n",
       "AAAQJOgBAAAg6HD2gP9m27bZEwb7vs+eMFjt+sDNWu1Mv/nmm7MnDF544YXZEwZPPPHE7AmDu+66\n",
       "a/aEpf3444+zJ5zzzTffzJ4wePHFF2dPWNoXX3wxewLAMlZrQ1/oAQAAIEjQAwAAQJCgBwAAgCBB\n",
       "DwAAAEGCHgAAAIIEPQAAAAQJegAAAAgS9AAAABAk6AEAACBI0AMAAECQoAcAAIAgQQ8AAABBgh4A\n",
       "AACCBD0AAAAECXoAAAAIEvQAAAAQJOgBAAAgSNADAABAkKAHAACAIEEPAAAAQYIeAAAAggQ9AAAA\n",
       "BAl6AAAACBL0AAAAECToAQAAIEjQAwAAQJCgBwAAgCBBDwAAAEGCHgAAAIIEPQAAAAQJegAAAAgS\n",
       "9AAAABAk6AEAACBI0AMAAECQoAcAAIAgQQ8AAABBgh4AAACCBD0AAAAECXoAAAAIEvQAAAAQJOgB\n",
       "AAAgSNADAABAkKAHAACAIEEPAAAAQYIeAAAAggQ9AAAABAl6AAAACBL0AAAAEHS47/vsDcvbtm32\n",
       "hMFq92y16wNXzS+//DJ7wuD999+fPYG41f43Dg4OZk9Y2q+//jp7AvA3Wu03erX2WY0v9AAAABAk\n",
       "6AEAACBI0AMAAECQoAcAAIAgQQ8AAABBgh4AAACCBD0AAAAECXoAAAAIEvQAAAAQJOgBAAAgSNAD\n",
       "AABAkKAHAACAIEEPAAAAQYIeAAAAggQ9AAAABAl6AAAACBL0AAAAECToAQAAIEjQAwAAQJCgBwAA\n",
       "gCBBDwAAAEGCHgAAAIIEPQAAAAQJegAAAAgS9AAAABAk6AEAACBI0AMAAECQoAcAAIAgQQ8AAABB\n",
       "gh4AAACCBD0AAAAECXoAAAAIEvQAAAAQJOgBAAAgSNADAABAkKAHAACAIEEPAAAAQYIeAAAAggQ9\n",
       "AAAABAl6AAAACBL0AAAAECToAQAAIEjQAwAAQJCgBwAAgCBBDwAAAEGCHgAAAIIEPQAAAAQJegAA\n",
       "AAg63LZt9gbi9n2fPYFLWPGZd4bgn2W1Z/7s7Gz2hMGff/45e8Lg9PR09gS4pVb7DVrx3YwOX+gB\n",
       "AAAgSNADAABAkKAHAACAIEEPAAAAQYIeAAAAggQ9AAAABAl6AAAACBL0AAAAECToAQAAIEjQAwAA\n",
       "QJCgBwAAgCBBDwAAAEGCHgAAAIIEPQAAAAQJegAAAAgS9AAAABAk6AEAACBI0AMAAECQoAcAAIAg\n",
       "QQ8AAABBgh4AAACCBD0AAAAECXoAAAAIEvQAAAAQJOgBAAAgSNADAABAkKAHAACAIEEPAAAAQYIe\n",
       "AAAAggQ9AAAABAl6AAAACBL0AAAAECToAQAAIEjQAwAAQJCgBwAAgCBBDwAAAEGCHgAAAIIEPQAA\n",
       "AAQJegAAAAgS9AAAABAk6AEAACBI0AMAAECQoAcAAIAgQQ8AAABBgh4AAACCBD0AAAAECXoAAAAI\n",
       "Ojg+Pj6bPYLL2fd99gQuYdu22ROI88zD/9czzzwze8Lg+++/nz1h8PHHH8+esLTV/uf9Z8A/iy/0\n",
       "AAAAECToAQAAIEjQAwAAQJCgBwAAgCBBDwAAAEGCHgAAAIIEPQAAAAQJegAAAAgS9AAAABAk6AEA\n",
       "ACBI0AMAAECQoAcAAIAgQQ8AAABBgh4AAACCBD0AAAAECXoAAAAIEvQAAAAQJOgBAAAgSNADAABA\n",
       "kKAHAACAIEEPAAAAQYIeAAAAggQ9AAAABAl6AAAACBL0AAAAECToAQAAIEjQAwAAQJCgBwAAgCBB\n",
       "DwAAAEGCHgAAAIIEPQAAAAQJegAAAAgS9AAAABAk6AEAACBI0AMAAECQoAcAAIAgQQ8AAABBgh4A\n",
       "AACCBD0AAAAECXoAAAAIEvQAAAAQJOgBAAAgSNADAABAkKAHAACAIEEPAAAAQYIeAAAAggQ9AAAA\n",
       "BAl6AAAACDqcPQBgNfu+z57AJWzbNnvC0pznG3v88cdnTxi88cYbsydwCZ4xYCZf6AEAACBI0AMA\n",
       "AECQoAcAAIAgQQ8AAABBgh4AAACCBD0AAAAECXoAAAAIEvQA/Kc9O0iJJAnAMNoNtZME8SBxAfFI\n",
       "ntC14DpWbt15i57lkNMz1UiPHfHJeyf4yczIqo8EACBI0AMAAECQoAcAAIAgQQ8AAABBgh4AAACC\n",
       "BD0AAAAECXoAAAAIEvQAAAAQJOgBAAAgSNADAABAkKAHAACAIEEPAAAAQYIeAAAAggQ9AAAABAl6\n",
       "AAAACBL0AAAAECToAQAAIEjQAwAAQJCgBwAAgCBBDwAAAEGCHgAAAIIEPQAAAAQJegAAAAgS9AAA\n",
       "ABAk6AEAACBI0AMAAECQoAcAAIAgQQ8AAABBgh4AAACCBD0AAAAECXoAAAAIEvQAAAAQJOgBAAAg\n",
       "SNADAABAkKAHAACAIEEPAAAAQYIeAAAAggQ9AAAABAl6AAAACBL0AAAAECToAQAAIOgy51y9Ab40\n",
       "Z4zfNcZYPQG+tJubm9UTAPgP/gdd5ws9AAAABAl6AAAACBL0AAAAECToAQAAIEjQAwAAQJCgBwAA\n",
       "gCBBDwAAAEGCHgAAAIIEPQAAAAQJegAAAAgS9AAAABAk6AEAACBI0AMAAECQoAcAAIAgQQ8AAABB\n",
       "gh4AAACCBD0AAAAECXoAAAAIEvQAAAAQJOgBAAAgSNADAABAkKAHAACAIEEPAAAAQYIeAAAAggQ9\n",
       "AAAABAl6AAAACBL0AAAAECToAQAAIEjQAwAAQJCgBwAAgCBBDwAAAEGCHgAAAIIEPQAAAAQJegAA\n",
       "AAgS9AAAABAk6AEAACBI0AMAAECQoAcAAIAgQQ8AAABBgh4AAACCBD0AAAAECXoAAAAIEvQAAAAQ\n",
       "JOgBAAAgSNADAABAkKAHAACAIEEPAAAAQZfVA+D/NsZYPQH4g+acqyfwQXd3d6snnBzHsXrCycvL\n",
       "y+oJW9vtd9476NfcM/g8vtADAABAkKAHAACAIEEPAAAAQYIeAAAAggQ9AAAABAl6AAAACBL0AAAA\n",
       "ECToAQAAIEjQAwAAQJCgBwAAgCBBDwAAAEGCHgAAAIIEPQAAAAQJegAAAAgS9AAAABAk6AEAACBI\n",
       "0AMAAECQoAcAAIAgQQ8AAABBgh4AAACCBD0AAAAECXoAAAAIEvQAAAAQJOgBAAAgSNADAABAkKAH\n",
       "AACAIEEPAAAAQYIeAAAAggQ9AAAABAl6AAAACBL0AAAAECToAQAAIEjQAwAAQJCgBwAAgCBBDwAA\n",
       "AEGCHgAAAIIEPQAAAAQJegAAAAgS9AAAAI6rfAEAAAb3SURBVBAk6AEAACBI0AMAAECQoAcAAIAg\n",
       "QQ8AAABBgh4AAACCBD0AAAAECXoAAAAIEvQAAAAQJOgBAAAg6LJ6wL8ZY6yecDLnXD0BvrTdzthu\n",
       "7yCu2+1+7fY87+jh4WH1BMKcset2eyd+++ae1ez4DO1kt+fZF3oAAAAIEvQAAAAQJOgBAAAgSNAD\n",
       "AABAkKAHAACAIEEPAAAAQYIeAAAAggQ9AAAABAl6AAAACBL0AAAAECToAQAAIEjQAwAAQJCgBwAA\n",
       "gCBBDwAAAEGCHgAAAIIEPQAAAAQJegAAAAgS9AAAABAk6AEAACBI0AMAAECQoAcAAIAgQQ8AAABB\n",
       "gh4AAACCBD0AAAAECXoAAAAIEvQAAAAQJOgBAAAgSNADAABAkKAHAACAIEEPAAAAQYIeAAAAggQ9\n",
       "AAAABAl6AAAACBL0AAAAECToAQAAIEjQAwAAQJCgBwAAgCBBDwAAAEGCHgAAAIIEPQAAAAQJegAA\n",
       "AAgS9AAAABAk6AEAACBI0AMAAECQoAcAAIAgQQ8AAABBgh4AAACCBD0AAAAEXcYYqzf8ZM65esLJ\n",
       "btdot+tDi+fn11wjfsduvxk7ur29XT3h5P39ffWEk/v7+9UTTp6fn1dPOHHGrvMbBp9rt3eQL/QA\n",
       "AAAQJOgBAAAgSNADAABAkKAHAACAIEEPAAAAQYIeAAAAggQ9AAAABAl6AAAACBL0AAAAECToAQAA\n",
       "IEjQAwAAQJCgBwAAgCBBDwAAAEGCHgAAAIIEPQAAAAQJegAAAAgS9AAAABAk6AEAACBI0AMAAECQ\n",
       "oAcAAIAgQQ8AAABBgh4AAACCBD0AAAAECXoAAAAIEvQAAAAQJOgBAAAgSNADAABAkKAHAACAIEEP\n",
       "AAAAQYIeAAAAggQ9AAAABAl6AAAACBL0AAAAECToAQAAIEjQAwAAQJCgBwAAgCBBDwAAAEGCHgAA\n",
       "AIIEPQAAAAQJegAAAAgS9AAAABAk6AEAACBI0AMAAECQoAcAAIAgQQ8AAABBgh4AAACCBD0AAAAE\n",
       "fT+O48fqEf80xlg94WTOuXrCyW7XZze73S8Azp6enlZPOHl9fV094eTx8XH1BOAP2u2/vf/SLb7Q\n",
       "AwAAQJCgBwAAgCBBDwAAAEGCHgAAAIIEPQAAAAQJegAAAAgS9AAAABAk6AEAACBI0AMAAECQoAcA\n",
       "AIAgQQ8AAABBgh4AAACCBD0AAAAECXoAAAAIEvQAAAAQJOgBAAAgSNADAABAkKAHAACAIEEPAAAA\n",
       "QYIeAAAAggQ9AAAABAl6AAAACBL0AAAAECToAQAAIEjQAwAAQJCgBwAAgCBBDwAAAEGCHgAAAIIE\n",
       "PQAAAAQJegAAAAgS9AAAABAk6AEAACBI0AMAAECQoAcAAIAgQQ8AAABBgh4AAACCBD0AAAAECXoA\n",
       "AAAIEvQAAAAQJOgBAAAgSNADAABAkKAHAACAIEEPAAAAQYIeAAAAggQ9AAAABAl6AAAACBL0AAAA\n",
       "ECToAQAAIOgyxli94SdzztUTTna7RrtdHwD+5jej5+3tbfUEPsAZ63HPrtttj/vV4gs9AAAABAl6\n",
       "AAAACBL0AAAAECToAQAAIEjQAwAAQJCgBwAAgCBBDwAAAEGCHgAAAIIEPQAAAAQJegAAAAgS9AAA\n",
       "ABAk6AEAACBI0AMAAECQoAcAAIAgQQ8AAABBgh4AAACCBD0AAAAECXoAAAAIEvQAAAAQJOgBAAAg\n",
       "SNADAABAkKAHAACAIEEPAAAAQYIeAAAAggQ9AAAABAl6AAAACBL0AAAAECToAQAAIEjQAwAAQJCg\n",
       "BwAAgCBBDwAAAEGCHgAAAIIEPQAAAAQJegAAAAgS9AAAABAk6AEAACBI0AMAAECQoAcAAIAgQQ8A\n",
       "AABBgh4AAACCBD0AAAAECXoAAAAIEvQAAAAQJOgBAAAgSNADAABAkKAHAACAIEEPAAAAQYIeAAAA\n",
       "gr4fx/Fj9QjaxhirJ2xtzrl6Ah/kmb7OMw2fa7d3kDN/3W73ix5nrGW3M+8LPQAAAAQJegAAAAgS\n",
       "9AAAABAk6AEAACBI0AMAAECQoAcAAIAgQQ8AAABBgh4AAACCBD0AAAAECXoAAAAIEvQAAAAQJOgB\n",
       "AAAgSNADAABAkKAHAACAIEEPAAAAQYIeAAAAggQ9AAAABAl6AAAACBL0AAAAECToAQAAIEjQAwAA\n",
       "QJCgBwAAgCBBDwAAAEGCHgAAAIIEPQAAAAQJegAAAAgS9AAAABAk6AEAACBI0AMAAECQoAcAAIAg\n",
       "QQ8AAABBgh4AAACCBD0AAAAECXoAAAAIEvQAAAAQJOgBAAAgSNADAABAkKAHAACAIEEPAAAAQYIe\n",
       "AAAAggQ9AAAABAl6AAAACBL0AAAAECToAQAAIEjQAwAAQJCgBwAAgCBBDwAAAEF/ATMu7LALIEww\n",
       "AAAAAElFTkSuQmCC\n",
       "\" transform=\"translate(141, 123)\"/>\n",
       "</g>\n",
       "<path clip-path=\"url(#clip620)\" d=\"M1340.7 1486.45 L2352.76 1486.45 L2352.76 123.472 L1340.7 123.472  Z\" fill=\"#ffffff\" fill-rule=\"evenodd\" fill-opacity=\"1\"/>\n",
       "<defs>\n",
       "  <clipPath id=\"clip623\">\n",
       "    <rect x=\"1340\" y=\"123\" width=\"1013\" height=\"1364\"/>\n",
       "  </clipPath>\n",
       "</defs>\n",
       "<polyline clip-path=\"url(#clip623)\" style=\"stroke:#000000; stroke-linecap:round; stroke-linejoin:round; stroke-width:2; stroke-opacity:0.1; fill:none\" points=\"1503.35,1486.45 1503.35,123.472 \"/>\n",
       "<polyline clip-path=\"url(#clip623)\" style=\"stroke:#000000; stroke-linecap:round; stroke-linejoin:round; stroke-width:2; stroke-opacity:0.1; fill:none\" points=\"1684.07,1486.45 1684.07,123.472 \"/>\n",
       "<polyline clip-path=\"url(#clip623)\" style=\"stroke:#000000; stroke-linecap:round; stroke-linejoin:round; stroke-width:2; stroke-opacity:0.1; fill:none\" points=\"1864.8,1486.45 1864.8,123.472 \"/>\n",
       "<polyline clip-path=\"url(#clip623)\" style=\"stroke:#000000; stroke-linecap:round; stroke-linejoin:round; stroke-width:2; stroke-opacity:0.1; fill:none\" points=\"2045.52,1486.45 2045.52,123.472 \"/>\n",
       "<polyline clip-path=\"url(#clip623)\" style=\"stroke:#000000; stroke-linecap:round; stroke-linejoin:round; stroke-width:2; stroke-opacity:0.1; fill:none\" points=\"2226.25,1486.45 2226.25,123.472 \"/>\n",
       "<polyline clip-path=\"url(#clip623)\" style=\"stroke:#000000; stroke-linecap:round; stroke-linejoin:round; stroke-width:2; stroke-opacity:0.1; fill:none\" points=\"1340.7,1267.4 2352.76,1267.4 \"/>\n",
       "<polyline clip-path=\"url(#clip623)\" style=\"stroke:#000000; stroke-linecap:round; stroke-linejoin:round; stroke-width:2; stroke-opacity:0.1; fill:none\" points=\"1340.7,1024.01 2352.76,1024.01 \"/>\n",
       "<polyline clip-path=\"url(#clip623)\" style=\"stroke:#000000; stroke-linecap:round; stroke-linejoin:round; stroke-width:2; stroke-opacity:0.1; fill:none\" points=\"1340.7,780.621 2352.76,780.621 \"/>\n",
       "<polyline clip-path=\"url(#clip623)\" style=\"stroke:#000000; stroke-linecap:round; stroke-linejoin:round; stroke-width:2; stroke-opacity:0.1; fill:none\" points=\"1340.7,537.233 2352.76,537.233 \"/>\n",
       "<polyline clip-path=\"url(#clip623)\" style=\"stroke:#000000; stroke-linecap:round; stroke-linejoin:round; stroke-width:2; stroke-opacity:0.1; fill:none\" points=\"1340.7,293.844 2352.76,293.844 \"/>\n",
       "<path clip-path=\"url(#clip620)\" d=\"M1435.26 16.7545 L1435.26 25.383 Q1431.12 21.5346 1426.42 19.6307 Q1421.77 17.7268 1416.5 17.7268 Q1406.13 17.7268 1400.62 24.0867 Q1395.11 30.4061 1395.11 42.3968 Q1395.11 54.3469 1400.62 60.7069 Q1406.13 67.0263 1416.5 67.0263 Q1421.77 67.0263 1426.42 65.1223 Q1431.12 63.2184 1435.26 59.3701 L1435.26 67.9175 Q1430.96 70.8341 1426.14 72.2924 Q1421.36 73.7508 1416.01 73.7508 Q1402.28 73.7508 1394.38 65.3654 Q1386.48 56.9395 1386.48 42.3968 Q1386.48 27.8135 1394.38 19.4281 Q1402.28 11.0023 1416.01 11.0023 Q1421.44 11.0023 1426.22 12.4606 Q1431.04 13.8784 1435.26 16.7545 Z\" fill=\"#000000\" fill-rule=\"nonzero\" fill-opacity=\"1\" /><path clip-path=\"url(#clip620)\" d=\"M1447.57 9.54393 L1455.02 9.54393 L1455.02 72.576 L1447.57 72.576 L1447.57 9.54393 Z\" fill=\"#000000\" fill-rule=\"nonzero\" fill-opacity=\"1\" /><path clip-path=\"url(#clip620)\" d=\"M1509.43 48.0275 L1509.43 51.6733 L1475.16 51.6733 Q1475.64 59.3701 1479.77 63.421 Q1483.95 67.4314 1491.36 67.4314 Q1495.65 67.4314 1499.66 66.3781 Q1503.72 65.3249 1507.69 63.2184 L1507.69 70.267 Q1503.67 71.9684 1499.46 72.8596 Q1495.25 73.7508 1490.91 73.7508 Q1480.06 73.7508 1473.7 67.4314 Q1467.38 61.1119 1467.38 50.3365 Q1467.38 39.1965 1473.37 32.6746 Q1479.41 26.1121 1489.62 26.1121 Q1498.77 26.1121 1504.08 32.0264 Q1509.43 37.9003 1509.43 48.0275 M1501.97 45.84 Q1501.89 39.7232 1498.53 36.0774 Q1495.21 32.4315 1489.7 32.4315 Q1483.46 32.4315 1479.69 35.9558 Q1475.97 39.4801 1475.4 45.8805 L1501.97 45.84 Z\" fill=\"#000000\" fill-rule=\"nonzero\" fill-opacity=\"1\" /><path clip-path=\"url(#clip620)\" d=\"M1542.28 49.7694 Q1533.25 49.7694 1529.76 51.8354 Q1526.28 53.9013 1526.28 58.8839 Q1526.28 62.8538 1528.87 65.2034 Q1531.5 67.5124 1536 67.5124 Q1542.2 67.5124 1545.93 63.1374 Q1549.69 58.7219 1549.69 51.4303 L1549.69 49.7694 L1542.28 49.7694 M1557.15 46.6907 L1557.15 72.576 L1549.69 72.576 L1549.69 65.6895 Q1547.14 69.8214 1543.33 71.8063 Q1539.53 73.7508 1534.02 73.7508 Q1527.05 73.7508 1522.92 69.8619 Q1518.83 65.9325 1518.83 59.3701 Q1518.83 51.7138 1523.93 47.825 Q1529.07 43.9361 1539.24 43.9361 L1549.69 43.9361 L1549.69 43.2069 Q1549.69 38.0623 1546.29 35.2672 Q1542.93 32.4315 1536.81 32.4315 Q1532.92 32.4315 1529.24 33.3632 Q1525.55 34.295 1522.15 36.1584 L1522.15 29.2718 Q1526.24 27.692 1530.09 26.9223 Q1533.94 26.1121 1537.58 26.1121 Q1547.42 26.1121 1552.29 31.2163 Q1557.15 36.3204 1557.15 46.6907 Z\" fill=\"#000000\" fill-rule=\"nonzero\" fill-opacity=\"1\" /><path clip-path=\"url(#clip620)\" d=\"M1610.21 45.1919 L1610.21 72.576 L1602.76 72.576 L1602.76 45.4349 Q1602.76 38.994 1600.25 35.7938 Q1597.74 32.5936 1592.71 32.5936 Q1586.68 32.5936 1583.19 36.4419 Q1579.71 40.2903 1579.71 46.9338 L1579.71 72.576 L1572.22 72.576 L1572.22 27.2059 L1579.71 27.2059 L1579.71 34.2544 Q1582.38 30.163 1585.99 28.1376 Q1589.64 26.1121 1594.37 26.1121 Q1602.19 26.1121 1606.2 30.9732 Q1610.21 35.7938 1610.21 45.1919 Z\" fill=\"#000000\" fill-rule=\"nonzero\" fill-opacity=\"1\" /><path clip-path=\"url(#clip620)\" d=\"M1690.26 48.0275 L1690.26 51.6733 L1655.99 51.6733 Q1656.48 59.3701 1660.61 63.421 Q1664.78 67.4314 1672.19 67.4314 Q1676.49 67.4314 1680.5 66.3781 Q1684.55 65.3249 1688.52 63.2184 L1688.52 70.267 Q1684.51 71.9684 1680.29 72.8596 Q1676.08 73.7508 1671.75 73.7508 Q1660.89 73.7508 1654.53 67.4314 Q1648.21 61.1119 1648.21 50.3365 Q1648.21 39.1965 1654.21 32.6746 Q1660.24 26.1121 1670.45 26.1121 Q1679.61 26.1121 1684.91 32.0264 Q1690.26 37.9003 1690.26 48.0275 M1682.81 45.84 Q1682.72 39.7232 1679.36 36.0774 Q1676.04 32.4315 1670.53 32.4315 Q1664.29 32.4315 1660.53 35.9558 Q1656.8 39.4801 1656.23 45.8805 L1682.81 45.84 Z\" fill=\"#000000\" fill-rule=\"nonzero\" fill-opacity=\"1\" /><path clip-path=\"url(#clip620)\" d=\"M1738.75 27.2059 L1722.34 49.2833 L1739.6 72.576 L1730.81 72.576 L1717.6 54.752 L1704.4 72.576 L1695.61 72.576 L1713.23 48.8377 L1697.11 27.2059 L1705.9 27.2059 L1717.93 43.369 L1729.96 27.2059 L1738.75 27.2059 Z\" fill=\"#000000\" fill-rule=\"nonzero\" fill-opacity=\"1\" /><path clip-path=\"url(#clip620)\" d=\"M1770.75 49.7694 Q1761.72 49.7694 1758.23 51.8354 Q1754.75 53.9013 1754.75 58.8839 Q1754.75 62.8538 1757.34 65.2034 Q1759.98 67.5124 1764.47 67.5124 Q1770.67 67.5124 1774.4 63.1374 Q1778.16 58.7219 1778.16 51.4303 L1778.16 49.7694 L1770.75 49.7694 M1785.62 46.6907 L1785.62 72.576 L1778.16 72.576 L1778.16 65.6895 Q1775.61 69.8214 1771.8 71.8063 Q1768 73.7508 1762.49 73.7508 Q1755.52 73.7508 1751.39 69.8619 Q1747.3 65.9325 1747.3 59.3701 Q1747.3 51.7138 1752.4 47.825 Q1757.55 43.9361 1767.71 43.9361 L1778.16 43.9361 L1778.16 43.2069 Q1778.16 38.0623 1774.76 35.2672 Q1771.4 32.4315 1765.28 32.4315 Q1761.39 32.4315 1757.71 33.3632 Q1754.02 34.295 1750.62 36.1584 L1750.62 29.2718 Q1754.71 27.692 1758.56 26.9223 Q1762.41 26.1121 1766.05 26.1121 Q1775.9 26.1121 1780.76 31.2163 Q1785.62 36.3204 1785.62 46.6907 Z\" fill=\"#000000\" fill-rule=\"nonzero\" fill-opacity=\"1\" /><path clip-path=\"url(#clip620)\" d=\"M1836.29 35.9153 Q1839.09 30.8922 1842.98 28.5022 Q1846.87 26.1121 1852.13 26.1121 Q1859.22 26.1121 1863.07 31.0947 Q1866.92 36.0368 1866.92 45.1919 L1866.92 72.576 L1859.43 72.576 L1859.43 45.4349 Q1859.43 38.913 1857.12 35.7533 Q1854.81 32.5936 1850.07 32.5936 Q1844.27 32.5936 1840.91 36.4419 Q1837.55 40.2903 1837.55 46.9338 L1837.55 72.576 L1830.06 72.576 L1830.06 45.4349 Q1830.06 38.8725 1827.75 35.7533 Q1825.44 32.5936 1820.62 32.5936 Q1814.91 32.5936 1811.54 36.4824 Q1808.18 40.3308 1808.18 46.9338 L1808.18 72.576 L1800.69 72.576 L1800.69 27.2059 L1808.18 27.2059 L1808.18 34.2544 Q1810.73 30.082 1814.3 28.0971 Q1817.86 26.1121 1822.76 26.1121 Q1827.71 26.1121 1831.15 28.6237 Q1834.63 31.1352 1836.29 35.9153 Z\" fill=\"#000000\" fill-rule=\"nonzero\" fill-opacity=\"1\" /><path clip-path=\"url(#clip620)\" d=\"M1889 65.7705 L1889 89.8329 L1881.5 89.8329 L1881.5 27.2059 L1889 27.2059 L1889 34.0924 Q1891.35 30.0415 1894.91 28.0971 Q1898.52 26.1121 1903.5 26.1121 Q1911.76 26.1121 1916.91 32.6746 Q1922.09 39.2371 1922.09 49.9314 Q1922.09 60.6258 1916.91 67.1883 Q1911.76 73.7508 1903.5 73.7508 Q1898.52 73.7508 1894.91 71.8063 Q1891.35 69.8214 1889 65.7705 M1914.36 49.9314 Q1914.36 41.7081 1910.95 37.0496 Q1907.59 32.3505 1901.68 32.3505 Q1895.76 32.3505 1892.36 37.0496 Q1889 41.7081 1889 49.9314 Q1889 58.1548 1892.36 62.8538 Q1895.76 67.5124 1901.68 67.5124 Q1907.59 67.5124 1910.95 62.8538 Q1914.36 58.1548 1914.36 49.9314 Z\" fill=\"#000000\" fill-rule=\"nonzero\" fill-opacity=\"1\" /><path clip-path=\"url(#clip620)\" d=\"M1934.45 9.54393 L1941.9 9.54393 L1941.9 72.576 L1934.45 72.576 L1934.45 9.54393 Z\" fill=\"#000000\" fill-rule=\"nonzero\" fill-opacity=\"1\" /><path clip-path=\"url(#clip620)\" d=\"M1996.31 48.0275 L1996.31 51.6733 L1962.03 51.6733 Q1962.52 59.3701 1966.65 63.421 Q1970.83 67.4314 1978.24 67.4314 Q1982.53 67.4314 1986.54 66.3781 Q1990.59 65.3249 1994.56 63.2184 L1994.56 70.267 Q1990.55 71.9684 1986.34 72.8596 Q1982.13 73.7508 1977.79 73.7508 Q1966.94 73.7508 1960.58 67.4314 Q1954.26 61.1119 1954.26 50.3365 Q1954.26 39.1965 1960.25 32.6746 Q1966.29 26.1121 1976.5 26.1121 Q1985.65 26.1121 1990.96 32.0264 Q1996.31 37.9003 1996.31 48.0275 M1988.85 45.84 Q1988.77 39.7232 1985.41 36.0774 Q1982.09 32.4315 1976.58 32.4315 Q1970.34 32.4315 1966.57 35.9558 Q1962.84 39.4801 1962.28 45.8805 L1988.85 45.84 Z\" fill=\"#000000\" fill-rule=\"nonzero\" fill-opacity=\"1\" /><path clip-path=\"url(#clip620)\" d=\"M2010.44 62.2867 L2018.99 62.2867 L2018.99 72.576 L2010.44 72.576 L2010.44 62.2867 M2010.44 29.6769 L2018.99 29.6769 L2018.99 39.9662 L2010.44 39.9662 L2010.44 29.6769 Z\" fill=\"#000000\" fill-rule=\"nonzero\" fill-opacity=\"1\" /><path clip-path=\"url(#clip620)\" d=\"M2064.16 71.3202 L2064.16 63.8666 Q2067.24 65.3249 2070.4 66.0946 Q2073.56 66.8642 2076.59 66.8642 Q2084.7 66.8642 2088.95 61.436 Q2093.24 55.9673 2093.85 44.8678 Q2091.5 48.3516 2087.9 50.215 Q2084.29 52.0784 2079.92 52.0784 Q2070.84 52.0784 2065.54 46.6097 Q2060.27 41.1005 2060.27 31.5808 Q2060.27 22.2638 2065.78 16.633 Q2071.29 11.0023 2080.44 11.0023 Q2090.93 11.0023 2096.44 19.0636 Q2101.99 27.0843 2101.99 42.3968 Q2101.99 56.6965 2095.19 65.2439 Q2088.42 73.7508 2076.96 73.7508 Q2073.88 73.7508 2070.72 73.1431 Q2067.56 72.5355 2064.16 71.3202 M2080.44 45.678 Q2085.95 45.678 2089.15 41.9107 Q2092.39 38.1433 2092.39 31.5808 Q2092.39 25.0589 2089.15 21.2916 Q2085.95 17.4837 2080.44 17.4837 Q2074.93 17.4837 2071.69 21.2916 Q2068.49 25.0589 2068.49 31.5808 Q2068.49 38.1433 2071.69 41.9107 Q2074.93 45.678 2080.44 45.678 Z\" fill=\"#000000\" fill-rule=\"nonzero\" fill-opacity=\"1\" /><path clip-path=\"url(#clip620)\" d=\"M2138.25 46.5287 L2160.08 46.5287 L2160.08 53.1722 L2138.25 53.1722 L2138.25 46.5287 Z\" fill=\"#000000\" fill-rule=\"nonzero\" fill-opacity=\"1\" /><path clip-path=\"url(#clip620)\" d=\"M2172.92 31.7429 L2172.92 24.3702 L2224.86 43.2069 L2224.86 49.9314 L2172.92 68.7682 L2172.92 61.3955 L2214.65 46.6097 L2172.92 31.7429 Z\" fill=\"#000000\" fill-rule=\"nonzero\" fill-opacity=\"1\" /><path clip-path=\"url(#clip620)\" d=\"M2269.13 71.3202 L2269.13 63.8666 Q2272.21 65.3249 2275.37 66.0946 Q2278.53 66.8642 2281.57 66.8642 Q2289.67 66.8642 2293.93 61.436 Q2298.22 55.9673 2298.83 44.8678 Q2296.48 48.3516 2292.87 50.215 Q2289.27 52.0784 2284.89 52.0784 Q2275.82 52.0784 2270.51 46.6097 Q2265.24 41.1005 2265.24 31.5808 Q2265.24 22.2638 2270.75 16.633 Q2276.26 11.0023 2285.42 11.0023 Q2295.91 11.0023 2301.42 19.0636 Q2306.97 27.0843 2306.97 42.3968 Q2306.97 56.6965 2300.16 65.2439 Q2293.4 73.7508 2281.93 73.7508 Q2278.86 73.7508 2275.7 73.1431 Q2272.54 72.5355 2269.13 71.3202 M2285.42 45.678 Q2290.93 45.678 2294.13 41.9107 Q2297.37 38.1433 2297.37 31.5808 Q2297.37 25.0589 2294.13 21.2916 Q2290.93 17.4837 2285.42 17.4837 Q2279.91 17.4837 2276.67 21.2916 Q2273.47 25.0589 2273.47 31.5808 Q2273.47 38.1433 2276.67 41.9107 Q2279.91 45.678 2285.42 45.678 Z\" fill=\"#000000\" fill-rule=\"nonzero\" fill-opacity=\"1\" /><g clip-path=\"url(#clip623)\">\n",
       "<image width=\"1012\" height=\"1363\" xlink:href=\"data:image/png;base64,\n",
       "iVBORw0KGgoAAAANSUhEUgAAA/QAAAVTCAYAAABj7GMOAAAgAElEQVR4nOzZv4od1BqH4bMPUwTM\n",
       "DokRhLS5CCF1IFhNayEWKay0mCJlqvyD9GnUNpArMAPBSkQrLWRKCQQGjIONhWAs5pSHxTABOQe+\n",
       "/cLzXMEPVrNevs12uz39FwAAAJDy7+kBAAAAwD8n6AEAACBI0AMAAECQoAcAAIAgQQ8AAABBgh4A\n",
       "AACCBD0AAAAECXoAAAAIEvQAAAAQJOgBAAAgSNADAABAkKAHAACAIEEPAAAAQYIeAAAAggQ9AAAA\n",
       "BAl6AAAACBL0AAAAECToAQAAIEjQAwAAQJCgBwAAgCBBDwAAAEGCHgAAAIIEPQAAAAQJegAAAAgS\n",
       "9AAAABAk6AEAACBI0AMAAECQoAcAAIAgQQ8AAABBgh4AAACCBD0AAAAECXoAAAAIEvQAAAAQJOgB\n",
       "AAAgSNADAABAkKAHAACAIEEPAAAAQYIeAAAAggQ9AAAABAl6AAAACBL0AAAAECToAQAAIEjQAwAA\n",
       "QJCgBwAAgCBBDwAAAEGCHgAAAIIEPQAAAAQJegAAAAgS9AAAABAk6AEAACBI0AMAAECQoAcAAIAg\n",
       "QQ8AAABBgh4AAACCBD0AAAAECXoAAAAIEvQAAAAQJOgBAAAgSNADAABAkKAHAACAIEEPAAAAQYIe\n",
       "AAAAggQ9AAAABAl6AAAACBL0AAAAECToAQAAIEjQAwAAQJCgBwAAgCBBDwAAAEGCHgAAAIIEPQAA\n",
       "AAQJegAAAAgS9AAAABAk6AEAACBI0AMAAECQoAcAAIAgQQ8AAABBgh4AAACCBD0AAAAECXoAAAAI\n",
       "EvQAAAAQJOgBAAAgSNADAABAkKAHAACAIEEPAAAAQYIeAAAAggQ9AAAABAl6AAAACBL0AAAAECTo\n",
       "AQAAIEjQAwAAQJCgBwAAgCBBDwAAAEGCHgAAAIIEPQAAAAQJegAAAAgS9AAAABAk6AEAACBI0AMA\n",
       "AECQoAcAAIAgQQ8AAABBgh4AAACCBD0AAAAECXoAAAAIEvQAAAAQJOgBAAAgSNADAABAkKAHAACA\n",
       "IEEPAAAAQYIeAAAAggQ9AAAABAl6AAAACBL0AAAAECToAQAAIEjQAwAAQJCgBwAAgCBBDwAAAEGC\n",
       "HgAAAIIEPQAAAAQJegAAAAgS9AAAABAk6AEAACBI0AMAAECQoAcAAIAgQQ8AAABBgh4AAACCBD0A\n",
       "AAAECXoAAAAIEvQAAAAQJOgBAAAgSNADAABAkKAHAACAIEEPAAAAQYIeAAAAggQ9AAAABAl6AAAA\n",
       "CBL0AAAAECToAQAAIEjQAwAAQJCgBwAAgCBBDwAAAEGCHgAAAIIEPQAAAAQJegAAAAgS9AAAABAk\n",
       "6AEAACBI0AMAAECQoAcAAIAgQQ8AAABBgh4AAACCBD0AAAAECXoAAAAIEvQAAAAQJOgBAAAgSNAD\n",
       "AABAkKAHAACAIEEPAAAAQYIeAAAAggQ9AAAABAl6AAAACBL0AAAAECToAQAAIEjQAwAAQJCgBwAA\n",
       "gCBBDwAAAEGCHgAAAIIEPQAAAAQJegAAAAgS9AAAABAk6AEAACBI0AMAAECQoAcAAIAgQQ8AAABB\n",
       "gh4AAACCBD0AAAAECXoAAAAIEvQAAAAQJOgBAAAgSNADAABAkKAHAACAIEEPAAAAQYIeAAAAggQ9\n",
       "AAAABAl6AAAACBL0AAAAECToAQAAIEjQAwAAQJCgBwAAgCBBDwAAAEGCHgAAAIIEPQAAAAQJegAA\n",
       "AAgS9AAAABAk6AEAACBI0AMAAECQoAcAAIAgQQ8AAABBgh4AAACCBD0AAAAECXoAAAAIEvQAAAAQ\n",
       "JOgBAAAgSNADAABAkKAHAACAIEEPAAAAQYIeAAAAggQ9AAAABAl6AAAACBL0AAAAECToAQAAIEjQ\n",
       "AwAAQJCgBwAAgCBBDwAAAEGCHgAAAIIEPQAAAAQJegAAAAgS9AAAABAk6AEAACBI0AMAAECQoAcA\n",
       "AIAgQQ8AAABBgh4AAACCBD0AAAAECXoAAAAIEvQAAAAQJOgBAAAgSNADAABAkKAHAACAIEEPAAAA\n",
       "QYIeAAAAggQ9AAAABAl6AAAACBL0AAAAECToAQAAIEjQAwAAQJCgBwAAgCBBDwAAAEGCHgAAAIIE\n",
       "PQAAAAQJegAAAAgS9AAAABAk6AEAACBI0AMAAECQoAcAAIAgQQ8AAABBgh4AAACCBD0AAAAECXoA\n",
       "AAAIEvQAAAAQJOgBAAAgSNADAABAkKAHAACAIEEPAAAAQYIeAAAAggQ9AAAABAl6AAAACBL0AAAA\n",
       "ECToAQAAIEjQAwAAQJCgBwAAgCBBDwAAAEGCHgAAAIIEPQAAAAQJegAAAAgS9AAAABAk6AEAACBI\n",
       "0AMAAECQoAcAAIAgQQ8AAABBgh4AAACCBD0AAAAECXoAAAAIEvQAAAAQJOgBAAAgSNADAABAkKAH\n",
       "AACAIEEPAAAAQYIeAAAAggQ9AAAABAl6AAAACBL0AAAAECToAQAAIEjQAwAAQJCgBwAAgCBBDwAA\n",
       "AEGCHgAAAIIEPQAAAAQJegAAAAgS9AAAABAk6AEAACBI0AMAAECQoAcAAIAgQQ8AAABBgh4AAACC\n",
       "BD0AAAAECXoAAAAIEvQAAAAQJOgBAAAgSNADAABAkKAHAACAIEEPAAAAQYIeAAAAggQ9AAAABAl6\n",
       "AAAACBL0AAAAECToAQAAIEjQAwAAQJCgBwAAgCBBDwAAAEGCHgAAAIIEPQAAAAQJegAAAAgS9AAA\n",
       "ABAk6AEAACBI0AMAAECQoAcAAIAgQQ8AAABBgh4AAACCBD0AAAAECXoAAAAIEvQAAAAQJOgBAAAg\n",
       "SNADAABAkKAHAACAIEEPAAAAQYIeAAAAggQ9AAAABAl6AAAACBL0AAAAECToAQAAIEjQAwAAQJCg\n",
       "BwAAgCBBDwAAAEGCHgAAAIIEPQAAAAQJegAAAAgS9AAAABAk6AEAACBI0AMAAECQoAcAAICgvekB\n",
       "ALR88MEH0xMWn3766fSExa1bt6YnLDabzfSEM7766qvpCYv79+9PT1j8/fff0xMAiHChBwAAgCBB\n",
       "DwAAAEGCHgAAAIIEPQAAAAQJegAAAAgS9AAAABAk6AEAACBI0AMAAECQoAcAAIAgQQ8AAABBgh4A\n",
       "AACCBD0AAAAECXoAAAAIEvQAAAAQJOgBAAAgSNADAABAkKAHAACAIEEPAAAAQYIeAAAAggQ9AAAA\n",
       "BAl6AAAACBL0AAAAECToAQAAIEjQAwAAQJCgBwAAgCBBDwAAAEGCHgAAAIIEPQAAAAQJegAAAAgS\n",
       "9AAAABAk6AEAACBI0AMAAECQoAcAAIAgQQ8AAABBgh4AAACCBD0AAAAECXoAAAAIEvQAAAAQJOgB\n",
       "AAAgSNADAABAkKAHAACAIEEPAAAAQYIeAAAAggQ9AAAABAl6AAAACBL0AAAAECToAQAAIEjQAwAA\n",
       "QNBmu92eTo8A4Hw3btyYnrB48uTJ9ITFe++9Nz1hp202m+kJZ5ye7tbX4/DwcHrC4rPPPpuesPjr\n",
       "r7+mJwBwDhd6AAAACBL0AAAAECToAQAAIEjQAwAAQJCgBwAAgCBBDwAAAEGCHgAAAIIEPQAAAAQJ\n",
       "egAAAAgS9AAAABAk6AEAACBI0AMAAECQoAcAAIAgQQ8AAABBgh4AAACCBD0AAAAECXoAAAAIEvQA\n",
       "AAAQJOgBAAAgSNADAABAkKAHAACAIEEPAAAAQYIeAAAAggQ9AAAABAl6AAAACBL0AAAAECToAQAA\n",
       "IEjQAwAAQJCgBwAAgCBBDwAAAEGCHgAAAIIEPQAAAAQJegAAAAgS9AAAABAk6AEAACBI0AMAAECQ\n",
       "oAcAAIAgQQ8AAABBgh4AAACCBD0AAAAECXoAAAAIEvQAAAAQJOgBAAAgSNADAABAkKAHAACAIEEP\n",
       "AAAAQYIeAAAAggQ9AAAABG222+3p9AiAXXLhwoXpCYvDw8PpCYvr169PT1gcHR1NT1g8fvx4esLi\n",
       "+Ph4esIZT58+nZ6weP/996cnLG7fvj09YfHixYvpCQCcw4UeAAAAggQ9AAAABAl6AAAACBL0AAAA\n",
       "ECToAQAAIEjQAwAAQJCgBwAAgCBBDwAAAEGCHgAAAIIEPQAAAAQJegAAAAgS9AAAABAk6AEAACBI\n",
       "0AMAAECQoAcAAIAgQQ8AAABBgh4AAACCBD0AAAAECXoAAAAIEvQAAAAQJOgBAAAgSNADAABAkKAH\n",
       "AACAIEEPAAAAQYIeAAAAggQ9AAAABAl6AAAACBL0AAAAECToAQAAIEjQAwAAQJCgBwAAgCBBDwAA\n",
       "AEGCHgAAAIIEPQAAAAQJegAAAAgS9AAAABAk6AEAACBI0AMAAECQoAcAAIAgQQ8AAABBgh4AAACC\n",
       "BD0AAAAECXoAAAAIEvQAAAAQJOgBAAAgSNADAABAkKAHAACAoM12uz2dHgGwSz7++OPpCYtHjx5N\n",
       "T1h8/fXX0xMWn3/++fSExZs3b6Yn7LxLly5NT1gcHh5OT1hcuXJlesLi4OBgesJi194LYJILPQAA\n",
       "AAQJegAAAAgS9AAAABAk6AEAACBI0AMAAECQoAcAAIAgQQ8AAABBgh4AAACCBD0AAAAECXoAAAAI\n",
       "EvQAAAAQJOgBAAAgSNADAABAkKAHAACAIEEPAAAAQYIeAAAAggQ9AAAABAl6AAAACBL0AAAAECTo\n",
       "AQAAIEjQAwAAQJCgBwAAgCBBDwAAAEGCHgAAAIIEPQAAAAQJegAAAAgS9AAAABAk6AEAACBI0AMA\n",
       "AECQoAcAAIAgQQ8AAABBgh4AAACCBD0AAAAECXoAAAAIEvQAAAAQJOgBAAAgSNADAABAkKAHAACA\n",
       "IEEPAAAAQYIeAAAAggQ9AAAABAl6AAAACBL0AAAAECToAQAAIEjQAwAAQJCgBwAAgCBBDwAAAEGC\n",
       "HgAAAII22+32dHoEwC755ptvpicsrl27Nj1hcfPmzekJi+Pj4+kJxD148GB6wuKTTz6ZnrD48ccf\n",
       "pycs9vf3pycA7AwXegAAAAgS9AAAABAk6AEAACBI0AMAAECQoAcAAIAgQQ8AAABBgh4AAACCBD0A\n",
       "AAAECXoAAAAIEvQAAAAQJOgBAAAgSNADAABAkKAHAACAIEEPAAAAQYIeAAAAggQ9AAAABAl6AAAA\n",
       "CBL0AAAAECToAQAAIEjQAwAAQJCgBwAAgCBBDwAAAEGCHgAAAIIEPQAAAAQJegAAAAgS9AAAABAk\n",
       "6AEAACBI0AMAAECQoAcAAIAgQQ8AAABBgh4AAACCBD0AAAAECXoAAAAIEvQAAAAQJOgBAAAgSNAD\n",
       "AABAkKAHAACAIEEPAAAAQYIeAAAAggQ9AAAABAl6AAAACBL0AAAAECToAQAAIEjQAwAAQJCgBwAA\n",
       "gCBBDwAAAEGCHgAAAIIEPQAAAATtTQ8A4O1ev349PWFxfHw8PQH+ry5evDg9Yae988470xMAOIcL\n",
       "PQAAAAQJegAAAAgS9AAAABAk6AEAACBI0AMAAECQoAcAAIAgQQ8AAABBgh4AAACCBD0AAAAECXoA\n",
       "AAAIEvQAAAAQJOgBAAAgSNADAABAkKAHAACAIEEPAAAAQYIeAAAAggQ9AAAABAl6AAAACBL0AAAA\n",
       "ECToAQAAIEjQAwAAQJCgBwAAgCBBDwAAAEGCHgAAAIIEPQAAAAQJegAAAAgS9AAAABAk6AEAACBI\n",
       "0AMAAECQoAcAAIAgQQ8AAABBgh4AAACCBD0AAAAECXoAAAAIEvQAAAAQJOgBAAAgSNADAABAkKAH\n",
       "AACAIEEPAAAAQYIeAAAAggQ9AAAABAl6AAAACBL0AAAAECToAQAAIEjQAwAAQJCgBwAAgCBBDwAA\n",
       "AEF70wMAeLvvvvtuegJhly9fnp5wxv7+/vSExa7t2TW//PLL9AQAzuFCDwAAAEGCHgAAAIIEPQAA\n",
       "AAQJegAAAAgS9AAAABAk6AEAACBI0AMAAECQoAcAAIAgQQ8AAABBgh4AAACCBD0AAAAECXoAAAAI\n",
       "EvQAAAAQJOgBAAAgSNADAABAkKAHAACAIEEPAAAAQYIeAAAAggQ9AAAABAl6AAAACBL0AAAAECTo\n",
       "AQAAIEjQAwAAQJCgBwAAgCBBDwAAAEGCHgAAAIIEPQAAAAQJegAAAAgS9AAAABAk6AEAACBI0AMA\n",
       "AECQoAcAAIAgQQ8AAABBgh4AAACCBD0AAAAECXoAAAAIEvQAAAAQJOgBAAAgSNADAABAkKAHAACA\n",
       "IEEPAAAAQYIeAAAAggQ9AAAABAl6AAAACBL0AAAAECToAQAAIEjQAwAAQJCgBwAAgKC96QEAvN1H\n",
       "H300PWHx+++/T09Y/Pbbb9MTFicnJ9MTFo8fP56ecMa77747PYF/4OjoaHoCAOdwoQcAAIAgQQ8A\n",
       "AABBgh4AAACCBD0AAAAECXoAAAAIEvQAAAAQJOgBAAAgSNADAABAkKAHAACAIEEPAAAAQYIeAAAA\n",
       "ggQ9AAAABAl6AAAACBL0AAAAECToAQAAIEjQAwAAQJCgBwAAgCBBDwAAAEGCHgAAAIIEPQAAAAQJ\n",
       "egAAAAgS9AAAABAk6AEAACBI0AMAAECQoAcAAIAgQQ8AAABBgh4AAACCBD0AAAAECXoAAAAIEvQA\n",
       "AAAQJOgBAAAgSNADAABAkKAHAACAIEEPAAAAQYIeAAAAggQ9AAAABAl6AAAACBL0AAAAECToAQAA\n",
       "IEjQAwAAQJCgBwAAgCBBDwAAAEGCHgAAAIIEPQAAAAQJegAAAAgS9AAAABAk6AEAACBI0AMAAEDQ\n",
       "3vQAgF3z7Nmz6QmLu3fvTk9YHBwcTE/gH9hsNtMTzvj++++nJyy+/fbb6QmLO3fuTE9YvHr1anoC\n",
       "AOdwoQcAAIAgQQ8AAABBgh4AAACCBD0AAAAECXoAAAAIEvQAAAAQJOgBAAAgSNADAABAkKAHAACA\n",
       "IEEPAAAAQYIeAAAAggQ9AAAABAl6AAAACBL0AAAAECToAQAAIEjQAwAAQJCgBwAAgCBBDwAAAEGC\n",
       "HgAAAIIEPQAAAAQJegAAAAgS9AAAABAk6AEAACBI0AMAAECQoAcAAIAgQQ8AAABBgh4AAACCBD0A\n",
       "AAAECXoAAAAIEvQAAAAQJOgBAAAgSNADAABAkKAHAACAIEEPAAAAQYIeAAAAggQ9AAAABAl6AAAA\n",
       "CBL0AAAAECToAQAAIEjQAwAAQJCgBwAAgCBBDwAAAEGCHgAAAIIEPQAAAAQJegAAAAgS9AAAABAk\n",
       "6AEAACBob3oAwK758ssvpycsfv755+kJiw8//HB6wuLq1avTE3bar7/+Oj3hjIcPH05PWNy7d296\n",
       "wk776aefpicAcA4XegAAAAgS9AAAABAk6AEAACBI0AMAAECQoAcAAIAgQQ8AAABBgh4AAACCBD0A\n",
       "AAAECXoAAAAIEvQAAAAQJOgBAAAgSNADAABAkKAHAACAIEEPAAAAQYIeAAAAggQ9AAAABAl6AAAA\n",
       "CBL0AAAAECToAQAAIEjQAwAAQJCgBwAAgCBBDwAAAEGCHgAAAIIEPQAAAAQJegAAAAgS9AAAABAk\n",
       "6AEAACBI0AMAAECQoAcAAIAgQQ8AAABBgh4AAACCBD0AAAAECXoAAAAIEvQAAAAQJOgBAAAgSNAD\n",
       "AABAkKAHAACAIEEPAAAAQYIeAAAAggQ9AAAABAl6AAAACBL0AAAAECToAQAAIEjQAwAAQJCgBwAA\n",
       "gCBBDwAAAEGCHgAAAIIEPQAAAATtTQ8A4O1++OGH6QmLXdsD/6vNZjM9YfHHH39MT1j8+eef0xMA\n",
       "OIcLPQAAAAQJegAAAAgS9AAAABAk6AEAACBI0AMAAECQoAcAAIAgQQ8AAABBgh4AAACCBD0AAAAE\n",
       "CXoAAAAIEvQAAAAQJOgBAAAgSNADAABAkKAHAACAIEEPAAAAQYIeAAAAggQ9AAAABAl6AAAACBL0\n",
       "AAAAECToAQAAIEjQAwAAQJCgBwAAgCBBDwAAAEGCHgAAAIIEPQAAAAQJegAAAAgS9AAAABAk6AEA\n",
       "ACBI0AMAAECQoAcAAIAgQQ8AAABBgh4AAACCBD0AAAAECXoAAAAIEvQAAAAQJOgBAAAgSNADAABA\n",
       "kKAHAACAIEEPAAAAQYIeAAAAggQ9AAAABAl6AAAACBL0AAAAECToAQAAIEjQAwAAQJCgBwAAgCBB\n",
       "DwAAAEGCHgAAAIL2pgcAAEw6PT2dnrB4+fLl9ITFycnJ9AQAzuFCDwAAAEGCHgAAAIIEPQAAAAQJ\n",
       "egAAAAgS9AAAABAk6AEAACBI0AMAAECQoAcAAIAgQQ8AAABBgh4AAACCBD0AAAAECXoAAAAIEvQA\n",
       "AAAQJOgBAAAgSNADAABAkKAHAACAIEEPAAAAQYIeAAAAggQ9AAAABAl6AAAACBL0AAAAECToAQAA\n",
       "IEjQAwAAQJCgBwAAgCBBDwAAAEGCHgAAAIIEPQAAAAQJegAAAAgS9AAAABAk6AEAACBI0AMAAECQ\n",
       "oAcAAIAgQQ8AAABBgh4AAACCBD0AAAAECXoAAAAIEvQAAAAQJOgBAAAgSNADAABAkKAHAACAIEEP\n",
       "AAAAQYIeAAAAggQ9AAAABAl6AAAACBL0AAAAECToAQAAIEjQAwAAQNDe9AAAAP7r+fPn0xMAiHCh\n",
       "BwAAgCBBDwAAAEGCHgAAAIIEPQAAAAQJegAAAAgS9AAAABAk6AEAACBI0AMAAECQoAcAAIAgQQ8A\n",
       "AABBgh4AAACCBD0AAAAECXoAAAAIEvQAAAAQJOgBAAAgSNADAABAkKAHAACAIEEPAAAAQYIeAAAA\n",
       "ggQ9AAAABAl6AAAACBL0AAAAECToAQAAIEjQAwAAQJCgBwAAgCBBDwAAAEGCHgAAAIIEPQAAAAQJ\n",
       "egAAAAgS9AAAABAk6AEAACBI0AMAAECQoAcAAIAgQQ8AAABBgh4AAACCBD0AAAAECXoAAAAIEvQA\n",
       "AAAQJOgBAAAgSNADAABAkKAHAACAIEEPAAAAQYIeAAAAggQ9AAAABAl6AAAACBL0AAAAECToAQAA\n",
       "IEjQAwAAQNDe9AAAgEm3bt2anrD44osvpicAEOFCDwAAAEGCHgAAAIIEPQAAAAQJegAAAAgS9AAA\n",
       "ABAk6AEAACBI0AMAAECQoAcAAIAgQQ8AAABBgh4AAACCBD0AAAAECXoAAAAIEvQAAAAQJOgBAAAg\n",
       "SNADAABAkKAHAACAIEEPAAAAQYIeAAAAggQ9AAAABAl6AAAACBL0AAAAECToAQAAIEjQAwAAQJCg\n",
       "h/+0Z8coCgRQEAVZmEwFL2Po2T2LoamgkejGk+1G38dUnaDTRwMAAAQJegAAAAgS9AAAABAk6AEA\n",
       "ACBI0AMAAECQoAcAAIAgQQ8AAABBgh4AAACCBD0AAAAECXoAAAAIEvQAAAAQJOgBAAAgSNADAABA\n",
       "kKAHAACAIEEPAAAAQYIeAAAAggQ9AAAABAl6AAAACBL0AAAAECToAQAAIEjQAwAAQJCgBwAAgCBB\n",
       "DwAAAEGCHgAAAIIEPQAAAAQt0wMAgG3Z7XbTE1a+bQ8A/JWHHgAAAIIEPQAAAAQJegAAAAgS9AAA\n",
       "ABAk6AEAACBI0AMAAECQoAcAAIAgQQ8AAABBgh4AAACCBD0AAAAECXoAAAAIEvQAAAAQJOgBAAAg\n",
       "SNADAABAkKAHAACAIEEPAAAAQYIeAAAAggQ9AAAABAl6AAAACBL0AAAAECToAQAAIEjQAwAAQJCg\n",
       "BwAAgCBBDwAAAEGCHgAAAIIEPQAAAAQJegAAAAgS9AAAABAk6AEAACBI0AMAAECQoAcAAIAgQQ8A\n",
       "AABBgh4AAACCBD0AAAAECXoAAAAIEvQAAAAQJOgBAAAgSNADAABAkKAHAACAIEEPAAAAQYIeAAAA\n",
       "ggQ9AAAABAl6AAAACBL0AAAAECToAQAAIEjQAwAAQJCgBwAAgKBlegAAsC2n02l6wsp+v5+esHK5\n",
       "XKYnABDhoQcAAIAgQQ8AAABBgh4AAACCBD0AAAAECXoAAAAIEvQAAAAQJOgBAAAgSNADAABAkKAH\n",
       "AACAIEEPAAAAQYIeAAAAggQ9AAAABAl6AAAACBL0AAAAECToAQAAIEjQAwAAQJCgBwAAgCBBDwAA\n",
       "AEGCHgAAAIIEPQAAAAQJegAAAAgS9AAAABAk6AEAACBI0AMAAECQoAcAAIAgQQ8AAABBgh4AAACC\n",
       "BD0AAAAECXoAAAAIEvQAAAAQJOgBAAAgSNADAABAkKAHAACAIEEPAAAAQYIeAAAAggQ9AAAABAl6\n",
       "AAAACBL0AAAAECToAQAAIEjQAwAAQJCgBwAAgCBBDwAAAEGCHgAAAIIEPQAAAAQJegAAAAgS9AAA\n",
       "ABAk6AEAACBI0AMAAEDQMj0AANiW8/k8PeGr3e/36QkARHjoAQAAIEjQAwAAQJCgBwAAgCBBDwAA\n",
       "AEGCHgAAAIIEPQAAAAQJegAAAAgS9AAAABAk6AEAACBI0AMAAECQoAcAAIAgQQ8AAABBgh4AAACC\n",
       "BD0AAAAECXoAAAAIEvQAAAAQJOgBAAAgSNADAABAkKAHAACAIEEPAAAAQYIeAAAAggQ9AAAABAl6\n",
       "AAAACBL0AAAAECToAQAAIEjQAwAAQJCgBwAAgCBBDwAAAEGCHgAAAIIEPQAAAAQJegAAAAgS9AAA\n",
       "ABAk6AEAACBI0AMAAECQoAcAAIAgQQ8AAABBgh4AAACCBD0AAAAECXoAAAAIEvQAAAAQJOgBAAAg\n",
       "SNADAABAkKAHAACAIEEPAAAAQYIeAAAAggQ9AAAABAl6AAAACBL0AAAAELRMDwAAtuV4PE5PWLnd\n",
       "btMTVp7P5/QEACI89AAAABAk6AEAACBI0AMAAECQoAcAAIAgQQ8AAABBgh4AAACCBD0AAAAECXoA\n",
       "AAAIEvQAAAAQJOgBAAAgSNADAABAkKAHAACAIEEPAAAAQYIeAAAAggQ9AAAABAl6AAAACBL0AAAA\n",
       "ECToAQAAIEjQAwAAQJCgBwAAgCBBDwAAAEGCHgAAAIIEPQAAAAQJegAAAAgS9AAAABAk6AEAACBI\n",
       "0AMAAECQoAcAAIAgQQ8AAABBgh4AAACCBD0AAAAECXoAAAAIEvQAAAAQJOgBAAAgSNADAABAkKAH\n",
       "AACAIEEPAAAAQYIeAAAAggQ9AAAABAl6AGdsl5sAAAPSSURBVAAACBL0AAAAECToAQAAIEjQAwAA\n",
       "QJCgBwAAgCBBDwAAAEGCHgAAAIIEPQAAAAQt0wMAACY9Ho/pCSuv12t6AgARHnoAAAAIEvQAAAAQ\n",
       "JOgBAAAgSNADAABAkKAHAACAIEEPAAAAQYIeAAAAggQ9AAAABAl6AAAACBL0AAAAECToAQAAIEjQ\n",
       "AwAAQJCgBwAAgCBBDwAAAEGCHgAAAIIEPQAAAAQJegAAAAgS9AAAABAk6AEAACBI0AMAAECQoAcA\n",
       "AIAgQQ8AAABBgh4AAACCBD0AAAAECXoAAAAIEvQAAAAQJOgBAAAgSNADAABAkKAHAACAIEEPAAAA\n",
       "QYIeAAAAggQ9AAAABAl6AAAACBL0AAAAECToAQAAIEjQAwAAQJCgBwAAgCBBDwAAAEGCHgAAAIIE\n",
       "PQAAAAQJegAAAAgS9AAAABAk6AEAACBI0AMAAECQoAcAAIAgQQ8AAABBgh4AAACCBD0AAAAELdMD\n",
       "AAAmXa/X6Qkr7/d7egIAER56AAAACBL0AAAAECToAQAAIEjQAwAAQJCgBwAAgCBBDwAAAEGCHgAA\n",
       "AIIEPQAAAAQJegAAAAgS9AAAABAk6AEAACBI0AMAAECQoAcAAIAgQQ8AAABBgh4AAACCBD0AAAAE\n",
       "CXoAAAAIEvQAAAAQJOgBAAAgSNADAABAkKAHAACAIEEPAAAAQYIeAAAAggQ9AAAABAl6AAAACBL0\n",
       "AAAAECToAQAAIEjQAwAAQJCgBwAAgCBBDwAAAEGCHgAAAIIEPQAAAAQJegAAAAgS9AAAABAk6AEA\n",
       "ACBI0AMAAECQoAcAAIAgQQ8AAABBgh4AAACCBD0AAAAECXoAAAAIEvQAAAAQJOgBAAAgSNADAABA\n",
       "kKAHAACAIEEPAAAAQYIeAAAAggQ9AAAABP0cDofP9AgAAADgfzz0AAAAECToAQAAIEjQAwAAQJCg\n",
       "BwAAgCBBDwAAAEGCHgAAAIIEPQAAAAQJegAAAAgS9AAAABAk6AEAACBI0AMAAECQoAcAAIAgQQ8A\n",
       "AABBgh4AAACCBD0AAAAECXoAAAAIEvQAAAAQJOgBAAAgSNADAABAkKAHAACAIEEPAAAAQYIeAAAA\n",
       "ggQ9AAAABAl6AAAACBL0AAAAECToAQAAIEjQAwAAQJCgBwAAgCBBDwAAAEGCHgAAAIIEPQAAAAQJ\n",
       "egAAAAgS9AAAABAk6AEAACBI0AMAAECQoAcAAIAgQQ8AAABBgh4AAACCBD0AAAAECXoAAAAIEvQA\n",
       "AAAQJOgBAAAgSNADAABAkKAHAACAIEEPAAAAQYIeAAAAggQ9AAAABP0CU221hctyyQ8AAAAASUVO\n",
       "RK5CYII=\n",
       "\" transform=\"translate(1341, 123)\"/>\n",
       "</g>\n",
       "</svg>\n"
      ]
     },
     "metadata": {},
     "output_type": "display_data"
    }
   ],
   "source": [
    "include(\"../utils/plot.jl\")\n",
    "\n",
    "plot_mnist_clean_and_attack(x_train, y_train, FGSM, model, loss, 0.2; iterations=40, step_size=0.03)"
   ]
  },
  {
   "cell_type": "markdown",
   "metadata": {},
   "source": [
    "#### Random clean and FGSM-attacked image: Strong AT model"
   ]
  },
  {
   "cell_type": "code",
   "execution_count": 33,
   "metadata": {},
   "outputs": [
    {
     "name": "stdout",
     "output_type": "stream",
     "text": [
      "Digit predicted by the model for the clean image: 9\n",
      "Digit predicted by the model for the \n",
      "    adversarial image: 9\n",
      "True label: 9\n"
     ]
    },
    {
     "data": {
      "image/png": "[encoded data removed]",
      "image/svg+xml": [
       "<?xml version=\"1.0\" encoding=\"utf-8\"?>\n",
       "<svg xmlns=\"http://www.w3.org/2000/svg\" xmlns:xlink=\"http://www.w3.org/1999/xlink\" width=\"600\" height=\"400\" viewBox=\"0 0 2400 1600\">\n",
       "<defs>\n",
       "  <clipPath id=\"clip660\">\n",
       "    <rect x=\"0\" y=\"0\" width=\"2400\" height=\"1600\"/>\n",
       "  </clipPath>\n",
       "</defs>\n",
       "<path clip-path=\"url(#clip660)\" d=\"M0 1600 L2400 1600 L2400 0 L0 0  Z\" fill=\"#ffffff\" fill-rule=\"evenodd\" fill-opacity=\"1\"/>\n",
       "<defs>\n",
       "  <clipPath id=\"clip661\">\n",
       "    <rect x=\"480\" y=\"0\" width=\"1681\" height=\"1600\"/>\n",
       "  </clipPath>\n",
       "</defs>\n",
       "<path clip-path=\"url(#clip660)\" d=\"M140.696 1486.45 L1152.76 1486.45 L1152.76 123.472 L140.696 123.472  Z\" fill=\"#ffffff\" fill-rule=\"evenodd\" fill-opacity=\"1\"/>\n",
       "<defs>\n",
       "  <clipPath id=\"clip662\">\n",
       "    <rect x=\"140\" y=\"123\" width=\"1013\" height=\"1364\"/>\n",
       "  </clipPath>\n",
       "</defs>\n",
       "<polyline clip-path=\"url(#clip662)\" style=\"stroke:#000000; stroke-linecap:round; stroke-linejoin:round; stroke-width:2; stroke-opacity:0.1; fill:none\" points=\"303.348,1486.45 303.348,123.472 \"/>\n",
       "<polyline clip-path=\"url(#clip662)\" style=\"stroke:#000000; stroke-linecap:round; stroke-linejoin:round; stroke-width:2; stroke-opacity:0.1; fill:none\" points=\"484.073,1486.45 484.073,123.472 \"/>\n",
       "<polyline clip-path=\"url(#clip662)\" style=\"stroke:#000000; stroke-linecap:round; stroke-linejoin:round; stroke-width:2; stroke-opacity:0.1; fill:none\" points=\"664.798,1486.45 664.798,123.472 \"/>\n",
       "<polyline clip-path=\"url(#clip662)\" style=\"stroke:#000000; stroke-linecap:round; stroke-linejoin:round; stroke-width:2; stroke-opacity:0.1; fill:none\" points=\"845.523,1486.45 845.523,123.472 \"/>\n",
       "<polyline clip-path=\"url(#clip662)\" style=\"stroke:#000000; stroke-linecap:round; stroke-linejoin:round; stroke-width:2; stroke-opacity:0.1; fill:none\" points=\"1026.25,1486.45 1026.25,123.472 \"/>\n",
       "<polyline clip-path=\"url(#clip662)\" style=\"stroke:#000000; stroke-linecap:round; stroke-linejoin:round; stroke-width:2; stroke-opacity:0.1; fill:none\" points=\"140.696,1267.4 1152.76,1267.4 \"/>\n",
       "<polyline clip-path=\"url(#clip662)\" style=\"stroke:#000000; stroke-linecap:round; stroke-linejoin:round; stroke-width:2; stroke-opacity:0.1; fill:none\" points=\"140.696,1024.01 1152.76,1024.01 \"/>\n",
       "<polyline clip-path=\"url(#clip662)\" style=\"stroke:#000000; stroke-linecap:round; stroke-linejoin:round; stroke-width:2; stroke-opacity:0.1; fill:none\" points=\"140.696,780.621 1152.76,780.621 \"/>\n",
       "<polyline clip-path=\"url(#clip662)\" style=\"stroke:#000000; stroke-linecap:round; stroke-linejoin:round; stroke-width:2; stroke-opacity:0.1; fill:none\" points=\"140.696,537.233 1152.76,537.233 \"/>\n",
       "<polyline clip-path=\"url(#clip662)\" style=\"stroke:#000000; stroke-linecap:round; stroke-linejoin:round; stroke-width:2; stroke-opacity:0.1; fill:none\" points=\"140.696,293.844 1152.76,293.844 \"/>\n",
       "<path clip-path=\"url(#clip660)\" d=\"M96.2483 20.1573 L85.1489 50.2555 L107.388 50.2555 L96.2483 20.1573 M91.6303 12.096 L100.907 12.096 L123.957 72.576 L115.45 72.576 L109.94 57.061 L82.6778 57.061 L77.1686 72.576 L68.5402 72.576 L91.6303 12.096 Z\" fill=\"#000000\" fill-rule=\"nonzero\" fill-opacity=\"1\" /><path clip-path=\"url(#clip660)\" d=\"M160.86 34.0924 L160.86 9.54393 L168.314 9.54393 L168.314 72.576 L160.86 72.576 L160.86 65.7705 Q158.511 69.8214 154.905 71.8063 Q151.341 73.7508 146.318 73.7508 Q138.094 73.7508 132.909 67.1883 Q127.764 60.6258 127.764 49.9314 Q127.764 39.2371 132.909 32.6746 Q138.094 26.1121 146.318 26.1121 Q151.341 26.1121 154.905 28.0971 Q158.511 30.0415 160.86 34.0924 M135.461 49.9314 Q135.461 58.1548 138.823 62.8538 Q142.226 67.5124 148.14 67.5124 Q154.055 67.5124 157.458 62.8538 Q160.86 58.1548 160.86 49.9314 Q160.86 41.7081 157.458 37.0496 Q154.055 32.3505 148.14 32.3505 Q142.226 32.3505 138.823 37.0496 Q135.461 41.7081 135.461 49.9314 Z\" fill=\"#000000\" fill-rule=\"nonzero\" fill-opacity=\"1\" /><path clip-path=\"url(#clip660)\" d=\"M178.32 27.2059 L186.219 27.2059 L200.397 65.2844 L214.575 27.2059 L222.475 27.2059 L205.461 72.576 L195.333 72.576 L178.32 27.2059 Z\" fill=\"#000000\" fill-rule=\"nonzero\" fill-opacity=\"1\" /><path clip-path=\"url(#clip660)\" d=\"M271.571 48.0275 L271.571 51.6733 L237.301 51.6733 Q237.787 59.3701 241.919 63.421 Q246.091 67.4314 253.504 67.4314 Q257.798 67.4314 261.809 66.3781 Q265.86 65.3249 269.83 63.2184 L269.83 70.267 Q265.819 71.9684 261.606 72.8596 Q257.393 73.7508 253.059 73.7508 Q242.202 73.7508 235.843 67.4314 Q229.523 61.1119 229.523 50.3365 Q229.523 39.1965 235.518 32.6746 Q241.554 26.1121 251.763 26.1121 Q260.918 26.1121 266.224 32.0264 Q271.571 37.9003 271.571 48.0275 M264.118 45.84 Q264.037 39.7232 260.675 36.0774 Q257.353 32.4315 251.844 32.4315 Q245.605 32.4315 241.838 35.9558 Q238.111 39.4801 237.544 45.8805 L264.118 45.84 Z\" fill=\"#000000\" fill-rule=\"nonzero\" fill-opacity=\"1\" /><path clip-path=\"url(#clip660)\" d=\"M310.096 34.1734 Q308.84 33.4443 307.341 33.1202 Q305.883 32.7556 304.1 32.7556 Q297.781 32.7556 294.378 36.8875 Q291.016 40.9789 291.016 48.6757 L291.016 72.576 L283.522 72.576 L283.522 27.2059 L291.016 27.2059 L291.016 34.2544 Q293.365 30.1225 297.133 28.1376 Q300.9 26.1121 306.288 26.1121 Q307.057 26.1121 307.989 26.2337 Q308.921 26.3147 310.055 26.5172 L310.096 34.1734 Z\" fill=\"#000000\" fill-rule=\"nonzero\" fill-opacity=\"1\" /><path clip-path=\"url(#clip660)\" d=\"M346.837 28.5427 L346.837 35.5912 Q343.678 33.9709 340.275 33.1607 Q336.872 32.3505 333.226 32.3505 Q327.677 32.3505 324.881 34.0519 Q322.127 35.7533 322.127 39.156 Q322.127 41.7486 324.112 43.2475 Q326.097 44.7058 332.092 46.0426 L334.644 46.6097 Q342.584 48.3111 345.906 51.4303 Q349.268 54.509 349.268 60.0587 Q349.268 66.3781 344.245 70.0644 Q339.262 73.7508 330.512 73.7508 Q326.866 73.7508 322.896 73.0216 Q318.967 72.3329 314.592 70.9151 L314.592 63.2184 Q318.724 65.3654 322.734 66.4591 Q326.745 67.5124 330.674 67.5124 Q335.94 67.5124 338.776 65.73 Q341.612 63.9071 341.612 60.6258 Q341.612 57.5877 339.546 55.9673 Q337.52 54.3469 330.593 52.8481 L328.001 52.2405 Q321.074 50.7821 317.995 47.7845 Q314.916 44.7463 314.916 39.4801 Q314.916 33.0797 319.453 29.5959 Q323.99 26.1121 332.335 26.1121 Q336.467 26.1121 340.113 26.7198 Q343.759 27.3274 346.837 28.5427 Z\" fill=\"#000000\" fill-rule=\"nonzero\" fill-opacity=\"1\" /><path clip-path=\"url(#clip660)\" d=\"M381.756 49.7694 Q372.723 49.7694 369.239 51.8354 Q365.755 53.9013 365.755 58.8839 Q365.755 62.8538 368.348 65.2034 Q370.981 67.5124 375.477 67.5124 Q381.675 67.5124 385.402 63.1374 Q389.169 58.7219 389.169 51.4303 L389.169 49.7694 L381.756 49.7694 M396.623 46.6907 L396.623 72.576 L389.169 72.576 L389.169 65.6895 Q386.617 69.8214 382.809 71.8063 Q379.001 73.7508 373.492 73.7508 Q366.525 73.7508 362.393 69.8619 Q358.301 65.9325 358.301 59.3701 Q358.301 51.7138 363.405 47.825 Q368.55 43.9361 378.718 43.9361 L389.169 43.9361 L389.169 43.2069 Q389.169 38.0623 385.766 35.2672 Q382.404 32.4315 376.287 32.4315 Q372.398 32.4315 368.712 33.3632 Q365.026 34.295 361.623 36.1584 L361.623 29.2718 Q365.714 27.692 369.563 26.9223 Q373.411 26.1121 377.057 26.1121 Q386.901 26.1121 391.762 31.2163 Q396.623 36.3204 396.623 46.6907 Z\" fill=\"#000000\" fill-rule=\"nonzero\" fill-opacity=\"1\" /><path clip-path=\"url(#clip660)\" d=\"M438.266 34.1734 Q437.01 33.4443 435.512 33.1202 Q434.053 32.7556 432.271 32.7556 Q425.951 32.7556 422.549 36.8875 Q419.186 40.9789 419.186 48.6757 L419.186 72.576 L411.692 72.576 L411.692 27.2059 L419.186 27.2059 L419.186 34.2544 Q421.536 30.1225 425.303 28.1376 Q429.071 26.1121 434.458 26.1121 Q435.228 26.1121 436.16 26.2337 Q437.091 26.3147 438.226 26.5172 L438.266 34.1734 Z\" fill=\"#000000\" fill-rule=\"nonzero\" fill-opacity=\"1\" /><path clip-path=\"url(#clip660)\" d=\"M446.084 27.2059 L453.538 27.2059 L453.538 72.576 L446.084 72.576 L446.084 27.2059 M446.084 9.54393 L453.538 9.54393 L453.538 18.9825 L446.084 18.9825 L446.084 9.54393 Z\" fill=\"#000000\" fill-rule=\"nonzero\" fill-opacity=\"1\" /><path clip-path=\"url(#clip660)\" d=\"M489.753 49.7694 Q480.72 49.7694 477.236 51.8354 Q473.752 53.9013 473.752 58.8839 Q473.752 62.8538 476.345 65.2034 Q478.978 67.5124 483.474 67.5124 Q489.672 67.5124 493.399 63.1374 Q497.166 58.7219 497.166 51.4303 L497.166 49.7694 L489.753 49.7694 M504.62 46.6907 L504.62 72.576 L497.166 72.576 L497.166 65.6895 Q494.614 69.8214 490.806 71.8063 Q486.999 73.7508 481.489 73.7508 Q474.522 73.7508 470.39 69.8619 Q466.298 65.9325 466.298 59.3701 Q466.298 51.7138 471.403 47.825 Q476.547 43.9361 486.715 43.9361 L497.166 43.9361 L497.166 43.2069 Q497.166 38.0623 493.764 35.2672 Q490.401 32.4315 484.284 32.4315 Q480.396 32.4315 476.709 33.3632 Q473.023 34.295 469.62 36.1584 L469.62 29.2718 Q473.712 27.692 477.56 26.9223 Q481.408 26.1121 485.054 26.1121 Q494.898 26.1121 499.759 31.2163 Q504.62 36.3204 504.62 46.6907 Z\" fill=\"#000000\" fill-rule=\"nonzero\" fill-opacity=\"1\" /><path clip-path=\"url(#clip660)\" d=\"M519.973 9.54393 L527.427 9.54393 L527.427 72.576 L519.973 72.576 L519.973 9.54393 Z\" fill=\"#000000\" fill-rule=\"nonzero\" fill-opacity=\"1\" /><path clip-path=\"url(#clip660)\" d=\"M608.202 48.0275 L608.202 51.6733 L573.931 51.6733 Q574.417 59.3701 578.549 63.421 Q582.721 67.4314 590.135 67.4314 Q594.429 67.4314 598.439 66.3781 Q602.49 65.3249 606.46 63.2184 L606.46 70.267 Q602.449 71.9684 598.236 72.8596 Q594.023 73.7508 589.689 73.7508 Q578.833 73.7508 572.473 67.4314 Q566.153 61.1119 566.153 50.3365 Q566.153 39.1965 572.149 32.6746 Q578.184 26.1121 588.393 26.1121 Q597.548 26.1121 602.854 32.0264 Q608.202 37.9003 608.202 48.0275 M600.748 45.84 Q600.667 39.7232 597.305 36.0774 Q593.983 32.4315 588.474 32.4315 Q582.235 32.4315 578.468 35.9558 Q574.741 39.4801 574.174 45.8805 L600.748 45.84 Z\" fill=\"#000000\" fill-rule=\"nonzero\" fill-opacity=\"1\" /><path clip-path=\"url(#clip660)\" d=\"M656.691 27.2059 L640.285 49.2833 L657.542 72.576 L648.751 72.576 L635.545 54.752 L622.339 72.576 L613.549 72.576 L631.17 48.8377 L615.048 27.2059 L623.838 27.2059 L635.869 43.369 L647.9 27.2059 L656.691 27.2059 Z\" fill=\"#000000\" fill-rule=\"nonzero\" fill-opacity=\"1\" /><path clip-path=\"url(#clip660)\" d=\"M688.693 49.7694 Q679.66 49.7694 676.176 51.8354 Q672.692 53.9013 672.692 58.8839 Q672.692 62.8538 675.285 65.2034 Q677.918 67.5124 682.414 67.5124 Q688.612 67.5124 692.339 63.1374 Q696.106 58.7219 696.106 51.4303 L696.106 49.7694 L688.693 49.7694 M703.56 46.6907 L703.56 72.576 L696.106 72.576 L696.106 65.6895 Q693.554 69.8214 689.746 71.8063 Q685.938 73.7508 680.429 73.7508 Q673.462 73.7508 669.33 69.8619 Q665.238 65.9325 665.238 59.3701 Q665.238 51.7138 670.342 47.825 Q675.487 43.9361 685.655 43.9361 L696.106 43.9361 L696.106 43.2069 Q696.106 38.0623 692.703 35.2672 Q689.341 32.4315 683.224 32.4315 Q679.336 32.4315 675.649 33.3632 Q671.963 34.295 668.56 36.1584 L668.56 29.2718 Q672.652 27.692 676.5 26.9223 Q680.348 26.1121 683.994 26.1121 Q693.838 26.1121 698.699 31.2163 Q703.56 36.3204 703.56 46.6907 Z\" fill=\"#000000\" fill-rule=\"nonzero\" fill-opacity=\"1\" /><path clip-path=\"url(#clip660)\" d=\"M754.237 35.9153 Q757.032 30.8922 760.921 28.5022 Q764.81 26.1121 770.076 26.1121 Q777.165 26.1121 781.013 31.0947 Q784.862 36.0368 784.862 45.1919 L784.862 72.576 L777.367 72.576 L777.367 45.4349 Q777.367 38.913 775.058 35.7533 Q772.749 32.5936 768.01 32.5936 Q762.217 32.5936 758.855 36.4419 Q755.493 40.2903 755.493 46.9338 L755.493 72.576 L747.998 72.576 L747.998 45.4349 Q747.998 38.8725 745.689 35.7533 Q743.38 32.5936 738.56 32.5936 Q732.848 32.5936 729.486 36.4824 Q726.123 40.3308 726.123 46.9338 L726.123 72.576 L718.629 72.576 L718.629 27.2059 L726.123 27.2059 L726.123 34.2544 Q728.676 30.082 732.24 28.0971 Q735.805 26.1121 740.707 26.1121 Q745.649 26.1121 749.092 28.6237 Q752.576 31.1352 754.237 35.9153 Z\" fill=\"#000000\" fill-rule=\"nonzero\" fill-opacity=\"1\" /><path clip-path=\"url(#clip660)\" d=\"M806.939 65.7705 L806.939 89.8329 L799.445 89.8329 L799.445 27.2059 L806.939 27.2059 L806.939 34.0924 Q809.289 30.0415 812.853 28.0971 Q816.459 26.1121 821.441 26.1121 Q829.705 26.1121 834.85 32.6746 Q840.035 39.2371 840.035 49.9314 Q840.035 60.6258 834.85 67.1883 Q829.705 73.7508 821.441 73.7508 Q816.459 73.7508 812.853 71.8063 Q809.289 69.8214 806.939 65.7705 M832.298 49.9314 Q832.298 41.7081 828.895 37.0496 Q825.533 32.3505 819.618 32.3505 Q813.704 32.3505 810.301 37.0496 Q806.939 41.7081 806.939 49.9314 Q806.939 58.1548 810.301 62.8538 Q813.704 67.5124 819.618 67.5124 Q825.533 67.5124 828.895 62.8538 Q832.298 58.1548 832.298 49.9314 Z\" fill=\"#000000\" fill-rule=\"nonzero\" fill-opacity=\"1\" /><path clip-path=\"url(#clip660)\" d=\"M852.39 9.54393 L859.844 9.54393 L859.844 72.576 L852.39 72.576 L852.39 9.54393 Z\" fill=\"#000000\" fill-rule=\"nonzero\" fill-opacity=\"1\" /><path clip-path=\"url(#clip660)\" d=\"M914.247 48.0275 L914.247 51.6733 L879.977 51.6733 Q880.463 59.3701 884.595 63.421 Q888.767 67.4314 896.18 67.4314 Q900.474 67.4314 904.485 66.3781 Q908.536 65.3249 912.506 63.2184 L912.506 70.267 Q908.495 71.9684 904.282 72.8596 Q900.069 73.7508 895.735 73.7508 Q884.878 73.7508 878.518 67.4314 Q872.199 61.1119 872.199 50.3365 Q872.199 39.1965 878.194 32.6746 Q884.23 26.1121 894.439 26.1121 Q903.594 26.1121 908.9 32.0264 Q914.247 37.9003 914.247 48.0275 M906.794 45.84 Q906.713 39.7232 903.351 36.0774 Q900.029 32.4315 894.52 32.4315 Q888.281 32.4315 884.514 35.9558 Q880.787 39.4801 880.22 45.8805 L906.794 45.84 Z\" fill=\"#000000\" fill-rule=\"nonzero\" fill-opacity=\"1\" /><path clip-path=\"url(#clip660)\" d=\"M928.385 62.2867 L936.933 62.2867 L936.933 72.576 L928.385 72.576 L928.385 62.2867 M928.385 29.6769 L936.933 29.6769 L936.933 39.9662 L928.385 39.9662 L928.385 29.6769 Z\" fill=\"#000000\" fill-rule=\"nonzero\" fill-opacity=\"1\" /><path clip-path=\"url(#clip660)\" d=\"M982.1 71.3202 L982.1 63.8666 Q985.179 65.3249 988.338 66.0946 Q991.498 66.8642 994.536 66.8642 Q1002.64 66.8642 1006.89 61.436 Q1011.19 55.9673 1011.79 44.8678 Q1009.44 48.3516 1005.84 50.215 Q1002.23 52.0784 997.858 52.0784 Q988.784 52.0784 983.477 46.6097 Q978.211 41.1005 978.211 31.5808 Q978.211 22.2638 983.72 16.633 Q989.23 11.0023 998.385 11.0023 Q1008.88 11.0023 1014.39 19.0636 Q1019.94 27.0843 1019.94 42.3968 Q1019.94 56.6965 1013.13 65.2439 Q1006.37 73.7508 994.901 73.7508 Q991.822 73.7508 988.663 73.1431 Q985.503 72.5355 982.1 71.3202 M998.385 45.678 Q1003.89 45.678 1007.09 41.9107 Q1010.33 38.1433 1010.33 31.5808 Q1010.33 25.0589 1007.09 21.2916 Q1003.89 17.4837 998.385 17.4837 Q992.875 17.4837 989.635 21.2916 Q986.435 25.0589 986.435 31.5808 Q986.435 38.1433 989.635 41.9107 Q992.875 45.678 998.385 45.678 Z\" fill=\"#000000\" fill-rule=\"nonzero\" fill-opacity=\"1\" /><path clip-path=\"url(#clip660)\" d=\"M1056.19 46.5287 L1078.03 46.5287 L1078.03 53.1722 L1056.19 53.1722 L1056.19 46.5287 Z\" fill=\"#000000\" fill-rule=\"nonzero\" fill-opacity=\"1\" /><path clip-path=\"url(#clip660)\" d=\"M1090.87 31.7429 L1090.87 24.3702 L1142.8 43.2069 L1142.8 49.9314 L1090.87 68.7682 L1090.87 61.3955 L1132.59 46.6097 L1090.87 31.7429 Z\" fill=\"#000000\" fill-rule=\"nonzero\" fill-opacity=\"1\" /><path clip-path=\"url(#clip660)\" d=\"M1187.08 71.3202 L1187.08 63.8666 Q1190.15 65.3249 1193.31 66.0946 Q1196.47 66.8642 1199.51 66.8642 Q1207.61 66.8642 1211.87 61.436 Q1216.16 55.9673 1216.77 44.8678 Q1214.42 48.3516 1210.81 50.215 Q1207.21 52.0784 1202.83 52.0784 Q1193.76 52.0784 1188.45 46.6097 Q1183.19 41.1005 1183.19 31.5808 Q1183.19 22.2638 1188.7 16.633 Q1194.21 11.0023 1203.36 11.0023 Q1213.85 11.0023 1219.36 19.0636 Q1224.91 27.0843 1224.91 42.3968 Q1224.91 56.6965 1218.11 65.2439 Q1211.34 73.7508 1199.88 73.7508 Q1196.8 73.7508 1193.64 73.1431 Q1190.48 72.5355 1187.08 71.3202 M1203.36 45.678 Q1208.87 45.678 1212.07 41.9107 Q1215.31 38.1433 1215.31 31.5808 Q1215.31 25.0589 1212.07 21.2916 Q1208.87 17.4837 1203.36 17.4837 Q1197.85 17.4837 1194.61 21.2916 Q1191.41 25.0589 1191.41 31.5808 Q1191.41 38.1433 1194.61 41.9107 Q1197.85 45.678 1203.36 45.678 Z\" fill=\"#000000\" fill-rule=\"nonzero\" fill-opacity=\"1\" /><g clip-path=\"url(#clip662)\">\n",
       "<image width=\"1012\" height=\"1363\" xlink:href=\"data:image/png;base64,\n",
       "iVBORw0KGgoAAAANSUhEUgAAA/QAAAVTCAYAAABj7GMOAAAgAElEQVR4nOzZv6vXdf/H8curU/QD\n",
       "oTA9utRyKJKwrWioFqOWKBqCisamqKEhqKFB+gOkooagwAahQdpcjZraIigXwaXhDBEiRgZ1rvHL\n",
       "iwOBfMPnuevt9hc8hg+v9+fOc9/W1tbOfwAAAICU/04PAAAAAK6doAcAAIAgQQ8AAABBgh4AAACC\n",
       "BD0AAAAECXoAAAAIEvQAAAAQJOgBAAAgSNADAABAkKAHAACAIEEPAAAAQYIeAAAAggQ9AAAABAl6\n",
       "AAAACBL0AAAAECToAQAAIEjQAwAAQJCgBwAAgCBBDwAAAEGCHgAAAIIEPQAAAAQJegAAAAgS9AAA\n",
       "ABAk6AEAACBI0AMAAECQoAcAAIAgQQ8AAABBgh4AAACCBD0AAAAECXoAAAAIEvQAAAAQJOgBAAAg\n",
       "SNADAABAkKAHAACAIEEPAAAAQYIeAAAAggQ9AAAABAl6AAAACBL0AAAAECToAQAAIEjQAwAAQJCg\n",
       "BwAAgCBBDwAAAEGCHgAAAIIEPQAAAAQJegAAAAgS9AAAABAk6AEAACBI0AMAAECQoAcAAIAgQQ8A\n",
       "AABBgh4AAACCBD0AAAAECXoAAAAIEvQAAAAQJOgBAAAgSNADAABAkKAHAACAIEEPAAAAQYIeAAAA\n",
       "ggQ9AAAABAl6AAAACBL0AAAAECToAQAAIEjQAwAAQJCgBwAAgCBBDwAAAEGCHgAAAIIEPQAAAAQJ\n",
       "egAAAAgS9AAAABAk6AEAACBI0AMAAECQoAcAAIAgQQ8AAABBgh4AAACCBD0AAAAECXoAAAAIEvQA\n",
       "AAAQJOgBAAAgSNADAABAkKAHAACAIEEPAAAAQYIeAAAAggQ9AAAABAl6AAAACBL0AAAAECToAQAA\n",
       "IEjQAwAAQJCgBwAAgCBBDwAAAEGCHgAAAIIEPQAAAAQJegAAAAgS9AAAABAk6AEAACBI0AMAAECQ\n",
       "oAcAAIAgQQ8AAABBgh4AAACCBD0AAAAECXoAAAAIEvQAAAAQJOgBAAAgSNADAABAkKAHAACAIEEP\n",
       "AAAAQYIeAAAAggQ9AAAABAl6AAAACBL0AAAAECToAQAAIEjQAwAAQJCgBwAAgCBBDwAAAEGCHgAA\n",
       "AIIEPQAAAAQJegAAAAgS9AAAABAk6AEAACBI0AMAAECQoAcAAIAgQQ8AAABBgh4AAACCBD0AAAAE\n",
       "CXoAAAAIEvQAAAAQJOgBAAAgSNADAABAkKAHAACAIEEPAAAAQYIeAAAAggQ9AAAABAl6AAAACBL0\n",
       "AAAAECToAQAAIEjQAwAAQJCgBwAAgCBBDwAAAEGCHgAAAIIEPQAAAAQJegAAAAgS9AAAABAk6AEA\n",
       "ACBI0AMAAECQoAcAAIAgQQ8AAABBgh4AAACCBD0AAAAECXoAAAAIEvQAAAAQJOgBAAAgSNADAABA\n",
       "kKAHAACAIEEPAAAAQYIeAAAAggQ9AAAABAl6AAAACBL0AAAAECToAQAAIEjQAwAAQJCgBwAAgCBB\n",
       "DwAAAEGCHgAAAIIEPQAAAAQJegAAAAgS9AAAABAk6AEAACBI0AMAAECQoAcAAIAgQQ8AAABBgh4A\n",
       "AACCBD0AAAAECXoAAAAIEvQAAAAQJOgBAAAgSNADAABAkKAHAACAIEEPAAAAQYIeAAAAggQ9AAAA\n",
       "BAl6AAAACBL0AAAAECToAQAAIEjQAwAAQJCgBwAAgCBBDwAAAEGCHgAAAIIEPQAAAAQJegAAAAgS\n",
       "9AAAABAk6AEAACBI0AMAAECQoAcAAIAgQQ8AAABBgh4AAACCBD0AAAAECXoAAAAIEvQAAAAQJOgB\n",
       "AAAgSNADAABAkKAHAACAIEEPAAAAQYIeAAAAggQ9AAAABAl6AAAACBL0AAAAECToAQAAIEjQAwAA\n",
       "QJCgBwAAgCBBDwAAAEGCHgAAAIIEPQAAAAQJegAAAAgS9AAAABAk6AEAACBI0AMAAECQoAcAAIAg\n",
       "QQ8AAABBgh4AAACCBD0AAAAECXoAAAAIEvQAAAAQJOgBAAAgSNADAABAkKAHAACAIEEPAAAAQYIe\n",
       "AAAAggQ9AAAABAl6AAAACBL0AAAAECToAQAAIEjQAwAAQJCgBwAAgCBBDwAAAEGCHgAAAIIEPQAA\n",
       "AAQJegAAAAgS9AAAABAk6AEAACBI0AMAAECQoAcAAIAgQQ8AAABBgh4AAACCBD0AAAAECXoAAAAI\n",
       "EvQAAAAQJOgBAAAgSNADAABAkKAHAACAIEEPAAAAQYIeAAAAggQ9AAAABAl6AAAACBL0AAAAECTo\n",
       "AQAAIEjQAwAAQJCgBwAAgCBBDwAAAEGCHgAAAIIEPQAAAAQJegAAAAgS9AAAABAk6AEAACBI0AMA\n",
       "AECQoAcAAIAgQQ8AAABBgh4AAACCBD0AAAAECXoAAAAIEvQAAAAQJOgBAAAgSNADAABAkKAHAACA\n",
       "IEEPAAAAQYIeAAAAggQ9AAAABAl6AAAACBL0AAAAECToAQAAIEjQAwAAQJCgBwAAgCBBDwAAAEGC\n",
       "HgAAAIIEPQAAAAQJegAAAAgS9AAAABAk6AEAACBI0AMAAECQoAcAAIAgQQ8AAABBgh4AAACCNqYH\n",
       "AMCN5N57752esDh69Oj0hF3eeOON6QmL/fv3T0/gGnz//ffTExZfffXV9ITFTz/9ND0BuI5c6AEA\n",
       "ACBI0AMAAECQoAcAAIAgQQ8AAABBgh4AAACCBD0AAAAECXoAAAAIEvQAAAAQJOgBAAAgSNADAABA\n",
       "kKAHAACAIEEPAAAAQYIeAAAAggQ9AAAABAl6AAAACBL0AAAAECToAQAAIEjQAwAAQJCgBwAAgCBB\n",
       "DwAAAEGCHgAAAIIEPQAAAAQJegAAAAgS9AAAABAk6AEAACBI0AMAAECQoAcAAIAgQQ8AAABBgh4A\n",
       "AACCBD0AAAAECXoAAAAIEvQAAAAQJOgBAAAgSNADAABAkKAHAACAIEEPAAAAQYIeAAAAggQ9AAAA\n",
       "BAl6AAAACBL0AAAAECToAQAAIEjQAwAAQJCgBwAAgCBBDwAAAEGCHgAAAIIEPQAAAAQJegAAAAja\n",
       "mB4AQMv29vb0hMVzzz03PWHx0ksvTU9YHD16dHrCLr///vv0hMXXX389PWHxyy+/TE9YPP3009MT\n",
       "Fo8++uj0hMV99903PWFx4sSJ6Qm7XLx4cXoC3LBc6AEAACBI0AMAAECQoAcAAIAgQQ8AAABBgh4A\n",
       "AACCBD0AAAAECXoAAAAIEvQAAAAQJOgBAAAgSNADAABAkKAHAACAIEEPAAAAQYIeAAAAggQ9AAAA\n",
       "BAl6AAAACBL0AAAAECToAQAAIEjQAwAAQJCgBwAAgCBBDwAAAEGCHgAAAIIEPQAAAAQJegAAAAgS\n",
       "9AAAABAk6AEAACBI0AMAAECQoAcAAIAgQQ8AAABBgh4AAACCBD0AAAAECXoAAAAIEvQAAAAQJOgB\n",
       "AAAgSNADAABAkKAHAACAIEEPAAAAQYIeAAAAggQ9AAAABAl6AAAACBL0AAAAECToAQAAIEjQAwAA\n",
       "QJCgBwAAgCBBDwAAAEGCHgAAAIIEPQAAAAQJegAAAAgS9AAAABC0MT0AgH929erV6QmLs2fPTk9Y\n",
       "HDx4cHrCnnbu3LnpCbucOHFiesLi0qVL0xP2tM8//3x6wuL48ePTExbvv//+9ITFAw88MD1hl4sX\n",
       "L05PgBuWCz0AAAAECXoAAAAIEvQAAAAQJOgBAAAgSNADAABAkKAHAACAIEEPAAAAQYIeAAAAggQ9\n",
       "AAAABAl6AAAACBL0AAAAECToAQAAIEjQAwAAQJCgBwAAgCBBDwAAAEGCHgAAAIIEPQAAAAQJegAA\n",
       "AAgS9AAAABAk6AEAACBI0AMAAECQoAcAAIAgQQ8AAABBgh4AAACCBD0AAAAECXoAAAAIEvQAAAAQ\n",
       "JOgBAAAgSNADAABAkKAHAACAIEEPAAAAQYIeAAAAggQ9AAAABAl6AAAACBL0AAAAECToAQAAIEjQ\n",
       "AwAAQJCgBwAAgCBBDwAAAEGCHgAAAIIEPQAAAAQJegAAAAgS9AAAABAk6AEAACBI0AMAAECQoAcA\n",
       "AIAgQQ8AAABBgh4AAACCNqYHAOw1d9555/SExRdffDE9YXHw4MHpCXvahx9+OD1hce7cuekJu9x+\n",
       "++3TExZ7bQ//7Mcff5yesDhw4MD0hMWVK1emJwDXkQs9AAAABAl6AAAACBL0AAAAECToAQAAIEjQ\n",
       "AwAAQJCgBwAAgCBBDwAAAEGCHgAAAIIEPQAAAAQJegAAAAgS9AAAABAk6AEAACBI0AMAAECQoAcA\n",
       "AIAgQQ8AAABBgh4AAACCBD0AAAAECXoAAAAIEvQAAAAQJOgBAAAgSNADAABAkKAHAACAIEEPAAAA\n",
       "QYIeAAAAggQ9AAAABAl6AAAACBL0AAAAECToAQAAIEjQAwAAQJCgBwAAgCBBDwAAAEGCHgAAAIIE\n",
       "PQAAAAQJegAAAAgS9AAAABAk6AEAACBI0AMAAECQoAcAAIAgQQ8AAABBgh4AAACCBD0AAAAECXoA\n",
       "AAAIEvQAAAAQJOgBAAAgSNADAABAkKAHAACAIEEPAAAAQfu2trZ2pkcAN7fjx49PT1i8/fbb0xMW\n",
       "hw8fnp6wOH/+/PSExeuvvz49YXHlypXpCXBDe/PNN6cnLP7444/pCYvPPvtsegJwHbnQAwAAQJCg\n",
       "BwAAgCBBDwAAAEGCHgAAAIIEPQAAAAQJegAAAAgS9AAAABAk6AEAACBI0AMAAECQoAcAAIAgQQ8A\n",
       "AABBgh4AAACCBD0AAAAECXoAAAAIEvQAAAAQJOgBAAAgSNADAABAkKAHAACAIEEPAAAAQYIeAAAA\n",
       "ggQ9AAAABAl6AAAACBL0AAAAECToAQAAIEjQAwAAQJCgBwAAgCBBDwAAAEGCHgAAAIIEPQAAAAQJ\n",
       "egAAAAgS9AAAABAk6AEAACBI0AMAAECQoAcAAIAgQQ8AAABBgh4AAACCBD0AAAAECXoAAAAIEvQA\n",
       "AAAQJOgBAAAgSNADAABAkKAHAACAIEEPAAAAQYIeAAAAggQ9AAAABAl6AAAACBL0AAAAECToAQAA\n",
       "IGhjegBwfb311lvTE3Z59tlnpycsrly5Mj1hcfLkyekJi1OnTk1PgH/V9vb29ITFgQMHpicsPvjg\n",
       "g+kJi8cee2x6wuLnn3+engDcxFzoAQAAIEjQAwAAQJCgBwAAgCBBDwAAAEGCHgAAAIIEPQAAAAQJ\n",
       "egAAAAgS9AAAABAk6AEAACBI0AMAAECQoAcAAIAgQQ8AAABBgh4AAACCBD0AAAAECXoAAAAIEvQA\n",
       "AAAQJOgBAAAgSNADAABAkKAHAACAIEEPAAAAQYIeAAAAggQ9AAAABAl6AAAACBL0AAAAECToAQAA\n",
       "IEjQAwAAQJCgBwAAgCBBDwAAAEGCHgAAAIIEPQAAAAQJegAAAAgS9AAAABAk6AEAACBI0AMAAECQ\n",
       "oAcAAIAgQQ8AAABBgh4AAACCBD0AAAAECXoAAAAIEvQAAAAQJOgBAAAgSNADAABAkKAHAACAIEEP\n",
       "AAAAQYIeAAAAggQ9AAAABAl6AAAACBL0AAAAELQxPQBudA8++OD0hMWTTz45PWGXnZ2d6QmL06dP\n",
       "T09YnDlzZnoC/Ku2t7enJyzuvvvu6QmLL7/8cnrC4tChQ9MTFnvtm/Hrr79OTwBuYi70AAAAECTo\n",
       "AQAAIEjQAwAAQJCgBwAAgCBBDwAAAEGCHgAAAIIEPQAAAAQJegAAAAgS9AAAABAk6AEAACBI0AMA\n",
       "AECQoAcAAIAgQQ8AAABBgh4AAACCBD0AAAAECXoAAAAIEvQAAAAQJOgBAAAgSNADAABAkKAHAACA\n",
       "IEEPAAAAQYIeAAAAggQ9AAAABAl6AAAACBL0AAAAECToAQAAIEjQAwAAQJCgBwAAgCBBDwAAAEGC\n",
       "HgAAAIIEPQAAAAQJegAAAAgS9AAAABAk6AEAACBI0AMAAECQoAcAAIAgQQ8AAABBgh4AAACCBD0A\n",
       "AAAECXoAAAAIEvQAAAAQJOgBAAAgSNADAABAkKAHAACAIEEPAAAAQYIeAAAAggQ9AAAABG1MD4Ab\n",
       "3TvvvDM9YXHHHXdMT9jl22+/nZ6w+PTTT6cn7Gmbm5vTE7gGf//99/SEXd57773pCYsnnnhiesLi\n",
       "t99+m56wuO2226YnLO65557pCYuPP/54egJwE3OhBwAAgCBBDwAAAEGCHgAAAIIEPQAAAAQJegAA\n",
       "AAgS9AAAABAk6AEAACBI0AMAAECQoAcAAIAgQQ8AAABBgh4AAACCBD0AAAAECXoAAAAIEvQAAAAQ\n",
       "JOgBAAAgSNADAABAkKAHAACAIEEPAAAAQYIeAAAAggQ9AAAABAl6AAAACBL0AAAAECToAQAAIEjQ\n",
       "AwAAQJCgBwAAgCBBDwAAAEGCHgAAAIIEPQAAAAQJegAAAAgS9AAAABAk6AEAACBI0AMAAECQoAcA\n",
       "AIAgQQ8AAABBgh4AAACCBD0AAAAECXoAAAAIEvQAAAAQJOgBAAAgSNADAABAkKAHAACAIEEPAAAA\n",
       "QYIeAAAAggQ9AAAABAl6AAAACBL0AAAAECToAQAAIEjQAwAAQNC+ra2tnekRcCO7//77pycsPvnk\n",
       "k+kJu1y9enV6wuKbb76ZnrC4cOHC9ITFsWPHpifsaZubm9MTFn/99df0hF0OHTo0PWGx197Fc+fO\n",
       "TU9YnD17dnrC4tZbb52esHjqqaemJyzuuuuu6QnAdeRCDwAAAEGCHgAAAIIEPQAAAAQJegAAAAgS\n",
       "9AAAABAk6AEAACBI0AMAAECQoAcAAIAgQQ8AAABBgh4AAACCBD0AAAAECXoAAAAIEvQAAAAQJOgB\n",
       "AAAgSNADAABAkKAHAACAIEEPAAAAQYIeAAAAggQ9AAAABAl6AAAACBL0AAAAECToAQAAIEjQAwAA\n",
       "QJCgBwAAgCBBDwAAAEGCHgAAAIIEPQAAAAQJegAAAAgS9AAAABAk6AEAACBI0AMAAECQoAcAAIAg\n",
       "QQ8AAABBgh4AAACCBD0AAAAECXoAAAAIEvQAAAAQJOgBAAAgSNADAABAkKAHAACAIEEPAAAAQYIe\n",
       "AAAAggQ9AAAABAl6AAAACBL0AAAAECToAQAAIEjQAwAAQJCgBwAAgKCN6QFwo7t06dL0hMUPP/ww\n",
       "PWGXRx55ZHrC4plnnpmesNjZ2ZmeQNiRI0emJ+xy+vTp6QmLhx9+eHrC4vnnn5+esNjY2Ft/Fw8f\n",
       "Pjw9YXHs2LHpCYsLFy5MTwCuIxd6AAAACBL0AAAAECToAQAAIEjQAwAAQJCgBwAAgCBBDwAAAEGC\n",
       "HgAAAIIEPQAAAAQJegAAAAgS9AAAABAk6AEAACBI0AMAAECQoAcAAIAgQQ8AAABBgh4AAACCBD0A\n",
       "AAAECXoAAAAIEvQAAAAQJOgBAAAgSNADAABAkKAHAACAIEEPAAAAQYIeAAAAggQ9AAAABAl6AAAA\n",
       "CBL0AAAAECToAQAAIEjQAwAAQJCgBwAAgCBBDwAAAEGCHgAAAIIEPQAAAAQJegAAAAgS9AAAABAk\n",
       "6AEAACBI0AMAAECQoAcAAIAgQQ8AAABBgh4AAACCBD0AAAAECXoAAAAIEvQAAAAQJOgBAAAgSNAD\n",
       "AABAkKAHAACAIEEPAAAAQYIeAAAAgvZtbW3tTI8Abm4vv/zy9ITFQw89ND1hsbPjmS45duzY9ITF\n",
       "+fPnpyfs8u67705PWLz66qvTExZ7bc9e8+eff05PWLz22mvTExaXL1+engBcRy70AAAAECToAQAA\n",
       "IEjQAwAAQJCgBwAAgCBBDwAAAEGCHgAAAIIEPQAAAAQJegAAAAgS9AAAABAk6AEAACBI0AMAAECQ\n",
       "oAcAAIAgQQ8AAABBgh4AAACCBD0AAAAECXoAAAAIEvQAAAAQJOgBAAAgSNADAABAkKAHAACAIEEP\n",
       "AAAAQYIeAAAAggQ9AAAABAl6AAAACBL0AAAAECToAQAAIEjQAwAAQJCgBwAAgCBBDwAAAEGCHgAA\n",
       "AIIEPQAAAAQJegAAAAgS9AAAABAk6AEAACBI0AMAAECQoAcAAIAgQQ8AAABBgh4AAACCBD0AAAAE\n",
       "CXoAAAAIEvQAAAAQJOgBAAAgSNADAABAkKAHAACAIEEPAAAAQYIeAAAAggQ9AAAABAl6AAAACNqY\n",
       "HgBw8uTJ6Qnwr9nc3JyewDX67rvvpicsXnnllekJe9qpU6emJywuX748PQG4ibnQAwAAQJCgBwAA\n",
       "gCBBDwAAAEGCHgAAAIIEPQAAAAQJegAAAAgS9AAAABAk6AEAACBI0AMAAECQoAcAAIAgQQ8AAABB\n",
       "gh4AAACCBD0AAAAECXoAAAAIEvQAAAAQJOgBAAAgSNADAABAkKAHAACAIEEPAAAAQYIeAAAAggQ9\n",
       "AAAABAl6AAAACBL0AAAAECToAQAAIEjQAwAAQJCgBwAAgCBBDwAAAEGCHgAAAIIEPQAAAAQJegAA\n",
       "AAgS9AAAABAk6AEAACBI0AMAAECQoAcAAIAgQQ8AAABBgh4AAACCBD0AAAAECXoAAAAIEvQAAAAQ\n",
       "JOgBAAAgSNADAABAkKAHAACAIEEPAAAAQYIeAAAAggQ9AAAABAl6AAAACBL0AAAAECToAQAAIGhj\n",
       "egDA5ubm9IQ9bXt7e3rCnub3w//XCy+8MD2Ba3DmzJnpCQB7hgs9AAAABAl6AAAACBL0AAAAECTo\n",
       "AQAAIEjQAwAAQJCgBwAAgCBBDwAAAEGCHgAAAIIEPQAAAAQJegAAAAgS9AAAABAk6AEAACBI0AMA\n",
       "AECQoAcAAIAgQQ8AAABBgh4AAACCBD0AAAAECXoAAAAIEvQAAAAQJOgBAAAgSNADAABAkKAHAACA\n",
       "IEEPAAAAQYIeAAAAggQ9AAAABAl6AAAACBL0AAAAECToAQAAIEjQAwAAQJCgBwAAgCBBDwAAAEGC\n",
       "HgAAAIIEPQAAAAQJegAAAAgS9AAAABAk6AEAACBI0AMAAECQoAcAAIAgQQ8AAABBgh4AAACCBD0A\n",
       "AAAECXoAAAAIEvQAAAAQJOgBAAAgSNADAABAkKAHAACAIEEPAAAAQRvTAwBo2dzcnJ5A3C233DI9\n",
       "YfH4449PT9jTLly4MD1hsb29PT1h4U0EJrnQAwAAQJCgBwAAgCBBDwAAAEGCHgAAAIIEPQAAAAQJ\n",
       "egAAAAgS9AAAABAk6AEAACBI0AMAAECQoAcAAIAgQQ8AAABBgh4AAACCBD0AAAAECXoAAAAIEvQA\n",
       "AAAQJOgBAAAgSNADAABAkKAHAACAIEEPAAAAQYIeAAAAggQ9AAAABAl6AAAACBL0AAAAECToAQAA\n",
       "IEjQAwAAQJCgBwAAgCBBDwAAAEGCHgAAAIIEPQAAAAQJegAAAAgS9AAAABAk6AEAACBI0AMAAECQ\n",
       "oAcAAIAgQQ8AAABBgh4AAACCBD0AAAAECXoAAAAIEvQAAAAQJOgBAAAgSNADAABAkKAHAACAIEEP\n",
       "AAAAQYIeAAAAggQ9AAAABAl6AAAACBL0AAAAECToAQAAIGhjegAA/2xzc3N6AvyrXnzxxekJi/37\n",
       "909PWBw5cmR6wuKjjz6anrDwJgL8Hxd6AAAACBL0AAAAECToAQAAIEjQAwAAQJCgBwAAgCBBDwAA\n",
       "AEGCHgAAAIIEPQAAAAQJegAAAAgS9MD/2rNjE1UCKAyjLEwLgubmNmAJU4qNCvZgA1OByb5YHhts\n",
       "IHc+9pwK/uzycQEAgCBBDwAAAEGCHgAAAIIEPQAAAAQJegAAAAgS9AAAABAk6AEAACBI0AMAAECQ\n",
       "oAcAAIAgQQ8AAABBgh4AAACCBD0AAAAECXoAAAAIEvQAAAAQJOgBAAAgSNADAABAkKAHAACAIEEP\n",
       "AAAAQYIeAAAAggQ9AAAABAl6AAAACBL0AAAAECToAQAAIEjQAwAAQJCgBwAAgCBBDwAAAEGCHgAA\n",
       "AIIEPQAAAAQJegAAAAgS9AAAABAk6AEAACBI0AMAAECQoAcAAIAgQQ8AAABBgh4AAACCBD0AAAAE\n",
       "CXoAAAAIEvQAAAAQJOgBAAAgaJkeAAD8LYfDYXrCm9PpND1h1x6Px/QEAH7gQw8AAABBgh4AAACC\n",
       "BD0AAAAECXoAAAAIEvQAAAAQJOgBAAAgSNADAABAkKAHAACAIEEPAAAAQYIeAAAAggQ9AAAABAl6\n",
       "AAAACBL0AAAAECToAQAAIEjQAwAAQJCgBwAAgCBBDwAAAEGCHgAAAIIEPQAAAAQJegAAAAgS9AAA\n",
       "ABAk6AEAACBI0AMAAECQoAcAAIAgQQ8AAABBgh4AAACCBD0AAAAECXoAAAAIEvQAAAAQJOgBAAAg\n",
       "SNADAABAkKAHAACAIEEPAAAAQYIeAAAAggQ9AAAABAl6AAAACBL0AAAAECToAQAAIEjQAwAAQJCg\n",
       "BwAAgCBBDwAAAEGCHgAAAIIEPQAAAAQJegAAAAgS9AAAABAk6AEAACBI0AMAAEDQMj0AAPicZdnf\n",
       "qV/XdXrCrt3v9+kJb7Ztm54AwA986AEAACBI0AMAAECQoAcAAIAgQQ8AAABBgh4AAACCBD0AAAAE\n",
       "CXoAAAAIEvQAAAAQJOgBAAAgSNADAABAkKAHAACAIEEPAAAAQYIeAAAAggQ9AAAABAl6AAAACBL0\n",
       "AAAAECToAQAAIEjQAwAAQJCgBwAAgCBBDwAAAEGCHgAAAIIEPQAAAAQJegAAAAgS9AAAABAk6AEA\n",
       "ACBI0AMAAECQoAcAAIAgQQ8AAABBgh4AAACCBD0AAAAECXoAAAAIEvQAAAAQJOgBAAAgSNADAABA\n",
       "kKAHAACAIEEPAAAAQYIeAAAAggQ9AAAABAl6AAAACBL0AAAAECToAQAAIEjQAwAAQJCgBwAAgCBB\n",
       "DwAAAEGCHgAAAIIEPQAAAAQJegAAAAgS9AAAABC0TA8AAD5nXdfpCf85Ho/TE3Zt27bpCQBE+NAD\n",
       "AABAkKAHAACAIEEPAAAAQYIeAAAAggQ9AAAABAl6AAAACBL0AAAAECToAQAAIEjQAwAAQJCgBwAA\n",
       "gCBBDwAAAEGCHgAAAIIEPQAAAAQJegAAAAgS9AAAABAk6AEAACBI0AMAAECQoAcAAIAgQQ8AAABB\n",
       "gh4AAACCBD0AAAAECXoAAAAIEvQAAAAQJN382wgAAAVqSURBVOgBAAAgSNADAABAkKAHAACAIEEP\n",
       "AAAAQYIeAAAAggQ9AAAABAl6AAAACBL0AAAAECToAQAAIEjQAwAAQJCgBwAAgCBBDwAAAEGCHgAA\n",
       "AIIEPQAAAAQJegAAAAgS9AAAABAk6AEAACBI0AMAAECQoAcAAIAgQQ8AAABBgh4AAACCBD0AAAAE\n",
       "CXoAAAAIEvQAAAAQJOgBAAAgaJkeAAB8zvV6nZ7AL10ul+kJAET40AMAAECQoAcAAIAgQQ8AAABB\n",
       "gh4AAACCBD0AAAAECXoAAAAIEvQAAAAQJOgBAAAgSNADAABAkKAHAACAIEEPAAAAQYIeAAAAggQ9\n",
       "AAAABAl6AAAACBL0AAAAECToAQAAIEjQAwAAQJCgBwAAgCBBDwAAAEGCHgAAAIIEPQAAAAQJegAA\n",
       "AAgS9AAAABAk6AEAACBI0AMAAECQoAcAAIAgQQ8AAABBgh4AAACCBD0AAAAECXoAAAAIEvQAAAAQ\n",
       "JOgBAAAgSNADAABAkKAHAACAIEEPAAAAQYIeAAAAggQ9AAAABAl6AAAACBL0AAAAECToAQAAIEjQ\n",
       "AwAAQJCgBwAAgCBBDwAAAEGCHgAAAIIEPQAAAAQJegAAAAgS9AAAABC0TA8AAD7n+XxOT9i91+s1\n",
       "PeHN7XabngBAhA89AAAABAl6AAAACBL0AAAAECToAQAAIEjQAwAAQJCgBwAAgCBBDwAAAEGCHgAA\n",
       "AIIEPQAAAAQJegAAAAgS9AAAABAk6AEAACBI0AMAAECQoAcAAIAgQQ8AAABBgh4AAACCBD0AAAAE\n",
       "CXoAAAAIEvQAAAAQJOgBAAAgSNADAABAkKAHAACAIEEPAAAAQYIeAAAAggQ9AAAABAl6AAAACBL0\n",
       "AAAAECToAQAAIEjQAwAAQJCgBwAAgCBBDwAAAEGCHgAAAIIEPQAAAAQJegAAAAgS9AAAABAk6AEA\n",
       "ACBI0AMAAECQoAcAAIAgQQ8AAABBgh4AAACCBD0AAAAECXoAAAAIEvQAAAAQJOgBAAAgSNADAABA\n",
       "kKAHAACAIEEPAAAAQYIeAAAAgr7O5/P39AgAAADgd3zoAQAAIEjQAwAAQJCgBwAAgCBBDwAAAEGC\n",
       "HgAAAIIEPQAAAAQJegAAAAgS9AAAABAk6AEAACBI0AMAAECQoAcAAIAgQQ8AAABBgh4AAACCBD0A\n",
       "AAAECXoAAAAIEvQAAAAQJOgBAAAgSNADAABAkKAHAACAIEEPAAAAQYIeAAAAggQ9AAAABAl6AAAA\n",
       "CBL0AAAAECToAQAAIEjQAwAAQJCgBwAAgCBBDwAAAEGCHgAAAIIEPQAAAAQJegAAAAgS9AAAABAk\n",
       "6AEAACBI0AMAAECQoAcAAIAgQQ8AAABBgh4AAACCBD0AAAAECXoAAAAIEvQAAAAQJOgBAAAgSNAD\n",
       "AABAkKAHAACAIEEPAAAAQYIeAAAAggQ9AAAABAl6AAAACBL0AAAAECToAQAAIEjQAwAAQJCgBwAA\n",
       "gCBBDwAAAEGCHgAAAIIEPQAAAAQJegAAAAgS9AAAABAk6AEAACBI0AMAAECQoAcAAIAgQQ8AAABB\n",
       "gh4AAACCBD0AAAAECXoAAAAIEvQAAAAQJOgBAAAgSNADAABAkKAHAACAIEEPAAAAQYIeAAAAggQ9\n",
       "AAAABAl6AAAACBL0AAAAECToAQAAIEjQAwAAQJCgBwAAgCBBDwAAAEGCHgAAAIIEPQAAAAQJegAA\n",
       "AAgS9AAAABAk6AEAACBI0AMAAECQoAcAAIAgQQ8AAABBgh4AAACCBD0AAAAECXoAAAAIEvQAAAAQ\n",
       "JOgBAAAgSNADAABAkKAHAACAIEEPAAAAQYIeAAAAggQ9AAAABAl6AAAACBL0AAAAEPQPSWX17eCM\n",
       "EBIAAAAASUVORK5CYII=\n",
       "\" transform=\"translate(141, 123)\"/>\n",
       "</g>\n",
       "<path clip-path=\"url(#clip660)\" d=\"M1340.7 1486.45 L2352.76 1486.45 L2352.76 123.472 L1340.7 123.472  Z\" fill=\"#ffffff\" fill-rule=\"evenodd\" fill-opacity=\"1\"/>\n",
       "<defs>\n",
       "  <clipPath id=\"clip663\">\n",
       "    <rect x=\"1340\" y=\"123\" width=\"1013\" height=\"1364\"/>\n",
       "  </clipPath>\n",
       "</defs>\n",
       "<polyline clip-path=\"url(#clip663)\" style=\"stroke:#000000; stroke-linecap:round; stroke-linejoin:round; stroke-width:2; stroke-opacity:0.1; fill:none\" points=\"1503.35,1486.45 1503.35,123.472 \"/>\n",
       "<polyline clip-path=\"url(#clip663)\" style=\"stroke:#000000; stroke-linecap:round; stroke-linejoin:round; stroke-width:2; stroke-opacity:0.1; fill:none\" points=\"1684.07,1486.45 1684.07,123.472 \"/>\n",
       "<polyline clip-path=\"url(#clip663)\" style=\"stroke:#000000; stroke-linecap:round; stroke-linejoin:round; stroke-width:2; stroke-opacity:0.1; fill:none\" points=\"1864.8,1486.45 1864.8,123.472 \"/>\n",
       "<polyline clip-path=\"url(#clip663)\" style=\"stroke:#000000; stroke-linecap:round; stroke-linejoin:round; stroke-width:2; stroke-opacity:0.1; fill:none\" points=\"2045.52,1486.45 2045.52,123.472 \"/>\n",
       "<polyline clip-path=\"url(#clip663)\" style=\"stroke:#000000; stroke-linecap:round; stroke-linejoin:round; stroke-width:2; stroke-opacity:0.1; fill:none\" points=\"2226.25,1486.45 2226.25,123.472 \"/>\n",
       "<polyline clip-path=\"url(#clip663)\" style=\"stroke:#000000; stroke-linecap:round; stroke-linejoin:round; stroke-width:2; stroke-opacity:0.1; fill:none\" points=\"1340.7,1267.4 2352.76,1267.4 \"/>\n",
       "<polyline clip-path=\"url(#clip663)\" style=\"stroke:#000000; stroke-linecap:round; stroke-linejoin:round; stroke-width:2; stroke-opacity:0.1; fill:none\" points=\"1340.7,1024.01 2352.76,1024.01 \"/>\n",
       "<polyline clip-path=\"url(#clip663)\" style=\"stroke:#000000; stroke-linecap:round; stroke-linejoin:round; stroke-width:2; stroke-opacity:0.1; fill:none\" points=\"1340.7,780.621 2352.76,780.621 \"/>\n",
       "<polyline clip-path=\"url(#clip663)\" style=\"stroke:#000000; stroke-linecap:round; stroke-linejoin:round; stroke-width:2; stroke-opacity:0.1; fill:none\" points=\"1340.7,537.233 2352.76,537.233 \"/>\n",
       "<polyline clip-path=\"url(#clip663)\" style=\"stroke:#000000; stroke-linecap:round; stroke-linejoin:round; stroke-width:2; stroke-opacity:0.1; fill:none\" points=\"1340.7,293.844 2352.76,293.844 \"/>\n",
       "<path clip-path=\"url(#clip660)\" d=\"M1435.26 16.7545 L1435.26 25.383 Q1431.12 21.5346 1426.42 19.6307 Q1421.77 17.7268 1416.5 17.7268 Q1406.13 17.7268 1400.62 24.0867 Q1395.11 30.4061 1395.11 42.3968 Q1395.11 54.3469 1400.62 60.7069 Q1406.13 67.0263 1416.5 67.0263 Q1421.77 67.0263 1426.42 65.1223 Q1431.12 63.2184 1435.26 59.3701 L1435.26 67.9175 Q1430.96 70.8341 1426.14 72.2924 Q1421.36 73.7508 1416.01 73.7508 Q1402.28 73.7508 1394.38 65.3654 Q1386.48 56.9395 1386.48 42.3968 Q1386.48 27.8135 1394.38 19.4281 Q1402.28 11.0023 1416.01 11.0023 Q1421.44 11.0023 1426.22 12.4606 Q1431.04 13.8784 1435.26 16.7545 Z\" fill=\"#000000\" fill-rule=\"nonzero\" fill-opacity=\"1\" /><path clip-path=\"url(#clip660)\" d=\"M1447.57 9.54393 L1455.02 9.54393 L1455.02 72.576 L1447.57 72.576 L1447.57 9.54393 Z\" fill=\"#000000\" fill-rule=\"nonzero\" fill-opacity=\"1\" /><path clip-path=\"url(#clip660)\" d=\"M1509.43 48.0275 L1509.43 51.6733 L1475.16 51.6733 Q1475.64 59.3701 1479.77 63.421 Q1483.95 67.4314 1491.36 67.4314 Q1495.65 67.4314 1499.66 66.3781 Q1503.72 65.3249 1507.69 63.2184 L1507.69 70.267 Q1503.67 71.9684 1499.46 72.8596 Q1495.25 73.7508 1490.91 73.7508 Q1480.06 73.7508 1473.7 67.4314 Q1467.38 61.1119 1467.38 50.3365 Q1467.38 39.1965 1473.37 32.6746 Q1479.41 26.1121 1489.62 26.1121 Q1498.77 26.1121 1504.08 32.0264 Q1509.43 37.9003 1509.43 48.0275 M1501.97 45.84 Q1501.89 39.7232 1498.53 36.0774 Q1495.21 32.4315 1489.7 32.4315 Q1483.46 32.4315 1479.69 35.9558 Q1475.97 39.4801 1475.4 45.8805 L1501.97 45.84 Z\" fill=\"#000000\" fill-rule=\"nonzero\" fill-opacity=\"1\" /><path clip-path=\"url(#clip660)\" d=\"M1542.28 49.7694 Q1533.25 49.7694 1529.76 51.8354 Q1526.28 53.9013 1526.28 58.8839 Q1526.28 62.8538 1528.87 65.2034 Q1531.5 67.5124 1536 67.5124 Q1542.2 67.5124 1545.93 63.1374 Q1549.69 58.7219 1549.69 51.4303 L1549.69 49.7694 L1542.28 49.7694 M1557.15 46.6907 L1557.15 72.576 L1549.69 72.576 L1549.69 65.6895 Q1547.14 69.8214 1543.33 71.8063 Q1539.53 73.7508 1534.02 73.7508 Q1527.05 73.7508 1522.92 69.8619 Q1518.83 65.9325 1518.83 59.3701 Q1518.83 51.7138 1523.93 47.825 Q1529.07 43.9361 1539.24 43.9361 L1549.69 43.9361 L1549.69 43.2069 Q1549.69 38.0623 1546.29 35.2672 Q1542.93 32.4315 1536.81 32.4315 Q1532.92 32.4315 1529.24 33.3632 Q1525.55 34.295 1522.15 36.1584 L1522.15 29.2718 Q1526.24 27.692 1530.09 26.9223 Q1533.94 26.1121 1537.58 26.1121 Q1547.42 26.1121 1552.29 31.2163 Q1557.15 36.3204 1557.15 46.6907 Z\" fill=\"#000000\" fill-rule=\"nonzero\" fill-opacity=\"1\" /><path clip-path=\"url(#clip660)\" d=\"M1610.21 45.1919 L1610.21 72.576 L1602.76 72.576 L1602.76 45.4349 Q1602.76 38.994 1600.25 35.7938 Q1597.74 32.5936 1592.71 32.5936 Q1586.68 32.5936 1583.19 36.4419 Q1579.71 40.2903 1579.71 46.9338 L1579.71 72.576 L1572.22 72.576 L1572.22 27.2059 L1579.71 27.2059 L1579.71 34.2544 Q1582.38 30.163 1585.99 28.1376 Q1589.64 26.1121 1594.37 26.1121 Q1602.19 26.1121 1606.2 30.9732 Q1610.21 35.7938 1610.21 45.1919 Z\" fill=\"#000000\" fill-rule=\"nonzero\" fill-opacity=\"1\" /><path clip-path=\"url(#clip660)\" d=\"M1690.26 48.0275 L1690.26 51.6733 L1655.99 51.6733 Q1656.48 59.3701 1660.61 63.421 Q1664.78 67.4314 1672.19 67.4314 Q1676.49 67.4314 1680.5 66.3781 Q1684.55 65.3249 1688.52 63.2184 L1688.52 70.267 Q1684.51 71.9684 1680.29 72.8596 Q1676.08 73.7508 1671.75 73.7508 Q1660.89 73.7508 1654.53 67.4314 Q1648.21 61.1119 1648.21 50.3365 Q1648.21 39.1965 1654.21 32.6746 Q1660.24 26.1121 1670.45 26.1121 Q1679.61 26.1121 1684.91 32.0264 Q1690.26 37.9003 1690.26 48.0275 M1682.81 45.84 Q1682.72 39.7232 1679.36 36.0774 Q1676.04 32.4315 1670.53 32.4315 Q1664.29 32.4315 1660.53 35.9558 Q1656.8 39.4801 1656.23 45.8805 L1682.81 45.84 Z\" fill=\"#000000\" fill-rule=\"nonzero\" fill-opacity=\"1\" /><path clip-path=\"url(#clip660)\" d=\"M1738.75 27.2059 L1722.34 49.2833 L1739.6 72.576 L1730.81 72.576 L1717.6 54.752 L1704.4 72.576 L1695.61 72.576 L1713.23 48.8377 L1697.11 27.2059 L1705.9 27.2059 L1717.93 43.369 L1729.96 27.2059 L1738.75 27.2059 Z\" fill=\"#000000\" fill-rule=\"nonzero\" fill-opacity=\"1\" /><path clip-path=\"url(#clip660)\" d=\"M1770.75 49.7694 Q1761.72 49.7694 1758.23 51.8354 Q1754.75 53.9013 1754.75 58.8839 Q1754.75 62.8538 1757.34 65.2034 Q1759.98 67.5124 1764.47 67.5124 Q1770.67 67.5124 1774.4 63.1374 Q1778.16 58.7219 1778.16 51.4303 L1778.16 49.7694 L1770.75 49.7694 M1785.62 46.6907 L1785.62 72.576 L1778.16 72.576 L1778.16 65.6895 Q1775.61 69.8214 1771.8 71.8063 Q1768 73.7508 1762.49 73.7508 Q1755.52 73.7508 1751.39 69.8619 Q1747.3 65.9325 1747.3 59.3701 Q1747.3 51.7138 1752.4 47.825 Q1757.55 43.9361 1767.71 43.9361 L1778.16 43.9361 L1778.16 43.2069 Q1778.16 38.0623 1774.76 35.2672 Q1771.4 32.4315 1765.28 32.4315 Q1761.39 32.4315 1757.71 33.3632 Q1754.02 34.295 1750.62 36.1584 L1750.62 29.2718 Q1754.71 27.692 1758.56 26.9223 Q1762.41 26.1121 1766.05 26.1121 Q1775.9 26.1121 1780.76 31.2163 Q1785.62 36.3204 1785.62 46.6907 Z\" fill=\"#000000\" fill-rule=\"nonzero\" fill-opacity=\"1\" /><path clip-path=\"url(#clip660)\" d=\"M1836.29 35.9153 Q1839.09 30.8922 1842.98 28.5022 Q1846.87 26.1121 1852.13 26.1121 Q1859.22 26.1121 1863.07 31.0947 Q1866.92 36.0368 1866.92 45.1919 L1866.92 72.576 L1859.43 72.576 L1859.43 45.4349 Q1859.43 38.913 1857.12 35.7533 Q1854.81 32.5936 1850.07 32.5936 Q1844.27 32.5936 1840.91 36.4419 Q1837.55 40.2903 1837.55 46.9338 L1837.55 72.576 L1830.06 72.576 L1830.06 45.4349 Q1830.06 38.8725 1827.75 35.7533 Q1825.44 32.5936 1820.62 32.5936 Q1814.91 32.5936 1811.54 36.4824 Q1808.18 40.3308 1808.18 46.9338 L1808.18 72.576 L1800.69 72.576 L1800.69 27.2059 L1808.18 27.2059 L1808.18 34.2544 Q1810.73 30.082 1814.3 28.0971 Q1817.86 26.1121 1822.76 26.1121 Q1827.71 26.1121 1831.15 28.6237 Q1834.63 31.1352 1836.29 35.9153 Z\" fill=\"#000000\" fill-rule=\"nonzero\" fill-opacity=\"1\" /><path clip-path=\"url(#clip660)\" d=\"M1889 65.7705 L1889 89.8329 L1881.5 89.8329 L1881.5 27.2059 L1889 27.2059 L1889 34.0924 Q1891.35 30.0415 1894.91 28.0971 Q1898.52 26.1121 1903.5 26.1121 Q1911.76 26.1121 1916.91 32.6746 Q1922.09 39.2371 1922.09 49.9314 Q1922.09 60.6258 1916.91 67.1883 Q1911.76 73.7508 1903.5 73.7508 Q1898.52 73.7508 1894.91 71.8063 Q1891.35 69.8214 1889 65.7705 M1914.36 49.9314 Q1914.36 41.7081 1910.95 37.0496 Q1907.59 32.3505 1901.68 32.3505 Q1895.76 32.3505 1892.36 37.0496 Q1889 41.7081 1889 49.9314 Q1889 58.1548 1892.36 62.8538 Q1895.76 67.5124 1901.68 67.5124 Q1907.59 67.5124 1910.95 62.8538 Q1914.36 58.1548 1914.36 49.9314 Z\" fill=\"#000000\" fill-rule=\"nonzero\" fill-opacity=\"1\" /><path clip-path=\"url(#clip660)\" d=\"M1934.45 9.54393 L1941.9 9.54393 L1941.9 72.576 L1934.45 72.576 L1934.45 9.54393 Z\" fill=\"#000000\" fill-rule=\"nonzero\" fill-opacity=\"1\" /><path clip-path=\"url(#clip660)\" d=\"M1996.31 48.0275 L1996.31 51.6733 L1962.03 51.6733 Q1962.52 59.3701 1966.65 63.421 Q1970.83 67.4314 1978.24 67.4314 Q1982.53 67.4314 1986.54 66.3781 Q1990.59 65.3249 1994.56 63.2184 L1994.56 70.267 Q1990.55 71.9684 1986.34 72.8596 Q1982.13 73.7508 1977.79 73.7508 Q1966.94 73.7508 1960.58 67.4314 Q1954.26 61.1119 1954.26 50.3365 Q1954.26 39.1965 1960.25 32.6746 Q1966.29 26.1121 1976.5 26.1121 Q1985.65 26.1121 1990.96 32.0264 Q1996.31 37.9003 1996.31 48.0275 M1988.85 45.84 Q1988.77 39.7232 1985.41 36.0774 Q1982.09 32.4315 1976.58 32.4315 Q1970.34 32.4315 1966.57 35.9558 Q1962.84 39.4801 1962.28 45.8805 L1988.85 45.84 Z\" fill=\"#000000\" fill-rule=\"nonzero\" fill-opacity=\"1\" /><path clip-path=\"url(#clip660)\" d=\"M2010.44 62.2867 L2018.99 62.2867 L2018.99 72.576 L2010.44 72.576 L2010.44 62.2867 M2010.44 29.6769 L2018.99 29.6769 L2018.99 39.9662 L2010.44 39.9662 L2010.44 29.6769 Z\" fill=\"#000000\" fill-rule=\"nonzero\" fill-opacity=\"1\" /><path clip-path=\"url(#clip660)\" d=\"M2064.16 71.3202 L2064.16 63.8666 Q2067.24 65.3249 2070.4 66.0946 Q2073.56 66.8642 2076.59 66.8642 Q2084.7 66.8642 2088.95 61.436 Q2093.24 55.9673 2093.85 44.8678 Q2091.5 48.3516 2087.9 50.215 Q2084.29 52.0784 2079.92 52.0784 Q2070.84 52.0784 2065.54 46.6097 Q2060.27 41.1005 2060.27 31.5808 Q2060.27 22.2638 2065.78 16.633 Q2071.29 11.0023 2080.44 11.0023 Q2090.93 11.0023 2096.44 19.0636 Q2101.99 27.0843 2101.99 42.3968 Q2101.99 56.6965 2095.19 65.2439 Q2088.42 73.7508 2076.96 73.7508 Q2073.88 73.7508 2070.72 73.1431 Q2067.56 72.5355 2064.16 71.3202 M2080.44 45.678 Q2085.95 45.678 2089.15 41.9107 Q2092.39 38.1433 2092.39 31.5808 Q2092.39 25.0589 2089.15 21.2916 Q2085.95 17.4837 2080.44 17.4837 Q2074.93 17.4837 2071.69 21.2916 Q2068.49 25.0589 2068.49 31.5808 Q2068.49 38.1433 2071.69 41.9107 Q2074.93 45.678 2080.44 45.678 Z\" fill=\"#000000\" fill-rule=\"nonzero\" fill-opacity=\"1\" /><path clip-path=\"url(#clip660)\" d=\"M2138.25 46.5287 L2160.08 46.5287 L2160.08 53.1722 L2138.25 53.1722 L2138.25 46.5287 Z\" fill=\"#000000\" fill-rule=\"nonzero\" fill-opacity=\"1\" /><path clip-path=\"url(#clip660)\" d=\"M2172.92 31.7429 L2172.92 24.3702 L2224.86 43.2069 L2224.86 49.9314 L2172.92 68.7682 L2172.92 61.3955 L2214.65 46.6097 L2172.92 31.7429 Z\" fill=\"#000000\" fill-rule=\"nonzero\" fill-opacity=\"1\" /><path clip-path=\"url(#clip660)\" d=\"M2269.13 71.3202 L2269.13 63.8666 Q2272.21 65.3249 2275.37 66.0946 Q2278.53 66.8642 2281.57 66.8642 Q2289.67 66.8642 2293.93 61.436 Q2298.22 55.9673 2298.83 44.8678 Q2296.48 48.3516 2292.87 50.215 Q2289.27 52.0784 2284.89 52.0784 Q2275.82 52.0784 2270.51 46.6097 Q2265.24 41.1005 2265.24 31.5808 Q2265.24 22.2638 2270.75 16.633 Q2276.26 11.0023 2285.42 11.0023 Q2295.91 11.0023 2301.42 19.0636 Q2306.97 27.0843 2306.97 42.3968 Q2306.97 56.6965 2300.16 65.2439 Q2293.4 73.7508 2281.93 73.7508 Q2278.86 73.7508 2275.7 73.1431 Q2272.54 72.5355 2269.13 71.3202 M2285.42 45.678 Q2290.93 45.678 2294.13 41.9107 Q2297.37 38.1433 2297.37 31.5808 Q2297.37 25.0589 2294.13 21.2916 Q2290.93 17.4837 2285.42 17.4837 Q2279.91 17.4837 2276.67 21.2916 Q2273.47 25.0589 2273.47 31.5808 Q2273.47 38.1433 2276.67 41.9107 Q2279.91 45.678 2285.42 45.678 Z\" fill=\"#000000\" fill-rule=\"nonzero\" fill-opacity=\"1\" /><g clip-path=\"url(#clip663)\">\n",
       "<image width=\"1012\" height=\"1363\" xlink:href=\"data:image/png;base64,\n",
       "iVBORw0KGgoAAAANSUhEUgAAA/QAAAVTCAYAAABj7GMOAAAgAElEQVR4nOzZz6vncx/H4XtuJyXO\n",
       "QpnZ2M9kGtmhZGfYKJI0sdSs/FhOTUkSTbbCRkpHmmywomycOlayYSEpNRuSDaUjFjr3+t23+y51\n",
       "N6/zOOe6/oLn6v35PHqd2N7ePvgXAAAAkPLv6QEAAADAPyfoAQAAIEjQAwAAQJCgBwAAgCBBDwAA\n",
       "AEGCHgAAAIIEPQAAAAQJegAAAAgS9AAAABAk6AEAACBI0AMAAECQoAcAAIAgQQ8AAABBgh4AAACC\n",
       "BD0AAAAECXoAAAAIEvQAAAAQJOgBAAAgSNADAABAkKAHAACAIEEPAAAAQYIeAAAAggQ9AAAABAl6\n",
       "AAAACBL0AAAAECToAQAAIEjQAwAAQJCgBwAAgCBBDwAAAEGCHgAAAIIEPQAAAAQJegAAAAgS9AAA\n",
       "ABAk6AEAACBI0AMAAECQoAcAAIAgQQ8AAABBgh4AAACCBD0AAAAECXoAAAAIEvQAAAAQJOgBAAAg\n",
       "SNADAABAkKAHAACAIEEPAAAAQYIeAAAAggQ9AAAABAl6AAAACBL0AAAAECToAQAAIEjQAwAAQJCg\n",
       "BwAAgCBBDwAAAEGCHgAAAIIEPQAAAAQJegAAAAgS9AAAABAk6AEAACBI0AMAAECQoAcAAIAgQQ8A\n",
       "AABBgh4AAACCBD0AAAAECXoAAAAIEvQAAAAQJOgBAAAgSNADAABAkKAHAACAIEEPAAAAQYIeAAAA\n",
       "ggQ9AAAABAl6AAAACBL0AAAAECToAQAAIEjQAwAAQJCgBwAAgCBBDwAAAEGCHgAAAIIEPQAAAAQJ\n",
       "egAAAAgS9AAAABAk6AEAACBI0AMAAECQoAcAAIAgQQ8AAABBgh4AAACCBD0AAAAECXoAAAAIEvQA\n",
       "AAAQJOgBAAAgSNADAABAkKAHAACAIEEPAAAAQYIeAAAAggQ9AAAABAl6AAAACBL0AAAAECToAQAA\n",
       "IEjQAwAAQJCgBwAAgCBBDwAAAEGCHgAAAIIEPQAAAAQJegAAAAgS9AAAABAk6AEAACBI0AMAAECQ\n",
       "oAcAAIAgQQ8AAABBgh4AAACCBD0AAAAECXoAAAAIEvQAAAAQJOgBAAAgSNADAABAkKAHAACAIEEP\n",
       "AAAAQYIeAAAAggQ9AAAABAl6AAAACBL0AAAAECToAQAAIEjQAwAAQJCgBwAAgCBBDwAAAEGCHgAA\n",
       "AIIEPQAAAAQJegAAAAgS9AAAABAk6AEAACBI0AMAAECQoAcAAIAgQQ8AAABBgh4AAACCBD0AAAAE\n",
       "CXoAAAAIEvQAAAAQJOgBAAAgSNADAABAkKAHAACAIEEPAAAAQYIeAAAAggQ9AAAABAl6AAAACBL0\n",
       "AAAAECToAQAAIEjQAwAAQJCgBwAAgCBBDwAAAEGCHgAAAIIEPQAAAAQJegAAAAgS9AAAABAk6AEA\n",
       "ACBI0AMAAECQoAcAAIAgQQ8AAABBgh4AAACCBD0AAAAECXoAAAAIEvQAAAAQJOgBAAAgSNADAABA\n",
       "kKAHAACAIEEPAAAAQYIeAAAAggQ9AAAABAl6AAAACBL0AAAAECToAQAAIEjQAwAAQJCgBwAAgCBB\n",
       "DwAAAEGCHgAAAIIEPQAAAAQJegAAAAgS9AAAABAk6AEAACBI0AMAAECQoAcAAIAgQQ8AAABBgh4A\n",
       "AACCBD0AAAAECXoAAAAIEvQAAAAQJOgBAAAgSNADAABAkKAHAACAIEEPAAAAQYIeAAAAggQ9AAAA\n",
       "BAl6AAAACBL0AAAAECToAQAAIEjQAwAAQJCgBwAAgCBBDwAAAEGCHgAAAIIEPQAAAAQJegAAAAgS\n",
       "9AAAABAk6AEAACBI0AMAAECQoAcAAIAgQQ8AAABBgh4AAACCBD0AAAAECXoAAAAIEvQAAAAQJOgB\n",
       "AAAgSNADAABAkKAHAACAIEEPAAAAQYIeAAAAggQ9AAAABAl6AAAACBL0AAAAECToAQAAIEjQAwAA\n",
       "QJCgBwAAgCBBDwAAAEGCHgAAAIIEPQAAAAQJegAAAAgS9AAAABAk6AEAACBI0AMAAECQoAcAAIAg\n",
       "QQ8AAABBgh4AAACCBD0AAAAECXoAAAAIEvQAAAAQJOgBAAAgSNADAABAkKAHAACAIEEPAAAAQYIe\n",
       "AAAAggQ9AAAABAl6AAAACBL0AAAAECToAQAAIEjQAwAAQJCgBwAAgCBBDwAAAEGCHgAAAIIEPQAA\n",
       "AAQJegAAAAgS9AAAABAk6AEAACBI0AMAAECQoAcAAIAgQQ8AAABBgh4AAACCBD0AAAAECXoAAAAI\n",
       "EvQAAAAQJOgBAAAgSNADAABAkKAHAACAIEEPAAAAQYIeAAAAggQ9AAAABAl6AAAACBL0AAAAECTo\n",
       "AQAAIEjQAwAAQJCgBwAAgCBBDwAAAEGCHgAAAIIEPQAAAAQJegAAAAgS9AAAABAk6AEAACBI0AMA\n",
       "AECQoAcAAIAgQQ8AAABBgh4AAACCBD0AAAAECXoAAAAIEvQAAAAQJOgBAAAgSNADAABAkKAHAACA\n",
       "IEEPAAAAQYIeAAAAggQ9AAAABAl6AAAACBL0AAAAECToAQAAIEjQAwAAQJCgBwAAgKCt6QEAcJTc\n",
       "dttt0xMWFy5cmJ6w4ZlnnpmesNje3p6ewD/w5ZdfTk9YvPDCC9MTFt9+++30BOA6cqEHAACAIEEP\n",
       "AAAAQYIeAAAAggQ9AAAABAl6AAAACBL0AAAAECToAQAAIEjQAwAAQJCgBwAAgCBBDwAAAEGCHgAA\n",
       "AIIEPQAAAAQJegAAAAgS9AAAABAk6AEAACBI0AMAAECQoAcAAIAgQQ8AAABBgh4AAACCBD0AAAAE\n",
       "CXoAAAAIEvQAAAAQJOgBAAAgSNADAABAkKAHAACAIEEPAAAAQYIeAAAAggQ9AAAABAl6AAAACBL0\n",
       "AAAAECToAQAAIEjQAwAAQJCgBwAAgCBBDwAAAEGCHgAAAIIEPQAAAAQJegAAAAgS9AAAABAk6AEA\n",
       "ACBI0AMAAECQoAcAAIAgQQ8AAABBgh4AAACCBD0AAAAECXoAAAAIEvQAAAAQJOgBAAAg6MT29vbB\n",
       "9AgAOm655ZbpCYsLFy5MT1g88cQT0xMWZ8+enZ6w4Y8//piesPjss8+mJyx+/PHH6QmL8+fPT09Y\n",
       "nD59enrC4ueff56esHj88cenJ2y4du3a9AQ4slzoAQAAIEjQAwAAQJCgBwAAgCBBDwAAAEGCHgAA\n",
       "AIIEPQAAAAQJegAAAAgS9AAAABAk6AEAACBI0AMAAECQoAcAAIAgQQ8AAABBgh4AAACCBD0AAAAE\n",
       "CXoAAAAIEvQAAAAQJOgBAAAgSNADAABAkKAHAACAIEEPAAAAQYIeAAAAggQ9AAAABAl6AAAACBL0\n",
       "AAAAECToAQAAIEjQAwAAQJCgBwAAgCBBDwAAAEGCHgAAAIIEPQAAAAQJegAAAAgS9AAAABAk6AEA\n",
       "ACBI0AMAAECQoAcAAIAgQQ8AAABBgh4AAACCBD0AAAAECXoAAAAIEvQAAAAQJOgBAAAgSNADAABA\n",
       "kKAHAACAIEEPAAAAQYIeAAAAggQ9AAAABAl6AAAACBL0AAAAELQ1PQCA/+3MmTPTExZXr16dnrA4\n",
       "efLk9IRDbXd3d3rChpdffnl6wuL777+fnnCoXblyZXrC4qmnnpqesHjxxRenJyxOnz49PWHDtWvX\n",
       "pifAkeVCDwAAAEGCHgAAAIIEPQAAAAQJegAAAAgS9AAAABAk6AEAACBI0AMAAECQoAcAAIAgQQ8A\n",
       "AABBgh4AAACCBD0AAAAECXoAAAAIEvQAAAAQJOgBAAAgSNADAABAkKAHAACAIEEPAAAAQYIeAAAA\n",
       "ggQ9AAAABAl6AAAACBL0AAAAECToAQAAIEjQAwAAQJCgBwAAgCBBDwAAAEGCHgAAAIIEPQAAAAQJ\n",
       "egAAAAgS9AAAABAk6AEAACBI0AMAAECQoAcAAIAgQQ8AAABBgh4AAACCBD0AAAAECXoAAAAIEvQA\n",
       "AAAQJOgBAAAgSNADAABAkKAHAACAIEEPAAAAQYIeAAAAggQ9AAAABAl6AAAACBL0AAAAECToAQAA\n",
       "IEjQAwAAQJCgBwAAgKCt6QEAh8299947PWHx5ptvTk9YnDx5cnrC4ptvvpmesHj99denJyx2d3en\n",
       "J2z466+/picQ9v77709PWDz99NPTExb7+/vTE4DryIUeAAAAggQ9AAAABAl6AAAACBL0AAAAECTo\n",
       "AQAAIEjQAwAAQJCgBwAAgCBBDwAAAEGCHgAAAIIEPQAAAAQJegAAAAgS9AAAABAk6AEAACBI0AMA\n",
       "AECQoAcAAIAgQQ8AAABBgh4AAACCBD0AAAAECXoAAAAIEvQAAAAQJOgBAAAgSNADAABAkKAHAACA\n",
       "IEEPAAAAQYIeAAAAggQ9AAAABAl6AAAACBL0AAAAECToAQAAIEjQAwAAQJCgBwAAgCBBDwAAAEGC\n",
       "HgAAAIIEPQAAAAQJegAAAAgS9AAAABAk6AEAACBI0AMAAECQoAcAAIAgQQ8AAABBgh4AAACCBD0A\n",
       "AAAECXoAAAAIEvQAAAAQJOgBAAAgSNADAABAkKAHAACAoBPb29sH0yOA4+2BBx6YnrB49913pycs\n",
       "Dg4O1zO9t7c3PWFx8eLF6QmL/f396QlwpD333HPTExZ//vnn9ITF22+/PT0BuI5c6AEAACBI0AMA\n",
       "AECQoAcAAIAgQQ8AAABBgh4AAACCBD0AAAAECXoAAAAIEvQAAAAQJOgBAAAgSNADAABAkKAHAACA\n",
       "IEEPAAAAQYIeAAAAggQ9AAAABAl6AAAACBL0AAAAECToAQAAIEjQAwAAQJCgBwAAgCBBDwAAAEGC\n",
       "HgAAAIIEPQAAAAQJegAAAAgS9AAAABAk6AEAACBI0AMAAECQoAcAAIAgQQ8AAABBgh4AAACCBD0A\n",
       "AAAECXoAAAAIEvQAAAAQJOgBAAAgSNADAABAkKAHAACAIEEPAAAAQYIeAAAAggQ9AAAABAl6AAAA\n",
       "CBL0AAAAECToAQAAIEjQAwAAQJCgBwAAgCBBDwAAAEGCHgAAAIIEPQAAAAQJegAAAAgS9AAAABC0\n",
       "NT0AuL6ef/756QkbLl26ND1hsb+/Pz1h8eqrr05PWOzs7ExPgCPt7Nmz0xMWr7zyyvSExT333DM9\n",
       "YfHBBx9MTwCOMRd6AAAACBL0AAAAECToAQAAIEjQAwAAQJCgBwAAgCBBDwAAAEGCHgAAAIIEPQAA\n",
       "AAQJegAAAAgS9AAAABAk6AEAACBI0AMAAECQoAcAAIAgQQ8AAABBgh4AAACCBD0AAAAECXoAAAAI\n",
       "EvQAAAAQJOgBAAAgSNADAABAkKAHAACAIEEPAAAAQYIeAAAAggQ9AAAABAl6AAAACBL0AAAAECTo\n",
       "AQAAIEjQAwAAQJCgBwAAgCBBDwAAAEGCHgAAAIIEPQAAAAQJegAAAAgS9AAAABAk6AEAACBI0AMA\n",
       "AECQoAcAAIAgQQ8AAABBgh4AAACCBD0AAAAECXoAAAAIEvQAAAAQJOgBAAAgSNADAABAkKAHAACA\n",
       "IEEPAAAAQYIeAAAAggQ9AAAABG1ND4Cj7syZM9MTFs8+++z0hA0HBwfTExZXr16dnrDY2dmZngBH\n",
       "2mF7p997773pCYtTp05NT1gctm/G7bffPj0BOMZc6AEAACBI0AMAAECQoAcAAIAgQQ8AAABBgh4A\n",
       "AACCBD0AAAAECXoAAAAIEvQAAAAQJOgBAAAgSNADAABAkKAHAACAIEEPAAAAQYIeAAAAggQ9AAAA\n",
       "BAl6AAAACBL0AAAAECToAQAAIEjQAwAAQJCgBwAAgCBBDwAAAEGCHgAAAIIEPQAAAAQJegAAAAgS\n",
       "9AAAABAk6AEAACBI0AMAAECQoAcAAIAgQQ8AAABBgh4AAACCBD0AAAAECXoAAAAIEvQAAAAQJOgB\n",
       "AAAgSNADAABAkKAHAACAIEEPAAAAQYIeAAAAggQ9AAAABAl6AAAACBL0AAAAECToAQAAIEjQAwAA\n",
       "QJCgBwAAgCBBDwAAAEGCHgAAAIIEPQAAAAQJegAAAAjamh4AR92lS5emJyxuuumm6Qkb9vb2pics\n",
       "XnrppekJ8H9z7ty56QkbLl68OD1hcf/9909PWPz666/TExY33njj9ITFrbfeOj1h8cYbb0xPAI4x\n",
       "F3oAAAAIEvQAAAAQJOgBAAAgSNADAABAkKAHAACAIEEPAAAAQYIeAAAAggQ9AAAABAl6AAAACBL0\n",
       "AAAAECToAQAAIEjQAwAAQJCgBwAAgCBBDwAAAEGCHgAAAIIEPQAAAAQJegAAAAgS9AAAABAk6AEA\n",
       "ACBI0AMAAECQoAcAAIAgQQ8AAABBgh4AAACCBD0AAAAECXoAAAAIEvQAAAAQJOgBAAAgSNADAABA\n",
       "kKAHAACAIEEPAAAAQYIeAAAAggQ9AAAABAl6AAAACBL0AAAAECToAQAAIEjQAwAAQJCgBwAAgCBB\n",
       "DwAAAEGCHgAAAIIEPQAAAAQJegAAAAgS9AAAABAk6AEAACBI0AMAAECQoAcAAIAgQQ8AAABBgh4A\n",
       "AACCBD0AAAAEbU0PgKPu448/np6wePDBB6cnbLj77runJyzeeeed6QmLH374YXoC/8D58+enJyz+\n",
       "/vvv6QkbTp06NT1h8dZbb01PWOzu7k5PWHz66afTEw61n376aXoCcIy50AMAAECQoAcAAIAgQQ8A\n",
       "AABBgh4AAACCBD0AAAAECXoAAAAIEvQAAAAQJOgBAAAgSNADAABAkKAHAACAIEEPAAAAQYIeAAAA\n",
       "ggQ9AAAABAl6AAAACBL0AAAAECToAQAAIEjQAwAAQJCgBwAAgCBBDwAAAEGCHgAAAIIEPQAAAAQJ\n",
       "egAAAAgS9AAAABAk6AEAACBI0AMAAECQoAcAAIAgQQ8AAABBgh4AAACCBD0AAAAECXoAAAAIEvQA\n",
       "AAAQJOgBAAAgSNADAABAkKAHAACAIEEPAAAAQYIeAAAAggQ9AAAABAl6AAAACBL0AAAAECToAQAA\n",
       "IEjQAwAAQJCgBwAAgCBBDwAAAEGCHgAAAIIEPQAAAAQJegAAAAgS9AAAABAk6AEAACBoa3oAHHV7\n",
       "e3vTExZff/319IQNd9111/SExUMPPTQ9YXFwcDA9gbATJ05MT9jw+eefT09YnDt3bnrC4pFHHpme\n",
       "sNja8rsIcFi50AMAAECQoAcAAIAgQQ8AAABBgh4AAACCBD0AAAAECXoAAAAIEvQAAAAQJOgBAAAg\n",
       "SNADAABAkKAHAACAIEEPAAAAQYIeAAAAggQ9AAAABAl6AAAACBL0AAAAECToAQAAIEjQAwAAQJCg\n",
       "BwAAgCBBDwAAAEGCHgAAAIIEPQAAAAQJegAAAAgS9AAAABAk6AEAACBI0AMAAECQoAcAAIAgQQ8A\n",
       "AABBgh4AAACCBD0AAAAECXoAAAAIEvQAAAAQJOgBAAAgSNADAABAkKAHAACAIEEPAAAAQYIeAAAA\n",
       "ggQ9AAAABAl6AAAACBL0AAAAECToAQAAIEjQAwAAQJCgBwAAgCBBDwAAAEGCHgAAAIIEPQAAAAQJ\n",
       "egAAAAgS9AAAABC0NT0AjrrffvttesLi4Ycfnp6w4cqVK9MTFnfcccf0hMXBwcH0BMK+++676Qkb\n",
       "Ll++PD1h8dprr01PWNx5553TEw61r776anrC4pdffpmeABxjLvQAAAAQJOgBAAAgSNADAABAkKAH\n",
       "AACAIEEPAAAAQYIeAAAAggQ9AAAABAl6AAAACBL0AAAAECToAQAAIEjQAwAAQJCgBwAAgCBBDwAA\n",
       "AEGCHgAAAIIEPQAAAAQJegAAAAgS9AAAABAk6AEAACBI0AMAAECQoAcAAIAgQQ8AAABBgh4AAACC\n",
       "BD0AAAAECXoAAAAIEvQAAAAQJOgBAAAgSNADAABAkKAHAACAIEEPAAAAQYIeAAAAggQ9AAAABAl6\n",
       "AAAACBL0AAAAECToAQAAIEjQAwAAQJCgBwAAgCBBDwAAAEGCHgAAAIIEPQAAAAQJegAAAAgS9AAA\n",
       "ABAk6AEAACBI0AMAAECQoAcAAIAgQQ8AAABBgh4AAACCBD0AAAAECXoAAAAI2poeAHD58uXpCcAx\n",
       "9sUXX0xPWDz55JPTEw61nZ2d6QmL33//fXoCcIy50AMAAECQoAcAAIAgQQ8AAABBgh4AAACCBD0A\n",
       "AAAECXoAAAAIEvQAAAAQJOgBAAAgSNADAABAkKAHAACAIEEPAAAAQYIeAAAAggQ9AAAABAl6AAAA\n",
       "CBL0AAAAECToAQAAIEjQAwAAQJCgBwAAgCBBDwAAAEGCHgAAAIIEPQAAAAQJegAAAAgS9AAAABAk\n",
       "6AEAACBI0AMAAECQoAcAAIAgQQ8AAABBgh4AAACCBD0AAAAECXoAAAAIEvQAAAAQJOgBAAAgSNAD\n",
       "AABAkKAHAACAIEEPAAAAQYIeAAAAggQ9AAAABAl6AAAACBL0AAAAECToAQAAIEjQAwAAQJCgBwAA\n",
       "gCBBDwAAAEGCHgAAAIIEPQAAAAQJegAAAAgS9AAAABAk6AEAACBoa3oAAMCkRx99dHoC/8CHH344\n",
       "PQHg0HChBwAAgCBBDwAAAEGCHgAAAIIEPQAAAAQJegAAAAgS9AAAABAk6AEAACBI0AMAAECQoAcA\n",
       "AIAgQQ8AAABBgh4AAACCBD0AAAAECXoAAAAIEvQAAAAQJOgBAAAgSNADAABAkKAHAACAIEEPAAAA\n",
       "QYIeAAAAggQ9AAAABAl6AAAACBL0AAAAECToAQAAIEjQAwAAQJCgBwAAgCBBDwAAAEGCHgAAAIIE\n",
       "PQAAAAQJegAAAAgS9AAAABAk6AEAACBI0AMAAECQoAcAAIAgQQ8AAABBgh4AAACCBD0AAAAECXoA\n",
       "AAAIEvQAAAAQJOgBAAAgSNADAABAkKAHAACAIEEPAAAAQYIeAAAAggQ9AAAABAl6AAAACBL0AAAA\n",
       "ECToAQAAIGhregAAcLzccMMN0xMWN9988/SEQ+2jjz6angDAf+FCDwAAAEGCHgAAAIIEPQAAAAQJ\n",
       "egAAAAgS9AAAABAk6AEAACBI0AMAAECQoAcAAIAgQQ8AAABBgh4AAACCBD0AAAAECXoAAAAIEvQA\n",
       "AAAQJOgBAAAgSNADAABAkKAHAACAIEEPAAAAQYIeAAAAggQ9AAAABAl6AAAACBL0AAAAECToAQAA\n",
       "IEjQAwAAQJCgBwAAgCBBDwAAAEGCHgAAAIIEPQAAAAQJegAAAAgS9AAAABAk6AEAACBI0AMAAECQ\n",
       "oAcAAIAgQQ8AAABBgh4AAACCBD0AAAAECXoAAAAIEvQAAAAQJOgBAAAgSNADAABAkKAHAACAIEEP\n",
       "AAAAQYIeAAAAggQ9AAAABAl6AAAACBL0AAAAECToAQAAIEjQAwAAQJCgBwAAgKCt6QEAwPHy2GOP\n",
       "TU9Y3HfffdMTDrVPPvlkegIA/4ULPQAAAAQJegAAAAgS9AAAABAk6AEAACBI0AMAAECQoAcAAIAg\n",
       "QQ8AAABBgh4AAACCBD0AAAAECXoAAAAIEvQAAAAQJOgBAAAgSNADAABAkKAHAAD4T3t2bKJaAEVR\n",
       "FOGlhpYhNmAJrxQbFezByETswYkfnwkmkOvmr1XByS6bC0GCHgAAAIIEPQAAAAQJegAAAAgS9AAA\n",
       "ABAk6AEAACBI0AMAAECQoAcAAIAgQQ8AAABBgh4AAACCBD0AAAAECXoAAAAIEvQAAAAQJOgBAAAg\n",
       "SNADAABAkKAHAACAIEEPAAAAQYIeAAAAggQ9AAAABAl6AAAACBL0AAAAECToAQAAIEjQAwAAQJCg\n",
       "BwAAgCBBDwAAAEGCHgAAAIIEPQAAAAQJegAAAAgS9AAAABAk6AEAACBI0AMAAECQoAcAAIAgQQ8A\n",
       "AABBgh4AAACCBD0AAAAELdMDAID/y+FwmJ6wsdvtpidsPJ/P6Qkbt9ttegIAv/ChBwAAgCBBDwAA\n",
       "AEGCHgAAAIIEPQAAAAQJegAAAAgS9AAAABAk6AEAACBI0AMAAECQoAcAAIAgQQ8AAABBgh4AAACC\n",
       "BD0AAAAECXoAAAAIEvQAAAAQJOgBAAAgSNADAABAkKAHAACAIEEPAAAAQYIeAAAAggQ9AAAABAl6\n",
       "AAAACBL0AAAAECToAQAAIEjQAwAAQJCgBwAAgCBBDwAAAEGCHgAAAIIEPQAAAAQJegAAAAgS9AAA\n",
       "ABAk6AEAACBI0AMAAECQoAcAAIAgQQ8AAABBgh4AAACCBD0AAAAECXoAAAAIEvQAAAAQJOgBAAAg\n",
       "SNADAABAkKAHAACAIEEPAAAAQYIeAAAAggQ9AAAABAl6AAAACBL0AAAAECToAQAAIGiZHgAAfM6y\n",
       "fN+pX9d1esLG+/2enrBxvV6nJ2y8Xq/pCQD8woceAAAAggQ9AAAABAl6AAAACBL0AAAAECToAQAA\n",
       "IEjQAwAAQJCgBwAAgCBBDwAAAEGCHgAAAIIEPQAAAAQJegAAAAgS9AAAABAk6AEAACBI0AMAAECQ\n",
       "oAcAAIAgQQ8AAABBgh4AAACCBD0AAAAECXoAAAAIEvQAAAAQJOgBAAAgSNADAABAkKAHAACAIEEP\n",
       "AAAAQYIeAAAAggQ9AAAABAl6AAAACBL0AAAAECToAQAAIEjQAwAAQJCgBwAAgCBBDwAAAEGCHgAA\n",
       "AIIEPQAAAAQJegAAAAgS9AAAABAk6AEAACBI0AMAAECQoAcAAIAgQQ8AAABBgh4AAACCBD0AAAAE\n",
       "CXoAAAAIEvQAAAAQJOgBAAAgSNADAABAkKAHAACAIEEPAAAAQcv0AADgc9Z1nZ7wj+PxOD3hq71e\n",
       "r+kJAET40AMAAECQoAcAAIAgQQ8AAABBgh4AAACCBD0AAAAECXoAAAAIEvQAAAAQJOgBAAAgSNAD\n",
       "AABAkKAHAACAIEEPAAAAQYIeAAAAggQ9AAAABAl6AAAACBL0AAAAECToAQAAIEjQAwAAQJCgBwAA\n",
       "gCBBDwAAAEGCHgAAAIIEPQAAAAQJegAAAAgS9AAAABAk6AEAACBI0AMAAECQoAcAAIAgQQ8AAABB\n",
       "gh4AAACCBD0AAAAECXoAAAAIEvQAAAAQJOgBAAAgSNADAABAkKAHAACAIEEPAAAAQYIeAAAAggQ9\n",
       "AAAABAl6AAAACBL0AAAAECToAQAAIEjQA7DuJm0AAAUASURBVAAAQJCgBwAAgCBBDwAAAEGCHgAA\n",
       "AIIEPQAAAAQJegAAAAgS9AAAABAk6AEAACBomR4AAHzO+XyensAfnU6n6QkARPjQAwAAQJCgBwAA\n",
       "gCBBDwAAAEGCHgAAAIIEPQAAAAQJegAAAAgS9AAAABAk6AEAACBI0AMAAECQoAcAAIAgQQ8AAABB\n",
       "gh4AAACCBD0AAAAECXoAAAAIEvQAAAAQJOgBAAAgSNADAABAkKAHAACAIEEPAAAAQYIeAAAAggQ9\n",
       "AAAABAl6AAAACBL0AAAAECToAQAAIEjQAwAAQJCgBwAAgCBBDwAAAEGCHgAAAIIEPQAAAAQJegAA\n",
       "AAgS9AAAABAk6AEAACBI0AMAAECQoAcAAIAgQQ8AAABBgh4AAACCBD0AAAAECXoAAAAIEvQAAAAQ\n",
       "JOgBAAAgSNADAABAkKAHAACAIEEPAAAAQYIeAAAAggQ9AAAABAl6AAAACBL0AAAAELRMDwAAPud+\n",
       "v09P+HqPx2N6wsblcpmeAECEDz0AAAAECXoAAAAIEvQAAAAQJOgBAAAgSNADAABAkKAHAACAIEEP\n",
       "AAAAQYIeAAAAggQ9AAAABAl6AAAACBL0AAAAECToAQAAIEjQAwAAQJCgBwAAgCBBDwAAAEGCHgAA\n",
       "AIIEPQAAAAQJegAAAAgS9AAAABAk6AEAACBI0AMAAECQoAcAAIAgQQ8AAABBgh4AAACCBD0AAAAE\n",
       "CXoAAAAIEvQAAAAQJOgBAAAgSNADAABAkKAHAACAIEEPAAAAQYIeAAAAggQ9AAAABAl6AAAACBL0\n",
       "AAAAECToAQAAIEjQAwAAQJCgBwAAgCBBDwAAAEGCHgAAAIIEPQAAAAQJegAAAAgS9AAAABAk6AEA\n",
       "ACBI0AMAAECQoAcAAIAgQQ8AAABBgh4AAACCdvv9/j09AgAAAPgbH3oAAAAIEvQAAAAQJOgBAAAg\n",
       "SNADAABAkKAHAACAIEEPAAAAQYIeAAAAggQ9AAAABAl6AAAACBL0AAAAECToAQAAIEjQAwAAQJCg\n",
       "BwAAgCBBDwAAAEGCHgAAAIIEPQAAAAQJegAAAAgS9AAAABAk6AEAACBI0AMAAECQoAcAAIAgQQ8A\n",
       "AABBgh4AAACCBD0AAAAECXoAAAAIEvQAAAAQJOgBAAAgSNADAABAkKAHAACAIEEPAAAAQYIeAAAA\n",
       "ggQ9AAAABAl6AAAACBL0AAAAECToAQAAIEjQAwAAQJCgBwAAgCBBDwAAAEGCHgAAAIIEPQAAAAQJ\n",
       "egAAAAgS9AAAABAk6AEAACBI0AMAAECQoAcAAIAgQQ8AAABBgh4AAACCBD0AAAAECXoAAAAIEvQA\n",
       "AAAQJOgBAAAgSNADAABAkKAHAACAIEEPAAAAQYIeAAAAggQ9AAAABAl6AAAACBL0AAAAECToAQAA\n",
       "IEjQAwAAQJCgBwAAgCBBDwAAAEGCHgAAAIIEPQAAAAQJegAAAAgS9AAAABAk6AEAACBI0AMAAECQ\n",
       "oAcAAIAgQQ8AAABBgh4AAACCBD0AAAAECXoAAAAIEvQAAAAQJOgBAAAgSNADAABAkKAHAACAIEEP\n",
       "AAAAQYIeAAAAggQ9AAAABAl6AAAACBL0AAAAECToAQAAIEjQAwAAQJCgBwAAgCBBDwAAAEGCHgAA\n",
       "AIIEPQAAAAQJegAAAAgS9AAAABAk6AEAACBI0AMAAECQoAcAAIAgQQ8AAABBgh4AAACCBD0AAAAE\n",
       "/QBUlum6b5qxYwAAAABJRU5ErkJggg==\n",
       "\" transform=\"translate(1341, 123)\"/>\n",
       "</g>\n",
       "</svg>\n"
      ],
      "text/html": [
       "<?xml version=\"1.0\" encoding=\"utf-8\"?>\n",
       "<svg xmlns=\"http://www.w3.org/2000/svg\" xmlns:xlink=\"http://www.w3.org/1999/xlink\" width=\"600\" height=\"400\" viewBox=\"0 0 2400 1600\">\n",
       "<defs>\n",
       "  <clipPath id=\"clip710\">\n",
       "    <rect x=\"0\" y=\"0\" width=\"2400\" height=\"1600\"/>\n",
       "  </clipPath>\n",
       "</defs>\n",
       "<path clip-path=\"url(#clip710)\" d=\"M0 1600 L2400 1600 L2400 0 L0 0  Z\" fill=\"#ffffff\" fill-rule=\"evenodd\" fill-opacity=\"1\"/>\n",
       "<defs>\n",
       "  <clipPath id=\"clip711\">\n",
       "    <rect x=\"480\" y=\"0\" width=\"1681\" height=\"1600\"/>\n",
       "  </clipPath>\n",
       "</defs>\n",
       "<path clip-path=\"url(#clip710)\" d=\"M140.696 1486.45 L1152.76 1486.45 L1152.76 123.472 L140.696 123.472  Z\" fill=\"#ffffff\" fill-rule=\"evenodd\" fill-opacity=\"1\"/>\n",
       "<defs>\n",
       "  <clipPath id=\"clip712\">\n",
       "    <rect x=\"140\" y=\"123\" width=\"1013\" height=\"1364\"/>\n",
       "  </clipPath>\n",
       "</defs>\n",
       "<polyline clip-path=\"url(#clip712)\" style=\"stroke:#000000; stroke-linecap:round; stroke-linejoin:round; stroke-width:2; stroke-opacity:0.1; fill:none\" points=\"303.348,1486.45 303.348,123.472 \"/>\n",
       "<polyline clip-path=\"url(#clip712)\" style=\"stroke:#000000; stroke-linecap:round; stroke-linejoin:round; stroke-width:2; stroke-opacity:0.1; fill:none\" points=\"484.073,1486.45 484.073,123.472 \"/>\n",
       "<polyline clip-path=\"url(#clip712)\" style=\"stroke:#000000; stroke-linecap:round; stroke-linejoin:round; stroke-width:2; stroke-opacity:0.1; fill:none\" points=\"664.798,1486.45 664.798,123.472 \"/>\n",
       "<polyline clip-path=\"url(#clip712)\" style=\"stroke:#000000; stroke-linecap:round; stroke-linejoin:round; stroke-width:2; stroke-opacity:0.1; fill:none\" points=\"845.523,1486.45 845.523,123.472 \"/>\n",
       "<polyline clip-path=\"url(#clip712)\" style=\"stroke:#000000; stroke-linecap:round; stroke-linejoin:round; stroke-width:2; stroke-opacity:0.1; fill:none\" points=\"1026.25,1486.45 1026.25,123.472 \"/>\n",
       "<polyline clip-path=\"url(#clip712)\" style=\"stroke:#000000; stroke-linecap:round; stroke-linejoin:round; stroke-width:2; stroke-opacity:0.1; fill:none\" points=\"140.696,1267.4 1152.76,1267.4 \"/>\n",
       "<polyline clip-path=\"url(#clip712)\" style=\"stroke:#000000; stroke-linecap:round; stroke-linejoin:round; stroke-width:2; stroke-opacity:0.1; fill:none\" points=\"140.696,1024.01 1152.76,1024.01 \"/>\n",
       "<polyline clip-path=\"url(#clip712)\" style=\"stroke:#000000; stroke-linecap:round; stroke-linejoin:round; stroke-width:2; stroke-opacity:0.1; fill:none\" points=\"140.696,780.621 1152.76,780.621 \"/>\n",
       "<polyline clip-path=\"url(#clip712)\" style=\"stroke:#000000; stroke-linecap:round; stroke-linejoin:round; stroke-width:2; stroke-opacity:0.1; fill:none\" points=\"140.696,537.233 1152.76,537.233 \"/>\n",
       "<polyline clip-path=\"url(#clip712)\" style=\"stroke:#000000; stroke-linecap:round; stroke-linejoin:round; stroke-width:2; stroke-opacity:0.1; fill:none\" points=\"140.696,293.844 1152.76,293.844 \"/>\n",
       "<path clip-path=\"url(#clip710)\" d=\"M96.2483 20.1573 L85.1489 50.2555 L107.388 50.2555 L96.2483 20.1573 M91.6303 12.096 L100.907 12.096 L123.957 72.576 L115.45 72.576 L109.94 57.061 L82.6778 57.061 L77.1686 72.576 L68.5402 72.576 L91.6303 12.096 Z\" fill=\"#000000\" fill-rule=\"nonzero\" fill-opacity=\"1\" /><path clip-path=\"url(#clip710)\" d=\"M160.86 34.0924 L160.86 9.54393 L168.314 9.54393 L168.314 72.576 L160.86 72.576 L160.86 65.7705 Q158.511 69.8214 154.905 71.8063 Q151.341 73.7508 146.318 73.7508 Q138.094 73.7508 132.909 67.1883 Q127.764 60.6258 127.764 49.9314 Q127.764 39.2371 132.909 32.6746 Q138.094 26.1121 146.318 26.1121 Q151.341 26.1121 154.905 28.0971 Q158.511 30.0415 160.86 34.0924 M135.461 49.9314 Q135.461 58.1548 138.823 62.8538 Q142.226 67.5124 148.14 67.5124 Q154.055 67.5124 157.458 62.8538 Q160.86 58.1548 160.86 49.9314 Q160.86 41.7081 157.458 37.0496 Q154.055 32.3505 148.14 32.3505 Q142.226 32.3505 138.823 37.0496 Q135.461 41.7081 135.461 49.9314 Z\" fill=\"#000000\" fill-rule=\"nonzero\" fill-opacity=\"1\" /><path clip-path=\"url(#clip710)\" d=\"M178.32 27.2059 L186.219 27.2059 L200.397 65.2844 L214.575 27.2059 L222.475 27.2059 L205.461 72.576 L195.333 72.576 L178.32 27.2059 Z\" fill=\"#000000\" fill-rule=\"nonzero\" fill-opacity=\"1\" /><path clip-path=\"url(#clip710)\" d=\"M271.571 48.0275 L271.571 51.6733 L237.301 51.6733 Q237.787 59.3701 241.919 63.421 Q246.091 67.4314 253.504 67.4314 Q257.798 67.4314 261.809 66.3781 Q265.86 65.3249 269.83 63.2184 L269.83 70.267 Q265.819 71.9684 261.606 72.8596 Q257.393 73.7508 253.059 73.7508 Q242.202 73.7508 235.843 67.4314 Q229.523 61.1119 229.523 50.3365 Q229.523 39.1965 235.518 32.6746 Q241.554 26.1121 251.763 26.1121 Q260.918 26.1121 266.224 32.0264 Q271.571 37.9003 271.571 48.0275 M264.118 45.84 Q264.037 39.7232 260.675 36.0774 Q257.353 32.4315 251.844 32.4315 Q245.605 32.4315 241.838 35.9558 Q238.111 39.4801 237.544 45.8805 L264.118 45.84 Z\" fill=\"#000000\" fill-rule=\"nonzero\" fill-opacity=\"1\" /><path clip-path=\"url(#clip710)\" d=\"M310.096 34.1734 Q308.84 33.4443 307.341 33.1202 Q305.883 32.7556 304.1 32.7556 Q297.781 32.7556 294.378 36.8875 Q291.016 40.9789 291.016 48.6757 L291.016 72.576 L283.522 72.576 L283.522 27.2059 L291.016 27.2059 L291.016 34.2544 Q293.365 30.1225 297.133 28.1376 Q300.9 26.1121 306.288 26.1121 Q307.057 26.1121 307.989 26.2337 Q308.921 26.3147 310.055 26.5172 L310.096 34.1734 Z\" fill=\"#000000\" fill-rule=\"nonzero\" fill-opacity=\"1\" /><path clip-path=\"url(#clip710)\" d=\"M346.837 28.5427 L346.837 35.5912 Q343.678 33.9709 340.275 33.1607 Q336.872 32.3505 333.226 32.3505 Q327.677 32.3505 324.881 34.0519 Q322.127 35.7533 322.127 39.156 Q322.127 41.7486 324.112 43.2475 Q326.097 44.7058 332.092 46.0426 L334.644 46.6097 Q342.584 48.3111 345.906 51.4303 Q349.268 54.509 349.268 60.0587 Q349.268 66.3781 344.245 70.0644 Q339.262 73.7508 330.512 73.7508 Q326.866 73.7508 322.896 73.0216 Q318.967 72.3329 314.592 70.9151 L314.592 63.2184 Q318.724 65.3654 322.734 66.4591 Q326.745 67.5124 330.674 67.5124 Q335.94 67.5124 338.776 65.73 Q341.612 63.9071 341.612 60.6258 Q341.612 57.5877 339.546 55.9673 Q337.52 54.3469 330.593 52.8481 L328.001 52.2405 Q321.074 50.7821 317.995 47.7845 Q314.916 44.7463 314.916 39.4801 Q314.916 33.0797 319.453 29.5959 Q323.99 26.1121 332.335 26.1121 Q336.467 26.1121 340.113 26.7198 Q343.759 27.3274 346.837 28.5427 Z\" fill=\"#000000\" fill-rule=\"nonzero\" fill-opacity=\"1\" /><path clip-path=\"url(#clip710)\" d=\"M381.756 49.7694 Q372.723 49.7694 369.239 51.8354 Q365.755 53.9013 365.755 58.8839 Q365.755 62.8538 368.348 65.2034 Q370.981 67.5124 375.477 67.5124 Q381.675 67.5124 385.402 63.1374 Q389.169 58.7219 389.169 51.4303 L389.169 49.7694 L381.756 49.7694 M396.623 46.6907 L396.623 72.576 L389.169 72.576 L389.169 65.6895 Q386.617 69.8214 382.809 71.8063 Q379.001 73.7508 373.492 73.7508 Q366.525 73.7508 362.393 69.8619 Q358.301 65.9325 358.301 59.3701 Q358.301 51.7138 363.405 47.825 Q368.55 43.9361 378.718 43.9361 L389.169 43.9361 L389.169 43.2069 Q389.169 38.0623 385.766 35.2672 Q382.404 32.4315 376.287 32.4315 Q372.398 32.4315 368.712 33.3632 Q365.026 34.295 361.623 36.1584 L361.623 29.2718 Q365.714 27.692 369.563 26.9223 Q373.411 26.1121 377.057 26.1121 Q386.901 26.1121 391.762 31.2163 Q396.623 36.3204 396.623 46.6907 Z\" fill=\"#000000\" fill-rule=\"nonzero\" fill-opacity=\"1\" /><path clip-path=\"url(#clip710)\" d=\"M438.266 34.1734 Q437.01 33.4443 435.512 33.1202 Q434.053 32.7556 432.271 32.7556 Q425.951 32.7556 422.549 36.8875 Q419.186 40.9789 419.186 48.6757 L419.186 72.576 L411.692 72.576 L411.692 27.2059 L419.186 27.2059 L419.186 34.2544 Q421.536 30.1225 425.303 28.1376 Q429.071 26.1121 434.458 26.1121 Q435.228 26.1121 436.16 26.2337 Q437.091 26.3147 438.226 26.5172 L438.266 34.1734 Z\" fill=\"#000000\" fill-rule=\"nonzero\" fill-opacity=\"1\" /><path clip-path=\"url(#clip710)\" d=\"M446.084 27.2059 L453.538 27.2059 L453.538 72.576 L446.084 72.576 L446.084 27.2059 M446.084 9.54393 L453.538 9.54393 L453.538 18.9825 L446.084 18.9825 L446.084 9.54393 Z\" fill=\"#000000\" fill-rule=\"nonzero\" fill-opacity=\"1\" /><path clip-path=\"url(#clip710)\" d=\"M489.753 49.7694 Q480.72 49.7694 477.236 51.8354 Q473.752 53.9013 473.752 58.8839 Q473.752 62.8538 476.345 65.2034 Q478.978 67.5124 483.474 67.5124 Q489.672 67.5124 493.399 63.1374 Q497.166 58.7219 497.166 51.4303 L497.166 49.7694 L489.753 49.7694 M504.62 46.6907 L504.62 72.576 L497.166 72.576 L497.166 65.6895 Q494.614 69.8214 490.806 71.8063 Q486.999 73.7508 481.489 73.7508 Q474.522 73.7508 470.39 69.8619 Q466.298 65.9325 466.298 59.3701 Q466.298 51.7138 471.403 47.825 Q476.547 43.9361 486.715 43.9361 L497.166 43.9361 L497.166 43.2069 Q497.166 38.0623 493.764 35.2672 Q490.401 32.4315 484.284 32.4315 Q480.396 32.4315 476.709 33.3632 Q473.023 34.295 469.62 36.1584 L469.62 29.2718 Q473.712 27.692 477.56 26.9223 Q481.408 26.1121 485.054 26.1121 Q494.898 26.1121 499.759 31.2163 Q504.62 36.3204 504.62 46.6907 Z\" fill=\"#000000\" fill-rule=\"nonzero\" fill-opacity=\"1\" /><path clip-path=\"url(#clip710)\" d=\"M519.973 9.54393 L527.427 9.54393 L527.427 72.576 L519.973 72.576 L519.973 9.54393 Z\" fill=\"#000000\" fill-rule=\"nonzero\" fill-opacity=\"1\" /><path clip-path=\"url(#clip710)\" d=\"M608.202 48.0275 L608.202 51.6733 L573.931 51.6733 Q574.417 59.3701 578.549 63.421 Q582.721 67.4314 590.135 67.4314 Q594.429 67.4314 598.439 66.3781 Q602.49 65.3249 606.46 63.2184 L606.46 70.267 Q602.449 71.9684 598.236 72.8596 Q594.023 73.7508 589.689 73.7508 Q578.833 73.7508 572.473 67.4314 Q566.153 61.1119 566.153 50.3365 Q566.153 39.1965 572.149 32.6746 Q578.184 26.1121 588.393 26.1121 Q597.548 26.1121 602.854 32.0264 Q608.202 37.9003 608.202 48.0275 M600.748 45.84 Q600.667 39.7232 597.305 36.0774 Q593.983 32.4315 588.474 32.4315 Q582.235 32.4315 578.468 35.9558 Q574.741 39.4801 574.174 45.8805 L600.748 45.84 Z\" fill=\"#000000\" fill-rule=\"nonzero\" fill-opacity=\"1\" /><path clip-path=\"url(#clip710)\" d=\"M656.691 27.2059 L640.285 49.2833 L657.542 72.576 L648.751 72.576 L635.545 54.752 L622.339 72.576 L613.549 72.576 L631.17 48.8377 L615.048 27.2059 L623.838 27.2059 L635.869 43.369 L647.9 27.2059 L656.691 27.2059 Z\" fill=\"#000000\" fill-rule=\"nonzero\" fill-opacity=\"1\" /><path clip-path=\"url(#clip710)\" d=\"M688.693 49.7694 Q679.66 49.7694 676.176 51.8354 Q672.692 53.9013 672.692 58.8839 Q672.692 62.8538 675.285 65.2034 Q677.918 67.5124 682.414 67.5124 Q688.612 67.5124 692.339 63.1374 Q696.106 58.7219 696.106 51.4303 L696.106 49.7694 L688.693 49.7694 M703.56 46.6907 L703.56 72.576 L696.106 72.576 L696.106 65.6895 Q693.554 69.8214 689.746 71.8063 Q685.938 73.7508 680.429 73.7508 Q673.462 73.7508 669.33 69.8619 Q665.238 65.9325 665.238 59.3701 Q665.238 51.7138 670.342 47.825 Q675.487 43.9361 685.655 43.9361 L696.106 43.9361 L696.106 43.2069 Q696.106 38.0623 692.703 35.2672 Q689.341 32.4315 683.224 32.4315 Q679.336 32.4315 675.649 33.3632 Q671.963 34.295 668.56 36.1584 L668.56 29.2718 Q672.652 27.692 676.5 26.9223 Q680.348 26.1121 683.994 26.1121 Q693.838 26.1121 698.699 31.2163 Q703.56 36.3204 703.56 46.6907 Z\" fill=\"#000000\" fill-rule=\"nonzero\" fill-opacity=\"1\" /><path clip-path=\"url(#clip710)\" d=\"M754.237 35.9153 Q757.032 30.8922 760.921 28.5022 Q764.81 26.1121 770.076 26.1121 Q777.165 26.1121 781.013 31.0947 Q784.862 36.0368 784.862 45.1919 L784.862 72.576 L777.367 72.576 L777.367 45.4349 Q777.367 38.913 775.058 35.7533 Q772.749 32.5936 768.01 32.5936 Q762.217 32.5936 758.855 36.4419 Q755.493 40.2903 755.493 46.9338 L755.493 72.576 L747.998 72.576 L747.998 45.4349 Q747.998 38.8725 745.689 35.7533 Q743.38 32.5936 738.56 32.5936 Q732.848 32.5936 729.486 36.4824 Q726.123 40.3308 726.123 46.9338 L726.123 72.576 L718.629 72.576 L718.629 27.2059 L726.123 27.2059 L726.123 34.2544 Q728.676 30.082 732.24 28.0971 Q735.805 26.1121 740.707 26.1121 Q745.649 26.1121 749.092 28.6237 Q752.576 31.1352 754.237 35.9153 Z\" fill=\"#000000\" fill-rule=\"nonzero\" fill-opacity=\"1\" /><path clip-path=\"url(#clip710)\" d=\"M806.939 65.7705 L806.939 89.8329 L799.445 89.8329 L799.445 27.2059 L806.939 27.2059 L806.939 34.0924 Q809.289 30.0415 812.853 28.0971 Q816.459 26.1121 821.441 26.1121 Q829.705 26.1121 834.85 32.6746 Q840.035 39.2371 840.035 49.9314 Q840.035 60.6258 834.85 67.1883 Q829.705 73.7508 821.441 73.7508 Q816.459 73.7508 812.853 71.8063 Q809.289 69.8214 806.939 65.7705 M832.298 49.9314 Q832.298 41.7081 828.895 37.0496 Q825.533 32.3505 819.618 32.3505 Q813.704 32.3505 810.301 37.0496 Q806.939 41.7081 806.939 49.9314 Q806.939 58.1548 810.301 62.8538 Q813.704 67.5124 819.618 67.5124 Q825.533 67.5124 828.895 62.8538 Q832.298 58.1548 832.298 49.9314 Z\" fill=\"#000000\" fill-rule=\"nonzero\" fill-opacity=\"1\" /><path clip-path=\"url(#clip710)\" d=\"M852.39 9.54393 L859.844 9.54393 L859.844 72.576 L852.39 72.576 L852.39 9.54393 Z\" fill=\"#000000\" fill-rule=\"nonzero\" fill-opacity=\"1\" /><path clip-path=\"url(#clip710)\" d=\"M914.247 48.0275 L914.247 51.6733 L879.977 51.6733 Q880.463 59.3701 884.595 63.421 Q888.767 67.4314 896.18 67.4314 Q900.474 67.4314 904.485 66.3781 Q908.536 65.3249 912.506 63.2184 L912.506 70.267 Q908.495 71.9684 904.282 72.8596 Q900.069 73.7508 895.735 73.7508 Q884.878 73.7508 878.518 67.4314 Q872.199 61.1119 872.199 50.3365 Q872.199 39.1965 878.194 32.6746 Q884.23 26.1121 894.439 26.1121 Q903.594 26.1121 908.9 32.0264 Q914.247 37.9003 914.247 48.0275 M906.794 45.84 Q906.713 39.7232 903.351 36.0774 Q900.029 32.4315 894.52 32.4315 Q888.281 32.4315 884.514 35.9558 Q880.787 39.4801 880.22 45.8805 L906.794 45.84 Z\" fill=\"#000000\" fill-rule=\"nonzero\" fill-opacity=\"1\" /><path clip-path=\"url(#clip710)\" d=\"M928.385 62.2867 L936.933 62.2867 L936.933 72.576 L928.385 72.576 L928.385 62.2867 M928.385 29.6769 L936.933 29.6769 L936.933 39.9662 L928.385 39.9662 L928.385 29.6769 Z\" fill=\"#000000\" fill-rule=\"nonzero\" fill-opacity=\"1\" /><path clip-path=\"url(#clip710)\" d=\"M982.1 71.3202 L982.1 63.8666 Q985.179 65.3249 988.338 66.0946 Q991.498 66.8642 994.536 66.8642 Q1002.64 66.8642 1006.89 61.436 Q1011.19 55.9673 1011.79 44.8678 Q1009.44 48.3516 1005.84 50.215 Q1002.23 52.0784 997.858 52.0784 Q988.784 52.0784 983.477 46.6097 Q978.211 41.1005 978.211 31.5808 Q978.211 22.2638 983.72 16.633 Q989.23 11.0023 998.385 11.0023 Q1008.88 11.0023 1014.39 19.0636 Q1019.94 27.0843 1019.94 42.3968 Q1019.94 56.6965 1013.13 65.2439 Q1006.37 73.7508 994.901 73.7508 Q991.822 73.7508 988.663 73.1431 Q985.503 72.5355 982.1 71.3202 M998.385 45.678 Q1003.89 45.678 1007.09 41.9107 Q1010.33 38.1433 1010.33 31.5808 Q1010.33 25.0589 1007.09 21.2916 Q1003.89 17.4837 998.385 17.4837 Q992.875 17.4837 989.635 21.2916 Q986.435 25.0589 986.435 31.5808 Q986.435 38.1433 989.635 41.9107 Q992.875 45.678 998.385 45.678 Z\" fill=\"#000000\" fill-rule=\"nonzero\" fill-opacity=\"1\" /><path clip-path=\"url(#clip710)\" d=\"M1056.19 46.5287 L1078.03 46.5287 L1078.03 53.1722 L1056.19 53.1722 L1056.19 46.5287 Z\" fill=\"#000000\" fill-rule=\"nonzero\" fill-opacity=\"1\" /><path clip-path=\"url(#clip710)\" d=\"M1090.87 31.7429 L1090.87 24.3702 L1142.8 43.2069 L1142.8 49.9314 L1090.87 68.7682 L1090.87 61.3955 L1132.59 46.6097 L1090.87 31.7429 Z\" fill=\"#000000\" fill-rule=\"nonzero\" fill-opacity=\"1\" /><path clip-path=\"url(#clip710)\" d=\"M1187.08 71.3202 L1187.08 63.8666 Q1190.15 65.3249 1193.31 66.0946 Q1196.47 66.8642 1199.51 66.8642 Q1207.61 66.8642 1211.87 61.436 Q1216.16 55.9673 1216.77 44.8678 Q1214.42 48.3516 1210.81 50.215 Q1207.21 52.0784 1202.83 52.0784 Q1193.76 52.0784 1188.45 46.6097 Q1183.19 41.1005 1183.19 31.5808 Q1183.19 22.2638 1188.7 16.633 Q1194.21 11.0023 1203.36 11.0023 Q1213.85 11.0023 1219.36 19.0636 Q1224.91 27.0843 1224.91 42.3968 Q1224.91 56.6965 1218.11 65.2439 Q1211.34 73.7508 1199.88 73.7508 Q1196.8 73.7508 1193.64 73.1431 Q1190.48 72.5355 1187.08 71.3202 M1203.36 45.678 Q1208.87 45.678 1212.07 41.9107 Q1215.31 38.1433 1215.31 31.5808 Q1215.31 25.0589 1212.07 21.2916 Q1208.87 17.4837 1203.36 17.4837 Q1197.85 17.4837 1194.61 21.2916 Q1191.41 25.0589 1191.41 31.5808 Q1191.41 38.1433 1194.61 41.9107 Q1197.85 45.678 1203.36 45.678 Z\" fill=\"#000000\" fill-rule=\"nonzero\" fill-opacity=\"1\" /><g clip-path=\"url(#clip712)\">\n",
       "<image width=\"1012\" height=\"1363\" xlink:href=\"data:image/png;base64,\n",
       "iVBORw0KGgoAAAANSUhEUgAAA/QAAAVTCAYAAABj7GMOAAAgAElEQVR4nOzZv6vXdf/H8curU/QD\n",
       "oTA9utRyKJKwrWioFqOWKBqCisamqKEhqKFB+gOkooagwAahQdpcjZraIigXwaXhDBEiRgZ1rvHL\n",
       "iwOBfMPnuevt9hc8hg+v9+fOc9/W1tbOfwAAAICU/04PAAAAAK6doAcAAIAgQQ8AAABBgh4AAACC\n",
       "BD0AAAAECXoAAAAIEvQAAAAQJOgBAAAgSNADAABAkKAHAACAIEEPAAAAQYIeAAAAggQ9AAAABAl6\n",
       "AAAACBL0AAAAECToAQAAIEjQAwAAQJCgBwAAgCBBDwAAAEGCHgAAAIIEPQAAAAQJegAAAAgS9AAA\n",
       "ABAk6AEAACBI0AMAAECQoAcAAIAgQQ8AAABBgh4AAACCBD0AAAAECXoAAAAIEvQAAAAQJOgBAAAg\n",
       "SNADAABAkKAHAACAIEEPAAAAQYIeAAAAggQ9AAAABAl6AAAACBL0AAAAECToAQAAIEjQAwAAQJCg\n",
       "BwAAgCBBDwAAAEGCHgAAAIIEPQAAAAQJegAAAAgS9AAAABAk6AEAACBI0AMAAECQoAcAAIAgQQ8A\n",
       "AABBgh4AAACCBD0AAAAECXoAAAAIEvQAAAAQJOgBAAAgSNADAABAkKAHAACAIEEPAAAAQYIeAAAA\n",
       "ggQ9AAAABAl6AAAACBL0AAAAECToAQAAIEjQAwAAQJCgBwAAgCBBDwAAAEGCHgAAAIIEPQAAAAQJ\n",
       "egAAAAgS9AAAABAk6AEAACBI0AMAAECQoAcAAIAgQQ8AAABBgh4AAACCBD0AAAAECXoAAAAIEvQA\n",
       "AAAQJOgBAAAgSNADAABAkKAHAACAIEEPAAAAQYIeAAAAggQ9AAAABAl6AAAACBL0AAAAECToAQAA\n",
       "IEjQAwAAQJCgBwAAgCBBDwAAAEGCHgAAAIIEPQAAAAQJegAAAAgS9AAAABAk6AEAACBI0AMAAECQ\n",
       "oAcAAIAgQQ8AAABBgh4AAACCBD0AAAAECXoAAAAIEvQAAAAQJOgBAAAgSNADAABAkKAHAACAIEEP\n",
       "AAAAQYIeAAAAggQ9AAAABAl6AAAACBL0AAAAECToAQAAIEjQAwAAQJCgBwAAgCBBDwAAAEGCHgAA\n",
       "AIIEPQAAAAQJegAAAAgS9AAAABAk6AEAACBI0AMAAECQoAcAAIAgQQ8AAABBgh4AAACCBD0AAAAE\n",
       "CXoAAAAIEvQAAAAQJOgBAAAgSNADAABAkKAHAACAIEEPAAAAQYIeAAAAggQ9AAAABAl6AAAACBL0\n",
       "AAAAECToAQAAIEjQAwAAQJCgBwAAgCBBDwAAAEGCHgAAAIIEPQAAAAQJegAAAAgS9AAAABAk6AEA\n",
       "ACBI0AMAAECQoAcAAIAgQQ8AAABBgh4AAACCBD0AAAAECXoAAAAIEvQAAAAQJOgBAAAgSNADAABA\n",
       "kKAHAACAIEEPAAAAQYIeAAAAggQ9AAAABAl6AAAACBL0AAAAECToAQAAIEjQAwAAQJCgBwAAgCBB\n",
       "DwAAAEGCHgAAAIIEPQAAAAQJegAAAAgS9AAAABAk6AEAACBI0AMAAECQoAcAAIAgQQ8AAABBgh4A\n",
       "AACCBD0AAAAECXoAAAAIEvQAAAAQJOgBAAAgSNADAABAkKAHAACAIEEPAAAAQYIeAAAAggQ9AAAA\n",
       "BAl6AAAACBL0AAAAECToAQAAIEjQAwAAQJCgBwAAgCBBDwAAAEGCHgAAAIIEPQAAAAQJegAAAAgS\n",
       "9AAAABAk6AEAACBI0AMAAECQoAcAAIAgQQ8AAABBgh4AAACCBD0AAAAECXoAAAAIEvQAAAAQJOgB\n",
       "AAAgSNADAABAkKAHAACAIEEPAAAAQYIeAAAAggQ9AAAABAl6AAAACBL0AAAAECToAQAAIEjQAwAA\n",
       "QJCgBwAAgCBBDwAAAEGCHgAAAIIEPQAAAAQJegAAAAgS9AAAABAk6AEAACBI0AMAAECQoAcAAIAg\n",
       "QQ8AAABBgh4AAACCBD0AAAAECXoAAAAIEvQAAAAQJOgBAAAgSNADAABAkKAHAACAIEEPAAAAQYIe\n",
       "AAAAggQ9AAAABAl6AAAACBL0AAAAECToAQAAIEjQAwAAQJCgBwAAgCBBDwAAAEGCHgAAAIIEPQAA\n",
       "AAQJegAAAAgS9AAAABAk6AEAACBI0AMAAECQoAcAAIAgQQ8AAABBgh4AAACCBD0AAAAECXoAAAAI\n",
       "EvQAAAAQJOgBAAAgSNADAABAkKAHAACAIEEPAAAAQYIeAAAAggQ9AAAABAl6AAAACBL0AAAAECTo\n",
       "AQAAIEjQAwAAQJCgBwAAgCBBDwAAAEGCHgAAAIIEPQAAAAQJegAAAAgS9AAAABAk6AEAACBI0AMA\n",
       "AECQoAcAAIAgQQ8AAABBgh4AAACCBD0AAAAECXoAAAAIEvQAAAAQJOgBAAAgSNADAABAkKAHAACA\n",
       "IEEPAAAAQYIeAAAAggQ9AAAABAl6AAAACBL0AAAAECToAQAAIEjQAwAAQJCgBwAAgCBBDwAAAEGC\n",
       "HgAAAIIEPQAAAAQJegAAAAgS9AAAABAk6AEAACBI0AMAAECQoAcAAIAgQQ8AAABBgh4AAACCNqYH\n",
       "AMCN5N57752esDh69Oj0hF3eeOON6QmL/fv3T0/gGnz//ffTExZfffXV9ITFTz/9ND0BuI5c6AEA\n",
       "ACBI0AMAAECQoAcAAIAgQQ8AAABBgh4AAACCBD0AAAAECXoAAAAIEvQAAAAQJOgBAAAgSNADAABA\n",
       "kKAHAACAIEEPAAAAQYIeAAAAggQ9AAAABAl6AAAACBL0AAAAECToAQAAIEjQAwAAQJCgBwAAgCBB\n",
       "DwAAAEGCHgAAAIIEPQAAAAQJegAAAAgS9AAAABAk6AEAACBI0AMAAECQoAcAAIAgQQ8AAABBgh4A\n",
       "AACCBD0AAAAECXoAAAAIEvQAAAAQJOgBAAAgSNADAABAkKAHAACAIEEPAAAAQYIeAAAAggQ9AAAA\n",
       "BAl6AAAACBL0AAAAECToAQAAIEjQAwAAQJCgBwAAgCBBDwAAAEGCHgAAAIIEPQAAAAQJegAAAAja\n",
       "mB4AQMv29vb0hMVzzz03PWHx0ksvTU9YHD16dHrCLr///vv0hMXXX389PWHxyy+/TE9YPP3009MT\n",
       "Fo8++uj0hMV99903PWFx4sSJ6Qm7XLx4cXoC3LBc6AEAACBI0AMAAECQoAcAAIAgQQ8AAABBgh4A\n",
       "AACCBD0AAAAECXoAAAAIEvQAAAAQJOgBAAAgSNADAABAkKAHAACAIEEPAAAAQYIeAAAAggQ9AAAA\n",
       "BAl6AAAACBL0AAAAECToAQAAIEjQAwAAQJCgBwAAgCBBDwAAAEGCHgAAAIIEPQAAAAQJegAAAAgS\n",
       "9AAAABAk6AEAACBI0AMAAECQoAcAAIAgQQ8AAABBgh4AAACCBD0AAAAECXoAAAAIEvQAAAAQJOgB\n",
       "AAAgSNADAABAkKAHAACAIEEPAAAAQYIeAAAAggQ9AAAABAl6AAAACBL0AAAAECToAQAAIEjQAwAA\n",
       "QJCgBwAAgCBBDwAAAEGCHgAAAIIEPQAAAAQJegAAAAgS9AAAABC0MT0AgH929erV6QmLs2fPTk9Y\n",
       "HDx4cHrCnnbu3LnpCbucOHFiesLi0qVL0xP2tM8//3x6wuL48ePTExbvv//+9ITFAw88MD1hl4sX\n",
       "L05PgBuWCz0AAAAECXoAAAAIEvQAAAAQJOgBAAAgSNADAABAkKAHAACAIEEPAAAAQYIeAAAAggQ9\n",
       "AAAABAl6AAAACBL0AAAAECToAQAAIEjQAwAAQJCgBwAAgCBBDwAAAEGCHgAAAIIEPQAAAAQJegAA\n",
       "AAgS9AAAABAk6AEAACBI0AMAAECQoAcAAIAgQQ8AAABBgh4AAACCBD0AAAAECXoAAAAIEvQAAAAQ\n",
       "JOgBAAAgSNADAABAkKAHAACAIEEPAAAAQYIeAAAAggQ9AAAABAl6AAAACBL0AAAAECToAQAAIEjQ\n",
       "AwAAQJCgBwAAgCBBDwAAAEGCHgAAAIIEPQAAAAQJegAAAAgS9AAAABAk6AEAACBI0AMAAECQoAcA\n",
       "AIAgQQ8AAABBgh4AAACCNqYHAOw1d9555/SExRdffDE9YXHw4MHpCXvahx9+OD1hce7cuekJu9x+\n",
       "++3TExZ7bQ//7Mcff5yesDhw4MD0hMWVK1emJwDXkQs9AAAABAl6AAAACBL0AAAAECToAQAAIEjQ\n",
       "AwAAQJCgBwAAgCBBDwAAAEGCHgAAAIIEPQAAAAQJegAAAAgS9AAAABAk6AEAACBI0AMAAECQoAcA\n",
       "AIAgQQ8AAABBgh4AAACCBD0AAAAECXoAAAAIEvQAAAAQJOgBAAAgSNADAABAkKAHAACAIEEPAAAA\n",
       "QYIeAAAAggQ9AAAABAl6AAAACBL0AAAAECToAQAAIEjQAwAAQJCgBwAAgCBBDwAAAEGCHgAAAIIE\n",
       "PQAAAAQJegAAAAgS9AAAABAk6AEAACBI0AMAAECQoAcAAIAgQQ8AAABBgh4AAACCBD0AAAAECXoA\n",
       "AAAIEvQAAAAQJOgBAAAgSNADAABAkKAHAACAIEEPAAAAQfu2trZ2pkcAN7fjx49PT1i8/fbb0xMW\n",
       "hw8fnp6wOH/+/PSExeuvvz49YXHlypXpCXBDe/PNN6cnLP7444/pCYvPPvtsegJwHbnQAwAAQJCg\n",
       "BwAAgCBBDwAAAEGCHgAAAIIEPQAAAAQJegAAAAgS9AAAABAk6AEAACBI0AMAAECQoAcAAIAgQQ8A\n",
       "AABBgh4AAACCBD0AAAAECXoAAAAIEvQAAAAQJOgBAAAgSNADAABAkKAHAACAIEEPAAAAQYIeAAAA\n",
       "ggQ9AAAABAl6AAAACBL0AAAAECToAQAAIEjQAwAAQJCgBwAAgCBBDwAAAEGCHgAAAIIEPQAAAAQJ\n",
       "egAAAAgS9AAAABAk6AEAACBI0AMAAECQoAcAAIAgQQ8AAABBgh4AAACCBD0AAAAECXoAAAAIEvQA\n",
       "AAAQJOgBAAAgSNADAABAkKAHAACAIEEPAAAAQYIeAAAAggQ9AAAABAl6AAAACBL0AAAAECToAQAA\n",
       "IGhjegBwfb311lvTE3Z59tlnpycsrly5Mj1hcfLkyekJi1OnTk1PgH/V9vb29ITFgQMHpicsPvjg\n",
       "g+kJi8cee2x6wuLnn3+engDcxFzoAQAAIEjQAwAAQJCgBwAAgCBBDwAAAEGCHgAAAIIEPQAAAAQJ\n",
       "egAAAAgS9AAAABAk6AEAACBI0AMAAECQoAcAAIAgQQ8AAABBgh4AAACCBD0AAAAECXoAAAAIEvQA\n",
       "AAAQJOgBAAAgSNADAABAkKAHAACAIEEPAAAAQYIeAAAAggQ9AAAABAl6AAAACBL0AAAAECToAQAA\n",
       "IEjQAwAAQJCgBwAAgCBBDwAAAEGCHgAAAIIEPQAAAAQJegAAAAgS9AAAABAk6AEAACBI0AMAAECQ\n",
       "oAcAAIAgQQ8AAABBgh4AAACCBD0AAAAECXoAAAAIEvQAAAAQJOgBAAAgSNADAABAkKAHAACAIEEP\n",
       "AAAAQYIeAAAAggQ9AAAABAl6AAAACBL0AAAAELQxPQBudA8++OD0hMWTTz45PWGXnZ2d6QmL06dP\n",
       "T09YnDlzZnoC/Ku2t7enJyzuvvvu6QmLL7/8cnrC4tChQ9MTFnvtm/Hrr79OTwBuYi70AAAAECTo\n",
       "AQAAIEjQAwAAQJCgBwAAgCBBDwAAAEGCHgAAAIIEPQAAAAQJegAAAAgS9AAAABAk6AEAACBI0AMA\n",
       "AECQoAcAAIAgQQ8AAABBgh4AAACCBD0AAAAECXoAAAAIEvQAAAAQJOgBAAAgSNADAABAkKAHAACA\n",
       "IEEPAAAAQYIeAAAAggQ9AAAABAl6AAAACBL0AAAAECToAQAAIEjQAwAAQJCgBwAAgCBBDwAAAEGC\n",
       "HgAAAIIEPQAAAAQJegAAAAgS9AAAABAk6AEAACBI0AMAAECQoAcAAIAgQQ8AAABBgh4AAACCBD0A\n",
       "AAAECXoAAAAIEvQAAAAQJOgBAAAgSNADAABAkKAHAACAIEEPAAAAQYIeAAAAggQ9AAAABG1MD4Ab\n",
       "3TvvvDM9YXHHHXdMT9jl22+/nZ6w+PTTT6cn7Gmbm5vTE7gGf//99/SEXd57773pCYsnnnhiesLi\n",
       "t99+m56wuO2226YnLO65557pCYuPP/54egJwE3OhBwAAgCBBDwAAAEGCHgAAAIIEPQAAAAQJegAA\n",
       "AAgS9AAAABAk6AEAACBI0AMAAECQoAcAAIAgQQ8AAABBgh4AAACCBD0AAAAECXoAAAAIEvQAAAAQ\n",
       "JOgBAAAgSNADAABAkKAHAACAIEEPAAAAQYIeAAAAggQ9AAAABAl6AAAACBL0AAAAECToAQAAIEjQ\n",
       "AwAAQJCgBwAAgCBBDwAAAEGCHgAAAIIEPQAAAAQJegAAAAgS9AAAABAk6AEAACBI0AMAAECQoAcA\n",
       "AIAgQQ8AAABBgh4AAACCBD0AAAAECXoAAAAIEvQAAAAQJOgBAAAgSNADAABAkKAHAACAIEEPAAAA\n",
       "QYIeAAAAggQ9AAAABAl6AAAACBL0AAAAECToAQAAIEjQAwAAQNC+ra2tnekRcCO7//77pycsPvnk\n",
       "k+kJu1y9enV6wuKbb76ZnrC4cOHC9ITFsWPHpifsaZubm9MTFn/99df0hF0OHTo0PWGx197Fc+fO\n",
       "TU9YnD17dnrC4tZbb52esHjqqaemJyzuuuuu6QnAdeRCDwAAAEGCHgAAAIIEPQAAAAQJegAAAAgS\n",
       "9AAAABAk6AEAACBI0AMAAECQoAcAAIAgQQ8AAABBgh4AAACCBD0AAAAECXoAAAAIEvQAAAAQJOgB\n",
       "AAAgSNADAABAkKAHAACAIEEPAAAAQYIeAAAAggQ9AAAABAl6AAAACBL0AAAAECToAQAAIEjQAwAA\n",
       "QJCgBwAAgCBBDwAAAEGCHgAAAIIEPQAAAAQJegAAAAgS9AAAABAk6AEAACBI0AMAAECQoAcAAIAg\n",
       "QQ8AAABBgh4AAACCBD0AAAAECXoAAAAIEvQAAAAQJOgBAAAgSNADAABAkKAHAACAIEEPAAAAQYIe\n",
       "AAAAggQ9AAAABAl6AAAACBL0AAAAECToAQAAIEjQAwAAQJCgBwAAgKCN6QFwo7t06dL0hMUPP/ww\n",
       "PWGXRx55ZHrC4plnnpmesNjZ2ZmeQNiRI0emJ+xy+vTp6QmLhx9+eHrC4vnnn5+esNjY2Ft/Fw8f\n",
       "Pjw9YXHs2LHpCYsLFy5MTwCuIxd6AAAACBL0AAAAECToAQAAIEjQAwAAQJCgBwAAgCBBDwAAAEGC\n",
       "HgAAAIIEPQAAAAQJegAAAAgS9AAAABAk6AEAACBI0AMAAECQoAcAAIAgQQ8AAABBgh4AAACCBD0A\n",
       "AAAECXoAAAAIEvQAAAAQJOgBAAAgSNADAABAkKAHAACAIEEPAAAAQYIeAAAAggQ9AAAABAl6AAAA\n",
       "CBL0AAAAECToAQAAIEjQAwAAQJCgBwAAgCBBDwAAAEGCHgAAAIIEPQAAAAQJegAAAAgS9AAAABAk\n",
       "6AEAACBI0AMAAECQoAcAAIAgQQ8AAABBgh4AAACCBD0AAAAECXoAAAAIEvQAAAAQJOgBAAAgSNAD\n",
       "AABAkKAHAACAIEEPAAAAQYIeAAAAgvZtbW3tTI8Abm4vv/zy9ITFQw89ND1hsbPjmS45duzY9ITF\n",
       "+fPnpyfs8u67705PWLz66qvTExZ7bc9e8+eff05PWLz22mvTExaXL1+engBcRy70AAAAECToAQAA\n",
       "IEjQAwAAQJCgBwAAgCBBDwAAAEGCHgAAAIIEPQAAAAQJegAAAAgS9AAAABAk6AEAACBI0AMAAECQ\n",
       "oAcAAIAgQQ8AAABBgh4AAACCBD0AAAAECXoAAAAIEvQAAAAQJOgBAAAgSNADAABAkKAHAACAIEEP\n",
       "AAAAQYIeAAAAggQ9AAAABAl6AAAACBL0AAAAECToAQAAIEjQAwAAQJCgBwAAgCBBDwAAAEGCHgAA\n",
       "AIIEPQAAAAQJegAAAAgS9AAAABAk6AEAACBI0AMAAECQoAcAAIAgQQ8AAABBgh4AAACCBD0AAAAE\n",
       "CXoAAAAIEvQAAAAQJOgBAAAgSNADAABAkKAHAACAIEEPAAAAQYIeAAAAggQ9AAAABAl6AAAACNqY\n",
       "HgBw8uTJ6Qnwr9nc3JyewDX67rvvpicsXnnllekJe9qpU6emJywuX748PQG4ibnQAwAAQJCgBwAA\n",
       "gCBBDwAAAEGCHgAAAIIEPQAAAAQJegAAAAgS9AAAABAk6AEAACBI0AMAAECQoAcAAIAgQQ8AAABB\n",
       "gh4AAACCBD0AAAAECXoAAAAIEvQAAAAQJOgBAAAgSNADAABAkKAHAACAIEEPAAAAQYIeAAAAggQ9\n",
       "AAAABAl6AAAACBL0AAAAECToAQAAIEjQAwAAQJCgBwAAgCBBDwAAAEGCHgAAAIIEPQAAAAQJegAA\n",
       "AAgS9AAAABAk6AEAACBI0AMAAECQoAcAAIAgQQ8AAABBgh4AAACCBD0AAAAECXoAAAAIEvQAAAAQ\n",
       "JOgBAAAgSNADAABAkKAHAACAIEEPAAAAQYIeAAAAggQ9AAAABAl6AAAACBL0AAAAECToAQAAIGhj\n",
       "egDA5ubm9IQ9bXt7e3rCnub3w//XCy+8MD2Ba3DmzJnpCQB7hgs9AAAABAl6AAAACBL0AAAAECTo\n",
       "AQAAIEjQAwAAQJCgBwAAgCBBDwAAAEGCHgAAAIIEPQAAAAQJegAAAAgS9AAAABAk6AEAACBI0AMA\n",
       "AECQoAcAAIAgQQ8AAABBgh4AAACCBD0AAAAECXoAAAAIEvQAAAAQJOgBAAAgSNADAABAkKAHAACA\n",
       "IEEPAAAAQYIeAAAAggQ9AAAABAl6AAAACBL0AAAAECToAQAAIEjQAwAAQJCgBwAAgCBBDwAAAEGC\n",
       "HgAAAIIEPQAAAAQJegAAAAgS9AAAABAk6AEAACBI0AMAAECQoAcAAIAgQQ8AAABBgh4AAACCBD0A\n",
       "AAAECXoAAAAIEvQAAAAQJOgBAAAgSNADAABAkKAHAACAIEEPAAAAQRvTAwBo2dzcnJ5A3C233DI9\n",
       "YfH4449PT9jTLly4MD1hsb29PT1h4U0EJrnQAwAAQJCgBwAAgCBBDwAAAEGCHgAAAIIEPQAAAAQJ\n",
       "egAAAAgS9AAAABAk6AEAACBI0AMAAECQoAcAAIAgQQ8AAABBgh4AAACCBD0AAAAECXoAAAAIEvQA\n",
       "AAAQJOgBAAAgSNADAABAkKAHAACAIEEPAAAAQYIeAAAAggQ9AAAABAl6AAAACBL0AAAAECToAQAA\n",
       "IEjQAwAAQJCgBwAAgCBBDwAAAEGCHgAAAIIEPQAAAAQJegAAAAgS9AAAABAk6AEAACBI0AMAAECQ\n",
       "oAcAAIAgQQ8AAABBgh4AAACCBD0AAAAECXoAAAAIEvQAAAAQJOgBAAAgSNADAABAkKAHAACAIEEP\n",
       "AAAAQYIeAAAAggQ9AAAABAl6AAAACBL0AAAAECToAQAAIGhjegAA/2xzc3N6AvyrXnzxxekJi/37\n",
       "909PWBw5cmR6wuKjjz6anrDwJgL8Hxd6AAAACBL0AAAAECToAQAAIEjQAwAAQJCgBwAAgCBBDwAA\n",
       "AEGCHgAAAIIEPQAAAAQJegAAAAgS9MD/2rNjE1UCKAyjLEwLgubmNmAJU4qNCvZgA1OByb5YHhts\n",
       "IHc+9pwK/uzycQEAgCBBDwAAAEGCHgAAAIIEPQAAAAQJegAAAAgS9AAAABAk6AEAACBI0AMAAECQ\n",
       "oAcAAIAgQQ8AAABBgh4AAACCBD0AAAAECXoAAAAIEvQAAAAQJOgBAAAgSNADAABAkKAHAACAIEEP\n",
       "AAAAQYIeAAAAggQ9AAAABAl6AAAACBL0AAAAECToAQAAIEjQAwAAQJCgBwAAgCBBDwAAAEGCHgAA\n",
       "AIIEPQAAAAQJegAAAAgS9AAAABAk6AEAACBI0AMAAECQoAcAAIAgQQ8AAABBgh4AAACCBD0AAAAE\n",
       "CXoAAAAIEvQAAAAQJOgBAAAgaJkeAAD8LYfDYXrCm9PpND1h1x6Px/QEAH7gQw8AAABBgh4AAACC\n",
       "BD0AAAAECXoAAAAIEvQAAAAQJOgBAAAgSNADAABAkKAHAACAIEEPAAAAQYIeAAAAggQ9AAAABAl6\n",
       "AAAACBL0AAAAECToAQAAIEjQAwAAQJCgBwAAgCBBDwAAAEGCHgAAAIIEPQAAAAQJegAAAAgS9AAA\n",
       "ABAk6AEAACBI0AMAAECQoAcAAIAgQQ8AAABBgh4AAACCBD0AAAAECXoAAAAIEvQAAAAQJOgBAAAg\n",
       "SNADAABAkKAHAACAIEEPAAAAQYIeAAAAggQ9AAAABAl6AAAACBL0AAAAECToAQAAIEjQAwAAQJCg\n",
       "BwAAgCBBDwAAAEGCHgAAAIIEPQAAAAQJegAAAAgS9AAAABAk6AEAACBI0AMAAEDQMj0AAPicZdnf\n",
       "qV/XdXrCrt3v9+kJb7Ztm54AwA986AEAACBI0AMAAECQoAcAAIAgQQ8AAABBgh4AAACCBD0AAAAE\n",
       "CXoAAAAIEvQAAAAQJOgBAAAgSNADAABAkKAHAACAIEEPAAAAQYIeAAAAggQ9AAAABAl6AAAACBL0\n",
       "AAAAECToAQAAIEjQAwAAQJCgBwAAgCBBDwAAAEGCHgAAAIIEPQAAAAQJegAAAAgS9AAAABAk6AEA\n",
       "ACBI0AMAAECQoAcAAIAgQQ8AAABBgh4AAACCBD0AAAAECXoAAAAIEvQAAAAQJOgBAAAgSNADAABA\n",
       "kKAHAACAIEEPAAAAQYIeAAAAggQ9AAAABAl6AAAACBL0AAAAECToAQAAIEjQAwAAQJCgBwAAgCBB\n",
       "DwAAAEGCHgAAAIIEPQAAAAQJegAAAAgS9AAAABC0TA8AAD5nXdfpCf85Ho/TE3Zt27bpCQBE+NAD\n",
       "AABAkKAHAACAIEEPAAAAQYIeAAAAggQ9AAAABAl6AAAACBL0AAAAECToAQAAIEjQAwAAQJCgBwAA\n",
       "gCBBDwAAAEGCHgAAAIIEPQAAAAQJegAAAAgS9AAAABAk6AEAACBI0AMAAECQoAcAAIAgQQ8AAABB\n",
       "gh4AAACCBD0AAAAECXoAAAAIEvQAAAAQJN382wgAAAVqSURBVOgBAAAgSNADAABAkKAHAACAIEEP\n",
       "AAAAQYIeAAAAggQ9AAAABAl6AAAACBL0AAAAECToAQAAIEjQAwAAQJCgBwAAgCBBDwAAAEGCHgAA\n",
       "AIIEPQAAAAQJegAAAAgS9AAAABAk6AEAACBI0AMAAECQoAcAAIAgQQ8AAABBgh4AAACCBD0AAAAE\n",
       "CXoAAAAIEvQAAAAQJOgBAAAgaJkeAAB8zvV6nZ7AL10ul+kJAET40AMAAECQoAcAAIAgQQ8AAABB\n",
       "gh4AAACCBD0AAAAECXoAAAAIEvQAAAAQJOgBAAAgSNADAABAkKAHAACAIEEPAAAAQYIeAAAAggQ9\n",
       "AAAABAl6AAAACBL0AAAAECToAQAAIEjQAwAAQJCgBwAAgCBBDwAAAEGCHgAAAIIEPQAAAAQJegAA\n",
       "AAgS9AAAABAk6AEAACBI0AMAAECQoAcAAIAgQQ8AAABBgh4AAACCBD0AAAAECXoAAAAIEvQAAAAQ\n",
       "JOgBAAAgSNADAABAkKAHAACAIEEPAAAAQYIeAAAAggQ9AAAABAl6AAAACBL0AAAAECToAQAAIEjQ\n",
       "AwAAQJCgBwAAgCBBDwAAAEGCHgAAAIIEPQAAAAQJegAAAAgS9AAAABC0TA8AAD7n+XxOT9i91+s1\n",
       "PeHN7XabngBAhA89AAAABAl6AAAACBL0AAAAECToAQAAIEjQAwAAQJCgBwAAgCBBDwAAAEGCHgAA\n",
       "AIIEPQAAAAQJegAAAAgS9AAAABAk6AEAACBI0AMAAECQoAcAAIAgQQ8AAABBgh4AAACCBD0AAAAE\n",
       "CXoAAAAIEvQAAAAQJOgBAAAgSNADAABAkKAHAACAIEEPAAAAQYIeAAAAggQ9AAAABAl6AAAACBL0\n",
       "AAAAECToAQAAIEjQAwAAQJCgBwAAgCBBDwAAAEGCHgAAAIIEPQAAAAQJegAAAAgS9AAAABAk6AEA\n",
       "ACBI0AMAAECQoAcAAIAgQQ8AAABBgh4AAACCBD0AAAAECXoAAAAIEvQAAAAQJOgBAAAgSNADAABA\n",
       "kKAHAACAIEEPAAAAQYIeAAAAgr7O5/P39AgAAADgd3zoAQAAIEjQAwAAQJCgBwAAgCBBDwAAAEGC\n",
       "HgAAAIIEPQAAAAQJegAAAAgS9AAAABAk6AEAACBI0AMAAECQoAcAAIAgQQ8AAABBgh4AAACCBD0A\n",
       "AAAECXoAAAAIEvQAAAAQJOgBAAAgSNADAABAkKAHAACAIEEPAAAAQYIeAAAAggQ9AAAABAl6AAAA\n",
       "CBL0AAAAECToAQAAIEjQAwAAQJCgBwAAgCBBDwAAAEGCHgAAAIIEPQAAAAQJegAAAAgS9AAAABAk\n",
       "6AEAACBI0AMAAECQoAcAAIAgQQ8AAABBgh4AAACCBD0AAAAECXoAAAAIEvQAAAAQJOgBAAAgSNAD\n",
       "AABAkKAHAACAIEEPAAAAQYIeAAAAggQ9AAAABAl6AAAACBL0AAAAECToAQAAIEjQAwAAQJCgBwAA\n",
       "gCBBDwAAAEGCHgAAAIIEPQAAAAQJegAAAAgS9AAAABAk6AEAACBI0AMAAECQoAcAAIAgQQ8AAABB\n",
       "gh4AAACCBD0AAAAECXoAAAAIEvQAAAAQJOgBAAAgSNADAABAkKAHAACAIEEPAAAAQYIeAAAAggQ9\n",
       "AAAABAl6AAAACBL0AAAAECToAQAAIEjQAwAAQJCgBwAAgCBBDwAAAEGCHgAAAIIEPQAAAAQJegAA\n",
       "AAgS9AAAABAk6AEAACBI0AMAAECQoAcAAIAgQQ8AAABBgh4AAACCBD0AAAAECXoAAAAIEvQAAAAQ\n",
       "JOgBAAAgSNADAABAkKAHAACAIEEPAAAAQYIeAAAAggQ9AAAABAl6AAAACBL0AAAAEPQPSWX17eCM\n",
       "EBIAAAAASUVORK5CYII=\n",
       "\" transform=\"translate(141, 123)\"/>\n",
       "</g>\n",
       "<path clip-path=\"url(#clip710)\" d=\"M1340.7 1486.45 L2352.76 1486.45 L2352.76 123.472 L1340.7 123.472  Z\" fill=\"#ffffff\" fill-rule=\"evenodd\" fill-opacity=\"1\"/>\n",
       "<defs>\n",
       "  <clipPath id=\"clip713\">\n",
       "    <rect x=\"1340\" y=\"123\" width=\"1013\" height=\"1364\"/>\n",
       "  </clipPath>\n",
       "</defs>\n",
       "<polyline clip-path=\"url(#clip713)\" style=\"stroke:#000000; stroke-linecap:round; stroke-linejoin:round; stroke-width:2; stroke-opacity:0.1; fill:none\" points=\"1503.35,1486.45 1503.35,123.472 \"/>\n",
       "<polyline clip-path=\"url(#clip713)\" style=\"stroke:#000000; stroke-linecap:round; stroke-linejoin:round; stroke-width:2; stroke-opacity:0.1; fill:none\" points=\"1684.07,1486.45 1684.07,123.472 \"/>\n",
       "<polyline clip-path=\"url(#clip713)\" style=\"stroke:#000000; stroke-linecap:round; stroke-linejoin:round; stroke-width:2; stroke-opacity:0.1; fill:none\" points=\"1864.8,1486.45 1864.8,123.472 \"/>\n",
       "<polyline clip-path=\"url(#clip713)\" style=\"stroke:#000000; stroke-linecap:round; stroke-linejoin:round; stroke-width:2; stroke-opacity:0.1; fill:none\" points=\"2045.52,1486.45 2045.52,123.472 \"/>\n",
       "<polyline clip-path=\"url(#clip713)\" style=\"stroke:#000000; stroke-linecap:round; stroke-linejoin:round; stroke-width:2; stroke-opacity:0.1; fill:none\" points=\"2226.25,1486.45 2226.25,123.472 \"/>\n",
       "<polyline clip-path=\"url(#clip713)\" style=\"stroke:#000000; stroke-linecap:round; stroke-linejoin:round; stroke-width:2; stroke-opacity:0.1; fill:none\" points=\"1340.7,1267.4 2352.76,1267.4 \"/>\n",
       "<polyline clip-path=\"url(#clip713)\" style=\"stroke:#000000; stroke-linecap:round; stroke-linejoin:round; stroke-width:2; stroke-opacity:0.1; fill:none\" points=\"1340.7,1024.01 2352.76,1024.01 \"/>\n",
       "<polyline clip-path=\"url(#clip713)\" style=\"stroke:#000000; stroke-linecap:round; stroke-linejoin:round; stroke-width:2; stroke-opacity:0.1; fill:none\" points=\"1340.7,780.621 2352.76,780.621 \"/>\n",
       "<polyline clip-path=\"url(#clip713)\" style=\"stroke:#000000; stroke-linecap:round; stroke-linejoin:round; stroke-width:2; stroke-opacity:0.1; fill:none\" points=\"1340.7,537.233 2352.76,537.233 \"/>\n",
       "<polyline clip-path=\"url(#clip713)\" style=\"stroke:#000000; stroke-linecap:round; stroke-linejoin:round; stroke-width:2; stroke-opacity:0.1; fill:none\" points=\"1340.7,293.844 2352.76,293.844 \"/>\n",
       "<path clip-path=\"url(#clip710)\" d=\"M1435.26 16.7545 L1435.26 25.383 Q1431.12 21.5346 1426.42 19.6307 Q1421.77 17.7268 1416.5 17.7268 Q1406.13 17.7268 1400.62 24.0867 Q1395.11 30.4061 1395.11 42.3968 Q1395.11 54.3469 1400.62 60.7069 Q1406.13 67.0263 1416.5 67.0263 Q1421.77 67.0263 1426.42 65.1223 Q1431.12 63.2184 1435.26 59.3701 L1435.26 67.9175 Q1430.96 70.8341 1426.14 72.2924 Q1421.36 73.7508 1416.01 73.7508 Q1402.28 73.7508 1394.38 65.3654 Q1386.48 56.9395 1386.48 42.3968 Q1386.48 27.8135 1394.38 19.4281 Q1402.28 11.0023 1416.01 11.0023 Q1421.44 11.0023 1426.22 12.4606 Q1431.04 13.8784 1435.26 16.7545 Z\" fill=\"#000000\" fill-rule=\"nonzero\" fill-opacity=\"1\" /><path clip-path=\"url(#clip710)\" d=\"M1447.57 9.54393 L1455.02 9.54393 L1455.02 72.576 L1447.57 72.576 L1447.57 9.54393 Z\" fill=\"#000000\" fill-rule=\"nonzero\" fill-opacity=\"1\" /><path clip-path=\"url(#clip710)\" d=\"M1509.43 48.0275 L1509.43 51.6733 L1475.16 51.6733 Q1475.64 59.3701 1479.77 63.421 Q1483.95 67.4314 1491.36 67.4314 Q1495.65 67.4314 1499.66 66.3781 Q1503.72 65.3249 1507.69 63.2184 L1507.69 70.267 Q1503.67 71.9684 1499.46 72.8596 Q1495.25 73.7508 1490.91 73.7508 Q1480.06 73.7508 1473.7 67.4314 Q1467.38 61.1119 1467.38 50.3365 Q1467.38 39.1965 1473.37 32.6746 Q1479.41 26.1121 1489.62 26.1121 Q1498.77 26.1121 1504.08 32.0264 Q1509.43 37.9003 1509.43 48.0275 M1501.97 45.84 Q1501.89 39.7232 1498.53 36.0774 Q1495.21 32.4315 1489.7 32.4315 Q1483.46 32.4315 1479.69 35.9558 Q1475.97 39.4801 1475.4 45.8805 L1501.97 45.84 Z\" fill=\"#000000\" fill-rule=\"nonzero\" fill-opacity=\"1\" /><path clip-path=\"url(#clip710)\" d=\"M1542.28 49.7694 Q1533.25 49.7694 1529.76 51.8354 Q1526.28 53.9013 1526.28 58.8839 Q1526.28 62.8538 1528.87 65.2034 Q1531.5 67.5124 1536 67.5124 Q1542.2 67.5124 1545.93 63.1374 Q1549.69 58.7219 1549.69 51.4303 L1549.69 49.7694 L1542.28 49.7694 M1557.15 46.6907 L1557.15 72.576 L1549.69 72.576 L1549.69 65.6895 Q1547.14 69.8214 1543.33 71.8063 Q1539.53 73.7508 1534.02 73.7508 Q1527.05 73.7508 1522.92 69.8619 Q1518.83 65.9325 1518.83 59.3701 Q1518.83 51.7138 1523.93 47.825 Q1529.07 43.9361 1539.24 43.9361 L1549.69 43.9361 L1549.69 43.2069 Q1549.69 38.0623 1546.29 35.2672 Q1542.93 32.4315 1536.81 32.4315 Q1532.92 32.4315 1529.24 33.3632 Q1525.55 34.295 1522.15 36.1584 L1522.15 29.2718 Q1526.24 27.692 1530.09 26.9223 Q1533.94 26.1121 1537.58 26.1121 Q1547.42 26.1121 1552.29 31.2163 Q1557.15 36.3204 1557.15 46.6907 Z\" fill=\"#000000\" fill-rule=\"nonzero\" fill-opacity=\"1\" /><path clip-path=\"url(#clip710)\" d=\"M1610.21 45.1919 L1610.21 72.576 L1602.76 72.576 L1602.76 45.4349 Q1602.76 38.994 1600.25 35.7938 Q1597.74 32.5936 1592.71 32.5936 Q1586.68 32.5936 1583.19 36.4419 Q1579.71 40.2903 1579.71 46.9338 L1579.71 72.576 L1572.22 72.576 L1572.22 27.2059 L1579.71 27.2059 L1579.71 34.2544 Q1582.38 30.163 1585.99 28.1376 Q1589.64 26.1121 1594.37 26.1121 Q1602.19 26.1121 1606.2 30.9732 Q1610.21 35.7938 1610.21 45.1919 Z\" fill=\"#000000\" fill-rule=\"nonzero\" fill-opacity=\"1\" /><path clip-path=\"url(#clip710)\" d=\"M1690.26 48.0275 L1690.26 51.6733 L1655.99 51.6733 Q1656.48 59.3701 1660.61 63.421 Q1664.78 67.4314 1672.19 67.4314 Q1676.49 67.4314 1680.5 66.3781 Q1684.55 65.3249 1688.52 63.2184 L1688.52 70.267 Q1684.51 71.9684 1680.29 72.8596 Q1676.08 73.7508 1671.75 73.7508 Q1660.89 73.7508 1654.53 67.4314 Q1648.21 61.1119 1648.21 50.3365 Q1648.21 39.1965 1654.21 32.6746 Q1660.24 26.1121 1670.45 26.1121 Q1679.61 26.1121 1684.91 32.0264 Q1690.26 37.9003 1690.26 48.0275 M1682.81 45.84 Q1682.72 39.7232 1679.36 36.0774 Q1676.04 32.4315 1670.53 32.4315 Q1664.29 32.4315 1660.53 35.9558 Q1656.8 39.4801 1656.23 45.8805 L1682.81 45.84 Z\" fill=\"#000000\" fill-rule=\"nonzero\" fill-opacity=\"1\" /><path clip-path=\"url(#clip710)\" d=\"M1738.75 27.2059 L1722.34 49.2833 L1739.6 72.576 L1730.81 72.576 L1717.6 54.752 L1704.4 72.576 L1695.61 72.576 L1713.23 48.8377 L1697.11 27.2059 L1705.9 27.2059 L1717.93 43.369 L1729.96 27.2059 L1738.75 27.2059 Z\" fill=\"#000000\" fill-rule=\"nonzero\" fill-opacity=\"1\" /><path clip-path=\"url(#clip710)\" d=\"M1770.75 49.7694 Q1761.72 49.7694 1758.23 51.8354 Q1754.75 53.9013 1754.75 58.8839 Q1754.75 62.8538 1757.34 65.2034 Q1759.98 67.5124 1764.47 67.5124 Q1770.67 67.5124 1774.4 63.1374 Q1778.16 58.7219 1778.16 51.4303 L1778.16 49.7694 L1770.75 49.7694 M1785.62 46.6907 L1785.62 72.576 L1778.16 72.576 L1778.16 65.6895 Q1775.61 69.8214 1771.8 71.8063 Q1768 73.7508 1762.49 73.7508 Q1755.52 73.7508 1751.39 69.8619 Q1747.3 65.9325 1747.3 59.3701 Q1747.3 51.7138 1752.4 47.825 Q1757.55 43.9361 1767.71 43.9361 L1778.16 43.9361 L1778.16 43.2069 Q1778.16 38.0623 1774.76 35.2672 Q1771.4 32.4315 1765.28 32.4315 Q1761.39 32.4315 1757.71 33.3632 Q1754.02 34.295 1750.62 36.1584 L1750.62 29.2718 Q1754.71 27.692 1758.56 26.9223 Q1762.41 26.1121 1766.05 26.1121 Q1775.9 26.1121 1780.76 31.2163 Q1785.62 36.3204 1785.62 46.6907 Z\" fill=\"#000000\" fill-rule=\"nonzero\" fill-opacity=\"1\" /><path clip-path=\"url(#clip710)\" d=\"M1836.29 35.9153 Q1839.09 30.8922 1842.98 28.5022 Q1846.87 26.1121 1852.13 26.1121 Q1859.22 26.1121 1863.07 31.0947 Q1866.92 36.0368 1866.92 45.1919 L1866.92 72.576 L1859.43 72.576 L1859.43 45.4349 Q1859.43 38.913 1857.12 35.7533 Q1854.81 32.5936 1850.07 32.5936 Q1844.27 32.5936 1840.91 36.4419 Q1837.55 40.2903 1837.55 46.9338 L1837.55 72.576 L1830.06 72.576 L1830.06 45.4349 Q1830.06 38.8725 1827.75 35.7533 Q1825.44 32.5936 1820.62 32.5936 Q1814.91 32.5936 1811.54 36.4824 Q1808.18 40.3308 1808.18 46.9338 L1808.18 72.576 L1800.69 72.576 L1800.69 27.2059 L1808.18 27.2059 L1808.18 34.2544 Q1810.73 30.082 1814.3 28.0971 Q1817.86 26.1121 1822.76 26.1121 Q1827.71 26.1121 1831.15 28.6237 Q1834.63 31.1352 1836.29 35.9153 Z\" fill=\"#000000\" fill-rule=\"nonzero\" fill-opacity=\"1\" /><path clip-path=\"url(#clip710)\" d=\"M1889 65.7705 L1889 89.8329 L1881.5 89.8329 L1881.5 27.2059 L1889 27.2059 L1889 34.0924 Q1891.35 30.0415 1894.91 28.0971 Q1898.52 26.1121 1903.5 26.1121 Q1911.76 26.1121 1916.91 32.6746 Q1922.09 39.2371 1922.09 49.9314 Q1922.09 60.6258 1916.91 67.1883 Q1911.76 73.7508 1903.5 73.7508 Q1898.52 73.7508 1894.91 71.8063 Q1891.35 69.8214 1889 65.7705 M1914.36 49.9314 Q1914.36 41.7081 1910.95 37.0496 Q1907.59 32.3505 1901.68 32.3505 Q1895.76 32.3505 1892.36 37.0496 Q1889 41.7081 1889 49.9314 Q1889 58.1548 1892.36 62.8538 Q1895.76 67.5124 1901.68 67.5124 Q1907.59 67.5124 1910.95 62.8538 Q1914.36 58.1548 1914.36 49.9314 Z\" fill=\"#000000\" fill-rule=\"nonzero\" fill-opacity=\"1\" /><path clip-path=\"url(#clip710)\" d=\"M1934.45 9.54393 L1941.9 9.54393 L1941.9 72.576 L1934.45 72.576 L1934.45 9.54393 Z\" fill=\"#000000\" fill-rule=\"nonzero\" fill-opacity=\"1\" /><path clip-path=\"url(#clip710)\" d=\"M1996.31 48.0275 L1996.31 51.6733 L1962.03 51.6733 Q1962.52 59.3701 1966.65 63.421 Q1970.83 67.4314 1978.24 67.4314 Q1982.53 67.4314 1986.54 66.3781 Q1990.59 65.3249 1994.56 63.2184 L1994.56 70.267 Q1990.55 71.9684 1986.34 72.8596 Q1982.13 73.7508 1977.79 73.7508 Q1966.94 73.7508 1960.58 67.4314 Q1954.26 61.1119 1954.26 50.3365 Q1954.26 39.1965 1960.25 32.6746 Q1966.29 26.1121 1976.5 26.1121 Q1985.65 26.1121 1990.96 32.0264 Q1996.31 37.9003 1996.31 48.0275 M1988.85 45.84 Q1988.77 39.7232 1985.41 36.0774 Q1982.09 32.4315 1976.58 32.4315 Q1970.34 32.4315 1966.57 35.9558 Q1962.84 39.4801 1962.28 45.8805 L1988.85 45.84 Z\" fill=\"#000000\" fill-rule=\"nonzero\" fill-opacity=\"1\" /><path clip-path=\"url(#clip710)\" d=\"M2010.44 62.2867 L2018.99 62.2867 L2018.99 72.576 L2010.44 72.576 L2010.44 62.2867 M2010.44 29.6769 L2018.99 29.6769 L2018.99 39.9662 L2010.44 39.9662 L2010.44 29.6769 Z\" fill=\"#000000\" fill-rule=\"nonzero\" fill-opacity=\"1\" /><path clip-path=\"url(#clip710)\" d=\"M2064.16 71.3202 L2064.16 63.8666 Q2067.24 65.3249 2070.4 66.0946 Q2073.56 66.8642 2076.59 66.8642 Q2084.7 66.8642 2088.95 61.436 Q2093.24 55.9673 2093.85 44.8678 Q2091.5 48.3516 2087.9 50.215 Q2084.29 52.0784 2079.92 52.0784 Q2070.84 52.0784 2065.54 46.6097 Q2060.27 41.1005 2060.27 31.5808 Q2060.27 22.2638 2065.78 16.633 Q2071.29 11.0023 2080.44 11.0023 Q2090.93 11.0023 2096.44 19.0636 Q2101.99 27.0843 2101.99 42.3968 Q2101.99 56.6965 2095.19 65.2439 Q2088.42 73.7508 2076.96 73.7508 Q2073.88 73.7508 2070.72 73.1431 Q2067.56 72.5355 2064.16 71.3202 M2080.44 45.678 Q2085.95 45.678 2089.15 41.9107 Q2092.39 38.1433 2092.39 31.5808 Q2092.39 25.0589 2089.15 21.2916 Q2085.95 17.4837 2080.44 17.4837 Q2074.93 17.4837 2071.69 21.2916 Q2068.49 25.0589 2068.49 31.5808 Q2068.49 38.1433 2071.69 41.9107 Q2074.93 45.678 2080.44 45.678 Z\" fill=\"#000000\" fill-rule=\"nonzero\" fill-opacity=\"1\" /><path clip-path=\"url(#clip710)\" d=\"M2138.25 46.5287 L2160.08 46.5287 L2160.08 53.1722 L2138.25 53.1722 L2138.25 46.5287 Z\" fill=\"#000000\" fill-rule=\"nonzero\" fill-opacity=\"1\" /><path clip-path=\"url(#clip710)\" d=\"M2172.92 31.7429 L2172.92 24.3702 L2224.86 43.2069 L2224.86 49.9314 L2172.92 68.7682 L2172.92 61.3955 L2214.65 46.6097 L2172.92 31.7429 Z\" fill=\"#000000\" fill-rule=\"nonzero\" fill-opacity=\"1\" /><path clip-path=\"url(#clip710)\" d=\"M2269.13 71.3202 L2269.13 63.8666 Q2272.21 65.3249 2275.37 66.0946 Q2278.53 66.8642 2281.57 66.8642 Q2289.67 66.8642 2293.93 61.436 Q2298.22 55.9673 2298.83 44.8678 Q2296.48 48.3516 2292.87 50.215 Q2289.27 52.0784 2284.89 52.0784 Q2275.82 52.0784 2270.51 46.6097 Q2265.24 41.1005 2265.24 31.5808 Q2265.24 22.2638 2270.75 16.633 Q2276.26 11.0023 2285.42 11.0023 Q2295.91 11.0023 2301.42 19.0636 Q2306.97 27.0843 2306.97 42.3968 Q2306.97 56.6965 2300.16 65.2439 Q2293.4 73.7508 2281.93 73.7508 Q2278.86 73.7508 2275.7 73.1431 Q2272.54 72.5355 2269.13 71.3202 M2285.42 45.678 Q2290.93 45.678 2294.13 41.9107 Q2297.37 38.1433 2297.37 31.5808 Q2297.37 25.0589 2294.13 21.2916 Q2290.93 17.4837 2285.42 17.4837 Q2279.91 17.4837 2276.67 21.2916 Q2273.47 25.0589 2273.47 31.5808 Q2273.47 38.1433 2276.67 41.9107 Q2279.91 45.678 2285.42 45.678 Z\" fill=\"#000000\" fill-rule=\"nonzero\" fill-opacity=\"1\" /><g clip-path=\"url(#clip713)\">\n",
       "<image width=\"1012\" height=\"1363\" xlink:href=\"data:image/png;base64,\n",
       "iVBORw0KGgoAAAANSUhEUgAAA/QAAAVTCAYAAABj7GMOAAAgAElEQVR4nOzZz6vncx/H4XtuJyXO\n",
       "QpnZ2M9kGtmhZGfYKJI0sdSs/FhOTUkSTbbCRkpHmmywomycOlayYSEpNRuSDaUjFjr3+t23+y51\n",
       "N6/zOOe6/oLn6v35PHqd2N7ePvgXAAAAkPLv6QEAAADAPyfoAQAAIEjQAwAAQJCgBwAAgCBBDwAA\n",
       "AEGCHgAAAIIEPQAAAAQJegAAAAgS9AAAABAk6AEAACBI0AMAAECQoAcAAIAgQQ8AAABBgh4AAACC\n",
       "BD0AAAAECXoAAAAIEvQAAAAQJOgBAAAgSNADAABAkKAHAACAIEEPAAAAQYIeAAAAggQ9AAAABAl6\n",
       "AAAACBL0AAAAECToAQAAIEjQAwAAQJCgBwAAgCBBDwAAAEGCHgAAAIIEPQAAAAQJegAAAAgS9AAA\n",
       "ABAk6AEAACBI0AMAAECQoAcAAIAgQQ8AAABBgh4AAACCBD0AAAAECXoAAAAIEvQAAAAQJOgBAAAg\n",
       "SNADAABAkKAHAACAIEEPAAAAQYIeAAAAggQ9AAAABAl6AAAACBL0AAAAECToAQAAIEjQAwAAQJCg\n",
       "BwAAgCBBDwAAAEGCHgAAAIIEPQAAAAQJegAAAAgS9AAAABAk6AEAACBI0AMAAECQoAcAAIAgQQ8A\n",
       "AABBgh4AAACCBD0AAAAECXoAAAAIEvQAAAAQJOgBAAAgSNADAABAkKAHAACAIEEPAAAAQYIeAAAA\n",
       "ggQ9AAAABAl6AAAACBL0AAAAECToAQAAIEjQAwAAQJCgBwAAgCBBDwAAAEGCHgAAAIIEPQAAAAQJ\n",
       "egAAAAgS9AAAABAk6AEAACBI0AMAAECQoAcAAIAgQQ8AAABBgh4AAACCBD0AAAAECXoAAAAIEvQA\n",
       "AAAQJOgBAAAgSNADAABAkKAHAACAIEEPAAAAQYIeAAAAggQ9AAAABAl6AAAACBL0AAAAECToAQAA\n",
       "IEjQAwAAQJCgBwAAgCBBDwAAAEGCHgAAAIIEPQAAAAQJegAAAAgS9AAAABAk6AEAACBI0AMAAECQ\n",
       "oAcAAIAgQQ8AAABBgh4AAACCBD0AAAAECXoAAAAIEvQAAAAQJOgBAAAgSNADAABAkKAHAACAIEEP\n",
       "AAAAQYIeAAAAggQ9AAAABAl6AAAACBL0AAAAECToAQAAIEjQAwAAQJCgBwAAgCBBDwAAAEGCHgAA\n",
       "AIIEPQAAAAQJegAAAAgS9AAAABAk6AEAACBI0AMAAECQoAcAAIAgQQ8AAABBgh4AAACCBD0AAAAE\n",
       "CXoAAAAIEvQAAAAQJOgBAAAgSNADAABAkKAHAACAIEEPAAAAQYIeAAAAggQ9AAAABAl6AAAACBL0\n",
       "AAAAECToAQAAIEjQAwAAQJCgBwAAgCBBDwAAAEGCHgAAAIIEPQAAAAQJegAAAAgS9AAAABAk6AEA\n",
       "ACBI0AMAAECQoAcAAIAgQQ8AAABBgh4AAACCBD0AAAAECXoAAAAIEvQAAAAQJOgBAAAgSNADAABA\n",
       "kKAHAACAIEEPAAAAQYIeAAAAggQ9AAAABAl6AAAACBL0AAAAECToAQAAIEjQAwAAQJCgBwAAgCBB\n",
       "DwAAAEGCHgAAAIIEPQAAAAQJegAAAAgS9AAAABAk6AEAACBI0AMAAECQoAcAAIAgQQ8AAABBgh4A\n",
       "AACCBD0AAAAECXoAAAAIEvQAAAAQJOgBAAAgSNADAABAkKAHAACAIEEPAAAAQYIeAAAAggQ9AAAA\n",
       "BAl6AAAACBL0AAAAECToAQAAIEjQAwAAQJCgBwAAgCBBDwAAAEGCHgAAAIIEPQAAAAQJegAAAAgS\n",
       "9AAAABAk6AEAACBI0AMAAECQoAcAAIAgQQ8AAABBgh4AAACCBD0AAAAECXoAAAAIEvQAAAAQJOgB\n",
       "AAAgSNADAABAkKAHAACAIEEPAAAAQYIeAAAAggQ9AAAABAl6AAAACBL0AAAAECToAQAAIEjQAwAA\n",
       "QJCgBwAAgCBBDwAAAEGCHgAAAIIEPQAAAAQJegAAAAgS9AAAABAk6AEAACBI0AMAAECQoAcAAIAg\n",
       "QQ8AAABBgh4AAACCBD0AAAAECXoAAAAIEvQAAAAQJOgBAAAgSNADAABAkKAHAACAIEEPAAAAQYIe\n",
       "AAAAggQ9AAAABAl6AAAACBL0AAAAECToAQAAIEjQAwAAQJCgBwAAgCBBDwAAAEGCHgAAAIIEPQAA\n",
       "AAQJegAAAAgS9AAAABAk6AEAACBI0AMAAECQoAcAAIAgQQ8AAABBgh4AAACCBD0AAAAECXoAAAAI\n",
       "EvQAAAAQJOgBAAAgSNADAABAkKAHAACAIEEPAAAAQYIeAAAAggQ9AAAABAl6AAAACBL0AAAAECTo\n",
       "AQAAIEjQAwAAQJCgBwAAgCBBDwAAAEGCHgAAAIIEPQAAAAQJegAAAAgS9AAAABAk6AEAACBI0AMA\n",
       "AECQoAcAAIAgQQ8AAABBgh4AAACCBD0AAAAECXoAAAAIEvQAAAAQJOgBAAAgSNADAABAkKAHAACA\n",
       "IEEPAAAAQYIeAAAAggQ9AAAABAl6AAAACBL0AAAAECToAQAAIEjQAwAAQJCgBwAAgKCt6QEAcJTc\n",
       "dttt0xMWFy5cmJ6w4ZlnnpmesNje3p6ewD/w5ZdfTk9YvPDCC9MTFt9+++30BOA6cqEHAACAIEEP\n",
       "AAAAQYIeAAAAggQ9AAAABAl6AAAACBL0AAAAECToAQAAIEjQAwAAQJCgBwAAgCBBDwAAAEGCHgAA\n",
       "AIIEPQAAAAQJegAAAAgS9AAAABAk6AEAACBI0AMAAECQoAcAAIAgQQ8AAABBgh4AAACCBD0AAAAE\n",
       "CXoAAAAIEvQAAAAQJOgBAAAgSNADAABAkKAHAACAIEEPAAAAQYIeAAAAggQ9AAAABAl6AAAACBL0\n",
       "AAAAECToAQAAIEjQAwAAQJCgBwAAgCBBDwAAAEGCHgAAAIIEPQAAAAQJegAAAAgS9AAAABAk6AEA\n",
       "ACBI0AMAAECQoAcAAIAgQQ8AAABBgh4AAACCBD0AAAAECXoAAAAIEvQAAAAQJOgBAAAg6MT29vbB\n",
       "9AgAOm655ZbpCYsLFy5MT1g88cQT0xMWZ8+enZ6w4Y8//piesPjss8+mJyx+/PHH6QmL8+fPT09Y\n",
       "nD59enrC4ueff56esHj88cenJ2y4du3a9AQ4slzoAQAAIEjQAwAAQJCgBwAAgCBBDwAAAEGCHgAA\n",
       "AIIEPQAAAAQJegAAAAgS9AAAABAk6AEAACBI0AMAAECQoAcAAIAgQQ8AAABBgh4AAACCBD0AAAAE\n",
       "CXoAAAAIEvQAAAAQJOgBAAAgSNADAABAkKAHAACAIEEPAAAAQYIeAAAAggQ9AAAABAl6AAAACBL0\n",
       "AAAAECToAQAAIEjQAwAAQJCgBwAAgCBBDwAAAEGCHgAAAIIEPQAAAAQJegAAAAgS9AAAABAk6AEA\n",
       "ACBI0AMAAECQoAcAAIAgQQ8AAABBgh4AAACCBD0AAAAECXoAAAAIEvQAAAAQJOgBAAAgSNADAABA\n",
       "kKAHAACAIEEPAAAAQYIeAAAAggQ9AAAABAl6AAAACBL0AAAAELQ1PQCA/+3MmTPTExZXr16dnrA4\n",
       "efLk9IRDbXd3d3rChpdffnl6wuL777+fnnCoXblyZXrC4qmnnpqesHjxxRenJyxOnz49PWHDtWvX\n",
       "pifAkeVCDwAAAEGCHgAAAIIEPQAAAAQJegAAAAgS9AAAABAk6AEAACBI0AMAAECQoAcAAIAgQQ8A\n",
       "AABBgh4AAACCBD0AAAAECXoAAAAIEvQAAAAQJOgBAAAgSNADAABAkKAHAACAIEEPAAAAQYIeAAAA\n",
       "ggQ9AAAABAl6AAAACBL0AAAAECToAQAAIEjQAwAAQJCgBwAAgCBBDwAAAEGCHgAAAIIEPQAAAAQJ\n",
       "egAAAAgS9AAAABAk6AEAACBI0AMAAECQoAcAAIAgQQ8AAABBgh4AAACCBD0AAAAECXoAAAAIEvQA\n",
       "AAAQJOgBAAAgSNADAABAkKAHAACAIEEPAAAAQYIeAAAAggQ9AAAABAl6AAAACBL0AAAAECToAQAA\n",
       "IEjQAwAAQJCgBwAAgKCt6QEAh8299947PWHx5ptvTk9YnDx5cnrC4ptvvpmesHj99denJyx2d3en\n",
       "J2z466+/picQ9v77709PWDz99NPTExb7+/vTE4DryIUeAAAAggQ9AAAABAl6AAAACBL0AAAAECTo\n",
       "AQAAIEjQAwAAQJCgBwAAgCBBDwAAAEGCHgAAAIIEPQAAAAQJegAAAAgS9AAAABAk6AEAACBI0AMA\n",
       "AECQoAcAAIAgQQ8AAABBgh4AAACCBD0AAAAECXoAAAAIEvQAAAAQJOgBAAAgSNADAABAkKAHAACA\n",
       "IEEPAAAAQYIeAAAAggQ9AAAABAl6AAAACBL0AAAAECToAQAAIEjQAwAAQJCgBwAAgCBBDwAAAEGC\n",
       "HgAAAIIEPQAAAAQJegAAAAgS9AAAABAk6AEAACBI0AMAAECQoAcAAIAgQQ8AAABBgh4AAACCBD0A\n",
       "AAAECXoAAAAIEvQAAAAQJOgBAAAgSNADAABAkKAHAACAoBPb29sH0yOA4+2BBx6YnrB49913pycs\n",
       "Dg4O1zO9t7c3PWFx8eLF6QmL/f396QlwpD333HPTExZ//vnn9ITF22+/PT0BuI5c6AEAACBI0AMA\n",
       "AECQoAcAAIAgQQ8AAABBgh4AAACCBD0AAAAECXoAAAAIEvQAAAAQJOgBAAAgSNADAABAkKAHAACA\n",
       "IEEPAAAAQYIeAAAAggQ9AAAABAl6AAAACBL0AAAAECToAQAAIEjQAwAAQJCgBwAAgCBBDwAAAEGC\n",
       "HgAAAIIEPQAAAAQJegAAAAgS9AAAABAk6AEAACBI0AMAAECQoAcAAIAgQQ8AAABBgh4AAACCBD0A\n",
       "AAAECXoAAAAIEvQAAAAQJOgBAAAgSNADAABAkKAHAACAIEEPAAAAQYIeAAAAggQ9AAAABAl6AAAA\n",
       "CBL0AAAAECToAQAAIEjQAwAAQJCgBwAAgCBBDwAAAEGCHgAAAIIEPQAAAAQJegAAAAgS9AAAABC0\n",
       "NT0AuL6ef/756QkbLl26ND1hsb+/Pz1h8eqrr05PWOzs7ExPgCPt7Nmz0xMWr7zyyvSExT333DM9\n",
       "YfHBBx9MTwCOMRd6AAAACBL0AAAAECToAQAAIEjQAwAAQJCgBwAAgCBBDwAAAEGCHgAAAIIEPQAA\n",
       "AAQJegAAAAgS9AAAABAk6AEAACBI0AMAAECQoAcAAIAgQQ8AAABBgh4AAACCBD0AAAAECXoAAAAI\n",
       "EvQAAAAQJOgBAAAgSNADAABAkKAHAACAIEEPAAAAQYIeAAAAggQ9AAAABAl6AAAACBL0AAAAECTo\n",
       "AQAAIEjQAwAAQJCgBwAAgCBBDwAAAEGCHgAAAIIEPQAAAAQJegAAAAgS9AAAABAk6AEAACBI0AMA\n",
       "AECQoAcAAIAgQQ8AAABBgh4AAACCBD0AAAAECXoAAAAIEvQAAAAQJOgBAAAgSNADAABAkKAHAACA\n",
       "IEEPAAAAQYIeAAAAggQ9AAAABG1ND4Cj7syZM9MTFs8+++z0hA0HBwfTExZXr16dnrDY2dmZngBH\n",
       "2mF7p997773pCYtTp05NT1gctm/G7bffPj0BOMZc6AEAACBI0AMAAECQoAcAAIAgQQ8AAABBgh4A\n",
       "AACCBD0AAAAECXoAAAAIEvQAAAAQJOgBAAAgSNADAABAkKAHAACAIEEPAAAAQYIeAAAAggQ9AAAA\n",
       "BAl6AAAACBL0AAAAECToAQAAIEjQAwAAQJCgBwAAgCBBDwAAAEGCHgAAAIIEPQAAAAQJegAAAAgS\n",
       "9AAAABAk6AEAACBI0AMAAECQoAcAAIAgQQ8AAABBgh4AAACCBD0AAAAECXoAAAAIEvQAAAAQJOgB\n",
       "AAAgSNADAABAkKAHAACAIEEPAAAAQYIeAAAAggQ9AAAABAl6AAAACBL0AAAAECToAQAAIEjQAwAA\n",
       "QJCgBwAAgCBBDwAAAEGCHgAAAIIEPQAAAAQJegAAAAjamh4AR92lS5emJyxuuumm6Qkb9vb2pics\n",
       "XnrppekJ8H9z7ty56QkbLl68OD1hcf/9909PWPz666/TExY33njj9ITFrbfeOj1h8cYbb0xPAI4x\n",
       "F3oAAAAIEvQAAAAQJOgBAAAgSNADAABAkKAHAACAIEEPAAAAQYIeAAAAggQ9AAAABAl6AAAACBL0\n",
       "AAAAECToAQAAIEjQAwAAQJCgBwAAgCBBDwAAAEGCHgAAAIIEPQAAAAQJegAAAAgS9AAAABAk6AEA\n",
       "ACBI0AMAAECQoAcAAIAgQQ8AAABBgh4AAACCBD0AAAAECXoAAAAIEvQAAAAQJOgBAAAgSNADAABA\n",
       "kKAHAACAIEEPAAAAQYIeAAAAggQ9AAAABAl6AAAACBL0AAAAECToAQAAIEjQAwAAQJCgBwAAgCBB\n",
       "DwAAAEGCHgAAAIIEPQAAAAQJegAAAAgS9AAAABAk6AEAACBI0AMAAECQoAcAAIAgQQ8AAABBgh4A\n",
       "AACCBD0AAAAEbU0PgKPu448/np6wePDBB6cnbLj77runJyzeeeed6QmLH374YXoC/8D58+enJyz+\n",
       "/vvv6QkbTp06NT1h8dZbb01PWOzu7k5PWHz66afTEw61n376aXoCcIy50AMAAECQoAcAAIAgQQ8A\n",
       "AABBgh4AAACCBD0AAAAECXoAAAAIEvQAAAAQJOgBAAAgSNADAABAkKAHAACAIEEPAAAAQYIeAAAA\n",
       "ggQ9AAAABAl6AAAACBL0AAAAECToAQAAIEjQAwAAQJCgBwAAgCBBDwAAAEGCHgAAAIIEPQAAAAQJ\n",
       "egAAAAgS9AAAABAk6AEAACBI0AMAAECQoAcAAIAgQQ8AAABBgh4AAACCBD0AAAAECXoAAAAIEvQA\n",
       "AAAQJOgBAAAgSNADAABAkKAHAACAIEEPAAAAQYIeAAAAggQ9AAAABAl6AAAACBL0AAAAECToAQAA\n",
       "IEjQAwAAQJCgBwAAgCBBDwAAAEGCHgAAAIIEPQAAAAQJegAAAAgS9AAAABAk6AEAACBoa3oAHHV7\n",
       "e3vTExZff/319IQNd9111/SExUMPPTQ9YXFwcDA9gbATJ05MT9jw+eefT09YnDt3bnrC4pFHHpme\n",
       "sNja8rsIcFi50AMAAECQoAcAAIAgQQ8AAABBgh4AAACCBD0AAAAECXoAAAAIEvQAAAAQJOgBAAAg\n",
       "SNADAABAkKAHAACAIEEPAAAAQYIeAAAAggQ9AAAABAl6AAAACBL0AAAAECToAQAAIEjQAwAAQJCg\n",
       "BwAAgCBBDwAAAEGCHgAAAIIEPQAAAAQJegAAAAgS9AAAABAk6AEAACBI0AMAAECQoAcAAIAgQQ8A\n",
       "AABBgh4AAACCBD0AAAAECXoAAAAIEvQAAAAQJOgBAAAgSNADAABAkKAHAACAIEEPAAAAQYIeAAAA\n",
       "ggQ9AAAABAl6AAAACBL0AAAAECToAQAAIEjQAwAAQJCgBwAAgCBBDwAAAEGCHgAAAIIEPQAAAAQJ\n",
       "egAAAAgS9AAAABC0NT0AjrrffvttesLi4Ycfnp6w4cqVK9MTFnfcccf0hMXBwcH0BMK+++676Qkb\n",
       "Ll++PD1h8dprr01PWNx5553TEw61r776anrC4pdffpmeABxjLvQAAAAQJOgBAAAgSNADAABAkKAH\n",
       "AACAIEEPAAAAQYIeAAAAggQ9AAAABAl6AAAACBL0AAAAECToAQAAIEjQAwAAQJCgBwAAgCBBDwAA\n",
       "AEGCHgAAAIIEPQAAAAQJegAAAAgS9AAAABAk6AEAACBI0AMAAECQoAcAAIAgQQ8AAABBgh4AAACC\n",
       "BD0AAAAECXoAAAAIEvQAAAAQJOgBAAAgSNADAABAkKAHAACAIEEPAAAAQYIeAAAAggQ9AAAABAl6\n",
       "AAAACBL0AAAAECToAQAAIEjQAwAAQJCgBwAAgCBBDwAAAEGCHgAAAIIEPQAAAAQJegAAAAgS9AAA\n",
       "ABAk6AEAACBI0AMAAECQoAcAAIAgQQ8AAABBgh4AAACCBD0AAAAECXoAAAAI2poeAHD58uXpCcAx\n",
       "9sUXX0xPWDz55JPTEw61nZ2d6QmL33//fXoCcIy50AMAAECQoAcAAIAgQQ8AAABBgh4AAACCBD0A\n",
       "AAAECXoAAAAIEvQAAAAQJOgBAAAgSNADAABAkKAHAACAIEEPAAAAQYIeAAAAggQ9AAAABAl6AAAA\n",
       "CBL0AAAAECToAQAAIEjQAwAAQJCgBwAAgCBBDwAAAEGCHgAAAIIEPQAAAAQJegAAAAgS9AAAABAk\n",
       "6AEAACBI0AMAAECQoAcAAIAgQQ8AAABBgh4AAACCBD0AAAAECXoAAAAIEvQAAAAQJOgBAAAgSNAD\n",
       "AABAkKAHAACAIEEPAAAAQYIeAAAAggQ9AAAABAl6AAAACBL0AAAAECToAQAAIEjQAwAAQJCgBwAA\n",
       "gCBBDwAAAEGCHgAAAIIEPQAAAAQJegAAAAgS9AAAABAk6AEAACBoa3oAAMCkRx99dHoC/8CHH344\n",
       "PQHg0HChBwAAgCBBDwAAAEGCHgAAAIIEPQAAAAQJegAAAAgS9AAAABAk6AEAACBI0AMAAECQoAcA\n",
       "AIAgQQ8AAABBgh4AAACCBD0AAAAECXoAAAAIEvQAAAAQJOgBAAAgSNADAABAkKAHAACAIEEPAAAA\n",
       "QYIeAAAAggQ9AAAABAl6AAAACBL0AAAAECToAQAAIEjQAwAAQJCgBwAAgCBBDwAAAEGCHgAAAIIE\n",
       "PQAAAAQJegAAAAgS9AAAABAk6AEAACBI0AMAAECQoAcAAIAgQQ8AAABBgh4AAACCBD0AAAAECXoA\n",
       "AAAIEvQAAAAQJOgBAAAgSNADAABAkKAHAACAIEEPAAAAQYIeAAAAggQ9AAAABAl6AAAACBL0AAAA\n",
       "ECToAQAAIGhregAAcLzccMMN0xMWN9988/SEQ+2jjz6angDAf+FCDwAAAEGCHgAAAIIEPQAAAAQJ\n",
       "egAAAAgS9AAAABAk6AEAACBI0AMAAECQoAcAAIAgQQ8AAABBgh4AAACCBD0AAAAECXoAAAAIEvQA\n",
       "AAAQJOgBAAAgSNADAABAkKAHAACAIEEPAAAAQYIeAAAAggQ9AAAABAl6AAAACBL0AAAAECToAQAA\n",
       "IEjQAwAAQJCgBwAAgCBBDwAAAEGCHgAAAIIEPQAAAAQJegAAAAgS9AAAABAk6AEAACBI0AMAAECQ\n",
       "oAcAAIAgQQ8AAABBgh4AAACCBD0AAAAECXoAAAAIEvQAAAAQJOgBAAAgSNADAABAkKAHAACAIEEP\n",
       "AAAAQYIeAAAAggQ9AAAABAl6AAAACBL0AAAAECToAQAAIEjQAwAAQJCgBwAAgKCt6QEAwPHy2GOP\n",
       "TU9Y3HfffdMTDrVPPvlkegIA/4ULPQAAAAQJegAAAAgS9AAAABAk6AEAACBI0AMAAECQoAcAAIAg\n",
       "QQ8AAABBgh4AAACCBD0AAAAECXoAAAAIEvQAAAAQJOgBAAAgSNADAABAkKAHAAD4T3t2bKJaAEVR\n",
       "FOGlhpYhNmAJrxQbFezByETswYkfnwkmkOvmr1XByS6bC0GCHgAAAIIEPQAAAAQJegAAAAgS9AAA\n",
       "ABAk6AEAACBI0AMAAECQoAcAAIAgQQ8AAABBgh4AAACCBD0AAAAECXoAAAAIEvQAAAAQJOgBAAAg\n",
       "SNADAABAkKAHAACAIEEPAAAAQYIeAAAAggQ9AAAABAl6AAAACBL0AAAAECToAQAAIEjQAwAAQJCg\n",
       "BwAAgCBBDwAAAEGCHgAAAIIEPQAAAAQJegAAAAgS9AAAABAk6AEAACBI0AMAAECQoAcAAIAgQQ8A\n",
       "AABBgh4AAACCBD0AAAAELdMDAID/y+FwmJ6wsdvtpidsPJ/P6Qkbt9ttegIAv/ChBwAAgCBBDwAA\n",
       "AEGCHgAAAIIEPQAAAAQJegAAAAgS9AAAABAk6AEAACBI0AMAAECQoAcAAIAgQQ8AAABBgh4AAACC\n",
       "BD0AAAAECXoAAAAIEvQAAAAQJOgBAAAgSNADAABAkKAHAACAIEEPAAAAQYIeAAAAggQ9AAAABAl6\n",
       "AAAACBL0AAAAECToAQAAIEjQAwAAQJCgBwAAgCBBDwAAAEGCHgAAAIIEPQAAAAQJegAAAAgS9AAA\n",
       "ABAk6AEAACBI0AMAAECQoAcAAIAgQQ8AAABBgh4AAACCBD0AAAAECXoAAAAIEvQAAAAQJOgBAAAg\n",
       "SNADAABAkKAHAACAIEEPAAAAQYIeAAAAggQ9AAAABAl6AAAACBL0AAAAECToAQAAIGiZHgAAfM6y\n",
       "fN+pX9d1esLG+/2enrBxvV6nJ2y8Xq/pCQD8woceAAAAggQ9AAAABAl6AAAACBL0AAAAECToAQAA\n",
       "IEjQAwAAQJCgBwAAgCBBDwAAAEGCHgAAAIIEPQAAAAQJegAAAAgS9AAAABAk6AEAACBI0AMAAECQ\n",
       "oAcAAIAgQQ8AAABBgh4AAACCBD0AAAAECXoAAAAIEvQAAAAQJOgBAAAgSNADAABAkKAHAACAIEEP\n",
       "AAAAQYIeAAAAggQ9AAAABAl6AAAACBL0AAAAECToAQAAIEjQAwAAQJCgBwAAgCBBDwAAAEGCHgAA\n",
       "AIIEPQAAAAQJegAAAAgS9AAAABAk6AEAACBI0AMAAECQoAcAAIAgQQ8AAABBgh4AAACCBD0AAAAE\n",
       "CXoAAAAIEvQAAAAQJOgBAAAgSNADAABAkKAHAACAIEEPAAAAQcv0AADgc9Z1nZ7wj+PxOD3hq71e\n",
       "r+kJAET40AMAAECQoAcAAIAgQQ8AAABBgh4AAACCBD0AAAAECXoAAAAIEvQAAAAQJOgBAAAgSNAD\n",
       "AABAkKAHAACAIEEPAAAAQYIeAAAAggQ9AAAABAl6AAAACBL0AAAAECToAQAAIEjQAwAAQJCgBwAA\n",
       "gCBBDwAAAEGCHgAAAIIEPQAAAAQJegAAAAgS9AAAABAk6AEAACBI0AMAAECQoAcAAIAgQQ8AAABB\n",
       "gh4AAACCBD0AAAAECXoAAAAIEvQAAAAQJOgBAAAgSNADAABAkKAHAACAIEEPAAAAQYIeAAAAggQ9\n",
       "AAAABAl6AAAACBL0AAAAECToAQAAIEjQA7DuJm0AAAUASURBVAAAQJCgBwAAgCBBDwAAAEGCHgAA\n",
       "AIIEPQAAAAQJegAAAAgS9AAAABAk6AEAACBomR4AAHzO+XyensAfnU6n6QkARPjQAwAAQJCgBwAA\n",
       "gCBBDwAAAEGCHgAAAIIEPQAAAAQJegAAAAgS9AAAABAk6AEAACBI0AMAAECQoAcAAIAgQQ8AAABB\n",
       "gh4AAACCBD0AAAAECXoAAAAIEvQAAAAQJOgBAAAgSNADAABAkKAHAACAIEEPAAAAQYIeAAAAggQ9\n",
       "AAAABAl6AAAACBL0AAAAECToAQAAIEjQAwAAQJCgBwAAgCBBDwAAAEGCHgAAAIIEPQAAAAQJegAA\n",
       "AAgS9AAAABAk6AEAACBI0AMAAECQoAcAAIAgQQ8AAABBgh4AAACCBD0AAAAECXoAAAAIEvQAAAAQ\n",
       "JOgBAAAgSNADAABAkKAHAACAIEEPAAAAQYIeAAAAggQ9AAAABAl6AAAACBL0AAAAELRMDwAAPud+\n",
       "v09P+HqPx2N6wsblcpmeAECEDz0AAAAECXoAAAAIEvQAAAAQJOgBAAAgSNADAABAkKAHAACAIEEP\n",
       "AAAAQYIeAAAAggQ9AAAABAl6AAAACBL0AAAAECToAQAAIEjQAwAAQJCgBwAAgCBBDwAAAEGCHgAA\n",
       "AIIEPQAAAAQJegAAAAgS9AAAABAk6AEAACBI0AMAAECQoAcAAIAgQQ8AAABBgh4AAACCBD0AAAAE\n",
       "CXoAAAAIEvQAAAAQJOgBAAAgSNADAABAkKAHAACAIEEPAAAAQYIeAAAAggQ9AAAABAl6AAAACBL0\n",
       "AAAAECToAQAAIEjQAwAAQJCgBwAAgCBBDwAAAEGCHgAAAIIEPQAAAAQJegAAAAgS9AAAABAk6AEA\n",
       "ACBI0AMAAECQoAcAAIAgQQ8AAABBgh4AAACCdvv9/j09AgAAAPgbH3oAAAAIEvQAAAAQJOgBAAAg\n",
       "SNADAABAkKAHAACAIEEPAAAAQYIeAAAAggQ9AAAABAl6AAAACBL0AAAAECToAQAAIEjQAwAAQJCg\n",
       "BwAAgCBBDwAAAEGCHgAAAIIEPQAAAAQJegAAAAgS9AAAABAk6AEAACBI0AMAAECQoAcAAIAgQQ8A\n",
       "AABBgh4AAACCBD0AAAAECXoAAAAIEvQAAAAQJOgBAAAgSNADAABAkKAHAACAIEEPAAAAQYIeAAAA\n",
       "ggQ9AAAABAl6AAAACBL0AAAAECToAQAAIEjQAwAAQJCgBwAAgCBBDwAAAEGCHgAAAIIEPQAAAAQJ\n",
       "egAAAAgS9AAAABAk6AEAACBI0AMAAECQoAcAAIAgQQ8AAABBgh4AAACCBD0AAAAECXoAAAAIEvQA\n",
       "AAAQJOgBAAAgSNADAABAkKAHAACAIEEPAAAAQYIeAAAAggQ9AAAABAl6AAAACBL0AAAAECToAQAA\n",
       "IEjQAwAAQJCgBwAAgCBBDwAAAEGCHgAAAIIEPQAAAAQJegAAAAgS9AAAABAk6AEAACBI0AMAAECQ\n",
       "oAcAAIAgQQ8AAABBgh4AAACCBD0AAAAECXoAAAAIEvQAAAAQJOgBAAAgSNADAABAkKAHAACAIEEP\n",
       "AAAAQYIeAAAAggQ9AAAABAl6AAAACBL0AAAAECToAQAAIEjQAwAAQJCgBwAAgCBBDwAAAEGCHgAA\n",
       "AIIEPQAAAAQJegAAAAgS9AAAABAk6AEAACBI0AMAAECQoAcAAIAgQQ8AAABBgh4AAACCBD0AAAAE\n",
       "/QBUlum6b5qxYwAAAABJRU5ErkJggg==\n",
       "\" transform=\"translate(1341, 123)\"/>\n",
       "</g>\n",
       "</svg>\n"
      ]
     },
     "metadata": {},
     "output_type": "display_data"
    }
   ],
   "source": [
    "plot_mnist_clean_and_attack(x_test, y_test, FGSM, adv_pgd_strong, loss, 0.1; step_size=0.01, iterations=40, attack_method= :FGSM)"
   ]
  },
  {
   "cell_type": "markdown",
   "metadata": {},
   "source": [
    "### Model evaluation (clean and robust accuracy)"
   ]
  },
  {
   "cell_type": "markdown",
   "metadata": {},
   "source": [
    "#### Classically-trained model"
   ]
  },
  {
   "cell_type": "code",
   "execution_count": 34,
   "metadata": {},
   "outputs": [
    {
     "data": {
      "text/plain": [
       "Dict{Any, Any} with 4 entries:\n",
       "  \"adversary_forced_error\" => 9574\n",
       "  \"clean_accuracy\"         => 0.9787\n",
       "  \"adversary_changed\"      => 9587\n",
       "  \"adversarial_accuracy\"   => 0.0213"
      ]
     },
     "metadata": {},
     "output_type": "display_data"
    }
   ],
   "source": [
    "include(\"evaluate.jl\")\n",
    "\n",
    "overview = evaluate_model(x_test, y_test, 0, 9, model, loss, FGSM, 0.2; iterations=40, attack_method=:FGSM)\n",
    "\n",
    "overview"
   ]
  },
  {
   "cell_type": "markdown",
   "metadata": {},
   "source": [
    "#### Weak AT"
   ]
  },
  {
   "cell_type": "code",
   "execution_count": 35,
   "metadata": {},
   "outputs": [
    {
     "data": {
      "text/plain": [
       "Dict{Any, Any} with 4 entries:\n",
       "  \"adversary_forced_error\" => 7493\n",
       "  \"clean_accuracy\"         => 0.9847\n",
       "  \"adversary_changed\"      => 7499\n",
       "  \"adversarial_accuracy\"   => 0.2354"
      ]
     },
     "metadata": {},
     "output_type": "display_data"
    }
   ],
   "source": [
    "overview = evaluate_model(x_test, y_test, 0, 9, adv_pgd_weak, loss, FGSM, 0.2; iterations=40, attack_method=:FGSM)\n",
    "\n",
    "overview"
   ]
  },
  {
   "cell_type": "markdown",
   "metadata": {},
   "source": [
    "#### Medium AT"
   ]
  },
  {
   "cell_type": "code",
   "execution_count": 37,
   "metadata": {},
   "outputs": [
    {
     "data": {
      "text/plain": [
       "Dict{Any, Any} with 4 entries:\n",
       "  \"adversary_forced_error\" => 5519\n",
       "  \"clean_accuracy\"         => 0.9834\n",
       "  \"adversary_changed\"      => 5529\n",
       "  \"adversarial_accuracy\"   => 0.4315"
      ]
     },
     "metadata": {},
     "output_type": "display_data"
    }
   ],
   "source": [
    "overview = evaluate_model(x_test, y_test, 0, 9, adv_pgd_medium, loss, FGSM, 0.2; iterations=40, attack_method=:FGSM)\n",
    "\n",
    "overview"
   ]
  },
  {
   "cell_type": "markdown",
   "metadata": {},
   "source": [
    "#### Strong AT"
   ]
  },
  {
   "cell_type": "code",
   "execution_count": 38,
   "metadata": {},
   "outputs": [
    {
     "data": {
      "text/plain": [
       "Dict{Any, Any} with 4 entries:\n",
       "  \"adversary_forced_error\" => 2568\n",
       "  \"clean_accuracy\"         => 0.97\n",
       "  \"adversary_changed\"      => 2612\n",
       "  \"adversarial_accuracy\"   => 0.7134"
      ]
     },
     "metadata": {},
     "output_type": "display_data"
    }
   ],
   "source": [
    "overview = evaluate_model(x_test, y_test, 0, 9, adv_pgd_strong, loss, FGSM, 0.2; iterations=40, attack_method=:FGSM)\n",
    "\n",
    "overview"
   ]
  },
  {
   "cell_type": "markdown",
   "metadata": {},
   "source": [
    "### Saving our models"
   ]
  },
  {
   "cell_type": "code",
   "execution_count": 40,
   "metadata": {},
   "outputs": [
    {
     "data": {
      "text/plain": [
       "407481"
      ]
     },
     "metadata": {},
     "output_type": "display_data"
    }
   ],
   "source": [
    "using ONNXNaiveNASflux\n",
    "\n",
    "ONNXNaiveNASflux.save(\"../models/adv_pgd_strong.onnx\", adv_pgd_strong)\n",
    "ONNXNaiveNASflux.save(\"../models/adv_pgd_medium.onnx\", adv_pgd_medium)\n",
    "ONNXNaiveNASflux.save(\"../models/adv_pgd_weak.onnx\", adv_pgd_weak)\n",
    "ONNXNaiveNASflux.save(\"../models/classically_trained.onnx\", model)\n",
    "ONNXNaiveNASflux.save(\"../models/spare.onnx\", spare)"
   ]
  },
  {
   "cell_type": "code",
   "execution_count": null,
   "metadata": {},
   "outputs": [],
   "source": []
  }
 ],
 "metadata": {
  "kernelspec": {
   "display_name": "Julia 1.11.1",
   "language": "julia",
   "name": "julia-1.11"
  },
  "language_info": {
   "file_extension": ".jl",
   "mimetype": "application/julia",
   "name": "julia",
   "version": "1.11.1"
  }
 },
 "nbformat": 4,
 "nbformat_minor": 2
}
